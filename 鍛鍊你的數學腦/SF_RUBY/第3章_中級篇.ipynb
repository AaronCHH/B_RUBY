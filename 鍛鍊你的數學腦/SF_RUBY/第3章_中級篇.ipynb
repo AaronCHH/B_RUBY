{
 "cells": [
  {
   "cell_type": "markdown",
   "metadata": {},
   "source": [
    "# Ch03 朗道符號與計算量"
   ]
  },
  {
   "cell_type": "markdown",
   "metadata": {},
   "source": [
    "<div id=\"toc\"></div>"
   ]
  },
  {
   "cell_type": "markdown",
   "metadata": {},
   "source": [
    "## Q31_計算最短路線"
   ]
  },
  {
   "cell_type": "code",
   "execution_count": 3,
   "metadata": {
    "collapsed": false
   },
   "outputs": [
    {
     "name": "stdout",
     "output_type": "stream",
     "text": [
      "100360\n"
     ]
    },
    {
     "data": {
      "text/plain": [
       "undefined"
      ]
     },
     "execution_count": 3,
     "metadata": {},
     "output_type": "execute_result"
    }
   ],
   "source": [
    "//# %load ch03/q31_01.js\n",
    "var square = 6;\n",
    "var count = 0;\n",
    "var is_used = new Array();\n",
    "for (var i = 0; i <= square; i++){\n",
    "  is_used[i] = new Array();\n",
    "  for (var j = 0; j <= square; j++){\n",
    "    is_used[i][j] = new Array(false, false);\n",
    "  }\n",
    "}\n",
    "function route(x, y, is_first_time){\n",
    "  if ((x == square) && (y == square)){\n",
    "    if (is_first_time){\n",
    "      route(0, 0, false);\n",
    "    } else {\n",
    "      count++;\n",
    "    }\n",
    "  }\n",
    "  if (x < square){\n",
    "    if (!is_used[x][y][0]){\n",
    "      is_used[x][y][0] = true;\n",
    "      route(x + 1, y, is_first_time);\n",
    "      is_used[x][y][0] = false;\n",
    "    }\n",
    "  }\n",
    "  if (y < square){\n",
    "    if (!is_used[x][y][1]){\n",
    "      is_used[x][y][1] = true;\n",
    "      route(x, y + 1, is_first_time);\n",
    "      is_used[x][y][1] = false;\n",
    "    }\n",
    "  }\n",
    "}\n",
    "route(0, 0, true);\n",
    "console.log(count);\n"
   ]
  },
  {
   "cell_type": "code",
   "execution_count": 4,
   "metadata": {
    "collapsed": false
   },
   "outputs": [
    {
     "name": "stdout",
     "output_type": "stream",
     "text": [
      "100360\n"
     ]
    },
    {
     "data": {
      "text/plain": [
       "undefined"
      ]
     },
     "execution_count": 4,
     "metadata": {},
     "output_type": "execute_result"
    }
   ],
   "source": [
    "// # %load ch03/q31_02.js\n",
    "function route(width, height, back_y){\n",
    "  if (width == 1) return (back_y == height) ? back_y : back_y + 2;\n",
    "  if (height == 1) return (back_y == 0) ? 2 : 1;\n",
    "  var total = 0;\n",
    "  if (back_y == 0){\n",
    "    for (var i = 0; i < height; i++){\n",
    "      total += 2 * route(width - 1, height, i + 1);\n",
    "    }\n",
    "  } else {\n",
    "    for (var i = back_y; i <= height; i++){\n",
    "      total += route(width - 1, height, i);\n",
    "    }\n",
    "    total += route(width, height - 1, back_y - 1);\n",
    "  }\n",
    "  return total;\n",
    "}\n",
    "console.log(route(6, 6, 0));\n"
   ]
  },
  {
   "cell_type": "markdown",
   "metadata": {},
   "source": [
    "## Q32_鋪滿榻榻米吧"
   ]
  },
  {
   "cell_type": "code",
   "execution_count": 5,
   "metadata": {
    "collapsed": false
   },
   "outputs": [
    {
     "name": "stdout",
     "output_type": "stream",
     "text": [
      "----|--\n",
      "|--||||\n",
      "|--||||\n",
      "----|--\n",
      "\n",
      "--|----\n",
      "||||--|\n",
      "||||--|\n",
      "--|----\n",
      "\n",
      "|--|--|\n",
      "|||||||\n",
      "|||||||\n",
      "|--|--|\n",
      "\n",
      "\n"
     ]
    },
    {
     "data": {
      "text/plain": [
       "undefined"
      ]
     },
     "execution_count": 5,
     "metadata": {},
     "output_type": "execute_result"
    }
   ],
   "source": [
    "// # %load ch03/q32_01.js\n",
    "var height = 4;\n",
    "var width = 7;\n",
    "var str = \"\";\n",
    "var tatami = new Array(height + 2);\n",
    "\n",
    "/* 設定初始值(外圍設定為「-1」、內部設定為「0」)*/\n",
    "for (var h = 0; h <= height + 1; h++){\n",
    "  tatami[h] = new Array(width + 2);\n",
    "  for (var w = 0; w <= width + 1; w++){\n",
    "    tatami[h][w] = 0;\n",
    "    if ((h == 0) || (w == 0) ||\n",
    "    (h == height + 1) || (w == width + 1)){\n",
    "      tatami[h][w] = -1;\n",
    "    }\n",
    "  }\n",
    "}\n",
    "\n",
    "/* 標記榻榻米 */\n",
    "function printTatami(){\n",
    "  for (var i = 1; i <= height; i++){\n",
    "    for (var j = 1; j <= width; j++){\n",
    "      /* 水平鋪設時以「-」標記 */\n",
    "      if ((tatami[i][j] == tatami[i][j + 1]) ||\n",
    "           (tatami[i][j] == tatami[i][j - 1]))\n",
    "      str += \"-\";\n",
    "      /* 垂直鋪設時以「|」標記 */\n",
    "      if ((tatami[i][j] == tatami[i + 1][j]) ||\n",
    "           (tatami[i][j] == tatami[i - 1][j]))\n",
    "      str += \"|\";\n",
    "    }\n",
    "    str += \"\\n\";\n",
    "  }\n",
    "  str += \"\\n\";\n",
    "}\n",
    "\n",
    "/* 以遞迴的方式設定榻榻米的位置 */\n",
    "function setTatami(h, w, id){\n",
    "  if (h == height + 1){ /* 在最後一行時標記榻榻米 */\n",
    "    printTatami();\n",
    "  } else if (w == width + 1){ /* 碰到右端時往下一行移動 */\n",
    "    setTatami(h + 1, 1, id);\n",
    "  } else if (tatami[h][w] > 0){ /* 已設定完成時，往右移動 */\n",
    "    setTatami(h, w + 1, id);\n",
    "  } else { /* 左上角與上方相同以及左上角與左側相同時可設定 */\n",
    "    if ((tatami[h - 1][w - 1] == tatami[h - 1][w]) ||\n",
    "        (tatami[h - 1][w - 1] == tatami[h][w - 1])){\n",
    "      if (tatami[h][w + 1] == 0){ /* 可水平鋪設的情況 */\n",
    "        tatami[h][w] = tatami[h][w + 1] = id;\n",
    "        setTatami(h, w + 2, id + 1);\n",
    "        tatami[h][w] = tatami[h][w + 1] = 0;\n",
    "      }\n",
    "      if (tatami[h + 1][w] == 0){ /* 可垂直鋪設的情況 */\n",
    "        tatami[h][w] = tatami[h + 1][w] = id;\n",
    "        setTatami(h, w + 1, id + 1);\n",
    "        tatami[h][w] = tatami[h + 1][w] = 0;\n",
    "      }\n",
    "    }\n",
    "  }\n",
    "}\n",
    "\n",
    "setTatami(1, 1, 1);\n",
    "console.log(str);\n"
   ]
  },
  {
   "cell_type": "markdown",
   "metadata": {},
   "source": [
    "## Q33_飛車與角的移動範圍"
   ]
  },
  {
   "cell_type": "code",
   "execution_count": 1,
   "metadata": {
    "collapsed": false
   },
   "outputs": [
    {
     "name": "stdout",
     "output_type": "stream",
     "text": [
      "149424\n"
     ]
    }
   ],
   "source": [
    "# %load ch03/q33_01.rb\n",
    "# 盤面設定\n",
    "@board = Array.new(11).map!{Array.new(11)}\n",
    "(0..10).each{|i|\n",
    "  (0..10).each{|j|\n",
    "    @board[i][j] = (i == 0) || (i == 10) || (j == 0) || (j == 10)\n",
    "  }\n",
    "}\n",
    "\n",
    "# 統計欄位的初始化\n",
    "count = 0\n",
    "\n",
    "# 遞迴式搜尋\n",
    "def search(x, y, dx, dy)\n",
    "  return if @board[x][y]\n",
    "  @check[x * 10 + y] = 1\n",
    "  search(x + dx, y + dy, dx, dy)\n",
    "end\n",
    "\n",
    "# 依序設定飛車與角後進行搜尋\n",
    "(1..9).each{|hy|\n",
    "  (1..9).each{|hx|\n",
    "    (1..9).each{|ky|\n",
    "      (1..9).each{|kx|\n",
    "        if (hx != kx) || (hy != ky) then\n",
    "          @check = Hash.new()\n",
    "          @board[hx][hy] = @board[kx][ky] = true\n",
    "          [[-1, 0], [1, 0], [0, -1], [0, 1]].each{|hd|\n",
    "            search(hx+hd[0], hy+hd[1], hd[0], hd[1])\n",
    "          }\n",
    "          [[-1, -1], [-1, 1], [1, -1], [1, 1]].each{|kd|\n",
    "            search(kx+kd[0], ky+kd[1], kd[0], kd[1])\n",
    "          }\n",
    "          @board[hx][hy] = @board[kx][ky] = false\n",
    "          count += @check.size\n",
    "        end\n",
    "      }\n",
    "    }\n",
    "  }\n",
    "}\n",
    "puts count\n"
   ]
  },
  {
   "cell_type": "markdown",
   "metadata": {},
   "source": [
    "## Q34_命運的邂逅曾有幾種"
   ]
  },
  {
   "cell_type": "code",
   "execution_count": 2,
   "metadata": {
    "collapsed": false
   },
   "outputs": [
    {
     "name": "stdout",
     "output_type": "stream",
     "text": [
      "527552\n"
     ]
    }
   ],
   "source": [
    "# %load ch03/q34_01.rb\n",
    "N = 6\n",
    "@cnt = 0\n",
    "def search(man_x, man_y, woman_x, woman_y, meet)\n",
    "  if (man_x <= N) && (man_y <= N) &&\n",
    "     (woman_x >= 0) && (woman_y >= 0) then\n",
    "    @cnt += 1 if (man_x == N) && (man_y == N) && (meet >= 2)\n",
    "    meet += 1 if (man_x == woman_x)\n",
    "    meet += 1 if (man_y == woman_y)\n",
    "    search(man_x + 1, man_y, woman_x - 1, woman_y, meet)\n",
    "    search(man_x + 1, man_y, woman_x, woman_y - 1, meet)\n",
    "    search(man_x, man_y + 1, woman_x - 1, woman_y, meet)\n",
    "    search(man_x, man_y + 1, woman_x, woman_y - 1, meet)\n",
    "  end\n",
    "end\n",
    "\n",
    "search(0, 0, N, N, 0)\n",
    "puts @cnt\n"
   ]
  },
  {
   "cell_type": "markdown",
   "metadata": {},
   "source": [
    "## Q35_「0」與「7」的迴文數字"
   ]
  },
  {
   "cell_type": "code",
   "execution_count": 3,
   "metadata": {
    "collapsed": false
   },
   "outputs": [
    {
     "name": "stdout",
     "output_type": "stream",
     "text": [
      "[13, 39, 49]\n"
     ]
    }
   ],
   "source": [
    "# %load ch03/q35_01.rb\n",
    "n = (1..50).select{|i| (i % 2 > 0) || (i % 5 > 0)}\n",
    "answer = Array.new\n",
    "k = 1\n",
    "while (n.size > 0) do\n",
    "  x = k.to_s(2).to_i * 7\n",
    "  if x.to_s.include?('0') then\n",
    "    n.each{|i|\n",
    "      if x % i == 0 then\n",
    "        answer << i if x.to_s == x.to_s.reverse\n",
    "        n.delete(i)\n",
    "      end\n",
    "    }\n",
    "  end\n",
    "  k += 1\n",
    "end\n",
    "puts answer.sort\n"
   ]
  },
  {
   "cell_type": "code",
   "execution_count": 4,
   "metadata": {
    "collapsed": false
   },
   "outputs": [
    {
     "name": "stdout",
     "output_type": "stream",
     "text": [
      "[1, 3, 7, 9, 11, 13, 21, 33, 37, 39, 41, 49]\n"
     ]
    }
   ],
   "source": [
    "# %load ch03/q35_02.rb\n",
    "n = (1..50).select{|i| (i % 2 > 0) || (i % 5 > 0)}\n",
    "answer = Array.new\n",
    "k = 1\n",
    "while (n.size > 0) do\n",
    "  x = k.to_s(2).to_i * 7\n",
    "  n.each{|i|\n",
    "    if x % i == 0 then\n",
    "      answer << i if x.to_s == x.to_s.reverse\n",
    "      n.delete(i)\n",
    "    end\n",
    "  }\n",
    "  k += 1\n",
    "end\n",
    "puts answer.sort\n"
   ]
  },
  {
   "cell_type": "markdown",
   "metadata": {},
   "source": [
    "## Q36_骰子的反轉"
   ]
  },
  {
   "cell_type": "code",
   "execution_count": 5,
   "metadata": {
    "collapsed": false
   },
   "outputs": [
    {
     "name": "stdout",
     "output_type": "stream",
     "text": [
      "28908\n"
     ]
    }
   ],
   "source": [
    "# %load ch03/q36_01.rb\n",
    "# 取得下一個點數\n",
    "def next_dice(dice)\n",
    "  right = dice.slice!(0..(dice[0].to_i - 1)).tr('123456','654321')\n",
    "  dice += right\n",
    "end\n",
    "\n",
    "count = 0\n",
    "(6**6).times{|i|\n",
    "  # 改以6進位表現時，加上「111111」，讓數字轉換成1〜6\n",
    "  dice = (i.to_s(6).to_i + 111111).to_s\n",
    "  check = Hash.new\n",
    "  j = 0\n",
    "\n",
    "  # 在數字重覆出現之前，繼續搜尋下一個點數\n",
    "  while !check.has_key?(dice) do\n",
    "    check[dice] = j\n",
    "    dice = next_dice(dice)\n",
    "    j += 1\n",
    "  end\n",
    "\n",
    "  # 確認數字重覆的位置，計算不重覆的數字\n",
    "  count += 1 if check[dice] > 0\n",
    "}\n",
    "puts count\n"
   ]
  },
  {
   "cell_type": "code",
   "execution_count": 6,
   "metadata": {
    "collapsed": false
   },
   "outputs": [
    {
     "name": "stdout",
     "output_type": "stream",
     "text": [
      "28908\n"
     ]
    }
   ],
   "source": [
    "# %load ch03/q36_02.rb\n",
    "# 取得下一個點數\n",
    "def next_dice(dice)\n",
    "  top = dice.div(6**5)\n",
    "  left, right = dice.divmod(6**(5 - top))\n",
    "  (right + 1) * (6**(top + 1)) - (left + 1)\n",
    "end\n",
    "\n",
    "count = 0\n",
    "(6**6).times{|i|\n",
    "  check = Array.new\n",
    "\n",
    "  # 在數字重覆出現之前，繼續搜尋下一個點數\n",
    "  while !check.include?(i) do\n",
    "    check << i\n",
    "    i = next_dice(i)\n",
    "  end\n",
    "\n",
    "  # 確認數字重覆的位置，計算不重覆的數字\n",
    "  count += 1 if check.index(i) != 0\n",
    "}\n",
    "puts count\n"
   ]
  },
  {
   "cell_type": "code",
   "execution_count": 7,
   "metadata": {
    "collapsed": false
   },
   "outputs": [
    {
     "name": "stdout",
     "output_type": "stream",
     "text": [
      "28908\n"
     ]
    }
   ],
   "source": [
    "# %load ch03/q36_03.rb\n",
    "# 取得下一個點數\n",
    "def next_dice(dice)\n",
    "  top = dice.div(6**5)\n",
    "  left, right = dice.divmod(6**(5 - top))\n",
    "  (right + 1) * (6**(top + 1)) - (left + 1)\n",
    "end\n",
    "\n",
    "# 記錄找到的值(0:未搜尋、1:不重覆的數字、2:重覆的數字)\n",
    "all_dice = Array.new(6 ** 6, 0)\n",
    "(6**6).times{|i|\n",
    "  if all_dice[i] == 0 then\n",
    "    check = Array.new\n",
    "    while (all_dice[i] == 0) && (!check.include?(i)) do\n",
    "      check << i\n",
    "      i = next_dice(i)\n",
    "    end\n",
    "    index = check.index(i)\n",
    "    if (index) then # 數字重覆出現時，在該位置之前的皆為不重覆的數字\n",
    "      check.shift(index).each{|j| all_dice[j] = 1}\n",
    "      check.each{|j| all_dice[j] = 2}\n",
    "    else # 找到已經確認過的值之後，就記錄為不重覆的數字\n",
    "      check.each{|j| all_dice[j] = 1}\n",
    "    end\n",
    "  end\n",
    "}\n",
    "puts all_dice.count(1)\n"
   ]
  },
  {
   "cell_type": "code",
   "execution_count": null,
   "metadata": {
    "collapsed": false
   },
   "outputs": [],
   "source": [
    "# %load ch03/q36_04.js\n",
    "function next_dice(dice){\n",
    "  var top = parseInt(dice / Math.pow(6, 5));\n",
    "  var left = parseInt(dice / Math.pow(6, 5 - top));\n",
    "  var right = dice % Math.pow(6, 5 - top);\n",
    "  return (right + 1) * Math.pow(6, top + 1) - (left + 1);\n",
    "}\n",
    "\n",
    "var all_dice = new Array(Math.pow(6, 6));\n",
    "for (i = 0; i < Math.pow(6, 6); i++){\n",
    "  all_dice[i] = 0;\n",
    "}\n",
    "for (i = 0; i < Math.pow(6, 6); i++){\n",
    "  if (all_dice[i] == 0){\n",
    "    check = new Array();\n",
    "    while ((all_dice[i] == 0) && (check.indexOf(i) == -1)){\n",
    "      check.push(i);\n",
    "      i = next_dice(i);\n",
    "    }\n",
    "    index = check.indexOf(i);\n",
    "    if (index >= 0){\n",
    "      for (j = 0; j < check.length; j++){\n",
    "        if (j < index){\n",
    "          all_dice[check[j]] = 1;\n",
    "        } else {\n",
    "          all_dice[check[j]] = 2;\n",
    "        }\n",
    "      }\n",
    "    } else {\n",
    "      for (j = 0; j < check.length; j++){\n",
    "        all_dice[check[j]] = 1;\n",
    "      }\n",
    "    }\n",
    "  }\n",
    "}\n",
    "cnt = 0;\n",
    "for (i = 0; i < Math.pow(6, 6); i++){\n",
    "  if (all_dice[i] == 1) cnt++;\n",
    "}\n",
    "console.log(cnt);\n"
   ]
  },
  {
   "cell_type": "markdown",
   "metadata": {},
   "source": [
    "## 037_7段式程式的反轉"
   ]
  },
  {
   "cell_type": "code",
   "execution_count": 9,
   "metadata": {
    "collapsed": false
   },
   "outputs": [
    {
     "name": "stdout",
     "output_type": "stream",
     "text": [
      "13\n"
     ]
    }
   ],
   "source": [
    "# %load ch03/q37_01.rb\n",
    "# 定義代表0〜9的位元\n",
    "bit = [0b1111110, 0b0110000, 0b1101101, 0b1111001, 0b0110011,\n",
    "       0b1011011, 0b1011111, 0b1110000, 0b1111111, 0b1111011]\n",
    "\n",
    "# 將每次讓所有位元反轉的值設定為初始值\n",
    "min = 63\n",
    "\n",
    "# 針對0〜9的順序搜尋切換次數較少的情況\n",
    "(0..9).to_a.permutation.each{|seq|\n",
    "  sum = 0\n",
    "  (seq.size - 1).times{|j|\n",
    "    # 計算排他性邏輯和，計算為1的位元數\n",
    "    sum += (bit[seq[j]]^bit[seq[j+1]]).to_s(2).count(\"1\")\n",
    "    break if min <= sum\n",
    "  }\n",
    "  min = sum if min > sum\n",
    "}\n",
    "puts min\n"
   ]
  },
  {
   "cell_type": "code",
   "execution_count": 10,
   "metadata": {
    "collapsed": false
   },
   "outputs": [
    {
     "name": "stdout",
     "output_type": "stream",
     "text": [
      "13\n"
     ]
    }
   ],
   "source": [
    "# %load ch03/q37_02.rb\n",
    "# 定義代表0〜9的位元\n",
    "bit = [0b1111110, 0b0110000, 0b1101101, 0b1111001, 0b0110011,\n",
    "       0b1011011, 0b1011111, 0b1110000, 0b1111111, 0b1111011]\n",
    "\n",
    "# 事先算出排他性邏輯和的結果\n",
    "flip = Array.new(10)\n",
    "(0..9).each{|i|\n",
    "  flip[i] = Array.new(10)\n",
    "  (0..9).each{|j|\n",
    "    flip[i][j] = (bit[i]^bit[j]).to_s(2).count(\"1\")\n",
    "  }\n",
    "}\n",
    "\n",
    "# 將每次讓所有位元反轉的值設定為初始值\n",
    "min = 63\n",
    "(0..9).to_a.permutation.each{|seq|\n",
    "  sum = 0\n",
    "  (seq.size - 1).times{|j|\n",
    "    # 取得事先儲存的值\n",
    "    sum += flip[seq[j]][seq[j+1]]\n",
    "    break if min <= sum\n",
    "  }\n",
    "  min = sum if sum < min\n",
    "}\n",
    "puts min\n"
   ]
  },
  {
   "cell_type": "code",
   "execution_count": 11,
   "metadata": {
    "collapsed": false
   },
   "outputs": [
    {
     "name": "stdout",
     "output_type": "stream",
     "text": [
      "13\n"
     ]
    }
   ],
   "source": [
    "# %load ch03/q37_03.rb\n",
    "# 定義代表0〜9的位元\n",
    "bit = [0b1111110, 0b0110000, 0b1101101, 0b1111001, 0b0110011,\n",
    "       0b1011011, 0b1011111, 0b1110000, 0b1111111, 0b1111011]\n",
    "\n",
    "# 先行算出排他性邏輯和的結果\n",
    "@flip = Array.new(10)\n",
    "(0..9).each{|i|\n",
    "  @flip[i] = Array.new(10)\n",
    "  (0..9).each{|j|\n",
    "    @flip[i][j] = (bit[i]^bit[j]).to_s(2).count(\"1\")\n",
    "  }\n",
    "}\n",
    "\n",
    "# 將每次讓所有位元反轉的值設定為初始值る\n",
    "@min = 63\n",
    "\n",
    "# 遞迴搜尋\n",
    "# is_used : 判斷各數字是否使用過\n",
    "# sum : 使用過的數字的反轉數\n",
    "# prev : 前次使用的數字\n",
    "def search(is_used, sum, prev)\n",
    "  if is_used.count(false) == 0 then\n",
    "    @min = sum\n",
    "  else\n",
    "    10.times{|i|\n",
    "      if !is_used[i] then\n",
    "        is_used[i] = true\n",
    "        next_sum = 0\n",
    "        next_sum = sum + @flip[prev][i] if prev >= 0\n",
    "        search(is_used, next_sum, i) if @min > next_sum\n",
    "        is_used[i] = false\n",
    "      end\n",
    "    }\n",
    "  end\n",
    "end\n",
    "search(Array.new(10, false), 0, -1)\n",
    "puts @min\n"
   ]
  },
  {
   "cell_type": "code",
   "execution_count": 6,
   "metadata": {
    "collapsed": false
   },
   "outputs": [
    {
     "name": "stdout",
     "output_type": "stream",
     "text": [
      "13\n"
     ]
    },
    {
     "data": {
      "text/plain": [
       "undefined"
      ]
     },
     "execution_count": 6,
     "metadata": {},
     "output_type": "execute_result"
    }
   ],
   "source": [
    "// # %load ch03/q37_04.js\n",
    "bit = [0b1111110, 0b0110000, 0b1101101, 0b1111001, 0b0110011,\n",
    "       0b1011011, 0b1011111, 0b1110000, 0b1111111, 0b1111011];\n",
    "\n",
    "/* 計算標記為1的位元數 */\n",
    "function bitcount(x) {\n",
    "  x = (x & 0x55555555) + (x >> 1 & 0x55555555);\n",
    "  x = (x & 0x33333333) + (x >> 2 & 0x33333333);\n",
    "  x = (x & 0x0F0F0F0F) + (x >> 4 & 0x0F0F0F0F);\n",
    "  x = (x & 0x00FF00FF) + (x >> 8 & 0x00FF00FF);\n",
    "  x = (x & 0x0000FFFF) + (x >> 16 & 0x0000FFFF);\n",
    "  return x;\n",
    "}\n",
    "\n",
    "var flip = new Array(10);\n",
    "for (i = 0; i < 10; i++){\n",
    "  flip[i] = new Array(10);\n",
    "  for (j = 0; j < 10; j++){\n",
    "    flip[i][j] = bitcount(bit[i]^bit[j]);\n",
    "  }\n",
    "}\n",
    "\n",
    "var min = 63;\n",
    "function search(is_used, sum, prev){\n",
    "  if (is_used.indexOf(false) == -1){\n",
    "    min = sum;\n",
    "  } else {\n",
    "    for (var i = 0; i < 10; i++){\n",
    "      if (!is_used[i]){\n",
    "        is_used[i] = true;\n",
    "        var next_sum = 0;\n",
    "        if (prev >= 0)\n",
    "          next_sum = sum + flip[prev][i];\n",
    "        if (min > next_sum)\n",
    "          search(is_used, next_sum, i);\n",
    "        is_used[i] = false;\n",
    "      }\n",
    "    }\n",
    "  }\n",
    "}\n",
    "is_used = [false, false, false, false, false,\n",
    "           false, false, false, false, false];\n",
    "search(is_used, 0, -1)\n",
    "console.log(min);\n"
   ]
  },
  {
   "cell_type": "markdown",
   "metadata": {},
   "source": [
    "## Q38_填滿「白色」吧!"
   ]
  },
  {
   "cell_type": "code",
   "execution_count": 12,
   "metadata": {
    "collapsed": false
   },
   "outputs": [
    {
     "name": "stdout",
     "output_type": "stream",
     "text": [
      "16\n",
      "1111111111111111\n",
      "[]\n"
     ]
    },
    {
     "data": {
      "text/plain": [
       "[]"
      ]
     },
     "execution_count": 12,
     "metadata": {},
     "output_type": "execute_result"
    }
   ],
   "source": [
    "# %load ch03/q38_01.rb\n",
    "# 設定反轉的遮罩\n",
    "mask = Array.new(16)\n",
    "4.times{|row|\n",
    "  4.times{|col|\n",
    "    mask[row * 4 + col] =\n",
    "      (0b1111 << (row * 4)) | (0b1000100010001 << col)\n",
    "  }\n",
    "}\n",
    "\n",
    "max = 0\n",
    "# 儲存步驟數的陣列\n",
    "steps = Array.new(1 << 16, -1)\n",
    "# 從所有格眼都為白色開始\n",
    "steps[0] = 0\n",
    "# 調査對象的陣列\n",
    "scanner = [0]\n",
    "while scanner.size > 0 do\n",
    "  check = scanner.shift\n",
    "  next_steps = steps[check] + 1\n",
    "  16.times{|i|\n",
    "    n = check ^ mask[i]\n",
    "    # 未確認時，繼續調查\n",
    "    if steps[n] == -1 then\n",
    "      steps[n] = next_steps\n",
    "      scanner.push(n)\n",
    "      max = next_steps if max < next_steps\n",
    "    end\n",
    "  }\n",
    "end\n",
    "\n",
    "puts max # 最大步驟數\n",
    "puts steps.index(max).to_s(2) # 初始狀態的格眼：全部都是黑色\n",
    "p steps.select{|i| i == -1} # 沒有不能轉換成白色的初始狀態\n"
   ]
  },
  {
   "cell_type": "markdown",
   "metadata": {},
   "source": [
    "## Q39_重複排序"
   ]
  },
  {
   "cell_type": "code",
   "execution_count": 13,
   "metadata": {
    "collapsed": false
   },
   "outputs": [
    {
     "name": "stderr",
     "output_type": "stream",
     "text": [
      "<main>:1: warning: already initialized constant N\n",
      "<main>:1: warning: previous definition of N was here\n"
     ]
    },
    {
     "name": "stdout",
     "output_type": "stream",
     "text": [
      "30\n",
      "{[6, 1, 5, 9, 7, 2, 8, 3, 4]=>[1, 2, 3, 4, 5, 6, 7, 8, 9]}\n"
     ]
    }
   ],
   "source": [
    "# %load ch03/q39_01.rb\n",
    "N = 9\n",
    "@max = 0\n",
    "@max_list = Hash.new\n",
    "\n",
    "def solve(cards, init, depth)\n",
    "  if cards[0] == 1 then\n",
    "    if @max < depth then\n",
    "      @max = depth\n",
    "      @max_list.clear\n",
    "    end\n",
    "    @max_list[init] = cards if @max == depth\n",
    "  else\n",
    "    solve(cards[0..(cards[0] - 1)].reverse + cards[cards[0]..N],\n",
    "          init, depth + 1)\n",
    "  end\n",
    "end\n",
    "\n",
    "(1..N).to_a.permutation.each{|i| solve(i, i, 0)}\n",
    "puts @max\n",
    "puts @max_list\n"
   ]
  },
  {
   "cell_type": "code",
   "execution_count": 14,
   "metadata": {
    "collapsed": false
   },
   "outputs": [
    {
     "name": "stderr",
     "output_type": "stream",
     "text": [
      "<main>:1: warning: already initialized constant N\n",
      "<main>:1: warning: previous definition of N was here\n"
     ]
    },
    {
     "name": "stdout",
     "output_type": "stream",
     "text": [
      "30\n",
      "{[6, 1, 5, 9, 7, 2, 8, 3, 4]=>[1, 2, 3, 4, 5, 6, 7, 8, 9]}\n"
     ]
    }
   ],
   "source": [
    "# %load ch03/q39_02.rb\n",
    "N = 9\n",
    "@max = 0\n",
    "@max_list = Hash.new\n",
    "\n",
    "def solve(cards, init, depth)\n",
    "  if cards[0] == 1 then\n",
    "    if @max < depth\n",
    "      @max = depth\n",
    "      @max_list.clear\n",
    "    end\n",
    "    @max_list[init] = cards if @max == depth\n",
    "  else\n",
    "    solve(cards[0..(cards[0] - 1)].reverse + cards[cards[0]..N],\n",
    "          init, depth + 1)\n",
    "  end\n",
    "end\n",
    "\n",
    "def pattern(used, unused, index)\n",
    "  if unused.empty?\n",
    "    solve(used, used, 0)\n",
    "  else\n",
    "    unused.select{|i| index + 1 != i}.each{|i|\n",
    "      pattern(used + [i], unused - [i], index + 1)\n",
    "    }\n",
    "  end\n",
    "end\n",
    "\n",
    "pattern([], (1..N).to_a, 0)\n",
    "puts @max\n",
    "puts @max_list\n"
   ]
  },
  {
   "cell_type": "code",
   "execution_count": 15,
   "metadata": {
    "collapsed": false
   },
   "outputs": [
    {
     "name": "stderr",
     "output_type": "stream",
     "text": [
      "<main>:1: warning: already initialized constant N\n",
      "<main>:1: warning: previous definition of N was here\n"
     ]
    },
    {
     "name": "stdout",
     "output_type": "stream",
     "text": [
      "30\n",
      "{[6, 1, 5, 9, 7, 2, 8, 3, 4]=>[1, 2, 3, 4, 5, 6, 7, 8, 9]}\n"
     ]
    }
   ],
   "source": [
    "# %load ch03/q39_03.rb\n",
    "N = 9\n",
    "@max = 0\n",
    "@max_list = Hash.new\n",
    "\n",
    "def solve(cards, init, depth)\n",
    "  (1..(cards.size - 1)).each{|i|\n",
    "    if i + 1 == cards[i] then\n",
    "      solve(cards[0..i].reverse + cards[(i+1)..N],\n",
    "            init, depth + 1)\n",
    "      check = true\n",
    "    end\n",
    "  }\n",
    "  if @max < depth then\n",
    "    @max = depth\n",
    "    @max_list.clear\n",
    "  end\n",
    "  @max_list[cards] = init if @max == depth\n",
    "end\n",
    "\n",
    "(2..N).to_a.permutation.each{|i| solve([1] + i, [1] + i, 0)}\n",
    "puts @max\n",
    "puts @max_list\n"
   ]
  },
  {
   "cell_type": "markdown",
   "metadata": {},
   "source": [
    "## Q40_美麗嗎IP位址"
   ]
  },
  {
   "cell_type": "code",
   "execution_count": 16,
   "metadata": {
    "collapsed": false
   },
   "outputs": [
    {
     "name": "stdout",
     "output_type": "stream",
     "text": [
      "8\n",
      "[\"34.179.205.68\", \"34.205.179.68\", \"68.179.205.34\", \"68.205.179.34\", \"179.34.68.205\", \"179.68.34.205\", \"205.34.68.179\", \"205.68.34.179\"]\n"
     ]
    }
   ],
   "source": [
    "# %load ch03/q40_01.rb\n",
    "ip = Array.new\n",
    "(1 << 16).times{|i|\n",
    "  # 反轉16位元的數字\n",
    "  j = ('%016b' % i).reverse.to_i(2)\n",
    "\n",
    "  # 產生10進位以黑點間隔的字串\n",
    "  s = '%d.%d.%d.%d' % [i>>8, i&0xff, j>>8, j&0xff]\n",
    "\n",
    "  # 只有10個數字與黑點時，就新增至陣列\n",
    "  ip.push(s) if s.split(\"\").uniq.length == 11\n",
    "}\n",
    "puts ip.size\n",
    "puts ip\n"
   ]
  },
  {
   "cell_type": "code",
   "execution_count": 17,
   "metadata": {
    "collapsed": false
   },
   "outputs": [
    {
     "name": "stdout",
     "output_type": "stream",
     "text": [
      "8\n"
     ]
    }
   ],
   "source": [
    "# %load ch03/q40_02.rb\n",
    "val = []\n",
    "256.times{|i|\n",
    "  # 於0〜255反轉\n",
    "  rev = ('%08b'%i).reverse.to_i(2)\n",
    "\n",
    "  if i < rev then\n",
    "    s = i.to_s + rev.to_s\n",
    "    # 若0〜9沒有重覆出現，就視為答案\n",
    "    val.push([i, rev]) if s.split('').uniq.size == s.length\n",
    "  end\n",
    "}\n",
    "\n",
    "ip = []\n",
    "val.combination(2){|a, b|\n",
    "  # 0〜9分別只使用一次時，就視為配對\n",
    "  ip.push([a, b]) if (a + b).join.split('').uniq.size == 10\n",
    "}\n",
    "# 輸出配對的組合數\n",
    "puts ip.size * 8\n"
   ]
  },
  {
   "cell_type": "markdown",
   "metadata": {},
   "source": [
    "## Q41_用一個數字做出1234"
   ]
  },
  {
   "cell_type": "code",
   "execution_count": 18,
   "metadata": {
    "collapsed": false
   },
   "outputs": [
    {
     "name": "stdout",
     "output_type": "stream",
     "text": [
      "99999/9/9\n"
     ]
    }
   ],
   "source": [
    "# %load ch03/q41_01.rb\n",
    "op = ['+', '-', '*', '/', '']\n",
    "found = false\n",
    "len = 1\n",
    "while !found do\n",
    "  op.repeated_permutation(len){|o|\n",
    "    (1..9).to_a.each{|i|\n",
    "      expr = o.inject(i.to_s){|l, n| l + n + i.to_s}\n",
    "      if eval(expr) == 1234 then\n",
    "        puts expr\n",
    "        found = true\n",
    "      end\n",
    "    }\n",
    "  }\n",
    "  len += 1\n",
    "end\n"
   ]
  },
  {
   "cell_type": "code",
   "execution_count": 19,
   "metadata": {
    "collapsed": false
   },
   "outputs": [
    {
     "name": "stdout",
     "output_type": "stream",
     "text": [
      "99999/9/9\n"
     ]
    }
   ],
   "source": [
    "# %load ch03/q41_02.rb\n",
    "@found = false\n",
    "@op = ['+', '-', '*', '/', '']\n",
    "def check(n, expr, num)\n",
    "  if n == 0 then\n",
    "    if eval(expr) == 1234 then\n",
    "      puts expr\n",
    "      @found = true\n",
    "    end\n",
    "  else\n",
    "    @op.each{|i|\n",
    "      check(n - 1, \"#{expr}#{i}#{num}\", num)\n",
    "    }\n",
    "  end\n",
    "end\n",
    "len = 1\n",
    "while !@found do\n",
    "  (1..9).to_a.each{|num|\n",
    "    check(len, num, num)\n",
    "  }\n",
    "  len += 1\n",
    "end\n"
   ]
  },
  {
   "cell_type": "markdown",
   "metadata": {},
   "source": [
    "## Q42_洗牌洗出倒序"
   ]
  },
  {
   "cell_type": "code",
   "execution_count": null,
   "metadata": {
    "collapsed": true
   },
   "outputs": [],
   "source": [
    "# %load ch03/q42_01.rb\n",
    "n = 5\n",
    "\n",
    "# 設定初始值\n",
    "cards = [(1..n*2).to_a]\n",
    "answer = (1..n*2).to_a.reverse\n",
    "\n",
    "depth = 1\n",
    "while true do\n",
    "  # 探索\n",
    "  cards = cards.each_with_object([]) do |c, result|\n",
    "    1.upto(n){|i| result << c[i, n] + c[0, i] + c[i + n..-1]}\n",
    "  end\n",
    "  break if cards.include?(answer)\n",
    "  depth += 1\n",
    "end\n",
    "\n",
    "puts depth\n"
   ]
  },
  {
   "cell_type": "code",
   "execution_count": 20,
   "metadata": {
    "collapsed": false
   },
   "outputs": [
    {
     "name": "stdout",
     "output_type": "stream",
     "text": [
      "12\n"
     ]
    }
   ],
   "source": [
    "# %load ch03/q42_02.rb\n",
    "n = 5\n",
    "\n",
    "# 順向搜尋的初始值\n",
    "fw = [(1..n*2).to_a]\n",
    "# 逆向搜尋的初始值\n",
    "bw = [(1..n*2).to_a.reverse]\n",
    "\n",
    "depth = 1\n",
    "while true do\n",
    "  # 順向搜尋\n",
    "  fw = fw.each_with_object([]) do |c, result|\n",
    "    1.upto(n){|i| result << c[i, n] + c[0, i] + c[i + n..-1]}\n",
    "  end\n",
    "  break if (fw & bw).size > 0\n",
    "  depth += 1\n",
    "\n",
    "  # 逆向搜尋\n",
    "  bw = bw.each_with_object([]) do |c, result|\n",
    "    1.upto(n){|i| result << c[n, i] + c[0, n] + c[i + n..-1]}\n",
    "  end\n",
    "  break if (fw & bw).size > 0\n",
    "  depth += 1\n",
    "end\n",
    "\n",
    "puts depth\n"
   ]
  },
  {
   "cell_type": "markdown",
   "metadata": {},
   "source": [
    "## Q43_讓玻璃杯的水減半"
   ]
  },
  {
   "cell_type": "code",
   "execution_count": 21,
   "metadata": {
    "collapsed": false
   },
   "outputs": [
    {
     "name": "stdout",
     "output_type": "stream",
     "text": [
      "514\n"
     ]
    }
   ],
   "source": [
    "# %load ch03/q43_01.rb\n",
    "def search(abc, depth, max_abc, log)\n",
    "  return false if log.has_key?(abc)        # 搜尋完成\n",
    "  return true if abc[0] == max_abc[0] / 2  # 結束條件\n",
    "  log[abc] = depth\n",
    "  [0, 1, 2].permutation(2).each{|i, j|\n",
    "    # 從A, B, C之中選擇兩個要移動水的杯子\n",
    "    if (abc[i] > 0) || (abc[j] < max_abc[j])\n",
    "      next_abc = abc.clone\n",
    "      move = [abc[i], max_abc[j] - abc[j]].min\n",
    "      next_abc[i] -= move\n",
    "      next_abc[j] += move\n",
    "      return true if search(next_abc, depth + 1, max_abc, log)\n",
    "    end\n",
    "  }\n",
    "  false\n",
    "end\n",
    "\n",
    "cnt = 0\n",
    "10.step(100, 2){|a|\n",
    "  (1..(a/2 - 1)).each{|c|\n",
    "    b = a - c\n",
    "    if b.gcd(c) == 1 then # 在互為質數的情況下，最大公因數＝1\n",
    "      cnt += 1 if search([a, 0, 0], 0, [a, b, c], {})\n",
    "    end\n",
    "  }\n",
    "}\n",
    "puts cnt\n"
   ]
  },
  {
   "cell_type": "code",
   "execution_count": 23,
   "metadata": {
    "collapsed": false
   },
   "outputs": [
    {
     "name": "stdout",
     "output_type": "stream",
     "text": [
      "514\n"
     ]
    }
   ],
   "source": [
    "# %load ch03/q43_02.rb\n",
    "cnt = 0\n",
    "10.step(100, 2){|a|\n",
    "  (1..(a / 2 - 1)).each{|c|\n",
    "    b = a - c\n",
    "    cnt += 1 if b.gcd(c) == 1\n",
    "  }\n",
    "}\n",
    "puts cnt\n"
   ]
  },
  {
   "cell_type": "markdown",
   "metadata": {},
   "source": [
    "## Q44_質數的陣列"
   ]
  },
  {
   "cell_type": "code",
   "execution_count": 22,
   "metadata": {
    "collapsed": false
   },
   "outputs": [
    {
     "name": "stdout",
     "output_type": "stream",
     "text": [
      "29490\n"
     ]
    }
   ],
   "source": [
    "# %load ch03/q44_01.rb\n",
    "require \"prime\"\n",
    "\n",
    "# 取得3位數的質數\n",
    "primes = Prime.each(1000).select{|i| i >= 100}\n",
    "\n",
    "# 以開頭的位數建立雜湊\n",
    "prime_h = {0 => []}\n",
    "primes.chunk{|i| i / 100}.each{|k, v|\n",
    "  prime_h[k] = v\n",
    "}\n",
    "\n",
    "cnt = 0\n",
    "primes.each{|r1|                     # 第1列\n",
    "  prime_h[r1 / 100].each{|c1|        # 第1排\n",
    "    prime_h[r1 % 100 / 10].each{|c2| # 第2排\n",
    "      prime_h[r1 % 10].each{|c3|     # 第3排\n",
    "        r2 = (c1 % 100 / 10) * 100 + (c2 % 100 / 10) * 10 +\n",
    "             (c3 % 100 / 10)\n",
    "        r3 = (c1 % 10) * 100 + (c2 % 10) * 10 + (c3 % 10)\n",
    "        if primes.include?(r2) && primes.include?(r3) then\n",
    "          cnt += 1 if [r1, r2, r3, c1, c2, c3].uniq.size == 6\n",
    "        end\n",
    "      }\n",
    "    }\n",
    "  }\n",
    "}\n",
    "puts cnt\n"
   ]
  },
  {
   "cell_type": "code",
   "execution_count": 24,
   "metadata": {
    "collapsed": false
   },
   "outputs": [
    {
     "name": "stdout",
     "output_type": "stream",
     "text": [
      "29490\n"
     ]
    }
   ],
   "source": [
    "# %load ch03/q44_02.rb\n",
    "require \"prime\"\n",
    "\n",
    "# 取得3位數的質數\n",
    "primes = Prime.each(1000).select{|i| i >= 100}\n",
    "\n",
    "# 以開頭的位數建立雜湊\n",
    "prime_h = {0 => []}\n",
    "primes.chunk{|c| c / 100}.each{|k, v|\n",
    "  prime_h[k] = v\n",
    "}\n",
    "\n",
    "cnt = 0\n",
    "primes.each{|r1|                                   # 第1列\n",
    "  prime_h[r1 / 100].each{|c1|                      # 第1排\n",
    "    prime_h[(c1 % 100) / 10].each{|r2|             # 第2列\n",
    "      prime_h[(r1 % 100) / 10].each{|c2|           # 第2排\n",
    "        if (r2 % 100) / 10 == (c2 % 100) / 10 then # 中央點\n",
    "          prime_h[c1 % 10].each{|r3|               # 第3列\n",
    "            if c2 % 10 == (r3 % 100) / 10 then\n",
    "              c3 = (r1 % 10) * 100 + (r2 % 10) * 10 + (r3 % 10)\n",
    "              if primes.include?(c3) then          # 第3排是否為質數\n",
    "                cnt += 1 if [r1, r2, r3, c1, c2, c3].uniq.size == 6\n",
    "              end\n",
    "            end\n",
    "          }\n",
    "        end\n",
    "      }\n",
    "    }\n",
    "  }\n",
    "}\n",
    "puts cnt\n"
   ]
  },
  {
   "cell_type": "markdown",
   "metadata": {},
   "source": [
    "## Q45_讓排序的交換次數最少化"
   ]
  },
  {
   "cell_type": "code",
   "execution_count": 25,
   "metadata": {
    "collapsed": false
   },
   "outputs": [
    {
     "name": "stderr",
     "output_type": "stream",
     "text": [
      "<main>:1: warning: already initialized constant N\n",
      "<main>:1: warning: previous definition of N was here\n"
     ]
    },
    {
     "name": "stdout",
     "output_type": "stream",
     "text": [
      "22212\n"
     ]
    }
   ],
   "source": [
    "# %load ch03/q45_01.rb\n",
    "N = 7\n",
    "checked = {(1..N).to_a => 0} # 檢查完畢的陣列\n",
    "check = [(1..N).to_a]        # 檢查對象\n",
    "depth = 0                    # 交換次數\n",
    "\n",
    "while check.size > 0 do      # 在檢查對象還存在時，持續檢查\n",
    "  next_check = []\n",
    "  (0..(N-1)).to_a.combination(2){|i, j|  # 選擇兩個位置交換\n",
    "    check.each{|c|\n",
    "      d = c.clone\n",
    "      d[i], d[j] = d[j], d[i]\n",
    "      if !checked.has_key?(d) then\n",
    "        checked[d] = depth + 1\n",
    "        next_check << d\n",
    "      end\n",
    "    }\n",
    "  }\n",
    "  check = next_check\n",
    "  depth += 1\n",
    "end\n",
    "\n",
    "puts checked.values.inject(:+)\n"
   ]
  },
  {
   "cell_type": "code",
   "execution_count": 26,
   "metadata": {
    "collapsed": false
   },
   "outputs": [
    {
     "name": "stdout",
     "output_type": "stream",
     "text": [
      "22212\n"
     ]
    }
   ],
   "source": [
    "# %load ch03/q45_02.rb\n",
    "count = 0\n",
    "(1..7).to_a.permutation.each{|ary|\n",
    "  ary.size.times{|i|\n",
    "    j = ary.index(i + 1)\n",
    "    if i != j then\n",
    "      ary[i], ary[j] = ary[j], ary[i]\n",
    "      count += 1\n",
    "    end\n",
    "  }\n",
    "}\n",
    "puts count\n"
   ]
  },
  {
   "cell_type": "code",
   "execution_count": 27,
   "metadata": {
    "collapsed": false
   },
   "outputs": [
    {
     "name": "stdout",
     "output_type": "stream",
     "text": [
      "22212\n"
     ]
    }
   ],
   "source": [
    "# %load ch03/q45_03.rb\n",
    "def count_swap(n)\n",
    "  return 0 if n == 1\n",
    "  (n - 1) * (1..(n-1)).inject(1, :*) + n * count_swap(n - 1)\n",
    "end\n",
    "puts count_swap(7)\n"
   ]
  },
  {
   "cell_type": "markdown",
   "metadata": {},
   "source": [
    "## Q46_唯一的ox"
   ]
  },
  {
   "cell_type": "code",
   "execution_count": 28,
   "metadata": {
    "collapsed": false
   },
   "outputs": [
    {
     "name": "stderr",
     "output_type": "stream",
     "text": [
      "<main>:1: warning: already initialized constant N\n",
      "<main>:1: warning: previous definition of N was here\n"
     ]
    },
    {
     "name": "stdout",
     "output_type": "stream",
     "text": [
      "6902\n"
     ]
    }
   ],
   "source": [
    "# %load ch03/q46_01.rb\n",
    "N = 4\n",
    "@count = Hash.new(0)\n",
    "\n",
    "def search()\n",
    "  # 以數值設定各列\n",
    "  (0..(2**N-1)).to_a.repeated_permutation(N).each{|rows|\n",
    "    # 計算各排的「○」的個數\n",
    "    col_count = Array.new(N, 0)\n",
    "    N.times{|c|\n",
    "      rows.each{|r|\n",
    "        col_count[c] += 1 if (r & (1 << c) > 0)\n",
    "      }\n",
    "    }\n",
    "    # 計算各列的「○」的個數\n",
    "    row_count = rows.map{|r| r.to_s(2).count(\"1\")}\n",
    "    # 於雜湊裡以列與排的次數計算\n",
    "    @count[row_count + col_count] += 1\n",
    "  }\n",
    "end\n",
    "\n",
    "search()\n",
    "# 輸出只有一種配置方式的模式\n",
    "puts @count.select{|k, v| v == 1}.count\n"
   ]
  },
  {
   "cell_type": "code",
   "execution_count": 29,
   "metadata": {
    "collapsed": false
   },
   "outputs": [
    {
     "name": "stderr",
     "output_type": "stream",
     "text": [
      "<main>:1: warning: already initialized constant N\n",
      "<main>:1: warning: previous definition of N was here\n"
     ]
    },
    {
     "name": "stdout",
     "output_type": "stream",
     "text": [
      "6902\n"
     ]
    }
   ],
   "source": [
    "# %load ch03/q46_02.rb\n",
    "N = 4\n",
    "\n",
    "def search(rows)\n",
    "  return 1 if rows.size == N     # 所有的列都搜尋過之後結束程式\n",
    "  count = 0\n",
    "  (2**N).times{|row|\n",
    "    # 檢查4個角落是否呈○×交互配置的情況\n",
    "    cross = rows.select{|r| (row & ~r) > 0 && (~row & r) > 0}\n",
    "    count += search(rows + [row]) if cross.count == 0\n",
    "  }\n",
    "  count\n",
    "end\n",
    "\n",
    "puts search([])\n"
   ]
  },
  {
   "cell_type": "markdown",
   "metadata": {},
   "source": [
    "## Q47_格雷碼的迴圈"
   ]
  },
  {
   "cell_type": "code",
   "execution_count": 30,
   "metadata": {
    "collapsed": false
   },
   "outputs": [
    {
     "name": "stderr",
     "output_type": "stream",
     "text": [
      "<main>:1: warning: already initialized constant N\n",
      "<main>:1: warning: previous definition of N was here\n"
     ]
    },
    {
     "name": "stdout",
     "output_type": "stream",
     "text": [
      "8\n",
      "64\n"
     ]
    }
   ],
   "source": [
    "# %load ch03/q47_01.rb\n",
    "N = 16\n",
    "def graycode(value)\n",
    "  # 將n進位拆解至各位數的陣列\n",
    "  digits = []\n",
    "  while value > 0\n",
    "    digits << value % N\n",
    "    value /= N\n",
    "  end\n",
    "\n",
    "  # 將各位數轉換成格雷碼\n",
    "  (digits.size - 1).times{|i|\n",
    "    digits[i] = (digits[i] - digits[i + 1]) % N\n",
    "  }\n",
    "  # 將陣列轉換成數值\n",
    "  digits.each_with_index.map{|d, i| d * (N**i)}.inject(:+)\n",
    "end\n",
    "\n",
    "# 回到原始值之前不斷搜尋\n",
    "def search(value)\n",
    "  check = graycode(value)\n",
    "  cnt = 1\n",
    "  while check != value do\n",
    "    check = graycode(check)\n",
    "    cnt += 1\n",
    "  end\n",
    "  cnt\n",
    "end\n",
    "\n",
    "puts search(0x808080)\n",
    "puts search(0xabcdef)\n"
   ]
  },
  {
   "cell_type": "markdown",
   "metadata": {},
   "source": [
    "## Q48_用反轉排出交錯"
   ]
  },
  {
   "cell_type": "code",
   "execution_count": 31,
   "metadata": {
    "collapsed": false
   },
   "outputs": [
    {
     "name": "stderr",
     "output_type": "stream",
     "text": [
      "<main>:1: warning: already initialized constant N\n",
      "<main>:1: warning: previous definition of N was here\n"
     ]
    },
    {
     "name": "stdout",
     "output_type": "stream",
     "text": [
      "8\n"
     ]
    }
   ],
   "source": [
    "# %load ch03/q48_01.rb\n",
    "N = 8                     # 兩種顏色的數\n",
    "start = (1 << N) - 1      # 初始状態(0有N個、1有N個)\n",
    "mask = (1 << N * 2) - 1   # 位元遮罩\n",
    "\n",
    "# 目標狀態(0與1交錯排列)\n",
    "goal1 = 0\n",
    "N.times{|i| goal1 = (goal1 << 2) + 1}\n",
    "goal2 = mask - goal1\n",
    "\n",
    "# 交換次數\n",
    "count = N * 2\n",
    "(1 << N*2).times{|i|   # 交換開始位置位元串\n",
    "  turn = i ^ (i << 1) ^ (i << 2)\n",
    "  turn = (turn ^ (turn >> (N * 2))) & mask\n",
    "\n",
    "  # 若與目標狀態一做，就判定為最小的交換次數\n",
    "  if (start ^ turn == goal1) || (start ^ turn == goal2) then\n",
    "    count = [count, i.to_s(2).count('1')].min\n",
    "  end\n",
    "}\n",
    "puts count\n"
   ]
  },
  {
   "cell_type": "code",
   "execution_count": 7,
   "metadata": {
    "collapsed": false
   },
   "outputs": [
    {
     "name": "stdout",
     "output_type": "stream",
     "text": [
      "8\n"
     ]
    },
    {
     "data": {
      "text/plain": [
       "undefined"
      ]
     },
     "execution_count": 7,
     "metadata": {},
     "output_type": "execute_result"
    }
   ],
   "source": [
    "// # %load ch03/q48_02.js\n",
    "const N = 8; /* 兩種顏色的數 */\n",
    "var start = (1 << N) - 1; /* 初始状態(0有N個、1有N個) */\n",
    "var mask = (1 << N * 2) - 1; /* 位元遮罩 */\n",
    "\n",
    "/* 目標狀態(0與1交錯排列) */\n",
    "var goal1 = 0;\n",
    "for (var i = 0; i < N; i++){ goal1 = (goal1 << 2) + 1; }\n",
    "var goal2 = mask - goal1;\n",
    "\n",
    "/* 計算為1的位數有幾個 */\n",
    "function bitcount(x) {\n",
    "  x = (x & 0x55555555) + (x >> 1 & 0x55555555);\n",
    "  x = (x & 0x33333333) + (x >> 2 & 0x33333333);\n",
    "  x = (x & 0x0F0F0F0F) + (x >> 4 & 0x0F0F0F0F);\n",
    "  x = (x & 0x00FF00FF) + (x >> 8 & 0x00FF00FF);\n",
    "  x = (x & 0x0000FFFF) + (x >> 16 & 0x0000FFFF);\n",
    "  return x;\n",
    "}\n",
    "\n",
    "/* 交換次數 */\n",
    "var count = N * 2;\n",
    "for (var i = 0; i < (1 << N * 2); i++){\n",
    "  var turn = i ^ (i << 1) ^ (i << 2);\n",
    "  turn = (turn ^ (turn >> (N * 2))) & mask;\n",
    "\n",
    "  /* 若與目標狀態一做，就判定為最小的交換次數 */\n",
    "  if (((start ^ turn) == goal1) || ((start ^ turn) == goal2)){\n",
    "    if (count > bitcount(i)){\n",
    "      count = bitcount(i);\n",
    "    }\n",
    "  }\n",
    "}\n",
    "console.log(count);\n"
   ]
  },
  {
   "cell_type": "markdown",
   "metadata": {},
   "source": [
    "## Q49_急就轉彎"
   ]
  },
  {
   "cell_type": "code",
   "execution_count": 32,
   "metadata": {
    "collapsed": false
   },
   "outputs": [
    {
     "name": "stdout",
     "output_type": "stream",
     "text": [
      "25\n"
     ]
    }
   ],
   "source": [
    "# %load ch03/q49_01.rb\n",
    "W, H = 6, 5                 # 水平與垂直的格眼數量\n",
    "USABLE = 2                  # 可使用的次數\n",
    "@max = 0                    # 最長的長度\n",
    "@h = Array.new(H + 1, 0)    # 儲存水平線的使用次數\n",
    "@v = Array.new(W + 1, 0)    # 儲存垂直線的使用次數\n",
    "\n",
    "def search(x, y)\n",
    "  if (x == W) && (y == H) then # 到達B的時候，確認為最大值並且結束程式\n",
    "    @max = [@h.inject(:+) + @v.inject(:+), @max].max\n",
    "    return\n",
    "  end\n",
    "  if @h[y] < USABLE then    # 可往水平方向移動時\n",
    "    if x > 0 then           # 往左移動\n",
    "      @h[y] += 1\n",
    "      search(x - 1, y)\n",
    "      @h[y] -= 1\n",
    "    end\n",
    "    if x < W then           # 往右移動\n",
    "      @h[y] += 1\n",
    "      search(x + 1, y)\n",
    "      @h[y] -= 1\n",
    "    end\n",
    "  end\n",
    "  if @v[x] < USABLE then    # 可往垂直方向移動時\n",
    "    if y > 0 then           # 往上移動\n",
    "      @v[x] += 1\n",
    "      search(x, y - 1)\n",
    "      @v[x] -= 1\n",
    "    end\n",
    "    if y < H then           # 往下移動\n",
    "      @v[x] += 1\n",
    "      search(x, y + 1)\n",
    "      @v[x] -= 1\n",
    "    end\n",
    "  end\n",
    "end\n",
    "\n",
    "search(0, 0)                # 從A的位置開始移動\n",
    "puts @max\n"
   ]
  },
  {
   "cell_type": "code",
   "execution_count": 8,
   "metadata": {
    "collapsed": false
   },
   "outputs": [
    {
     "name": "stdout",
     "output_type": "stream",
     "text": [
      "25\n"
     ]
    },
    {
     "data": {
      "text/plain": [
       "undefined"
      ]
     },
     "execution_count": 8,
     "metadata": {},
     "output_type": "execute_result"
    }
   ],
   "source": [
    "// # %load ch03/q49_02.js\n",
    "const W = 6; /* 水平格眼數量 */\n",
    "const H = 5; /* 垂直格眼數量 */\n",
    "const USABLE = 2; /* 可使用的次數 */\n",
    "var max = 0; /* 最長的長度 */\n",
    "var h = new Array(H + 1); /* 儲存水平線的使用次數 */\n",
    "var v = new Array(W + 1); /* 儲存垂直線的使用次數 */\n",
    "\n",
    "for (var i = 0; i < H + 1; i++){ h[i] = 0; }\n",
    "for (var i = 0; i < W + 1; i++){ v[i] = 0; }\n",
    "\n",
    "function sum(a) {\n",
    "  return a.reduce(function(x, y) { return x + y; });\n",
    "}\n",
    "\n",
    "function search(x, y){\n",
    "  if ((x == W) && (y == H)){\n",
    "    /* 到達B的時候，確認為最大值並且結束程式 */\n",
    "    max = Math.max(sum(h) + sum(v), max);\n",
    "    return;\n",
    "  }\n",
    "  if (h[y] < USABLE){ /* 可往水平方向移動時 */\n",
    "    if (x > 0) { /* 往左移動 */\n",
    "      h[y] += 1;\n",
    "      search(x - 1, y);\n",
    "      h[y] -= 1;\n",
    "    }\n",
    "    if (x < W) { /* 往右移動 */\n",
    "      h[y] += 1;\n",
    "      search(x + 1, y);\n",
    "      h[y] -= 1;\n",
    "    }\n",
    "  }\n",
    "  if (v[x] < USABLE){ /* 可往垂直方向移動時 */\n",
    "    if (y > 0){ /* 往上移動 */\n",
    "      v[x] += 1;\n",
    "      search(x, y - 1);\n",
    "      v[x] -= 1;\n",
    "    }\n",
    "    if (y < H){ /* 往下移動 */\n",
    "      v[x] += 1;\n",
    "      search(x, y + 1);\n",
    "      v[x] -= 1;\n",
    "    }\n",
    "  }\n",
    "}\n",
    "\n",
    "search(0, 0); /* 從A的位置開始移動 */\n",
    "console.log(max);\n"
   ]
  },
  {
   "cell_type": "markdown",
   "metadata": {},
   "source": [
    "## Q50_完美洗牌"
   ]
  },
  {
   "cell_type": "code",
   "execution_count": 33,
   "metadata": {
    "collapsed": false
   },
   "outputs": [
    {
     "name": "stdout",
     "output_type": "stream",
     "text": [
      "46\n"
     ]
    }
   ],
   "source": [
    "# %load ch03/q50_01.rb\n",
    "def shuffle(card)\n",
    "  left = card.take(card.size / 2)\n",
    "  right = card.drop(card.size / 2)\n",
    "  result = []\n",
    "  left.size.times{|i|\n",
    "    result.push(left[i])\n",
    "    result.push(right[i])\n",
    "  }\n",
    "  result\n",
    "end\n",
    "\n",
    "count = 0\n",
    "\n",
    "(1..100).each{|n|\n",
    "  init = (1..(2 * n)).to_a\n",
    "  card = init.clone\n",
    "  (2 * (n - 1)).times{|i|\n",
    "    card = shuffle(card)\n",
    "  }\n",
    "  count += 1 if card == init\n",
    "}\n",
    "\n",
    "puts count\n"
   ]
  },
  {
   "cell_type": "code",
   "execution_count": 34,
   "metadata": {
    "collapsed": false
   },
   "outputs": [
    {
     "name": "stdout",
     "output_type": "stream",
     "text": [
      "22\n"
     ]
    }
   ],
   "source": [
    "# %load ch03/q50_02.rb\n",
    "def shuffle(card)\n",
    "  left = card.take(card.size / 2)\n",
    "  right = card.drop(card.size / 2)\n",
    "  result = []\n",
    "  left.size.times{|i|\n",
    "    result.push(left[i])\n",
    "    result.push(right[i])\n",
    "  }\n",
    "  result\n",
    "end\n",
    "\n",
    "count = 0\n",
    "\n",
    "(1..100).each{|n|\n",
    "  init = (1..(2 * n)).to_a\n",
    "  card = init.clone\n",
    "  i = 0\n",
    "  while true do\n",
    "    card = shuffle(card)\n",
    "    i += 1\n",
    "    break if card == init\n",
    "  end\n",
    "  count += 1 if i == 2 * (n - 1)\n",
    "}\n",
    "\n",
    "puts count\n"
   ]
  },
  {
   "cell_type": "markdown",
   "metadata": {},
   "source": [
    "## Q51_同時流完的砂漏"
   ]
  },
  {
   "cell_type": "code",
   "execution_count": 35,
   "metadata": {
    "collapsed": false
   },
   "outputs": [
    {
     "name": "stderr",
     "output_type": "stream",
     "text": [
      "<main>:1: warning: already initialized constant N\n",
      "<main>:1: warning: previous definition of N was here\n"
     ]
    },
    {
     "name": "stdout",
     "output_type": "stream",
     "text": [
      "6055\n"
     ]
    }
   ],
   "source": [
    "# %load ch03/q51_01.rb\n",
    "N = 8 # 砂漏的數量\n",
    "GOAL = [1] * N # 所有都為1，就會發生砂子同時流到下方的情況\n",
    "\n",
    "count = 0\n",
    "(1..N).to_a.permutation{|init| # 依照正向順序設定初始狀態\n",
    "  hourglass = init\n",
    "  pos = 0\n",
    "  log = {} # 確認是否為相同狀態的歷程記錄\n",
    "  while log[hourglass] != pos  # 若是曾經出現相同狀態就結束\n",
    "    if hourglass == GOAL then  # 到達目標排列方式就結束\n",
    "      count += 1\n",
    "      break\n",
    "    end\n",
    "    log[hourglass] = pos\n",
    "\n",
    "    # 減少砂漏（若沒有殘餘的砂漏就保持不變）\n",
    "    hourglass = hourglass.map{|h| h > 0 ? h - 1 : 0}\n",
    "    init[pos].times{|i|        # 顛倒砂漏\n",
    "      rev = (pos + i) % N\n",
    "      hourglass[rev] = init[rev] - hourglass[rev]\n",
    "    }\n",
    "    pos = (pos + 1) % N        # 往下一個位置移動\n",
    "  end\n",
    "}\n",
    "\n",
    "puts count\n"
   ]
  },
  {
   "cell_type": "markdown",
   "metadata": {},
   "source": [
    "## Q52_被捉弄的糖果"
   ]
  },
  {
   "cell_type": "code",
   "execution_count": 36,
   "metadata": {
    "collapsed": false
   },
   "outputs": [
    {
     "name": "stderr",
     "output_type": "stream",
     "text": [
      "<main>:1: warning: already initialized constant N\n",
      "<main>:1: warning: previous definition of N was here\n"
     ]
    },
    {
     "name": "stdout",
     "output_type": "stream",
     "text": [
      "1926172117389136\n"
     ]
    }
   ],
   "source": [
    "# %load ch03/q52_01.rb\n",
    "M, N = 6, 5   # 設定「糖果的包裝紙」與「內容物的糖果」的數量\n",
    "@memo = {}    # 先儲存計算結果所需的雜湊\n",
    "\n",
    "def search(candy, color)\n",
    "  return 1 if candy == [0] * N          # 包起所有糖果\n",
    "  # 若有事先儲存的計算結果，就使用該計算結果\n",
    "  return @memo[candy + [color]] if @memo.has_key?(candy + [color])\n",
    "\n",
    "  # 計算包裝紙與糖果不一致的組合數\n",
    "  cnt = 0\n",
    "  candy.size.times{|i|\n",
    "    if i != (color % candy.size) then   # 不一致的情況\n",
    "      if candy[i] > 0 then              # 還有糖果沒包起來的情況\n",
    "        candy[i] -= 1\n",
    "        cnt += search(candy, color + 1) # 搜尋下一種組合\n",
    "        candy[i] += 1\n",
    "      end\n",
    "    end\n",
    "  }\n",
    "  @memo[candy + [color]] = cnt   # 將糖果的數量與顏色先儲存起來\n",
    "end\n",
    "puts search([M] * N, 0)\n"
   ]
  },
  {
   "cell_type": "markdown",
   "metadata": {},
   "source": [
    "## Q53_用相同的數字夾擊"
   ]
  },
  {
   "cell_type": "code",
   "execution_count": 37,
   "metadata": {
    "collapsed": false
   },
   "outputs": [
    {
     "name": "stderr",
     "output_type": "stream",
     "text": [
      "<main>:1: warning: already initialized constant N\n",
      "<main>:1: warning: previous definition of N was here\n"
     ]
    },
    {
     "name": "stdout",
     "output_type": "stream",
     "text": [
      "35584\n"
     ]
    }
   ],
   "source": [
    "# %load ch03/q53_01.rb\n",
    "N = 11\n",
    "cards = [0] * N * 2      # 卡片的初始值\n",
    "@count = 0\n",
    "\n",
    "def search(cards, num)\n",
    "  if num == N + 1 then   # 配置到最後就算成功\n",
    "    @count += 1\n",
    "  else\n",
    "    # 一邊確認能否繼續配置卡片，一邊依序配置\n",
    "    (2 * N - 1 - num).times{|i|\n",
    "      if cards[i] == 0 && cards[i + num + 1] == 0 then\n",
    "        # 還能配置卡片時繼續配置卡片，並以遞迴的方式繼續搜尋\n",
    "        cards[i], cards[i + num + 1] = num, num\n",
    "        search(cards, num + 1)\n",
    "        cards[i], cards[i + num + 1] = 0, 0\n",
    "      end\n",
    "    }\n",
    "  end\n",
    "end\n",
    "\n",
    "search(cards, 1)         # 一開始先配置「1」的卡片\n",
    "puts @count\n"
   ]
  },
  {
   "cell_type": "code",
   "execution_count": 39,
   "metadata": {
    "collapsed": false
   },
   "outputs": [
    {
     "name": "stderr",
     "output_type": "stream",
     "text": [
      "<main>:1: warning: already initialized constant N\n",
      "<main>:1: warning: previous definition of N was here\n"
     ]
    },
    {
     "name": "stdout",
     "output_type": "stream",
     "text": [
      "35584\n"
     ]
    }
   ],
   "source": [
    "# %load ch03/q53_02.rb\n",
    "N = 11\n",
    "cards = [0] * N * 2\n",
    "@count = 0\n",
    "\n",
    "def search(cards, num)\n",
    "  if num == 0 then        # 將最後的判斷變更為0\n",
    "    @count += 1\n",
    "  else\n",
    "    (2 * N - 1 - num).times{|i|\n",
    "      if cards[i] == 0 && cards[i + num + 1] == 0 then\n",
    "        cards[i], cards[i + num + 1] = num, num\n",
    "        search(cards, num - 1)  # 因為是從數字大的卡片開始，所以是用減的\n",
    "        cards[i], cards[i + num + 1] = 0, 0\n",
    "      end\n",
    "    }\n",
    "  end\n",
    "end\n",
    "\n",
    "search(cards, N)          # 一開始先配置數字最大的卡片\n",
    "puts @count\n"
   ]
  },
  {
   "cell_type": "code",
   "execution_count": 38,
   "metadata": {
    "collapsed": false
   },
   "outputs": [
    {
     "name": "stderr",
     "output_type": "stream",
     "text": [
      "<main>:1: warning: already initialized constant N\n",
      "<main>:1: warning: previous definition of N was here\n"
     ]
    },
    {
     "name": "stdout",
     "output_type": "stream",
     "text": [
      "35584\n"
     ]
    }
   ],
   "source": [
    "# %load ch03/q53_03.rb\n",
    "N = 11\n",
    "@memo = {}\n",
    "\n",
    "def search(cards, num)\n",
    "  return 1 if num == 0\n",
    "  return @memo[cards] if @memo.has_key?(cards)\n",
    "\n",
    "  # 以位元運算設定夾擊的位置\n",
    "  mask = (1 << (num + 1)) + 1\n",
    "  count = 0\n",
    "  while mask < (1 << (N * 2)) do\n",
    "    # 若還能配置卡片，就以遞迴的方式繼續搜尋\n",
    "    count += search(cards | mask, num - 1) if cards & mask == 0\n",
    "    # 將夾擊的位置移動一位數\n",
    "    mask <<= 1\n",
    "  end\n",
    "  @memo[cards] = count\n",
    "end\n",
    "\n",
    "puts search(0, N)\n"
   ]
  },
  {
   "cell_type": "markdown",
   "metadata": {},
   "source": [
    "## Q54_怠惰的算盤"
   ]
  },
  {
   "cell_type": "code",
   "execution_count": 40,
   "metadata": {
    "collapsed": false
   },
   "outputs": [
    {
     "name": "stdout",
     "output_type": "stream",
     "text": [
      "26\n"
     ]
    }
   ],
   "source": [
    "# %load ch03/q54_01.rb\n",
    "# 傳回疊加之後的移動量\n",
    "def move(base, add)\n",
    "  # 確認十位數的5的算珠位置\n",
    "  a0, a1 = (base + add).divmod(50)\n",
    "  b0, b1 = base.divmod(50)\n",
    "\n",
    "  # 確認十位數的1的算珠位置\n",
    "  a2, a3 = a1.divmod(10)\n",
    "  b2, b3 = b1.divmod(10)\n",
    "\n",
    "  # 確認個位數的算珠位置\n",
    "  a4, a5 = a3.divmod(5)\n",
    "  b4, b5 = b3.divmod(5)\n",
    "\n",
    "  # 根據所有位置的差異疊加移動量\n",
    "  (a0 - b0).abs + (a2 - b2).abs + (a4 - b4).abs + (a5 - b5).abs\n",
    "end\n",
    "\n",
    "# 針對移動列表總和移動量\n",
    "def count(list)\n",
    "  cnt = total = 0\n",
    "  list.each{|i|\n",
    "    cnt += move(total, i)\n",
    "    total += i\n",
    "  }\n",
    "  cnt\n",
    "end\n",
    "\n",
    "# 針對1〜10的順序計算最少的移動量\n",
    "min = 100\n",
    "(1..10).to_a.permutation(10){|s|\n",
    "  min = [min, count(s)].min\n",
    "}\n",
    "puts min\n"
   ]
  },
  {
   "cell_type": "code",
   "execution_count": 41,
   "metadata": {
    "collapsed": false
   },
   "outputs": [
    {
     "name": "stderr",
     "output_type": "stream",
     "text": [
      "<main>:1: warning: already initialized constant N\n",
      "<main>:1: warning: previous definition of N was here\n"
     ]
    },
    {
     "name": "stdout",
     "output_type": "stream",
     "text": [
      "26\n"
     ]
    }
   ],
   "source": [
    "# %load ch03/q54_02.rb\n",
    "N = 10\n",
    "\n",
    "# 傳回疊加之後的移動量\n",
    "def move(bit, add)\n",
    "  base = 0\n",
    "  N.times{|i|\n",
    "    base += i + 1 if (bit & (1 << i)) > 0\n",
    "  }\n",
    "\n",
    "  # 確認十位數的5的算珠位置\n",
    "  a0, a1 = (base + add).divmod(50)\n",
    "  b0, b1 = base.divmod(50)\n",
    "\n",
    "  # 確認十位數的1的算珠位置\n",
    "  a2, a3 = a1.divmod(10)\n",
    "  b2, b3 = b1.divmod(10)\n",
    "\n",
    "  # 確認個位數的算珠位置\n",
    "  a4, a5 = a3.divmod(5)\n",
    "  b4, b5 = b3.divmod(5)\n",
    "\n",
    "  # 根據所有位置的差異疊加移動量\n",
    "  (a0 - b0).abs + (a2 - b2).abs + (a4 - b4).abs + (a5 - b5).abs\n",
    "end\n",
    "\n",
    "@memo = Hash.new(0)\n",
    "@memo[(1 << N) - 1] = 0\n",
    "\n",
    "# 計算加到10的時候，移動量為最少的情況\n",
    "def search(bit)\n",
    "  return @memo[bit] if @memo.has_key?(bit)\n",
    "  min = 1000\n",
    "  N.times{|i|\n",
    "    if bit & (1 << i) == 0 then\n",
    "      min = [min, move(bit, i + 1) + search(bit | (1 << i))].min\n",
    "    end\n",
    "  }\n",
    "  @memo[bit] = min\n",
    "end\n",
    "\n",
    "puts search(0)\n"
   ]
  },
  {
   "cell_type": "markdown",
   "metadata": {},
   "source": [
    "## Q55_公平均分蛋糕"
   ]
  },
  {
   "cell_type": "code",
   "execution_count": 42,
   "metadata": {
    "collapsed": false
   },
   "outputs": [
    {
     "name": "stdout",
     "output_type": "stream",
     "text": [
      "47\n"
     ]
    }
   ],
   "source": [
    "# %load ch03/q55_01.rb\n",
    "@memo = {}\n",
    "def cut_cake(w, h, diff)\n",
    "  # 垂直邊長較長時，長寬互調\n",
    "  w, h = h, w if w < h\n",
    "  # 若是有事先儲存的計算結果，就使用該計算結果\n",
    "  return @memo[[w, h, diff]] if @memo.has_key?([w, h, diff])\n",
    "  # 搜尋到最後，兩者差距不為1時，就假設為無限大\n",
    "  if w == 1 && h == 1 then\n",
    "    return @memo[[w, h, diff]] = (diff == 1)?0:Float::INFINITY\n",
    "  end\n",
    "\n",
    "  # 試著沿垂直與水平方向切\n",
    "  tate = (1..(w/2)).map{|i|\n",
    "    h + cut_cake(w - i, h, i * h - diff)\n",
    "  }\n",
    "  yoko = (1..(h/2)).map{|i|\n",
    "    w + cut_cake(w, h - i, w * i - diff)\n",
    "  }\n",
    "  # 從垂直與水平的切法裡傳回最小值\n",
    "  @memo[[w, h, diff]] = (tate + yoko).min\n",
    "end\n",
    "\n",
    "puts cut_cake(16, 12, 0)\n"
   ]
  },
  {
   "cell_type": "code",
   "execution_count": 43,
   "metadata": {
    "collapsed": false
   },
   "outputs": [
    {
     "name": "stdout",
     "output_type": "stream",
     "text": [
      "47\n"
     ]
    }
   ],
   "source": [
    "# %load ch03/q55_02.rb\n",
    "@memo = {}\n",
    "def cut_cake(w, h, diff)\n",
    "  # 搜尋到最後，兩者差距不為1時，就假設為無限大\n",
    "  w, h = h, w if w < h\n",
    "  # 若是有事先儲存的計算結果，就使用該計算結果\n",
    "  return @memo[[w, h, diff]] if @memo.has_key?([w, h, diff])\n",
    "\n",
    "  # 搜尋到最後，兩者差距不為1時，就假設為無限大\n",
    "  if w == 1 && h == 1 then\n",
    "    return @memo[[w, h, diff]] = (diff == 1)?0:Float::INFINITY\n",
    "  end\n",
    "\n",
    "  # 排除搜尋（兩者差距超過蛋糕的一半時，假設為無限大）\n",
    "  return Float::INFINITY if w * h / 2 < diff\n",
    "\n",
    "  # 試著沿垂直與水平方向切\n",
    "  tate = (1..(w/2)).map{|i|\n",
    "    h + cut_cake(w - i, h, i * h - diff)\n",
    "  }\n",
    "  yoko = (1..(h/2)).map{|i|\n",
    "    w + cut_cake(w, h - i, w * i - diff)\n",
    "  }\n",
    "  # 從垂直與水平的切法裡傳回最小值\n",
    "  @memo[[w, h, diff]] = (tate + yoko).min\n",
    "end\n",
    "\n",
    "puts cut_cake(16, 12, 0)\n"
   ]
  },
  {
   "cell_type": "code",
   "execution_count": 9,
   "metadata": {
    "collapsed": false
   },
   "outputs": [
    {
     "name": "stdout",
     "output_type": "stream",
     "text": [
      "47\n"
     ]
    },
    {
     "data": {
      "text/plain": [
       "undefined"
      ]
     },
     "execution_count": 9,
     "metadata": {},
     "output_type": "execute_result"
    }
   ],
   "source": [
    "// # %load ch03/q55_03.js\n",
    "var memo = {};\n",
    "function cut_cake(w, h, diff){\n",
    "  if (w < h){\n",
    "    var temp = w; w = h; h = temp;\n",
    "  }\n",
    "  if ([w, h, diff] in memo){\n",
    "    return memo[[w, h, diff]];\n",
    "  }\n",
    "  if ((w == 1) && (h == 1)){\n",
    "    return memo[[w, h, diff]] = (diff == 1)?0:Infinity;\n",
    "  }\n",
    "  if (w * h < diff * 2){\n",
    "    return Infinity;\n",
    "  }\n",
    "\n",
    "  /* 試著沿垂直與水平方向切 */\n",
    "  var result = new Array();\n",
    "  for (var i = 1; i <= parseInt(w / 2); i++){\n",
    "    result.push(h + cut_cake(w - i, h, i * h - diff));\n",
    "  }\n",
    "  for (var i = 1; i <= parseInt(h / 2); i++){\n",
    "    result.push(w + cut_cake(w, h - i, w * i - diff));\n",
    "  }\n",
    "  /* 從垂直與水平的切法裡傳回最小值 */\n",
    "  return memo[[w, h, diff]] = Math.min.apply(null, result);\n",
    "}\n",
    "console.log(cut_cake(16, 12, 0));\n"
   ]
  },
  {
   "cell_type": "code",
   "execution_count": null,
   "metadata": {
    "collapsed": false
   },
   "outputs": [],
   "source": [
    "# %load ch03/備分q33.csv\n",
    "番号,上の句,下の句,上の句かな,下の句かな,作者\n",
    "1,秋の田の かりほの庵の 苫をあらみ,我が衣手は 露にぬれつつ,あきのたのかりほのいほのとまをあらみ,わかころもてはつゆにぬれつつ,天智天皇\n",
    "2,春過ぎて 夏来にけらし 白妙の,衣ほすてふ 天の香具山,はるすきてなつきにけらししろたへの,ころもほすてふあまのかくやま,持統天皇\n",
    "3,あしびきの 山鳥の尾の しだり尾の,ながながし夜を ひとりかも寝む,あしひきのやまとりのをのしたりをの,なかなかしよをひとりかもねむ,柿本人麻呂\n",
    "4,田子の浦に うちいでてみれば 白妙の,富士の高嶺に 雪は降りつつ,たこのうらにうちいててみれはしろたへの,ふしのたかねにゆきはふりつつ,山部赤人\n",
    "5,奥山に もみぢふみわけ なく鹿の,声聞く時ぞ 秋はかなしき,おくやまにもみちふみわけなくしかの,こゑきくときそあきはかなしき,猿丸太夫\n",
    "6,かささぎの 渡せる橋に おく霜の,白きをみれば 夜ぞふけにける,かささきのわたせるはしにおくしもの,しろきをみれはよそふけにける,中納言家持\n",
    "7,天の原 ふりさけみれば 春日なる,三笠の山に いでし月かも,あまのはらふりさけみれはかすかなる,みかさのやまにいてしつきかも,阿倍仲麻呂\n",
    "8,わが庵は 都のたつみ しかぞすむ,世をうぢ山と 人はいふなり,わかいほはみやこのたつみしかそすむ,よをうちやまとひとはいふなり,喜撰法師\n",
    "9,花の色は うつりにけりな いたづらに,わが身よにふる ながめせしまに,はなのいろはうつりにけりないたつらに,わかみよにふるなかめせしまに,小野小町\n",
    "10,これやこの 行くも帰るも わかれては,しるもしらぬも 逢坂の関,これやこのゆくもかへるもわかれては,しるもしらぬもあふさかのせき,蝉丸\n",
    "11,わたの原 八十島かけて こぎいでぬと,人にはつげよ あまのつり舟,わたのはらやそしまかけてこきいてぬと,ひとにはつけよあまのつりふね,参議篁\n",
    "12,天つ風 雲のかよひ路 吹きとぢよ,をとめの姿 しばしとどめむ,あまつかせくものかよひちふきとちよ,をとめのすかたしはしととめむ,僧正遍昭\n",
    "13,つくばねの 峰よりおつる みなの川,恋ぞつもりて 淵となりぬる,つくはねのみねよりおつるみなのかわ,こひそつもりてふちとなりぬる,陽成院\n",
    "14,みちのくの しのぶもぢずり 誰ゆゑに,みだれそめにし 我ならなくに,みちのくのしのふもちすりたれゆゑに,みたれそめにしわれならなくに,河原左大臣\n",
    "15,君がため 春の野に出でて 若菜つむ,わが衣手に 雪はふりつつ,きみかためはるののにいててわかなつむ,わかころもてにゆきはふりつつ,光孝天皇\n",
    "16,立ちわかれ いなばの山の 峰に生ふる,まつとし聞かば いまかへりこむ,たちわかれいなはのやまのみねにおふる,まつとしきかはいまかへりこむ,中納言行平\n",
    "17,ちはやぶる 神代もきかず 竜田川,からくれなゐに 水くくるとは,ちはやふるかみよもきかすたつたかは,からくれなゐにみつくくるとは,在原業平朝臣\n",
    "18,住の江の 岸による波 よるさへや,夢のかよひ路 人目よくらむ,すみのえのきしによるなみよるさへや,ゆめのかよひちひとめよくらむ,藤原敏行朝臣\n",
    "19,難波潟 みじかき蘆の ふしのまも,あはでこの世を すぐしてよとや,なにはかたみしかきあしのふしのまも,あはてこのよをすくしてよとや,伊勢\n",
    "20,わびぬれば いまはたおなじ 難波なる,身をつくしても あはむとぞ思ふ,わひぬれはいまはたおなしなにはなる,みをつくしてもあはむとそおもふ,元良親王\n",
    "21,今こむと いひしばかりに 長月の,有明の月を まちいでつるかな,いまこむといひしはかりになかつきの,ありあけのつきをまちいてつるかな,素性法師\n",
    "22,吹くからに 秋の草木の しをるれば,むべ山風を 嵐といふらむ,ふくからにあきのくさきのしをるれは,むへやまかせをあらしといふらむ,文屋康秀\n",
    "23,月みれば ちぢにものこそ かなしけれ,わが身一つの 秋にはあらねど,つきみれはちちにものこそかなしけれ,わかみひとつのあきにはあらねと,大江千里\n",
    "24,このたびは ぬさもとりあへず 手向山,もみぢのにしき 神のまにまに,このたひはぬさもとりあへすたむけやま,もみちのにしきかみのまにまに,菅家\n",
    "25,名にし負はば 逢坂山の さねかづら,人にしられで 来るよしもがな,なにしおははあふさかやまのさねかつら,ひとにしられてくるよしもかな,三条右大臣\n",
    "26,小倉山 峰のもみぢ葉 心あらば,いまひとたびの みゆきまたなむ,をくらやまみねのもみちはこころあらは,いまひとたひのみゆきまたなむ,貞信公\n",
    "27,みかの原 わきて流るる いづみ川,いつみきとてか 恋しかるらむ,みかのはらわきてなかるるいつみかは,いつみきとてかこひしかるらむ,中納言兼輔\n",
    "28,山里は 冬ぞさびしさ まさりける,人目も草も かれぬと思へば,やまさとはふゆそさびしさまさりける,ひとめもくさもかれぬとおもへは,源宗行朝臣\n",
    "29,心当てに 折らばや折らむ 初霜の,おきまどはせる 白菊の花,こころあてにおらはやおらむはつしもの,おきまとはせるしらきくのはな,凡河内躬恒\n",
    "30,有明の つれなく見えし 別れより,あかつきばかり うきものはなし,ありあけのつれなくみえしわかれより,あかつきはかりうきものはなし,壬生忠岑\n",
    "31,朝ぼらけ 有明の月と見るまでに,吉野の里に 降れる白雪,あさほらけありあけのつきとみるまてに,よしののさとにふれるしらゆき,坂上是則\n",
    "32,山川に 風のかけたる しがらみは,ながれもあへぬ もみぢなりけり,やまかはにかせのかけたるしからみは,なかれもあへぬもみちなりけり,春道列樹\n",
    "33,久方の 光のどけき 春の日に,しづ心なく 花の散るらむ,ひさかたのひかりのとけきはるのひに,しつこころなくはなのちるらむ,紀友則\n",
    "34,誰をかも しる人にせむ 高砂の,松も昔の 友ならなくに,たれをかもしるひとにせむたかさこの,まつもむかしのともならなくに,藤原興風\n",
    "35,人はいさ 心も知らず ふるさとは,花ぞ昔の 香に匂ひける,ひとはいさこころもしらすふるさとは,はなそむかしのかににほひける,紀貫之\n",
    "36,夏の夜は まだ宵ながら あけぬるを,雲のいづこに 月やどるらむ,なつのよはまたよひなからあけぬるを,くものいつこにつきやとるらむ,清原深養父\n",
    "37,白露に 風の吹きしく 秋の野は,つらぬきとめぬ 玉ぞ散りける,しらつゆにかせのふきしくあきののは,つらぬきとめぬたまそちりける,文屋朝康\n",
    "38,忘らるる 身をば思はず ちかひてし,人の命の 惜しくもあるかな,わすらるるみをはおもはすちかひてし,ひとのいのちのをしくもあるかな,右近\n",
    "39,浅茅生の 小野の篠原 しのぶれど,あまりてなどか 人の恋しき,あさちふのをののしのはらしのふれと,あまりてなとかひとのこひしき,参議等\n",
    "40,しのぶれど 色に出でにけり 我が恋は,物や思ふと 人の問ふまで,しのふれといろにいてにけりわかこひは,ものやおもふとひとのとふまて,平兼盛\n",
    "41,恋すてふ 我が名はまだき 立ちにけり,人しれずこそ 思ひそめしか,こひすてふわかなはまたきたちにけり,ひとしれすこそおもひそめしか,壬生忠見\n",
    "42,ちぎりきな かたみに袖を しぼりつつ,末の松山 波こさじとは,ちきりきなかたみにそてをしほりつつ,すゑのまつやまなみこさしとは,清原元輔\n",
    "43,あひみての のちの心に くらぶれば,昔は物を 思はざりけり,あひみてののちのこころにくらふれは,むかしはものをおもはさりけり,権中納言敦忠\n",
    "44,あふことの たえてしなくば なかなかに,人をも身をも 恨みざらまし,あふことのたえてしなくはなかなかに,ひとをもみをもうらみさらまし,中納言朝忠\n",
    "45,あはれとも いふべき人は 思ほえで,身のいたづらに なりぬべきかな,あはれともいふへきひとはおもほえて,みのいたつらになりぬへきかな,謙徳公\n",
    "46,由良のとを 渡る舟人 かぢをたえ,ゆくへも知らぬ 恋の道かな,ゆらのとをわたるふなひとかちをたえ,ゆくへもしらぬこひのみちかな,曽禰好忠\n",
    "47,八重むぐら しげれる宿の さびしきに,人こそ見えね 秋は来にけり,やへむくらしけれるやとのさひしきに,ひとこそみえねあきはきにけり,恵慶法師\n",
    "48,風をいたみ 岩うつ波の おのれのみ,くだけて物を 思ふころかな,かせをいたみいはうつなみのおのれのみ,くたけてものをおもふころかな,源重之\n",
    "49,みかきもり 衛士のたく火の 夜はもえて,昼は消えつつ 物をこそ思へ,みかきもりゑしのたくひのよるはもえ,ひるはきえつつものをこそおもへ,大中臣能宣朝臣\n",
    "50,君がため 惜しからざりし いのちさへ,長くもがなと 思ひけるかな,きみかためおしからさりしいのちさへ,なかくもかなとおもひけるかな,藤原義孝\n",
    "51,かくとだに えやはいぶきの さしも草,さしもしらじな もゆる思ひを,かくとたにえやはいふきのさしもくさ,さしもしらしなもゆるおもひを,藤原実方朝臣\n",
    "52,あけぬれば 暮るるものとは 知りながら,なほうらめしき 朝ぼらけかな,あけぬれはくるるものとはしりなから,なほうらめしきあさほらけかな,藤原道信朝臣\n",
    "53,なげきつつ ひとりぬる夜の あくるまは,いかに久しき ものとかはしる,なけきつつひとりぬるよのあくるまは,いかにひさしきものとかはしる,右大将道綱母\n",
    "54,忘れじの ゆく末までは かたければ,今日をかぎりの いのちともがな,わすれしのゆくすゑまてはかたけれは,けふをかきりのいのちともかな,儀同三司母\n",
    "55,滝の音は たえて久しく なりぬれど,名こそ流れて なほ聞こえけれ,たきのおとはたえてひさしくなりぬれと,なこそなかれてなほきこえけれ,大納言公任\n",
    "56,あらざらむ この世のほかの 思ひ出に,いまひとたびの あふこともがな,あらさらむこのよのほかのおもひてに,いまひとたひのあふこともかな,和泉式部\n",
    "57,めぐりあひて 見しやそれとも わかぬまに,雲がくれにし 夜半の月かな,めくりあひてみしやそれともわかぬまに,くもかくれにしよはのつきかけ,紫式部\n",
    "58,ありま山 ゐなの笹原 風吹けば,いでそよ人を 忘れやはする,ありまやまゐなのささはらかせふけは,いてそよひとをわすれやはする,大弐三位\n",
    "59,やすらはで 寝なましものを さ夜ふけて,かたぶくまでの 月を見しかな,やすらはてねなましものをさよふけて,かたふくまてのつきをみしかな,赤染衛門\n",
    "60,大江山 いく野の道の 遠ければ,まだふみもみず 天の橋立,おほえやまいくののみちのとほけれは,またふみもみすあまのはしたて,小式部内侍\n",
    "61,いにしへの 奈良の都の 八重桜,けふ九重に 匂ひぬるかな,いにしへのならのみやこのやへさくら,けふここのへににほひぬるかな,伊勢大輔\n",
    "62,夜をこめて 鳥のそらねは はかるとも,よに逢坂の 関はゆるさじ,よをこめてとりのそらねははかるとも,よにあふさかのせきはゆるさし,清少納言\n",
    "63,いまはただ 思ひ絶えなむ とばかりを,人づてならで 言ふよしもがな,いまはたたおもひたえなむとはかりを,ひとつてならていふよしもかな,左京大夫道雅\n",
    "64,朝ぼらけ 宇治の川霧 絶え絶えに,あらはれわたる 瀬々の網代木,あさほらけうちのかはきりたえたえに,あらはれわたるせせのあしろき,権中納言定頼\n",
    "65,うらみわび ほさぬ袖だに あるものを,恋にくちなむ 名こそをしけれ,うらみわひほさぬそてたにあるものを,こひにくちなむなこそをしけれ,相模\n",
    "66,もろともに あはれと思へ 山桜,花よりほかに 知る人もなし,もろともにあはれとおもへやまさくら,はなよりほかにしるひともなし,前大僧正行尊\n",
    "67,春の夜の 夢ばかりなる 手枕に,かひなくたたむ 名こそをしけれ,はるのよのゆめはかりなるたまくらに,かひなくたたむなこそをしけれ,周防内侍\n",
    "68,心にも あらでうき世に ながらへば,恋しかるべき 夜半の月かな,こころにもあらてうきよになからへは,こひしかるへきよはのつきかな,三条院\n",
    "69,あらし吹く み室の山の もみぢばは,竜田の川の 錦なりけり,あらしふくみむろのやまのもみちはは,たつたのかはのにしきなりけり,能因法師\n",
    "70,さびしさに 宿を立ち出でて ながむれば,いづくもおなじ 秋の夕ぐれ,さひしさにやとをたちいててなかむれは,いつくもおなしあきのゆふくれ,良選法師\n",
    "71,夕されば 門田の稲葉 おとづれて,蘆のまろやに 秋風ぞ吹く,ゆうされはかとたのいなはおとつれて,あしのまろやにあきかせそふく,大納言経信\n",
    "72,音に聞く 高師の浜の あだ波は,かけじや袖の ぬれもこそすれ,おとにきくたかしのはまのあたなみは,かけしやそてのぬれもこそすれ,祐子内親王家紀伊\n",
    "73,高砂の をのへのさくら さきにけり,とやまのかすみ たたずもあらなむ,たかさこのをのへのさくらさきにけり,とやまのかすみたたすもあらなむ,前権中納言匡房\n",
    "74,憂かりける 人を初瀬の 山おろしよ,はげしかれとは 祈らぬものを,うかりけるひとをはつせのやまおろしよ,はけしかれとはいのらぬものを,源俊頼朝臣\n",
    "75,ちぎりおきし させもが露を いのちにて,あはれ今年の 秋もいぬめり,ちきりおきしさせもかつゆをいのちにて,あはれことしのあきもいぬめり,藤原基俊\n",
    "76,わたの原 こぎいでてみれば 久方の,雲いにまがふ 沖つ白波,わたのはらこきいててみれはひさかたの,くもゐにまかふおきつしらなみ,法性寺入道前関白太政大臣\n",
    "77,瀬をはやみ 岩にせかるる 滝川の,われても末に あはむとぞ思ふ,せをはやみいわにせかるるたきかはの,われてもすゑにあはむとそおもふ,崇徳院\n",
    "78,淡路島 かよふ千鳥の 鳴く声に,幾夜ねざめぬ 須磨の関守,あはちしまかよふちとりのなくこゑに,いくよねさめぬすまのせきもり,源兼昌\n",
    "79,秋風に たなびく雲の たえ間より,もれいづる月の 影のさやけさ,あきかせにたなひくくものたえまより,もれいつるつきのかけのさやけさ,左京大夫顕輔\n",
    "80,長からむ 心もしらず 黒髪の,みだれてけさは 物をこそ思へ,なかからむこころもしらすくろかみの,みたれてけさはものをこそおもへ,待賢門院堀河\n",
    "81,ほととぎす 鳴きつる方を ながむれば,ただありあけの 月ぞ残れる,ほとときすなきつるかたをなかむれは,たたありあけのつきそのこれる,後徳大寺左大臣\n",
    "82,思ひわび さてもいのちは あるものを,憂きにたへぬは 涙なりけり,おもひわひさてもいのちはあるものを,うきにたへぬはなみたなりけり,道因法師\n",
    "83,世の中よ 道こそなけれ 思ひ入る,山の奥にも 鹿ぞ鳴くなる,よのなかよみちこそなけれおもひいる,やまのおくにもしかそなくなる,皇太后宮大夫俊成\n",
    "84,ながらへば またこのごろや しのばれむ,憂しと見し世ぞ 今は恋しき,なからへはまたこのころやしのはれむ,うしとみしよそいまはこひしき,藤原清輔朝臣\n",
    "85,夜もすがら 物思ふころは 明けやらで,閨のひまさへ つれなかりけり,よもすからものおもふころはあけやらぬ,ねやのひまさへつれなかりけり,俊恵法師\n",
    "86,なげけとて 月やは物を 思はする,かこち顔なる わが涙かな,なけけとてつきやはものをおもはする,かこちかほなるわかなみたかな,西行法師\n",
    "87,村雨の 露もまだひぬ まきの葉に,霧たちのぼる 秋の夕ぐれ,むらさめのつゆもまたひぬまきのはに,きりたちのほるあきのゆふくれ,寂蓮法師\n",
    "88,難波江の 蘆のかりねの ひとよゆゑ,みをつくしてや 恋ひわたるべき,なにはえのあしのかりねのひとよゆゑ,みをつくしてやこひわたるへき,皇嘉門院別当\n",
    "89,玉の緒よ たえなばたえね ながらへば,忍ぶることの 弱りもぞする,たまのをよたえなはたえねなからへは,しのふることのよはりもそする,式子内親王\n",
    "90,見せばやな 雄島のあまの 袖だにも,ぬれにぞぬれし 色はかはらず,みせはやなをしまのあまのそてたにも,ぬれにそぬれしいろはかはらす,殷富門院大輔\n",
    "91,きりぎりす 鳴くや霜夜の さむしろに,衣かたしき ひとりかも寝む,きりきりすなくやしもよのさむしろに,ころもかたしきひとりかもねむ,後京極摂政前太政大臣\n",
    "92,わが袖は 潮干にみえぬ 沖の石の,人こそしらね かわくまもなし,わかそてはしほひにみえぬおきのいしの,ひとこそしらねかわくまもなし,二条院讃岐\n",
    "93,世の中は つねにもがもな なぎさこぐ,あまの小舟の 綱手かなしも,よのなかはつねにもかもななきさこく,あまのおふねのつなてかなしも,鎌倉右大臣\n",
    "94,み吉野の 山の秋風 さ夜ふけて,ふるさと寒く 衣うつなり,みよしののやまのあきかせさよふけて,ふるさとさむくころもうつなり,参議雅経\n",
    "95,おほけなく うき世の民に おほふかな,わがたつ杣に 墨染の袖,おほけなくうきよのたみにおほふかな,わかたつそまにすみそめのそて,前大僧正慈円\n",
    "96,花さそふ 嵐の庭の 雪ならで,ふりゆくものは わが身なりけり,はなさそふあらしのにはのゆきならて,ふりゆくものはわかみなりけり,入道前太政大臣\n",
    "97,こぬ人を まつほの浦の 夕なぎに,焼くやもしほの 身もこがれつつ,こぬひとをまつほのうらのゆふなきに,やくやもしほのみもこかれつつ,権中納言定家\n",
    "98,風そよぐ ならの小川の 夕ぐれは,みそぎぞ夏の しるしなりける,かせそよくならのをかはのゆふくれは,みそきそなつのしるしなりける,従二位家隆\n",
    "99,人もをし 人もうらめし あぢきなく,世を思ふゆゑに 物思ふ身は,ひともをしひともうらめしあちきなく,よをおもふゆゑにものおもふみは,後鳥羽院\n",
    "100,ももしきや ふるき軒ばの しのぶにも,なほあまりある 昔なりけり,ももしきやふるきのきはのしのふにも,なほあまりあるむかしなりけり,順徳院\n"
   ]
  },
  {
   "cell_type": "code",
   "execution_count": 44,
   "metadata": {
    "collapsed": false
   },
   "outputs": [
    {
     "ename": "Errno::ENOENT",
     "evalue": "No such file or directory @ rb_sysopen - kernel",
     "output_type": "error",
     "traceback": [
      "\u001b[31mErrno::ENOENT\u001b[0m: No such file or directory @ rb_sysopen - kernel",
      "\u001b[37m<main>:17:in `each'\u001b[0m",
      "\u001b[37m<main>:17:in `drop'\u001b[0m",
      "\u001b[37m<main>:17:in `<main>'\u001b[0m",
      "\u001b[37mC:/Ruby23-x64/lib/ruby/gems/2.3.0/gems/iruby-0.3/lib/iruby/backend.rb:44:in `eval'\u001b[0m",
      "\u001b[37mC:/Ruby23-x64/lib/ruby/gems/2.3.0/gems/iruby-0.3/lib/iruby/backend.rb:44:in `eval'\u001b[0m",
      "\u001b[37mC:/Ruby23-x64/lib/ruby/gems/2.3.0/gems/iruby-0.3/lib/iruby/backend.rb:12:in `eval'\u001b[0m",
      "\u001b[37mC:/Ruby23-x64/lib/ruby/gems/2.3.0/gems/iruby-0.3/lib/iruby/kernel.rb:87:in `execute_request'\u001b[0m",
      "\u001b[37mC:/Ruby23-x64/lib/ruby/gems/2.3.0/gems/iruby-0.3/lib/iruby/kernel.rb:47:in `dispatch'\u001b[0m",
      "\u001b[37mC:/Ruby23-x64/lib/ruby/gems/2.3.0/gems/iruby-0.3/lib/iruby/kernel.rb:37:in `run'\u001b[0m",
      "\u001b[37mC:/Ruby23-x64/lib/ruby/gems/2.3.0/gems/iruby-0.3/lib/iruby/command.rb:70:in `run_kernel'\u001b[0m",
      "\u001b[37mC:/Ruby23-x64/lib/ruby/gems/2.3.0/gems/iruby-0.3/lib/iruby/command.rb:34:in `run'\u001b[0m",
      "\u001b[37mC:/Ruby23-x64/lib/ruby/gems/2.3.0/gems/iruby-0.3/bin/iruby:5:in `<top (required)>'\u001b[0m",
      "\u001b[37mC:/Ruby23-x64/bin/iruby:22:in `load'\u001b[0m",
      "\u001b[37mC:/Ruby23-x64/bin/iruby:22:in `<main>'\u001b[0m"
     ]
    }
   ],
   "source": [
    "# %load ch03/備分q33_01.rb\n",
    "# 集計フィールド\n",
    "@count = 0\n",
    "\n",
    "# 再帰的に検索\n",
    "def search(list, len)\n",
    "  if list.length == 1 then # 一意に識別できたとき\n",
    "    @count += len - 1\n",
    "  else\n",
    "    # 複数存在するとき、1文字増やして調査\n",
    "    list.uniq{|x| x[0, len]}.each{|k|\n",
    "      search(list.select{|x| x.start_with?(k[0, len])}, len + 1)\n",
    "    }\n",
    "  end\n",
    "end\n",
    "\n",
    "# CSVファイルから「かな」の列を配列にセットし、転置\n",
    "$<.drop(1).map{|e| e.split(',')[3,2]}.transpose.each{|ku|\n",
    "  search(ku, 1)\n",
    "}\n",
    "puts @count\n"
   ]
  },
  {
   "cell_type": "code",
   "execution_count": null,
   "metadata": {
    "collapsed": true
   },
   "outputs": [],
   "source": []
  }
 ],
 "metadata": {
  "kernelspec": {
   "display_name": "Javascript (Node.js)",
   "language": "javascript",
   "name": "javascript"
  },
  "language_info": {
   "file_extension": ".js",
   "mimetype": "application/javascript",
   "name": "javascript",
   "version": "7.7.4"
  }
 },
 "nbformat": 4,
 "nbformat_minor": 1
}
