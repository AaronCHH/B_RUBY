{
 "cells": [
  {
   "cell_type": "markdown",
   "metadata": {},
   "source": [
    "# Ch01 2進位與10進位"
   ]
  },
  {
   "cell_type": "markdown",
   "metadata": {},
   "source": [
    "<div id=\"toc\"></div>"
   ]
  },
  {
   "cell_type": "markdown",
   "metadata": {},
   "source": [
    "## Q01_10進位迴文"
   ]
  },
  {
   "cell_type": "code",
   "execution_count": 1,
   "metadata": {
    "collapsed": false
   },
   "outputs": [
    {
     "name": "stdout",
     "output_type": "stream",
     "text": [
      "585\n"
     ]
    }
   ],
   "source": [
    "# 從11開始搜尋\n",
    "num = 11\n",
    "while true\n",
    "  if num.to_s == num.to_s.reverse &&\n",
    "     num.to_s(8) == num.to_s(8).reverse &&\n",
    "     num.to_s(2) == num.to_s(2).reverse\n",
    "    puts num\n",
    "    break\n",
    "  end\n",
    "  # 為了只搜尋奇數每次加2\n",
    "  num += 2\n",
    "end"
   ]
  },
  {
   "cell_type": "markdown",
   "metadata": {},
   "source": [
    "* javascript"
   ]
  },
  {
   "cell_type": "markdown",
   "metadata": {},
   "source": [
    "```js\n",
    "/* 在字串類型裡新增傳回顛倒字串的方法 */\n",
    "String.prototype.reverse = function (){\n",
    "  return this.split(\"\").reverse().join(\"\");\n",
    "}\n",
    "\n",
    "/* 從11開始搜尋 */\n",
    "var num = 11;\n",
    "while (true){\n",
    "  if ((num.toString() == num.toString().reverse()) &&\n",
    "      (num.toString(8) == num.toString(8).reverse()) &&\n",
    "      (num.toString(2) == num.toString(2).reverse())){\n",
    "    console.log(num);\n",
    "    break;\n",
    "  }\n",
    "  /* 為了只搜尋奇數每次加2 */\n",
    "  num += 2;\n",
    "}\n",
    "```"
   ]
  },
  {
   "cell_type": "markdown",
   "metadata": {},
   "source": [
    "## Q02_數列的四則運算"
   ]
  },
  {
   "cell_type": "markdown",
   "metadata": {},
   "source": [
    "```js\n",
    "var op = [\"+\", \"-\", \"*\", \"/\", \"\"];\n",
    "for (i = 1000; i < 10000; i++){\n",
    "  var c = String(i);\n",
    "  for (j = 0; j < op.length; j++){\n",
    "    for (k = 0; k < op.length; k++){\n",
    "      for (l = 0; l < op.length; l++){\n",
    "        val = c.charAt(3) + op[j] + c.charAt(2) + op[k] +\n",
    "              c.charAt(1) + op[l] + c.charAt(0);\n",
    "        if (val.length > 4){ /* 至少插入一個運算子 */\n",
    "          if (i == eval(val)){\n",
    "            console.log(val + \" = \" + i);\n",
    "          }\n",
    "        }\n",
    "      }\n",
    "    }\n",
    "  }\n",
    "}\n",
    "```"
   ]
  },
  {
   "cell_type": "markdown",
   "metadata": {},
   "source": [
    "## Q03_翻卡片遊戲"
   ]
  },
  {
   "cell_type": "code",
   "execution_count": 3,
   "metadata": {
    "collapsed": false
   },
   "outputs": [
    {
     "name": "stdout",
     "output_type": "stream",
     "text": [
      "1\n",
      "4\n",
      "9\n",
      "16\n",
      "25\n",
      "36\n",
      "49\n",
      "64\n",
      "81\n",
      "100\n"
     ]
    },
    {
     "data": {
      "text/plain": [
       "100"
      ]
     },
     "execution_count": 3,
     "metadata": {},
     "output_type": "execute_result"
    }
   ],
   "source": [
    "# 卡片的初始化\n",
    "N = 100\n",
    "cards = Array.new(N, false)\n",
    "\n",
    "# 從2〜N翻面\n",
    "(2..N).each{|i|\n",
    "  j = i - 1\n",
    "  while (j < cards.size) do\n",
    "    cards[j] = !cards[j]\n",
    "    j += i\n",
    "  end\n",
    "}\n",
    "\n",
    "# 輸出翻為背面的卡片\n",
    "N.times{|i|\n",
    "  puts i + 1 if !cards[i]\n",
    "}\n"
   ]
  },
  {
   "cell_type": "code",
   "execution_count": 5,
   "metadata": {
    "collapsed": false
   },
   "outputs": [
    {
     "name": "stdout",
     "output_type": "stream",
     "text": [
      "1\n",
      "2\n",
      "3\n",
      "4\n",
      "5\n",
      "6\n",
      "7\n",
      "8\n",
      "9\n",
      "10\n"
     ]
    },
    {
     "data": {
      "text/plain": [
       "1..10"
      ]
     },
     "execution_count": 5,
     "metadata": {},
     "output_type": "execute_result"
    }
   ],
   "source": [
    "(1..10).each{|i|\n",
    "    puts i\n",
    "}"
   ]
  },
  {
   "cell_type": "code",
   "execution_count": 6,
   "metadata": {
    "collapsed": false
   },
   "outputs": [
    {
     "name": "stdout",
     "output_type": "stream",
     "text": [
      "1\n",
      "4\n",
      "9\n",
      "16\n",
      "25\n",
      "36\n",
      "49\n",
      "64\n",
      "81\n",
      "100\n"
     ]
    },
    {
     "data": {
      "text/plain": [
       "1..100"
      ]
     },
     "execution_count": 6,
     "metadata": {},
     "output_type": "execute_result"
    }
   ],
   "source": [
    "(1..100).each{|i|\n",
    "  flag = false\n",
    "  (1..100).each{|j|\n",
    "    if i % j == 0 then\n",
    "      flag = !flag\n",
    "    end\n",
    "  }\n",
    "  puts i if flag\n",
    "}\n"
   ]
  },
  {
   "cell_type": "markdown",
   "metadata": {},
   "source": [
    "## Q04_切棒子遊戲"
   ]
  },
  {
   "cell_type": "code",
   "execution_count": 7,
   "metadata": {
    "collapsed": false
   },
   "outputs": [
    {
     "name": "stdout",
     "output_type": "stream",
     "text": [
      "8\n",
      "22\n"
     ]
    }
   ],
   "source": [
    "def cutbar(m, n, current) # current為現在的棒子數量\n",
    "  if current >= n then\n",
    "    0 # 切完\n",
    "  elsif current < m then\n",
    "    1 + cutbar(m, n, current * 2) # 下次為現在的2倍\n",
    "  else\n",
    "    1 + cutbar(m, n, current + m) # 只追加剪刀的數量\n",
    "  end\n",
    "end\n",
    "\n",
    "puts cutbar(3, 20, 1)\n",
    "puts cutbar(5, 100, 1)\n"
   ]
  },
  {
   "cell_type": "code",
   "execution_count": 8,
   "metadata": {
    "collapsed": false
   },
   "outputs": [
    {
     "name": "stdout",
     "output_type": "stream",
     "text": [
      "8\n",
      "22\n"
     ]
    }
   ],
   "source": [
    "def cutbar(m, n)\n",
    "  count = 0\n",
    "  current = 1 # current為現在的長度\n",
    "  while n > current do\n",
    "    current += current < m ? current : m\n",
    "    count = count + 1\n",
    "  end\n",
    "  puts(count)\n",
    "end\n",
    "\n",
    "cutbar(3, 20)\n",
    "cutbar(5, 100)\n"
   ]
  },
  {
   "cell_type": "markdown",
   "metadata": {},
   "source": [
    "## Q05_現在還付現金"
   ]
  },
  {
   "cell_type": "code",
   "execution_count": 9,
   "metadata": {
    "collapsed": false
   },
   "outputs": [
    {
     "name": "stdout",
     "output_type": "stream",
     "text": [
      "20\n"
     ]
    }
   ],
   "source": [
    "cnt = 0\n",
    "(0..2).each{|coin500|        # 500元硬幣最多2個\n",
    "  (0..10).each{|coin100|     # 100硬幣は最多10個\n",
    "    (0..15).each{|coin50|    # 50硬幣は最多15個\n",
    "      (0..15).each{|coin10|  # 10硬幣は最多15個\n",
    "        if coin500 + coin100 + coin50 + coin10 <= 15 then\n",
    "          if coin500 * 500 + coin100 * 100 +\n",
    "             coin50 * 50 + coin10 * 10 == 1000 then\n",
    "            cnt += 1\n",
    "          end\n",
    "        end\n",
    "      }\n",
    "    }\n",
    "  }\n",
    "}\n",
    "puts cnt\n"
   ]
  },
  {
   "cell_type": "code",
   "execution_count": 10,
   "metadata": {
    "collapsed": false
   },
   "outputs": [
    {
     "name": "stdout",
     "output_type": "stream",
     "text": [
      "20\n"
     ]
    }
   ],
   "source": [
    "coins = [10, 50, 100, 500]\n",
    "cnt = 0\n",
    "(2..15).each do |i|\n",
    "  coins.repeated_combination(i).each{|coin_set|\n",
    "    cnt += 1 if coin_set.inject(:+) == 1000\n",
    "  }\n",
    "end\n",
    "puts cnt\n"
   ]
  },
  {
   "cell_type": "code",
   "execution_count": 11,
   "metadata": {
    "collapsed": false
   },
   "outputs": [
    {
     "name": "stdout",
     "output_type": "stream",
     "text": [
      "20\n"
     ]
    }
   ],
   "source": [
    "@cnt = 0\n",
    "def change(target, coins, usable)\n",
    "  coin = coins.shift\n",
    "  if coins.size == 0 then\n",
    "    @cnt += 1 if target / coin <= usable\n",
    "  else\n",
    "    (0..target/coin).each{|i|\n",
    "      change(target - coin * i, coins.clone, usable - i)\n",
    "    }\n",
    "  end\n",
    "end\n",
    "change(1000, [500, 100, 50, 10], 15)\n",
    "puts @cnt\n"
   ]
  },
  {
   "cell_type": "markdown",
   "metadata": {},
   "source": [
    "## Q06_改造版考拉茲猜想"
   ]
  },
  {
   "cell_type": "code",
   "execution_count": 12,
   "metadata": {
    "collapsed": false
   },
   "outputs": [
    {
     "name": "stdout",
     "output_type": "stream",
     "text": [
      "34\n"
     ]
    }
   ],
   "source": [
    "# 確認是否仍在迴圈裡\n",
    "def is_loop(n)\n",
    "  # 一開始先乘以3再加1\n",
    "  check = n * 3 + 1\n",
    "  # 殺在數字成為1之前不斷讓數字變化\n",
    "  while check != 1 do\n",
    "    check = check.even? ? check / 2 : check * 3 + 1\n",
    "    return true if check == n\n",
    "  end\n",
    "  return false\n",
    "end\n",
    "\n",
    "# 針對2〜10000的偶數確認\n",
    "puts 2.step(10000, 2).count{|i|\n",
    "  is_loop(i)\n",
    "}\n"
   ]
  },
  {
   "cell_type": "markdown",
   "metadata": {},
   "source": [
    "## Q07_日期的二進位轉換"
   ]
  },
  {
   "cell_type": "code",
   "execution_count": 13,
   "metadata": {
    "collapsed": false
   },
   "outputs": [
    {
     "name": "stdout",
     "output_type": "stream",
     "text": [
      "[19660713, 19660905, 19770217, 19950617, 20020505, 20130201]\n"
     ]
    }
   ],
   "source": [
    "# 匯入操作日期的Date類別\n",
    "require 'date'\n",
    "\n",
    "# 設定篩選的日期範圍\n",
    "term = Date.parse('19641010')..Date.parse('20200724')\n",
    "\n",
    "# 數值化\n",
    "term_list = term.map{|d|d.strftime('%Y%m%d').to_i}\n",
    "\n",
    "# 輸出與處理結果相同的值\n",
    "puts term_list.select{|d|d==d.to_s(2).reverse.to_i(2)}\n"
   ]
  },
  {
   "cell_type": "code",
   "execution_count": 14,
   "metadata": {
    "collapsed": false
   },
   "outputs": [
    {
     "name": "stdout",
     "output_type": "stream",
     "text": [
      "19660713\n",
      "19660905\n",
      "19770217\n",
      "19950617\n",
      "20020505\n",
      "20130201\n"
     ]
    },
    {
     "data": {
      "text/plain": [
       "93"
      ]
     },
     "execution_count": 14,
     "metadata": {},
     "output_type": "execute_result"
    }
   ],
   "source": [
    "# 匯入操作日期的Date類別\n",
    "require 'date'\n",
    "\n",
    "# 在題目規定的日期期間，從二進位的第五個字篩選出8個字元\n",
    "from_left = 19641010.to_s(2)[4,8].to_i(2)\n",
    "to_left   = 20200724.to_s(2)[4,8].to_i(2)\n",
    "# 將左右的8個字元寫成迴圈\n",
    "from_left.upto(to_left){|i|\n",
    "  l = \"%08b\" % i   # 左側\n",
    "  r = l.reverse    # 右側\n",
    "  (0..1).each{|m|  # 中央\n",
    "    value = \"1001#{l}#{m}#{r}1001\"\n",
    "    begin\n",
    "      puts Date.parse(value.to_i(2).to_s).strftime('%Y%m%d')\n",
    "      rescue       # 忽略無效的日期\n",
    "    end\n",
    "  }\n",
    "}\n"
   ]
  },
  {
   "cell_type": "markdown",
   "metadata": {},
   "source": [
    "## Q08_優秀的掃地機器人"
   ]
  },
  {
   "cell_type": "code",
   "execution_count": 15,
   "metadata": {
    "collapsed": false
   },
   "outputs": [
    {
     "name": "stderr",
     "output_type": "stream",
     "text": [
      "<main>:2: warning: already initialized constant N\n",
      "<main>:1: warning: previous definition of N was here\n"
     ]
    },
    {
     "name": "stdout",
     "output_type": "stream",
     "text": [
      "324932\n"
     ]
    }
   ],
   "source": [
    "N = 12\n",
    "\n",
    "def move(log)\n",
    "  # 連同最初的位置一併搜尋，若是搜尋到N+1個就停止搜尋\n",
    "  return 1 if log.size == N + 1\n",
    "\n",
    "  cnt = 0\n",
    "  # 往前後左右移動\n",
    "  [[0, 1], [0, -1], [1, 0], [-1, 0]].each{|d|\n",
    "    next_pos = [log[-1][0] + d[0], log[-1][1] + d[1]]\n",
    "    # 若搜尋尚未完成就繼續讓機器人移動\n",
    "    if !log.include?(next_pos) then\n",
    "      cnt += move(log + [next_pos])\n",
    "    end\n",
    "  }\n",
    "  cnt\n",
    "end\n",
    "\n",
    "puts move([[0, 0]])\n"
   ]
  },
  {
   "cell_type": "markdown",
   "metadata": {},
   "source": [
    "## Q09_比例失衡的男女"
   ]
  },
  {
   "cell_type": "code",
   "execution_count": 16,
   "metadata": {
    "collapsed": false
   },
   "outputs": [
    {
     "name": "stdout",
     "output_type": "stream",
     "text": [
      "2417416\n"
     ]
    }
   ],
   "source": [
    "boy, girl = 20, 10\n",
    "boy, girl = boy + 1, girl + 1\n",
    "ary = Array.new(boy * girl){0}\n",
    "ary[0] = 1\n",
    "girl.times{|g|\n",
    "  boy.times{|b|\n",
    "    if (b != g) && (boy - b != girl - g) then\n",
    "      ary[b + boy * g] += ary[b - 1 + boy * g] if b > 0\n",
    "      ary[b + boy * g] += ary[b + boy * (g - 1)] if g > 0\n",
    "    end\n",
    "  }\n",
    "}\n",
    "puts ary[-2] + ary[-boy - 1]\n"
   ]
  },
  {
   "cell_type": "markdown",
   "metadata": {},
   "source": [
    "```js\n",
    "var boy = 20;\n",
    "var girl = 10;\n",
    "boy += 1;\n",
    "girl += 1;\n",
    "var ary = new Array(girl);\n",
    "for (var i = 0; i < girl; i++){\n",
    "  ary[i] = new Array(boy);\n",
    "  for (var j = 0; j < boy; j++){\n",
    "    ary[i][j] = 0;\n",
    "  }\n",
    "}\n",
    "ary[0][0] = 1;\n",
    "for (var i = 0; i < girl; i++){\n",
    "  for (var j = 0; j < boy; j++){\n",
    "    if ((i != j) && (boy - j != girl - i)){\n",
    "      if (j > 0){\n",
    "        ary[i][j] += ary[i][j - 1];\n",
    "      }\n",
    "      if (i > 0){\n",
    "        ary[i][j] += ary[i - 1][j];\n",
    "      }\n",
    "    }\n",
    "  }\n",
    "}\n",
    "console.log(ary[girl - 2][boy - 1] + ary[girl - 1][boy - 2]);\n",
    "```"
   ]
  },
  {
   "cell_type": "markdown",
   "metadata": {},
   "source": [
    "## Q10_U輪盤的最大值"
   ]
  },
  {
   "cell_type": "code",
   "execution_count": 18,
   "metadata": {
    "collapsed": false
   },
   "outputs": [
    {
     "name": "stdout",
     "output_type": "stream",
     "text": [
      "9\n"
     ]
    }
   ],
   "source": [
    "european = [0, 32, 15, 19, 4, 21, 2, 25, 17, 34, 6, 27, 13, 36,\n",
    "            11, 30, 8, 23, 10, 5, 24, 16, 33, 1, 20, 14, 31, 9,\n",
    "            22, 18, 29, 7, 28, 12, 35, 3, 26]\n",
    "american = [0, 28, 9, 26, 30, 11, 7, 20, 32, 17, 5, 22, 34, 15,\n",
    "            3, 24, 36, 13, 1, 00, 27, 10, 25, 29, 12, 8, 19, 31,\n",
    "            18, 6, 21, 33, 16, 4, 23, 35, 14, 2]\n",
    "\n",
    "def sum_max(roulette, n)\n",
    "  ans = 0\n",
    "  roulette.size.times{|i|\n",
    "    tmp = 0\n",
    "    if i + n <= roulette.size then\n",
    "      # 不跨越陣列兩端的情況\n",
    "      tmp = roulette[i, n].inject(:+)\n",
    "    else\n",
    "      # 跨越陣列兩端的情況\n",
    "      tmp = roulette[0, (i + n) % roulette.size].inject(:+)\n",
    "      tmp += roulette[i..-1].inject(:+)\n",
    "    end\n",
    "    ans = [ans, tmp].max\n",
    "  }\n",
    "  ans\n",
    "end\n",
    "\n",
    "cnt = 0\n",
    "(2..36).each{|i|\n",
    "  cnt += 1 if sum_max(european, i) < sum_max(american, i)\n",
    "}\n",
    "puts cnt\n"
   ]
  },
  {
   "cell_type": "code",
   "execution_count": 19,
   "metadata": {
    "collapsed": false
   },
   "outputs": [
    {
     "name": "stdout",
     "output_type": "stream",
     "text": [
      "9\n"
     ]
    }
   ],
   "source": [
    "european = [0, 32, 15, 19, 4, 21, 2, 25, 17, 34, 6, 27, 13, 36,\n",
    "            11, 30, 8, 23, 10, 5, 24, 16, 33, 1, 20, 14, 31, 9,\n",
    "            22, 18, 29, 7, 28, 12, 35, 3, 26]\n",
    "american = [0, 28, 9, 26, 30, 11, 7, 20, 32, 17, 5, 22, 34, 15,\n",
    "            3, 24, 36, 13, 1, 00, 27, 10, 25, 29, 12, 8, 19, 31,\n",
    "            18, 6, 21, 33, 16, 4, 23, 35, 14, 2]\n",
    "\n",
    "def sum_max(roulette, n)\n",
    "  ans = roulette[0, n].inject(:+)\n",
    "  tmp = ans\n",
    "  roulette.size.times{|i|\n",
    "    tmp += roulette[(i + n) % roulette.size]\n",
    "    tmp -= roulette[i]\n",
    "    ans = [ans, tmp].max\n",
    "  }\n",
    "  ans\n",
    "end\n",
    "\n",
    "cnt = 0\n",
    "(2..36).each{|i|\n",
    "  cnt += 1 if sum_max(european, i) < sum_max(american, i)\n",
    "}\n",
    "puts cnt\n"
   ]
  },
  {
   "cell_type": "code",
   "execution_count": null,
   "metadata": {
    "collapsed": true
   },
   "outputs": [],
   "source": []
  }
 ],
 "metadata": {
  "kernelspec": {
   "display_name": "Ruby 2.3.3",
   "language": "ruby",
   "name": "ruby"
  },
  "language_info": {
   "file_extension": ".rb",
   "mimetype": "application/x-ruby",
   "name": "ruby",
   "version": "2.3.3"
  }
 },
 "nbformat": 4,
 "nbformat_minor": 1
}
