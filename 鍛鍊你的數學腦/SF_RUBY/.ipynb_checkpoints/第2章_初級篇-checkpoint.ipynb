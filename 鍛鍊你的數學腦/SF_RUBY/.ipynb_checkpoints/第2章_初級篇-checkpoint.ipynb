{
 "cells": [
  {
   "cell_type": "markdown",
   "metadata": {},
   "source": [
    "# Ch02 重視費用與效果的比例"
   ]
  },
  {
   "cell_type": "markdown",
   "metadata": {
    "collapsed": true
   },
   "source": [
    "<div id=\"toc\"></div>"
   ]
  },
  {
   "cell_type": "markdown",
   "metadata": {},
   "source": [
    "## Q11_費波那契數列"
   ]
  },
  {
   "cell_type": "markdown",
   "metadata": {},
   "source": [
    "```js\n",
    "//%load ch02/q11_01.js\n",
    "function fib(n){\n",
    "  if ((n == 0) || (n == 1)){\n",
    "    return 1;\n",
    "  } else {\n",
    "    return fib(n - 2) + fib(n - 1);\n",
    "  }\n",
    "}\n",
    "```"
   ]
  },
  {
   "cell_type": "markdown",
   "metadata": {},
   "source": [
    "```js\n",
    "// %load ch02/q11_02.js\n",
    "var memo = new Array()\n",
    "function fib(n){\n",
    "  if (memo[n] == null){\n",
    "    if ((n == 0) || (n == 1)){\n",
    "      memo[n] = 1;\n",
    "    } else {\n",
    "      memo[n] = fib(n - 2) + fib(n - 1);\n",
    "    }\n",
    "  }\n",
    "  return memo[n];\n",
    "}\n",
    "```"
   ]
  },
  {
   "cell_type": "code",
   "execution_count": 2,
   "metadata": {
    "collapsed": false
   },
   "outputs": [
    {
     "data": {
      "text/plain": [
       ":fib"
      ]
     },
     "execution_count": 2,
     "metadata": {},
     "output_type": "execute_result"
    }
   ],
   "source": [
    "# %load ch02/q11_03.rb\n",
    "@memo = {}\n",
    "def fib(n)\n",
    "  return @memo[n] if @memo.has_key?(n)\n",
    "  if (n == 0) || (n == 1) then\n",
    "    @memo[n] = 1\n",
    "  else\n",
    "    @memo[n] = fib(n - 1) + fib(n - 2)\n",
    "  end\n",
    "end\n"
   ]
  },
  {
   "cell_type": "code",
   "execution_count": 8,
   "metadata": {
    "collapsed": false
   },
   "outputs": [
    {
     "data": {
      "text/plain": [
       "1"
      ]
     },
     "execution_count": 8,
     "metadata": {},
     "output_type": "execute_result"
    }
   ],
   "source": [
    "fib(1)"
   ]
  },
  {
   "cell_type": "code",
   "execution_count": 5,
   "metadata": {
    "collapsed": false
   },
   "outputs": [
    {
     "name": "stdout",
     "output_type": "stream",
     "text": [
      "2\n",
      "3\n",
      "5\n",
      "8\n",
      "21\n",
      "144\n",
      "2584\n",
      "14930352\n",
      "86267571272\n",
      "498454011879264\n",
      "160500643816367088\n"
     ]
    }
   ],
   "source": [
    "# %load ch02/q11_04.rb\n",
    "a = b = 1\n",
    "count = 0\n",
    "while (count < 11) do\n",
    "  c = a + b\n",
    "  # 將數字的位數拆解出來，再加總各位數\n",
    "  sum = 0\n",
    "  c.to_s.split(//).each {|e| sum += e.to_i}\n",
    "  if (c % sum == 0) then\n",
    "    # 若是除得盡就輸出答案\n",
    "    puts c\n",
    "    count += 1\n",
    "  end\n",
    "  a, b = b, c\n",
    "end\n"
   ]
  },
  {
   "cell_type": "markdown",
   "metadata": {},
   "source": [
    "## Q12_平方根的數字"
   ]
  },
  {
   "cell_type": "code",
   "execution_count": 3,
   "metadata": {
    "collapsed": false,
    "scrolled": true
   },
   "outputs": [
    {
     "name": "stdout",
     "output_type": "stream",
     "text": [
      "1362\n",
      "143\n"
     ]
    }
   ],
   "source": [
    "# %load ch02/q12_01.rb\n",
    "# 包含整數部分\n",
    "i = 1\n",
    "while i += 1\n",
    "  # 刪除小數點，取得左側數來的10個字元\n",
    "  str = ('%10.10f'%Math.sqrt(i)).sub('.','')[0..9]\n",
    "  # 刪除重覆的字元後，若達到10個字元就結束程式\n",
    "  break if str.split('').uniq.length == 10\n",
    "end\n",
    "puts i\n",
    "\n",
    "# 只有小數點的情況\n",
    "i = 1\n",
    "while i += 1\n",
    "  # 在小數點的位置分割，並篩選出小數點的部分\n",
    "  str = ('%10.10f'%Math.sqrt(i)).split('.')[1]\n",
    "  # 挑除小數點重複的部分後，若達到10個字元就結束程式\n",
    "  break if str.split('').uniq.length == 10\n",
    "end\n",
    "puts i\n"
   ]
  },
  {
   "cell_type": "markdown",
   "metadata": {},
   "source": [
    "## Q13_滿足覆面算公式有幾種數字排列"
   ]
  },
  {
   "cell_type": "code",
   "execution_count": 4,
   "metadata": {
    "collapsed": false
   },
   "outputs": [
    {
     "name": "stdout",
     "output_type": "stream",
     "text": [
      "1632 + 41976 + 7380 = 50988\n",
      "2543 + 72065 + 6491 = 81099\n",
      "4905 + 24689 + 8017 = 37611\n",
      "5094 + 75310 + 1962 = 82366\n",
      "5096 + 35710 + 1982 = 42788\n",
      "5180 + 65921 + 2843 = 73944\n",
      "5270 + 85132 + 3764 = 94166\n",
      "7092 + 37510 + 1986 = 46588\n",
      "7092 + 47310 + 1986 = 56388\n",
      "9728 + 19467 + 6205 = 35400\n",
      "10\n"
     ]
    }
   ],
   "source": [
    "# %load ch02/q13_01.rb\n",
    "count = 0\n",
    "(0..9).to_a.permutation do |r, e, a, d, w, i, t, l, k, s|\n",
    "  next if r == 0 or w == 0 or t == 0 or s == 0\n",
    "  read = r * 1000 + e * 100 + a * 10 + d\n",
    "  write = w * 10000 + r * 1000 + i * 100 + t * 10 + e\n",
    "  talk = t * 1000 + a * 100 + l * 10 + k\n",
    "  skill = s * 10000 + k * 1000 + i * 100 + l * 10 + l\n",
    "  if read + write + talk == skill then\n",
    "    count += 1\n",
    "    puts \"#{read} + #{write} + #{talk} = #{skill}\"\n",
    "  end\n",
    "end\n",
    "puts count\n"
   ]
  },
  {
   "cell_type": "code",
   "execution_count": 5,
   "metadata": {
    "collapsed": false
   },
   "outputs": [
    {
     "name": "stdout",
     "output_type": "stream",
     "text": [
      "1632+41976+7380==50988\n",
      "2543+72065+6491==81099\n",
      "4905+24689+8017==37611\n",
      "5094+75310+1962==82366\n",
      "5096+35710+1982==42788\n",
      "5180+65921+2843==73944\n",
      "5270+85132+3764==94166\n",
      "7092+37510+1986==46588\n",
      "7092+47310+1986==56388\n",
      "9728+19467+6205==35400\n",
      "10\n"
     ]
    }
   ],
   "source": [
    "# %load ch02/q13_02.rb\n",
    "expression = \"READ+WRITE+TALK==SKILL\"\n",
    "nums = expression.split(/[^a-zA-Z]/)\n",
    "chars = nums.join().split(\"\").uniq\n",
    "head = nums.map{|num| num[0]}\n",
    "\n",
    "count = 0\n",
    "(0..9).to_a.permutation(chars.size){|seq|\n",
    "  is_zero_first = false\n",
    "  if seq.include?(0) then\n",
    "    is_zero_first = head.include?(chars[seq.index(0)])\n",
    "  end\n",
    "  if !is_zero_first then\n",
    "    e = expression.tr(chars.join(), seq.join())\n",
    "    if eval(e) then\n",
    "      puts e\n",
    "      count += 1\n",
    "    end\n",
    "  end\n",
    "}\n",
    "puts count\n"
   ]
  },
  {
   "cell_type": "code",
   "execution_count": 6,
   "metadata": {
    "collapsed": false
   },
   "outputs": [
    {
     "name": "stdout",
     "output_type": "stream",
     "text": [
      "7092 + 47310 + 1986 = 56388\n",
      "7092 + 37510 + 1986 = 46588\n",
      "5094 + 75310 + 1962 = 82366\n",
      "5096 + 35710 + 1982 = 42788\n",
      "5180 + 65921 + 2843 = 73944\n",
      "5270 + 85132 + 3764 = 94166\n",
      "2543 + 72065 + 6491 = 81099\n",
      "1632 + 41976 + 7380 = 50988\n",
      "9728 + 19467 + 6205 = 35400\n",
      "4905 + 24689 + 8017 = 37611\n",
      "10\n"
     ]
    }
   ],
   "source": [
    "# %load ch02/q13_03.rb\n",
    "count = 0\n",
    "(0..9).to_a.permutation(6){|e, a, d, t, k, l|\n",
    "  if ((a + t == 8) || (a + t == 9) || (a + t == 10)) &&\n",
    "     ((a + e == 8) || (a + e == 9) || (a + e == 10)) &&\n",
    "     ((d + e + k) % 10 == l) &&\n",
    "     (((a + t + l) * 10 + d + e + k) % 100 == l * 11) then\n",
    "    ((0..9).to_a - [k, e, d, l, t, a]).permutation(4){|i, r, s, w|\n",
    "      if ((r != 0) && (w != 0) && (t != 0)) &&\n",
    "         ((s == w + 1) || (s == w + 2)) then\n",
    "        read = r * 1000 + e * 100 + a * 10 + d\n",
    "        write = w * 10000 + r * 1000 + i * 100 + t * 10 + e\n",
    "        talk = t * 1000 + a * 100 + l * 10 + k\n",
    "        skill = s * 10000 + k * 1000 + i * 100 + l * 10 + l\n",
    "        if read + write + talk == skill then\n",
    "          puts \"#{read} + #{write} + #{talk} = #{skill}\"\n",
    "          count += 1\n",
    "        end\n",
    "      end\n",
    "    }\n",
    "  end\n",
    "}\n",
    "puts count\n"
   ]
  },
  {
   "cell_type": "markdown",
   "metadata": {},
   "source": [
    "## Q14_足球世界盃出賽國家名稱的文字接龍"
   ]
  },
  {
   "cell_type": "code",
   "execution_count": 7,
   "metadata": {
    "collapsed": false
   },
   "outputs": [
    {
     "name": "stdout",
     "output_type": "stream",
     "text": [
      "8\n"
     ]
    }
   ],
   "source": [
    "# %load ch02/q14_01.rb\n",
    "# 將足球世界盃出賽國家存入陣列\n",
    "@country = [\"Brazil\", \"Croatia\", \"Mexico\", \"Cameroon\",\n",
    "            \"Spain\", \"Netherlands\", \"Chile\", \"Australia\",\n",
    "            \"Colombia\", \"Greece\", \"Cote d'Ivoire\", \"Japan\",\n",
    "            \"Uruguay\", \"Costa Rica\", \"England\", \"Italy\",\n",
    "            \"Switzerland\", \"Ecuador\", \"France\", \"Honduras\",\n",
    "            \"Argentina\", \"Bosnia and Herzegovina\", \"Iran\",\n",
    "            \"Nigeria\", \"Germany\", \"Portugal\", \"Ghana\",\n",
    "            \"USA\", \"Belgium\", \"Algeria\", \"Russia\",\n",
    "            \"Korea Republic\"]\n",
    "# 確認是否已使用過\n",
    "@is_used = Array.new(@country.size, false)\n",
    "\n",
    "def search(prev, depth)\n",
    "  is_last = true\n",
    "  @country.each_with_index{|c, i|\n",
    "    if c[0] == prev[-1].upcase then\n",
    "      if !@is_used[i] then\n",
    "        is_last = false\n",
    "        @is_used[i] = true\n",
    "        search(c, depth + 1)\n",
    "        @is_used[i] = false\n",
    "      end\n",
    "    end\n",
    "  }\n",
    "  @max_depth = [@max_depth, depth].max if is_last\n",
    "end\n",
    "\n",
    "# 從所有國家開始\n",
    "@max_depth = 0\n",
    "@country.each_with_index{|c, i|\n",
    "  @is_used[i] = true\n",
    "  search(c, 1)\n",
    "  @is_used[i] = false\n",
    "}\n",
    "# 顯示深度的最大值（用於接龍的國家名稱數)\n",
    "puts @max_depth\n"
   ]
  },
  {
   "cell_type": "code",
   "execution_count": 8,
   "metadata": {
    "collapsed": false
   },
   "outputs": [
    {
     "name": "stdout",
     "output_type": "stream",
     "text": [
      "8\n"
     ]
    }
   ],
   "source": [
    "# %load ch02/q14_02.rb\n",
    "# 將足球世界盃的出賽國家名稱存入陣列\n",
    "country = [\"Brazil\", \"Croatia\", \"Mexico\", \"Cameroon\",\n",
    "           \"Spain\", \"Netherlands\", \"Chile\", \"Australia\",\n",
    "           \"Colombia\", \"Greece\", \"Cote d'Ivoire\", \"Japan\",\n",
    "           \"Uruguay\", \"Costa Rica\", \"England\", \"Italy\",\n",
    "           \"Switzerland\", \"Ecuador\", \"France\", \"Honduras\",\n",
    "           \"Argentina\", \"Bosnia and Herzegovina\", \"Iran\",\n",
    "           \"Nigeria\", \"Germany\", \"Portugal\", \"Ghana\",\n",
    "           \"USA\", \"Belgium\", \"Algeria\", \"Russia\",\n",
    "           \"Korea Republic\"]\n",
    "def search(countrys, prev, depth)\n",
    "  # 取得接在後面國名之後的國名清單\n",
    "  next_country = countrys.select{|c| c[0] == prev[-1].upcase}\n",
    "  if next_country.size > 0 then\n",
    "    # 若有可接龍的國名，則排除該國再進行遞迴搜尋\n",
    "    next_country.each{|c|\n",
    "      search(countrys - [c], c, depth + 1)\n",
    "    }\n",
    "  else\n",
    "    # 若沒有可接續的國名，確認深度是否已達最大\n",
    "    @max_depth = [@max_depth, depth].max\n",
    "  end\n",
    "end\n",
    "\n",
    "# 從所有的國家開始\n",
    "@max_depth = 0\n",
    "country.each{|c|\n",
    "  search(country - [c], c, 1)\n",
    "}\n",
    "# 顯示深度的最大值（用於接龍的國家名稱數)\n",
    "puts @max_depth\n"
   ]
  },
  {
   "cell_type": "markdown",
   "metadata": {},
   "source": [
    "## Q15_搶樓梯遊戲"
   ]
  },
  {
   "cell_type": "code",
   "execution_count": 9,
   "metadata": {
    "collapsed": false
   },
   "outputs": [
    {
     "name": "stdout",
     "output_type": "stream",
     "text": [
      "201\n"
     ]
    }
   ],
   "source": [
    "# %load ch02/q15_01.rb\n",
    "N = 10      # 樓梯的階數\n",
    "STEPS = 4   # 一口氣前進的階數\n",
    "\n",
    "def move(a, b)\n",
    "  return 0 if a > b    # 當A先生爬到比B先生還高的位置時結束搜尋\n",
    "  return 1 if a == b   # 若是停在同一階就停止計數\n",
    "  cnt = 0\n",
    "  (1..STEPS).each{|da|\n",
    "    (1..STEPS).each{|db|\n",
    "      cnt += move(a + da, b - db) # 遞迴搜尋\n",
    "    }\n",
    "  }\n",
    "  cnt\n",
    "end\n",
    "\n",
    "# 將A先生設定成從0的位置開始、並將B先生設定成從N的位置開始\n",
    "puts move(0, N)\n"
   ]
  },
  {
   "cell_type": "code",
   "execution_count": 10,
   "metadata": {
    "collapsed": false
   },
   "outputs": [
    {
     "name": "stderr",
     "output_type": "stream",
     "text": [
      "<main>:1: warning: already initialized constant N\n",
      "<main>:1: warning: previous definition of N was here\n",
      "<main>:2: warning: already initialized constant STEPS\n",
      "<main>:2: warning: previous definition of STEPS was here\n"
     ]
    },
    {
     "name": "stdout",
     "output_type": "stream",
     "text": [
      "201\n"
     ]
    }
   ],
   "source": [
    "# %load ch02/q15_02.rb\n",
    "N = 10      # 樓梯的階數\n",
    "STEPS = 4   # 一口氣前進的階數\n",
    "\n",
    "@memo = {}\n",
    "\n",
    "def move(a, b)\n",
    "  return @memo[[a,b]] if @memo.has_key?([a, b])\n",
    "  return @memo[[a,b]] = 0 if a > b   # 當A先生爬到比B先生還高的位置時結束搜尋\n",
    "  return @memo[[a, b]] = 1 if a == b # 若是停在同一階就停止計數\n",
    "  cnt = 0\n",
    "  (1..STEPS).each{|da|\n",
    "    (1..STEPS).each{|db|\n",
    "      cnt += move(a + da, b - db) # 遞迴搜尋\n",
    "    }\n",
    "  }\n",
    "  @memo[[a, b]] = cnt\n",
    "end\n",
    "\n",
    "# 將A先生設定成從0的位置開始、並將B先生設定成從N的位置開始\n",
    "puts move(0, N)\n"
   ]
  },
  {
   "cell_type": "code",
   "execution_count": 11,
   "metadata": {
    "collapsed": false
   },
   "outputs": [
    {
     "name": "stderr",
     "output_type": "stream",
     "text": [
      "<main>:1: warning: already initialized constant N\n",
      "<main>:1: warning: previous definition of N was here\n",
      "<main>:2: warning: already initialized constant STEPS\n",
      "<main>:2: warning: previous definition of STEPS was here\n"
     ]
    },
    {
     "name": "stdout",
     "output_type": "stream",
     "text": [
      "201\n"
     ]
    }
   ],
   "source": [
    "# %load ch02/q15_03.rb\n",
    "N = 10      # 樓梯的階數\n",
    "STEPS = 4   # 一口氣前進的階數\n",
    "\n",
    "dp = Array.new(N + 1, 0)     # 統計於t次的移動之中，移動的位置\n",
    "cnt = 0\n",
    "dp[N] = 1                    # 設定初始值\n",
    "\n",
    "N.times{|i|                  # 移動次數(N的最大數)\n",
    "  (N + 1).times{|j|          # 移動起點的樓梯\n",
    "    (1..STEPS).each{|k|\n",
    "      break if k > j\n",
    "      dp[j - k] += dp[j]\n",
    "    }\n",
    "    dp[j] = 0                # 清除移動起點\n",
    "  }\n",
    "  cnt += dp[0] if i % 2 == 1 # 於偶數次的移動中到達相反的位置\n",
    "}\n",
    "puts cnt\n"
   ]
  },
  {
   "cell_type": "markdown",
   "metadata": {},
   "source": [
    "## Q16_用三條繩子圍出矩形"
   ]
  },
  {
   "cell_type": "code",
   "execution_count": 12,
   "metadata": {
    "collapsed": false
   },
   "outputs": [
    {
     "name": "stdout",
     "output_type": "stream",
     "text": [
      "20\n"
     ]
    }
   ],
   "source": [
    "# %load ch02/q16_01.rb\n",
    "MAX = 500\n",
    "\n",
    "answer = []\n",
    "(1..MAX/4).each{|c|           # 正方形的一邊\n",
    "  edge = (1..(c-1)).to_a.map{|tate| tate * (2 * c - tate)}\n",
    "  edge.combination(2){|a, b|  # 長方形的面積\n",
    "    if a + b == c * c then\n",
    "      answer.push([1, b / a.to_f, c * c / a.to_f])\n",
    "    end\n",
    "  }\n",
    "}\n",
    "answer.uniq!                  # 排除整數倍的長度\n",
    "puts answer.size\n"
   ]
  },
  {
   "cell_type": "code",
   "execution_count": 13,
   "metadata": {
    "collapsed": false
   },
   "outputs": [
    {
     "name": "stderr",
     "output_type": "stream",
     "text": [
      "<main>:1: warning: already initialized constant MAX\n",
      "<main>:1: warning: previous definition of MAX was here\n"
     ]
    },
    {
     "name": "stdout",
     "output_type": "stream",
     "text": [
      "20\n"
     ]
    }
   ],
   "source": [
    "# %load ch02/q16_02.rb\n",
    "MAX = 500\n",
    "\n",
    "cnt = 0\n",
    "(1..MAX/4).each{|c|      # 正方形的一邊\n",
    "  (1..(c-1)).to_a.combination(2){|a, b|\n",
    "    if a * a + b * b == c * c then\n",
    "      cnt += 1 if a.gcd(b) == 1\n",
    "    end\n",
    "  }\n",
    "}\n",
    "puts cnt\n"
   ]
  },
  {
   "cell_type": "markdown",
   "metadata": {},
   "source": [
    "## Q17_挑戰30人31腳"
   ]
  },
  {
   "cell_type": "code",
   "execution_count": 14,
   "metadata": {
    "collapsed": false
   },
   "outputs": [
    {
     "name": "stderr",
     "output_type": "stream",
     "text": [
      "<main>:3: warning: already initialized constant N\n",
      "<main>:1: warning: previous definition of N was here\n"
     ]
    },
    {
     "name": "stdout",
     "output_type": "stream",
     "text": [
      "2178309\n"
     ]
    }
   ],
   "source": [
    "# %load ch02/q17_01.rb\n",
    "# 以文字設定男孩子與女孩子\n",
    "@boy, @girl = \"B\", \"G\"\n",
    "N = 30\n",
    "\n",
    "def add(seq)\n",
    "  # 到達最大排列人數後結束程式\n",
    "  return 1 if seq.size == N\n",
    "\n",
    "  # 若人數未滿30人、則思考是否要追加男孩子、最右端為男孩子時追加女孩子\n",
    "  cnt = add(seq + @boy)\n",
    "  cnt += add(seq + @girl) if seq[-1] == @boy\n",
    "  return cnt\n",
    "end\n",
    "\n",
    "# 從男孩子與女孩子開始計數\n",
    "puts add(@boy) + add(@girl)\n"
   ]
  },
  {
   "cell_type": "code",
   "execution_count": 15,
   "metadata": {
    "collapsed": false
   },
   "outputs": [
    {
     "name": "stderr",
     "output_type": "stream",
     "text": [
      "<main>:1: warning: already initialized constant N\n",
      "<main>:3: warning: previous definition of N was here\n"
     ]
    },
    {
     "name": "stdout",
     "output_type": "stream",
     "text": [
      "2178309\n"
     ]
    }
   ],
   "source": [
    "# %load ch02/q17_02.rb\n",
    "N = 30\n",
    "boy, girl = 1, 0\n",
    "N.times{|i|\n",
    "  # 從n-1人排成一列的狀態計算\n",
    "  boy, girl = boy + girl, boy\n",
    "}\n",
    "puts boy + girl\n"
   ]
  },
  {
   "cell_type": "markdown",
   "metadata": {},
   "source": [
    "## Q18_草莓蛋糕之日"
   ]
  },
  {
   "cell_type": "code",
   "execution_count": 16,
   "metadata": {
    "collapsed": false
   },
   "outputs": [
    {
     "name": "stdout",
     "output_type": "stream",
     "text": [
      "32\n",
      "[1, 8, 28, 21, 4, 32, 17, 19, 30, 6, 3, 13, 12, 24, 25, 11, 5, 31, 18, 7, 29, 20, 16, 9, 27, 22, 14, 2, 23, 26, 10, 15]\n"
     ]
    }
   ],
   "source": [
    "# %load ch02/q18_01.rb\n",
    "def check(n, pre, log, square)\n",
    "  if n == log.size then\n",
    "    # 全部設定完成的情況\n",
    "    if square.include?(1 + pre) then\n",
    "      # 1與前一個數的和為平方數的情況\n",
    "      puts n\n",
    "      p log\n",
    "      return true # 只找到一個就結束程式\n",
    "    end\n",
    "  else\n",
    "    ((1..n).to_a - log).each{|i| # 以未使用的數量進行迴圈\n",
    "      if square.include?(pre + i) then\n",
    "        # 與前一個數的和為平方數的情況\n",
    "        return true if check(n, i, log + [i], square)\n",
    "      end\n",
    "    }\n",
    "  end\n",
    "  false\n",
    "end\n",
    "\n",
    "n = 2\n",
    "while true do\n",
    "  # 事先算出平方數(最大也只是n的2倍)\n",
    "  square = (2..Math.sqrt(n * 2).floor).map{|i| i ** 2}\n",
    "  break if check(n, 1, [1], square)\n",
    "  n += 1\n",
    "end\n"
   ]
  },
  {
   "cell_type": "code",
   "execution_count": 17,
   "metadata": {
    "collapsed": false
   },
   "outputs": [
    {
     "name": "stdout",
     "output_type": "stream",
     "text": [
      "32\n",
      "[8, 28, 21, 4, 32, 17, 19, 30, 6, 3, 13, 12, 24, 25, 11, 5, 31, 18, 7, 29, 20, 16, 9, 27, 22, 14, 2, 23, 26, 10, 15, 1]\n"
     ]
    },
    {
     "data": {
      "text/plain": [
       "[8, 28, 21, 4, 32, 17, 19, 30, 6, 3, 13, 12, 24, 25, 11, 5, 31, 18, 7, 29, 20, 16, 9, 27, 22, 14, 2, 23, 26, 10, 15, 1]"
      ]
     },
     "execution_count": 17,
     "metadata": {},
     "output_type": "execute_result"
    }
   ],
   "source": [
    "# %load ch02/q18_02.rb\n",
    "def check(last_n, used, list)\n",
    "  # 全部使用過後，與開頭的「1」成為平方數就結束程式\n",
    "  return [1] if used.all? && (list[1].include?(last_n))\n",
    "  list[last_n].each{|i|           # 依序嘗試候補的數字\n",
    "    if used[i - 1] == false then  # 尚未使用的情況\n",
    "      used[i - 1] = true\n",
    "      result = check(i, used, list)\n",
    "      # 找到時，該值加1再傳回\n",
    "      return [i] + result if result.size > 0\n",
    "      used[i - 1] = false\n",
    "    end\n",
    "  }\n",
    "  []\n",
    "end\n",
    "\n",
    "n = 2\n",
    "while true do\n",
    "  square = (2..Math.sqrt(n * 2).floor).map{|i| i ** 2}\n",
    "  # 建立可能相鄰的候補數字\n",
    "  list = {}\n",
    "  (1..n).each{|i|\n",
    "    list[i] = square.map{|s| s - i}.select{|s| s > 0}\n",
    "  }\n",
    "  # 設定「1」已使用過，並從「1」開始搜尋\n",
    "  result = check(1, [true] + [false] * (n - 1), list)\n",
    "  break if result.size > 0\n",
    "  n += 1\n",
    "end\n",
    "puts n\n",
    "p result\n"
   ]
  },
  {
   "cell_type": "markdown",
   "metadata": {},
   "source": [
    "## Q19_朋友的朋友也是朋友"
   ]
  },
  {
   "cell_type": "code",
   "execution_count": 18,
   "metadata": {
    "collapsed": false
   },
   "outputs": [
    {
     "name": "stdout",
     "output_type": "stream",
     "text": [
      "55\n",
      "[26, 39, 33, 55, 35, 4, 49]\n"
     ]
    },
    {
     "data": {
      "text/plain": [
       "[26, 39, 33, 55, 35, 4, 49]"
      ]
     },
     "execution_count": 18,
     "metadata": {},
     "output_type": "execute_result"
    }
   ],
   "source": [
    "# %load ch02/q19_01.rb\n",
    "require 'prime'\n",
    "\n",
    "primes = Prime.take(6)        # 可放進a〜f裡的6個質數\n",
    "min = primes[-1] * primes[-1] # 最大不會超過最大數字的平方\n",
    "min_friend = []\n",
    "\n",
    "primes.permutation{|prime|    # 6個質數依序排列\n",
    "  # 從中選兩個數字相乘\n",
    "  friends = prime.each_cons(2).map{|x, y| x * y}\n",
    "  # 開頭與結尾都是相同數字的平方\n",
    "  friends += [prime[0], prime[-1]].map{|x| x * x}\n",
    "  if min > friends.max then   # 最小的數字更新的情況\n",
    "    min = friends.max\n",
    "    min_friend = friends\n",
    "  end\n",
    "}\n",
    "\n",
    "puts min\n",
    "p min_friend\n"
   ]
  },
  {
   "cell_type": "markdown",
   "metadata": {},
   "source": [
    "## Q20_受難立面的魔方陣"
   ]
  },
  {
   "cell_type": "code",
   "execution_count": 19,
   "metadata": {
    "collapsed": false
   },
   "outputs": [
    {
     "name": "stdout",
     "output_type": "stream",
     "text": [
      "[66, 1364]\n"
     ]
    }
   ],
   "source": [
    "# %load ch02/q20_01.rb\n",
    "# 將魔方陣儲存至陣列\n",
    "magic_square = [1, 14, 14, 4, 11, 7, 6, 9,\n",
    "                8, 10, 10, 5, 13, 2, 3, 15]\n",
    "\n",
    "# 統計用的j雜湊(hash)\n",
    "sum = Hash.new(0)\n",
    "1.upto(magic_square.size){|i|\n",
    "  # 搜尋所有組合\n",
    "  magic_square.combination(i){|set|\n",
    "    # 將組合的總和儲存至雜湊\n",
    "    sum[set.inject(:+)] += 1\n",
    "  }\n",
    "}\n",
    "\n",
    "# 輸出總和最大的結果\n",
    "puts sum.max{|x, y| x[1] <=> y[1]}\n"
   ]
  },
  {
   "cell_type": "code",
   "execution_count": 20,
   "metadata": {
    "collapsed": false
   },
   "outputs": [
    {
     "name": "stdout",
     "output_type": "stream",
     "text": [
      "66\n"
     ]
    }
   ],
   "source": [
    "# %load ch02/q20_02.rb\n",
    "# 將魔方陣儲存至陣列\n",
    "magic_square = [1, 14, 14, 4, 11, 7, 6, 9,\n",
    "                8, 10, 10, 5, 13, 2, 3, 15]\n",
    "sum_all = magic_square.inject(:+)\n",
    "\n",
    "# 統計用的j雜湊(hash)\n",
    "sum = Array.new(sum_all + 1){0}\n",
    "# 初始值（什麼都不加的時候為1個個）\n",
    "sum[0] = 1\n",
    "magic_square.each{|n|\n",
    "  # 從大的數字依序計算\n",
    "  (sum_all - n).downto(0).each{|i|\n",
    "    sum[i + n] += sum[i]\n",
    "  }\n",
    "}\n",
    "\n",
    "# 輸出總和最大的結果\n",
    "puts sum.find_index(sum.max)\n"
   ]
  },
  {
   "cell_type": "markdown",
   "metadata": {},
   "source": [
    "## Q21_以排他性邏輯和排列的三角形"
   ]
  },
  {
   "cell_type": "code",
   "execution_count": 21,
   "metadata": {
    "collapsed": false
   },
   "outputs": [
    {
     "name": "stdout",
     "output_type": "stream",
     "text": [
      "75\n"
     ]
    }
   ],
   "source": [
    "# %load ch02/q21_01.rb\n",
    "count = 0     # 「0」出現的次數\n",
    "line = 1      # 目前的行數\n",
    "row = [1]     # 目前的行的值\n",
    "\n",
    "while count < 2014 do\n",
    "  next_row = [1]\n",
    "  # 根據上一行的數字以及排他性邏輯和設定下一行的數字\n",
    "  (row.size - 1).times{|i|\n",
    "    cell = row[i] ^ row[i + 1]\n",
    "    next_row.push(cell)\n",
    "    count += 1 if cell == 0  # 若為「0」就納入計次\n",
    "  }\n",
    "  next_row.push(1)\n",
    "  line += 1                  # 增加行數，繼續下一行的計算\n",
    "  row = next_row\n",
    "end\n",
    "\n",
    "puts line        # 輸出第2014個0的行\n",
    "\n",
    "\n"
   ]
  },
  {
   "cell_type": "code",
   "execution_count": 22,
   "metadata": {
    "collapsed": false
   },
   "outputs": [
    {
     "name": "stdout",
     "output_type": "stream",
     "text": [
      "75\n"
     ]
    }
   ],
   "source": [
    "# %load ch02/q21_02.rb\n",
    "count = 0     # 「0」出現的次數\n",
    "line = 1      # 目前的行數\n",
    "row = 1       # 現在的行的值（位元串）\n",
    "\n",
    "while count < 2014 do\n",
    "  row ^= row << 1     # 根據前一行的排他性邏輯和設定下一行的數字\n",
    "  count += row.to_s(2).count(\"0\")    # 計算「0」的個數\n",
    "  line += 1\n",
    "end\n",
    "\n",
    "puts line        # 輸出第2014個0的行\n"
   ]
  },
  {
   "cell_type": "markdown",
   "metadata": {},
   "source": [
    "## Q22_不會彼此糾纏的紙杯電話"
   ]
  },
  {
   "cell_type": "code",
   "execution_count": 23,
   "metadata": {
    "collapsed": false
   },
   "outputs": [
    {
     "name": "stdout",
     "output_type": "stream",
     "text": [
      "1430\n"
     ]
    }
   ],
   "source": [
    "# %load ch02/q22_01.rb\n",
    "n = 16\n",
    "pair = Array.new(n / 2 + 1)\n",
    "pair[0] = 1\n",
    "\n",
    "1.upto(n/2){|i|\n",
    "  pair[i] = 0\n",
    "  i.times{|j|\n",
    "    pair[i] += pair[j] * pair[i - j - 1]\n",
    "  }\n",
    "}\n",
    "\n",
    "puts pair[n/2]\n"
   ]
  },
  {
   "cell_type": "markdown",
   "metadata": {},
   "source": [
    "## Q23_靠21點賺大錢"
   ]
  },
  {
   "cell_type": "code",
   "execution_count": 24,
   "metadata": {
    "collapsed": false
   },
   "outputs": [
    {
     "name": "stdout",
     "output_type": "stream",
     "text": [
      "16051010\n"
     ]
    }
   ],
   "source": [
    "# %load ch02/q23_01.rb\n",
    "@memo = {}\n",
    "\n",
    "def game(coin, depth)\n",
    "  return @memo[[coin, depth]] if @memo.has_key?([coin, depth])\n",
    "  return 0 if coin == 0\n",
    "  return 1 if depth == 0\n",
    "  win = game(coin + 1, depth - 1)  # 贏的時候\n",
    "  lose = game(coin - 1, depth - 1) # 輸的時候\n",
    "  @memo[[coin, depth]] = win + lose\n",
    "end\n",
    "\n",
    "puts game(10, 24)\n"
   ]
  },
  {
   "cell_type": "markdown",
   "metadata": {},
   "source": [
    "## Q26_完美擊破九宮格遊戲"
   ]
  },
  {
   "cell_type": "code",
   "execution_count": 25,
   "metadata": {
    "collapsed": false
   },
   "outputs": [
    {
     "name": "stdout",
     "output_type": "stream",
     "text": [
      "798000\n"
     ]
    }
   ],
   "source": [
    "# %load ch02/q24_01.rb\n",
    "# 設定可能擊落2塊板子的擊落方式\n",
    "board = [[1, 2], [2, 3], [7, 8], [8, 9],\n",
    "         [1, 4], [3, 6], [4, 7], [6, 9]]\n",
    "# 追加每次擊落1片板子的擊落方式\n",
    "1.upto(9){|i|\n",
    "  board.push([i])\n",
    "}\n",
    "\n",
    "@memo = {[] => 1}\n",
    "def strike(board)\n",
    "  # 若已搜尋完畢則使用該值\n",
    "  return @memo[board] if @memo.has_key?(board)\n",
    "  cnt = 0\n",
    "  board.each{|b|\n",
    "    # 排除已擊落的數字\n",
    "    next_board = board.select{|i| (b & i).size == 0}\n",
    "    cnt += strike(next_board)\n",
    "  }\n",
    "  @memo[board] = cnt\n",
    "end\n",
    "\n",
    "puts strike(board)\n"
   ]
  },
  {
   "cell_type": "markdown",
   "metadata": {},
   "source": [
    "## Q25_時髦的鞋帶綁法"
   ]
  },
  {
   "cell_type": "code",
   "execution_count": 26,
   "metadata": {
    "collapsed": false
   },
   "outputs": [
    {
     "name": "stderr",
     "output_type": "stream",
     "text": [
      "<main>:1: warning: already initialized constant N\n",
      "<main>:1: warning: previous definition of N was here\n"
     ]
    },
    {
     "name": "stdout",
     "output_type": "stream",
     "text": [
      "45\n"
     ]
    }
   ],
   "source": [
    "# %load ch02/q25_01.rb\n",
    "N = 6\n",
    "\n",
    "max_cnt = 0\n",
    "(1..N - 1).to_a.permutation(N - 1){|l|   # 依照左側的編號順序\n",
    "  (1..N - 1).to_a.permutation(N - 1){|r| # 依照左側的編號順序\n",
    "    # 設定路線\n",
    "    path = []\n",
    "    left = 0\n",
    "    right = r[0]\n",
    "    (N - 1).times{|i|\n",
    "      path.push([left, right])\n",
    "      left = l[i]\n",
    "      path.push([left, right])\n",
    "      right = r[i + 1]\n",
    "    }\n",
    "    path.push([left, 0])\n",
    "\n",
    "    # 判斷路線是否交錯\n",
    "    cnt = 0\n",
    "    (N * 2 - 1).times{|i|\n",
    "      (i + 1).upto(N * 2 - 2){|j|\n",
    "        cnt += 1 if (path[i][0] - path[j][0]) *\n",
    "                    (path[i][1] - path[j][1]) < 0\n",
    "      }\n",
    "    }\n",
    "    max_cnt = [max_cnt, cnt].max\n",
    "  }\n",
    "}\n",
    "puts max_cnt\n"
   ]
  },
  {
   "cell_type": "markdown",
   "metadata": {},
   "source": [
    "## Q26_效率極佳的停車場"
   ]
  },
  {
   "cell_type": "code",
   "execution_count": 27,
   "metadata": {
    "collapsed": false
   },
   "outputs": [
    {
     "name": "stdout",
     "output_type": "stream",
     "text": [
      "69\n"
     ]
    }
   ],
   "source": [
    "# %load ch02/q26_01.rb\n",
    "W, H = 10, 10\n",
    "# 設定停車站的停車方式（在周圍設定一個形同警衛的「9」）\n",
    "parking = Array.new(W + 2){Array.new(H + 2){1}}\n",
    "(W + 2).times{|w|\n",
    "  parking[w][0] = parking[w][H + 1] = 9\n",
    "}\n",
    "(H + 2).times{|h|\n",
    "  parking[0][h] = parking[W + 1][h] = 9\n",
    "}\n",
    "\n",
    "# 終點是作為目標對象的車子移動至左上角的狀態\n",
    "@goal = Marshal.load(Marshal.dump(parking))\n",
    "@goal[1][1] = 2\n",
    "\n",
    "# 起點是作為目標對象的車子位於右下角的狀態\n",
    "start = Marshal.load(Marshal.dump(parking))\n",
    "start[W][H] = 2\n",
    "\n",
    "def search(prev, depth)\n",
    "  target = []\n",
    "  prev.each{|parking, w, h|\n",
    "    # 上下左右移動\n",
    "    [[-1, 0], [1, 0], [0, -1], [0, 1]].each{|dw, dh|\n",
    "      nw, nh = w + dw, h + dh\n",
    "      if (parking[nw][nh] != 9) then\n",
    "        # 除了警衛以外，判斷是否調查過\n",
    "        temp = Marshal.load(Marshal.dump(parking))\n",
    "        temp[w][h], temp[nw][nh] = temp[nw][nh], temp[w][h]\n",
    "        if !@log.has_key?([temp, nw, nh]) then\n",
    "          # 未調查過的模式新增至調查目標裡\n",
    "          target.push([temp, nw, nh])\n",
    "          @log[[temp, nw, nh]] = depth + 1\n",
    "        end\n",
    "      end\n",
    "    }\n",
    "  }\n",
    "  return if target.include?([@goal, W, H])\n",
    "  # 以寬度優先搜尋的方式調查\n",
    "  search(target, depth + 1) if target.size > 0\n",
    "end\n",
    "\n",
    "# 記錄搜尋結果\n",
    "@log = {}\n",
    "@log[[start, W, H - 1]] = 0\n",
    "@log[[start, W - 1, H]] = 0\n",
    "# 從起點開始搜尋\n",
    "search([[start, W, H - 1], [start, W - 1, H]], 0)\n",
    "# 輸出到達終點的搜尋次數\n",
    "puts @log[[@goal, W, H]]\n"
   ]
  },
  {
   "cell_type": "code",
   "execution_count": 28,
   "metadata": {
    "collapsed": false
   },
   "outputs": [
    {
     "name": "stderr",
     "output_type": "stream",
     "text": [
      "<main>:1: warning: already initialized constant W\n",
      "<main>:1: warning: previous definition of W was here\n",
      "<main>:1: warning: already initialized constant H\n",
      "<main>:1: warning: previous definition of H was here\n"
     ]
    },
    {
     "name": "stdout",
     "output_type": "stream",
     "text": [
      "69\n"
     ]
    }
   ],
   "source": [
    "# %load ch02/q26_02.rb\n",
    "W, H = 10, 10\n",
    "parking = [9] * (W + 1) + ([1] * W + [9]) * H + [9] * (W + 1)\n",
    "\n",
    "@goal = parking.clone\n",
    "@goal[W + 1] = 2\n",
    "start = parking.clone\n",
    "start[- W - 3] = 2\n",
    "\n",
    "def search(prev, depth)\n",
    "  target = []\n",
    "  prev.each{|parking, pos|\n",
    "    [-1, 1, W + 1, - W - 1].each{|d|\n",
    "      dd = pos + d\n",
    "      if (parking[dd] != 9) then\n",
    "        temp = parking.clone\n",
    "        temp[dd], temp[pos] = temp[pos], temp[dd]\n",
    "        if !@log.has_key?([temp, dd]) then\n",
    "          target.push([temp, dd])\n",
    "          @log[[temp,dd]] = depth + 1\n",
    "        end\n",
    "      end\n",
    "    }\n",
    "  }\n",
    "  return if target.include?([@goal, (W + 1) * (H + 1) - 2])\n",
    "  search(target, depth + 1) if target.size > 0\n",
    "end\n",
    "\n",
    "@log = {}\n",
    "@log[[start, (W + 1) * H - 2]] = 0\n",
    "@log[[start, (W + 1) * (H + 1) - 3]] = 0\n",
    "\n",
    "search([[start, (W+1) * H - 2], [start, (W+1) * (H+1) - 3]], 0)\n",
    "puts @log[[@goal, (W + 1) * (H + 1) - 2]]\n"
   ]
  },
  {
   "cell_type": "markdown",
   "metadata": {},
   "source": [
    "## Q27_禁止右轉也沒關係嗎"
   ]
  },
  {
   "cell_type": "code",
   "execution_count": 29,
   "metadata": {
    "collapsed": false
   },
   "outputs": [
    {
     "name": "stderr",
     "output_type": "stream",
     "text": [
      "<main>:1: warning: already initialized constant W\n",
      "<main>:1: warning: previous definition of W was here\n",
      "<main>:1: warning: already initialized constant H\n",
      "<main>:1: warning: previous definition of H was here\n"
     ]
    },
    {
     "name": "stdout",
     "output_type": "stream",
     "text": [
      "2760\n"
     ]
    }
   ],
   "source": [
    "# %load ch02/q27_01.rb\n",
    "W, H = 6, 4\n",
    "DIR = [[0, 1], [-1, 0], [0, -1], [1, 0]] # 移動方向\n",
    "left = [0] * H   # 以位元單位儲存垂直線是否走過的資料\n",
    "bottom = [0] * W # 以位元單位儲存水平線是否走過的資料\n",
    "\n",
    "def search(x, y, dir, left, bottom)\n",
    "  left_l = left.clone\n",
    "  bottom_l = bottom.clone\n",
    "  # 超出邊界或已經走過的路線就不繼續前進\n",
    "  if (dir == 0) || (dir == 2) then # 上下移動的情況\n",
    "    pos = [y, y + DIR[dir][1]].min\n",
    "    return 0 if (pos < 0) || (y + DIR[dir][1] > H)\n",
    "    return 0 if left_l[pos] & (1 << x) > 0\n",
    "    left_l[pos] |= (1 << x)        # 將垂直線設定為走過的路線\n",
    "  else                             # 左右移動的情況\n",
    "    pos = [x, x + DIR[dir][0]].min\n",
    "    return 0 if (pos < 0) || (x + DIR[dir][0] > W)\n",
    "    return 0 if bottom_l[pos] & (1 << y) > 0\n",
    "    bottom_l[pos] |= (1 << y)      # 將水平線設定為走過的路線\n",
    "  end\n",
    "  next_x, next_y = x + DIR[dir][0], y + DIR[dir][1]\n",
    "  return 1 if (next_x == W) && (next_y == H)  # 到達B之後結束搜尋\n",
    "\n",
    "  cnt = 0\n",
    "  # 前進\n",
    "  cnt += search(next_x, next_y, dir, left_l, bottom_l)\n",
    "  # 左轉\n",
    "  dir = (dir + 1) % DIR.size\n",
    "  cnt += search(next_x, next_y, dir, left_l, bottom_l)\n",
    "  cnt\n",
    "end\n",
    "\n",
    "puts search(0, 0, 3, left, bottom) # 從起點往右移動開始\n"
   ]
  },
  {
   "cell_type": "markdown",
   "metadata": {},
   "source": [
    "## Q28_社團活動的最佳分配"
   ]
  },
  {
   "cell_type": "code",
   "execution_count": 30,
   "metadata": {
    "collapsed": false
   },
   "outputs": [
    {
     "name": "stderr",
     "output_type": "stream",
     "text": [
      "<main>:3: warning: already initialized constant N\n",
      "<main>:1: warning: previous definition of N was here\n"
     ]
    },
    {
     "name": "stdout",
     "output_type": "stream",
     "text": [
      "28800\n"
     ]
    }
   ],
   "source": [
    "# %load ch02/q28_01.rb\n",
    "club = [[11000, 40], [8000, 30], [400, 24], [800, 20], [900, 14],\n",
    "        [1800, 16], [1000, 15], [7000,40], [100, 10], [300, 12]]\n",
    "N = 150\n",
    "\n",
    "max = 0\n",
    "# 依序試著增加選擇的社團數量\n",
    "1.upto(club.size){|i|\n",
    "  club.combination(i){|ary|\n",
    "    # 選取的社團與成員數的總和滿足條件時\n",
    "    if ary.map{|i| i[1]}.inject(:+) <= N then\n",
    "      max = [ary.map{|i| i[0]}.inject(:+), max].max\n",
    "    end\n",
    "  }\n",
    "}\n",
    "\n",
    "puts max\n"
   ]
  },
  {
   "cell_type": "code",
   "execution_count": 31,
   "metadata": {
    "collapsed": false
   },
   "outputs": [
    {
     "name": "stderr",
     "output_type": "stream",
     "text": [
      "<main>:3: warning: already initialized constant N\n",
      "<main>:3: warning: previous definition of N was here\n"
     ]
    },
    {
     "name": "stdout",
     "output_type": "stream",
     "text": [
      "28800\n"
     ]
    }
   ],
   "source": [
    "# %load ch02/q28_02.rb\n",
    "club = [[11000, 40], [8000, 30], [400, 24], [800, 20], [900, 14],\n",
    "        [1800, 16], [1000, 15], [7000,40], [100, 10], [300, 12]]\n",
    "N = 150\n",
    "\n",
    "area = Array.new(club.size + 1){Array.new(N + 1){0}}\n",
    "(club.size - 1).downto(0){|i|\n",
    "  (N + 1).times{|j|\n",
    "    if j < club[i][1] then\n",
    "      area[i][j] = area[i + 1][j]\n",
    "    else\n",
    "      area[i][j] = [area[i + 1][j],\n",
    "                    area[i + 1][j - club[i][1]] + club[i][0]].max\n",
    "    end\n",
    "  }\n",
    "}\n",
    "puts area[0][N]\n"
   ]
  },
  {
   "cell_type": "code",
   "execution_count": 32,
   "metadata": {
    "collapsed": false
   },
   "outputs": [
    {
     "name": "stdout",
     "output_type": "stream",
     "text": [
      "28800\n"
     ]
    }
   ],
   "source": [
    "# %load ch02/q28_03.rb\n",
    "club = [[11000, 40], [8000, 30], [400, 24], [800, 20], [900, 14],\n",
    "        [1800, 16], [1000, 15], [7000,40], [100, 10], [300, 12]]\n",
    "\n",
    "@memo = {}\n",
    "def search(club, remain)\n",
    "  return @memo[[club, remain]] if @memo.has_key?([club, remain])\n",
    "  max = 0\n",
    "  club.each{|c|\n",
    "    # 新增社團之後，還有剩餘的成員數的情況\n",
    "    if remain - c[1] >= 0 then\n",
    "      max = [c[0] + search(club - [c], remain - c[1]), max].max\n",
    "    end\n",
    "  }\n",
    "  @memo[[club, remain]] = max\n",
    "end\n",
    "\n",
    "puts search(club, 150)\n"
   ]
  },
  {
   "cell_type": "markdown",
   "metadata": {},
   "source": [
    "## Q29_以合成電阻打造的黃金比例"
   ]
  },
  {
   "cell_type": "code",
   "execution_count": 33,
   "metadata": {
    "collapsed": false
   },
   "outputs": [
    {
     "name": "stdout",
     "output_type": "stream",
     "text": [
      "1.6181818182\n",
      "89/55\n"
     ]
    }
   ],
   "source": [
    "# %load ch02/q29_01.rb\n",
    "# 計算陣列的直積\n",
    "def product(ary)\n",
    "  result = ary[0]\n",
    "  1.upto(ary.size - 1){|i|\n",
    "    result = result.product(ary[i])\n",
    "  }\n",
    "  result.map{|r| r.flatten}\n",
    "end\n",
    "\n",
    "# 算出並聯的電阻值\n",
    "def parallel(ary)\n",
    "  #1.0 / ary.map{|i| 1.0 / i}.inject(:+)\n",
    "  Rational(1, ary.map{|i| Rational(1, i)}.inject(:+))\n",
    "end\n",
    "\n",
    "@memo = {1 => [1]}\n",
    "def calc(n)\n",
    "  return @memo[n] if @memo.has_key?(n)\n",
    "  # 串聯\n",
    "  result = calc(n - 1).map{|i| i + 1}\n",
    "  # 並聯\n",
    "  2.upto(n){|i|\n",
    "    # 設定並聯時的分組個數\n",
    "    cut = {}\n",
    "    (1..(n - 1)).to_a.combination(i - 1){|ary|\n",
    "      pos = 0\n",
    "      r = []\n",
    "      ary.size.times{|j|\n",
    "        r.push(ary[j] - pos)\n",
    "        pos = ary[j]\n",
    "      }\n",
    "      r.push(n - pos)\n",
    "      cut[r.sort] = 1\n",
    "    }\n",
    "    # 以遞廽的方式在分組的位置設定電阻\n",
    "    keys = cut.keys.map{|c|\n",
    "      c.map{|e| calc(e)}\n",
    "    }\n",
    "    # 計算電阻值\n",
    "    keys.map{|k| product(k)}.each{|k|\n",
    "      k.each{|vv| result.push(parallel(vv))}\n",
    "    }\n",
    "  }\n",
    "  @memo[n] = result\n",
    "end\n",
    "\n",
    "golden_ratio = 1.61800339887\n",
    "min = Float::INFINITY\n",
    "calc(10).each{|i|\n",
    "  min = i if (golden_ratio - i).abs < (golden_ratio - min).abs\n",
    "}\n",
    "puts sprintf(\"%.10f\", min)\n",
    "puts min\n"
   ]
  },
  {
   "cell_type": "markdown",
   "metadata": {},
   "source": [
    "## Q30_利用轉接插座打造的章魚腳配線"
   ]
  },
  {
   "cell_type": "code",
   "execution_count": 34,
   "metadata": {
    "collapsed": false
   },
   "outputs": [
    {
     "name": "stderr",
     "output_type": "stream",
     "text": [
      "<main>:1: warning: already initialized constant N\n",
      "<main>:3: warning: previous definition of N was here\n"
     ]
    },
    {
     "name": "stdout",
     "output_type": "stream",
     "text": [
      "63877262\n"
     ]
    }
   ],
   "source": [
    "# %load ch02/q30_01.rb\n",
    "N = 20\n",
    "\n",
    "def set_tap(remain)\n",
    "  return 1 if remain == 1\n",
    "  cnt = 0\n",
    "  # 2孔\n",
    "  (1..(remain / 2)).each{|i|\n",
    "    if remain - i == i then\n",
    "      cnt += set_tap(i) * (set_tap(i) + 1) / 2\n",
    "    else\n",
    "      cnt += set_tap(remain - i) * set_tap(i)\n",
    "    end\n",
    "  }\n",
    "  # 3孔\n",
    "  (1..(remain / 3)).each{|i|\n",
    "    (i..((remain - i) / 2)).each{|j|\n",
    "      if (remain - (i + j) == i) && (i == j) then\n",
    "        cnt += set_tap(i) * (set_tap(i) + 1) * (set_tap(i) + 2) / 6\n",
    "      elsif remain - (i + j) == i then\n",
    "        cnt += set_tap(i) * (set_tap(i) + 1) * set_tap(j) / 2\n",
    "      elsif i == j then\n",
    "        cnt += set_tap(remain - (i+j)) * set_tap(i) * (set_tap(i)+1) / 2\n",
    "      elsif remain - (i + j) == j then\n",
    "        cnt += set_tap(j) * (set_tap(j) + 1) * set_tap(i) / 2\n",
    "      else\n",
    "        cnt += set_tap(remain - (i + j)) * set_tap(j) * set_tap(i)\n",
    "      end\n",
    "    }\n",
    "  }\n",
    "  cnt\n",
    "end\n",
    "\n",
    "puts set_tap(N)\n"
   ]
  },
  {
   "cell_type": "code",
   "execution_count": null,
   "metadata": {
    "collapsed": true
   },
   "outputs": [],
   "source": [
    "# %load ch02/q30_02.rb\n",
    "N = 20\n",
    "\n",
    "@memo = {1 => 1}\n",
    "def set_tap(remain)\n",
    "  return @memo[remain] if @memo.has_key?(remain)\n",
    "  cnt = 0\n",
    "  # 2孔\n",
    "  (1..(remain / 2)).each{|i|\n",
    "    if remain - i == i then\n",
    "      cnt += set_tap(i) * (set_tap(i) + 1) / 2\n",
    "    else\n",
    "      cnt += set_tap(remain - i) * set_tap(i)\n",
    "    end\n",
    "  }\n",
    "  # 3孔\n",
    "  (1..(remain / 3)).each{|i|\n",
    "    (i..((remain - i) / 2)).each{|j|\n",
    "      if (remain - (i + j) == i) && (i == j) then\n",
    "        cnt += set_tap(i) * (set_tap(i) + 1) * (set_tap(i) + 2) / 6\n",
    "      elsif remain - (i + j) == i then\n",
    "        cnt += set_tap(i) * (set_tap(i) + 1) * set_tap(j) / 2\n",
    "      elsif i == j  then\n",
    "        cnt += set_tap(remain - (i+j)) * set_tap(i) * (set_tap(i)+1) / 2\n",
    "      elsif remain - (i + j) == j then\n",
    "        cnt += set_tap(j) * (set_tap(j) + 1) * set_tap(i) / 2\n",
    "      else\n",
    "        cnt += set_tap(remain - (i + j)) * set_tap(j) * set_tap(i)\n",
    "      end\n",
    "    }\n",
    "  }\n",
    "  @memo[remain] = cnt\n",
    "end\n",
    "\n",
    "puts set_tap(N)\n"
   ]
  },
  {
   "cell_type": "markdown",
   "metadata": {
    "collapsed": true
   },
   "source": [
    "```js\n",
    "// %load ch02/q30_03.js\n",
    "const N = 20;\n",
    "var memo = [];\n",
    "memo[1] = 1;\n",
    "\n",
    "function set_tap(remain){\n",
    "  if (memo[remain]){\n",
    "    return memo[remain];\n",
    "  }\n",
    "  var cnt = 0;\n",
    "  /* 2孔 */\n",
    "  for (var i = 1; i <= remain / 2; i++){\n",
    "    if (remain - i == i)\n",
    "      cnt += set_tap(i) * (set_tap(i) + 1) / 2;\n",
    "    else\n",
    "      cnt += set_tap(remain - i) * set_tap(i);\n",
    "  }\n",
    "  /* 3孔 */\n",
    "  for (var i = 1; i <= remain / 3; i++){\n",
    "    for (var j = i; j <= (remain - i) / 2; j++){\n",
    "      if ((remain - (i + j) == i) && (i == j))\n",
    "        cnt += set_tap(i) * (set_tap(i) + 1) * (set_tap(i) + 2) / 6;\n",
    "      else if (remain - (i + j) == i)\n",
    "        cnt += set_tap(i) * (set_tap(i) + 1) * set_tap(j) / 2;\n",
    "      else if (i == j)\n",
    "        cnt += set_tap(remain - (i+j)) * set_tap(i) * (set_tap(i)+1) / 2;\n",
    "      else if (remain - (i + j) == j)\n",
    "        cnt += set_tap(j) * (set_tap(j) + 1) * set_tap(i) / 2;\n",
    "      else\n",
    "        cnt += set_tap(remain - (i + j)) * set_tap(j) * set_tap(i);\n",
    "    }\n",
    "  }\n",
    "  memo[remain] = cnt;\n",
    "  return cnt;\n",
    "}\n",
    "\n",
    "console.log(set_tap(N));\n",
    "```"
   ]
  },
  {
   "cell_type": "code",
   "execution_count": null,
   "metadata": {
    "collapsed": true
   },
   "outputs": [],
   "source": []
  }
 ],
 "metadata": {
  "kernelspec": {
   "display_name": "Ruby 2.3.3",
   "language": "ruby",
   "name": "ruby"
  },
  "language_info": {
   "file_extension": ".rb",
   "mimetype": "application/x-ruby",
   "name": "ruby",
   "version": "2.3.3"
  }
 },
 "nbformat": 4,
 "nbformat_minor": 1
}
