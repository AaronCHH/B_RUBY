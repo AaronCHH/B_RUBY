{
 "cells": [
  {
   "cell_type": "markdown",
   "metadata": {},
   "source": [
    "# Chapter 11: Advanced Ruby Features"
   ]
  },
  {
   "cell_type": "markdown",
   "metadata": {},
   "source": [
    "<div id=\"toc\"></div>"
   ]
  },
  {
   "cell_type": "markdown",
   "metadata": {},
   "source": [
    "## 11.1 Dynamic Code Execution"
   ]
  },
  {
   "cell_type": "code",
   "execution_count": 1,
   "metadata": {
    "collapsed": false
   },
   "outputs": [
    {
     "name": "stdout",
     "output_type": "stream",
     "text": [
      "4\n"
     ]
    }
   ],
   "source": [
    "eval \"puts 2 + 2\""
   ]
  },
  {
   "cell_type": "code",
   "execution_count": 2,
   "metadata": {
    "collapsed": false
   },
   "outputs": [
    {
     "name": "stdout",
     "output_type": "stream",
     "text": [
      "4\n"
     ]
    }
   ],
   "source": [
    "puts eval(\"2 + 2\")"
   ]
  },
  {
   "cell_type": "code",
   "execution_count": 3,
   "metadata": {
    "collapsed": false
   },
   "outputs": [
    {
     "name": "stdout",
     "output_type": "stream",
     "text": [
      "30\n"
     ]
    }
   ],
   "source": [
    "my_number = 15\n",
    "my_code = %{#{my_number} * 2}\n",
    "puts eval(my_code)"
   ]
  },
  {
   "cell_type": "markdown",
   "metadata": {},
   "source": [
    "### 11.1.1 Bindings"
   ]
  },
  {
   "cell_type": "code",
   "execution_count": 4,
   "metadata": {
    "collapsed": false
   },
   "outputs": [
    {
     "name": "stdout",
     "output_type": "stream",
     "text": [
      "10\n",
      "20\n"
     ]
    }
   ],
   "source": [
    "def binding_elsewhere\n",
    "  x = 20\n",
    "  return binding\n",
    "end\n",
    "\n",
    "remote_binding = binding_elsewhere\n",
    "\n",
    "x = 10\n",
    "eval(\"puts x\")\n",
    "eval(\"puts x\", remote_binding)"
   ]
  },
  {
   "cell_type": "code",
   "execution_count": 5,
   "metadata": {
    "collapsed": false
   },
   "outputs": [
    {
     "name": "stdout",
     "output_type": "stream",
     "text": [
      "10\n",
      "50\n"
     ]
    }
   ],
   "source": [
    "eval(\"x = 10\")\n",
    "eval(\"x = 50\", remote_binding)\n",
    "eval(\"puts x\")\n",
    "eval(\"puts x\", remote_binding)"
   ]
  },
  {
   "cell_type": "markdown",
   "metadata": {},
   "source": [
    "### 11.1.2 Other Forms of eval"
   ]
  },
  {
   "cell_type": "code",
   "execution_count": 6,
   "metadata": {
    "collapsed": false
   },
   "outputs": [
    {
     "name": "stdout",
     "output_type": "stream",
     "text": [
      "Peter Cooper is male\n"
     ]
    }
   ],
   "source": [
    "class Person\n",
    "end\n",
    "\n",
    "def add_accessor_to_person(accessor_name)\n",
    "  Person.class_eval %{\n",
    "    attr_accessor :#{accessor_name}\n",
    "  }\n",
    "end\n",
    "\n",
    "person = Person.new\n",
    "add_accessor_to_person :name\n",
    "add_accessor_to_person :gender\n",
    "person.name = \"Peter Cooper\"\n",
    "person.gender = \"male\"\n",
    "puts \"#{person.name} is #{person.gender}\"\n"
   ]
  },
  {
   "cell_type": "code",
   "execution_count": null,
   "metadata": {
    "collapsed": true
   },
   "outputs": [],
   "source": [
    "Person.class_eval %{\n",
    "  attr_accessor :#{accessor_name}\n",
    "}"
   ]
  },
  {
   "cell_type": "code",
   "execution_count": null,
   "metadata": {
    "collapsed": true
   },
   "outputs": [],
   "source": [
    "class Class\n",
    "  def add_accessor(accessor_name)\n",
    "    self.class_eval %{\n",
    "      attr_accessor :#{accessor_name}\n",
    "    }\n",
    "  end\n",
    "end\n",
    "\n",
    "class Person\n",
    "end\n",
    "\n",
    "person = Person.new\n",
    "Person.add_accessor :name\n",
    "Person.add_accessor :gender\n",
    "person.name = \"Peter Cooper\"\n",
    "person.gender = \"male\"\n",
    "puts \"#{person.name} is #{person.gender}\""
   ]
  },
  {
   "cell_type": "code",
   "execution_count": null,
   "metadata": {
    "collapsed": true
   },
   "outputs": [],
   "source": [
    "class SomethingElse\n",
    "  add_accessor :whatever\n",
    "end"
   ]
  },
  {
   "cell_type": "code",
   "execution_count": null,
   "metadata": {
    "collapsed": true
   },
   "outputs": [],
   "source": [
    "class MyClass\n",
    "  def initialize\n",
    "    @my_variable = 'Hello, world!'\n",
    "  end\n",
    "end\n",
    "\n",
    "obj = MyClass.new\n",
    "obj.instance_eval { puts @my_variable }"
   ]
  },
  {
   "cell_type": "markdown",
   "metadata": {},
   "source": [
    "### 11.1.3 Creating Your Own Version of attr_accessor"
   ]
  },
  {
   "cell_type": "code",
   "execution_count": 7,
   "metadata": {
    "collapsed": false
   },
   "outputs": [
    {
     "data": {
      "text/plain": [
       ":name="
      ]
     },
     "execution_count": 7,
     "metadata": {},
     "output_type": "execute_result"
    }
   ],
   "source": [
    "class Person\n",
    "  def name\n",
    "    @name\n",
    "  end\n",
    "\n",
    "  def name=(name)\n",
    "    @name = name\n",
    "  end\n",
    "end"
   ]
  },
  {
   "cell_type": "code",
   "execution_count": 8,
   "metadata": {
    "collapsed": true
   },
   "outputs": [],
   "source": [
    "class Person\n",
    "  attr_accessor :name\n",
    "end"
   ]
  },
  {
   "cell_type": "code",
   "execution_count": 9,
   "metadata": {
    "collapsed": false
   },
   "outputs": [
    {
     "data": {
      "text/plain": [
       ":add_accessor"
      ]
     },
     "execution_count": 9,
     "metadata": {},
     "output_type": "execute_result"
    }
   ],
   "source": [
    "class Class\n",
    "  def add_accessor(accessor_name)\n",
    "    self.class_eval %{\n",
    "      def #{accessor_name}\n",
    "        @#{accessor_name}\n",
    "      end\n",
    "\n",
    "      def #{accessor_name}=(value)\n",
    "        @#{accessor_name} = value\n",
    "      end\n",
    "    }\n",
    "  end\n",
    "end"
   ]
  },
  {
   "cell_type": "code",
   "execution_count": 10,
   "metadata": {
    "collapsed": false
   },
   "outputs": [
    {
     "data": {
      "text/plain": [
       ":name="
      ]
     },
     "execution_count": 10,
     "metadata": {},
     "output_type": "execute_result"
    }
   ],
   "source": [
    "def name\n",
    "  @name\n",
    "end\n",
    "\n",
    "def name=(value)\n",
    "  @name = value\n",
    "end"
   ]
  },
  {
   "cell_type": "markdown",
   "metadata": {},
   "source": [
    "## 11.2 Running Other Programs from Ruby"
   ]
  },
  {
   "cell_type": "markdown",
   "metadata": {},
   "source": [
    "### 11.2.1 Getting Results from Other Programs"
   ]
  },
  {
   "cell_type": "code",
   "execution_count": 11,
   "metadata": {
    "collapsed": false
   },
   "outputs": [
    {
     "data": {
      "text/plain": [
       "\"The current date is: 04/20/2017 Thu \\nEnter the new date: (mm-dd-yy) \""
      ]
     },
     "execution_count": 11,
     "metadata": {},
     "output_type": "execute_result"
    }
   ],
   "source": [
    "x = system(\"date\")\n",
    "x = `date`"
   ]
  },
  {
   "cell_type": "markdown",
   "metadata": {},
   "source": [
    "### 11.2.2 Transferring Execution to Another Program"
   ]
  },
  {
   "cell_type": "code",
   "execution_count": null,
   "metadata": {
    "collapsed": true
   },
   "outputs": [],
   "source": [
    "exec \"ruby another_script.rb\"\n",
    "puts \"This will never be displayed\""
   ]
  },
  {
   "cell_type": "markdown",
   "metadata": {},
   "source": [
    "### 11.2.3 Running Two Programs at the Same Time"
   ]
  },
  {
   "cell_type": "code",
   "execution_count": null,
   "metadata": {
    "collapsed": true
   },
   "outputs": [],
   "source": [
    "if fork.nil?\n",
    "  exec \"ruby some_other_file.rb\"\n",
    "end\n",
    "\n",
    "puts \"This Ruby script now runs alongside some_other_file.rb\""
   ]
  },
  {
   "cell_type": "code",
   "execution_count": null,
   "metadata": {
    "collapsed": true
   },
   "outputs": [],
   "source": [
    "child = fork do\n",
    "  sleep 3\n",
    "  puts \"Child says 'hi'!\"\n",
    "end\n",
    "\n",
    "puts \"Waiting for the child process...\"\n",
    "Process.wait child\n",
    "puts \"All done!\""
   ]
  },
  {
   "cell_type": "markdown",
   "metadata": {},
   "source": [
    "### 11.2.4 Interacting with Another Program"
   ]
  },
  {
   "cell_type": "code",
   "execution_count": null,
   "metadata": {
    "collapsed": true
   },
   "outputs": [],
   "source": [
    "ls = IO.popen(\"ls\", \"r\")\n",
    "while line = ls.gets\n",
    "  puts line\n",
    "end\n",
    "ls.close"
   ]
  },
  {
   "cell_type": "code",
   "execution_count": null,
   "metadata": {
    "collapsed": true
   },
   "outputs": [],
   "source": [
    "handle = IO.popen(\"other_program\", \"r+\")\n",
    "handle.puts \"send input to other program\"\n",
    "handle.close_write\n",
    "while line = handle.gets\n",
    "  puts line\n",
    "end"
   ]
  },
  {
   "cell_type": "markdown",
   "metadata": {},
   "source": [
    "## 11.3 Safely Handling Data and Dangerous Methods"
   ]
  },
  {
   "cell_type": "markdown",
   "metadata": {},
   "source": [
    "### 11.3.1 Tainted Data and Objects"
   ]
  },
  {
   "cell_type": "code",
   "execution_count": null,
   "metadata": {
    "collapsed": true
   },
   "outputs": [],
   "source": [
    "while x = gets\n",
    "  puts \"=> #{eval(x)}\"\n",
    "end"
   ]
  },
  {
   "cell_type": "code",
   "execution_count": null,
   "metadata": {
    "collapsed": true
   },
   "outputs": [],
   "source": [
    "x = \"Hello, world!\"\n",
    "puts x.tainted?\n",
    "\n",
    "y = [x, x, x]\n",
    "puts y.tainted?\n",
    "\n",
    "z = 20 + 50\n",
    "puts z.tainted?\n",
    "\n",
    "a = File.open(\"somefile\").readlines.first\n",
    "puts a.tainted?\n",
    "\n",
    "b = [a]\n",
    "puts b.tainted?"
   ]
  },
  {
   "cell_type": "code",
   "execution_count": null,
   "metadata": {
    "collapsed": true
   },
   "outputs": [],
   "source": [
    "while x = gets\n",
    "  next if x.tainted?\n",
    "  puts \"=> #{eval(x)}\"\n",
    "end"
   ]
  },
  {
   "cell_type": "code",
   "execution_count": null,
   "metadata": {
    "collapsed": true
   },
   "outputs": [],
   "source": [
    "def code_is_safe?(code)\n",
    "  code =~ /[`;*-]/ ? false : true\n",
    "end\n",
    "\n",
    "while x = gets\n",
    "  x.untaint if code_is_safe?(x)\n",
    "  next if x.tainted?\n",
    "  puts \"=> #{eval(x)}\"\n",
    "end"
   ]
  },
  {
   "cell_type": "markdown",
   "metadata": {},
   "source": [
    "### 11.3.2 Safe Levels"
   ]
  },
  {
   "cell_type": "markdown",
   "metadata": {},
   "source": [
    "## 11.4 Working with Microsoft Windows"
   ]
  },
  {
   "cell_type": "markdown",
   "metadata": {},
   "source": [
    "### 11.4.1 Using the Windows API"
   ]
  },
  {
   "cell_type": "code",
   "execution_count": 1,
   "metadata": {
    "collapsed": false
   },
   "outputs": [
    {
     "data": {
      "text/plain": [
       "1"
      ]
     },
     "execution_count": 1,
     "metadata": {},
     "output_type": "execute_result"
    }
   ],
   "source": [
    "require 'Win32API'\n",
    "\n",
    "title = \"My Application\"\n",
    "text = \"Hello, world!\"\n",
    "\n",
    "Win32API.new('user32', 'MessageBox', %w{L P P L}, 'I').call(0, text, title, 0)\n"
   ]
  },
  {
   "cell_type": "code",
   "execution_count": 2,
   "metadata": {
    "collapsed": false
   },
   "outputs": [
    {
     "name": "stdout",
     "output_type": "stream",
     "text": [
      "Clicked OK\n"
     ]
    }
   ],
   "source": [
    "require 'Win32API'\n",
    "\n",
    "title = \"My Application\"\n",
    "text = \"Hello, world!\"\n",
    "\n",
    "dialog = Win32API.new('user32', 'MessageBox', 'LPPL', 'I')\n",
    "result = dialog.call(0, text, title, 1)\n",
    "\n",
    "case result\n",
    "  when 1\n",
    "    puts \"Clicked OK\"\n",
    "  when 2\n",
    "    puts \"Clicked Cancel\"\n",
    "  else\n",
    "    puts \"Clicked something else!\"\n",
    "end"
   ]
  },
  {
   "cell_type": "markdown",
   "metadata": {},
   "source": [
    "### 11.4.2 Controlling Windows Programs"
   ]
  },
  {
   "cell_type": "code",
   "execution_count": 3,
   "metadata": {
    "collapsed": true
   },
   "outputs": [],
   "source": [
    "require 'win32ole'\n",
    "\n",
    "web_browser = WIN32OLE.new('InternetExplorer.Application')\n",
    "web_browser.visible = true\n",
    "web_browser.navigate('http://www.rubyinside.com/')"
   ]
  },
  {
   "cell_type": "code",
   "execution_count": null,
   "metadata": {
    "collapsed": false
   },
   "outputs": [],
   "source": [
    "require 'win32ole'\n",
    "\n",
    "web_browser = WIN32OLE.new('InternetExplorer.Application')\n",
    "web_browser.visible = true\n",
    "web_browser.navigate('http://www.rubyinside.com/')\n",
    "\n",
    "while web_browser.ReadyState != 4\n",
    "  sleep 1\n",
    "end\n",
    "\n",
    "puts \"Page is loaded\""
   ]
  },
  {
   "cell_type": "code",
   "execution_count": null,
   "metadata": {
    "collapsed": false
   },
   "outputs": [],
   "source": [
    "puts web_browser.document.getElementById('header').innerHtml.length"
   ]
  },
  {
   "cell_type": "markdown",
   "metadata": {},
   "source": [
    "*  Note Many Windows applications implement OLE Automation and can be remotely controlled and used from Ruby in this manner, but it’s beyond the scope of this book to provide an advanced guide to Windows development.  \n",
    "The Win32Utils project provides further Windows-related Ruby libraries at http://rubyforge.org/projects/win32utils/.  \n"
   ]
  },
  {
   "cell_type": "markdown",
   "metadata": {},
   "source": [
    "## 11.5 Threads"
   ]
  },
  {
   "cell_type": "markdown",
   "metadata": {},
   "source": [
    "### 11.5.1 Basic Ruby Threads in Action"
   ]
  },
  {
   "cell_type": "code",
   "execution_count": null,
   "metadata": {
    "collapsed": false
   },
   "outputs": [
    {
     "name": "stdout",
     "output_type": "stream",
     "text": [
      "00000023333387478667768989977788899899"
     ]
    },
    {
     "data": {
      "text/plain": [
       "[#<Thread:0x00000002ee1978@<main>:3 dead>, #<Thread:0x00000002ee1860@<main>:3 dead>, #<Thread:0x00000002ee1720@<main>:3 dead>, #<Thread:0x00000002ee1608@<main>:3 dead>, #<Thread:0x00000002ee14f0@<main>:3 dead>, #<Thread:0x00000002ee13d8@<main>:3 dead>, #<Thread:0x00000002ee12c0@<main>:3 dead>, #<Thread:0x00000002ee11a8@<main>:3 dead>, #<Thread:0x00000002ee1090@<main>:3 dead>, #<Thread:0x00000002ee0f78@<main>:3 dead>]"
      ]
     },
     "execution_count": 7,
     "metadata": {},
     "output_type": "execute_result"
    }
   ],
   "source": [
    "threads = []\n",
    "\n",
    "10.times do\n",
    "  thread = Thread.new do\n",
    "    10.times { |i| print i; $stdout.flush; sleep rand(2) }\n",
    "  end\n",
    "\n",
    "  threads << thread\n",
    "end\n",
    "\n",
    "threads.each { |thread| thread.join }"
   ]
  },
  {
   "cell_type": "markdown",
   "metadata": {},
   "source": [
    "### 11.5.2 Advanced Thread Operations"
   ]
  },
  {
   "cell_type": "markdown",
   "metadata": {},
   "source": [
    "* __Waiting for Threads to Finish Redux__"
   ]
  },
  {
   "cell_type": "code",
   "execution_count": null,
   "metadata": {
    "collapsed": true
   },
   "outputs": [],
   "source": [
    "threads.each do |thread|\n",
    "  puts \"Thread #{thread.object_id} didn't finish in 1s\" unless thread.join(1)\n",
    "end"
   ]
  },
  {
   "cell_type": "markdown",
   "metadata": {},
   "source": [
    "* __Getting a List of All Threads__"
   ]
  },
  {
   "cell_type": "code",
   "execution_count": null,
   "metadata": {
    "collapsed": false
   },
   "outputs": [],
   "source": [
    "10.times { Thread.new { 10.times { |i| print i; $stdout.flush; sleep rand(2) } } } Thread.list.each { |thread| thread.join unless thread == Thread.main }"
   ]
  },
  {
   "cell_type": "markdown",
   "metadata": {},
   "source": [
    "* __Thread Operations from Within Threads Themselves__"
   ]
  },
  {
   "cell_type": "code",
   "execution_count": 2,
   "metadata": {
    "collapsed": false
   },
   "outputs": [
    {
     "data": {
      "text/plain": [
       "#<Thread:0x000000048ef838@<main>:0 run>"
      ]
     },
     "execution_count": 2,
     "metadata": {},
     "output_type": "execute_result"
    },
    {
     "name": "stdout",
     "output_type": "stream",
     "text": [
      "0"
     ]
    }
   ],
   "source": [
    "Thread.new do\n",
    "  10.times do |i|\n",
    "    print i\n",
    "    $stdout.flush\n",
    "    Thread.stop\n",
    "  end\n",
    "end"
   ]
  },
  {
   "cell_type": "code",
   "execution_count": 4,
   "metadata": {
    "collapsed": false
   },
   "outputs": [
    {
     "name": "stdout",
     "output_type": "stream",
     "text": [
      "1"
     ]
    },
    {
     "data": {
      "text/plain": [
       "[#<Thread:0x00000002073f80 run>, #<Thread:0x000000030f0480@C:/Ruby23-x64/lib/ruby/gems/2.3.0/gems/iruby-0.3/lib/iruby/session/cztop.rb:14 run>, #<Thread:0x000000048ef838@<main>:0 sleep>]"
      ]
     },
     "execution_count": 4,
     "metadata": {},
     "output_type": "execute_result"
    }
   ],
   "source": [
    "Thread.list.each { |thread| thread.run }"
   ]
  },
  {
   "cell_type": "code",
   "execution_count": null,
   "metadata": {
    "collapsed": false,
    "scrolled": true
   },
   "outputs": [],
   "source": [
    "2.times { Thread.new { 10.times { |i| print i; $stdout.flush; Thread.pass } } } Thread.list.each { |thread| thread.join unless thread == Thread.main }"
   ]
  },
  {
   "cell_type": "markdown",
   "metadata": {},
   "source": [
    "## 11.6 Fibers"
   ]
  },
  {
   "cell_type": "markdown",
   "metadata": {},
   "source": [
    "### 11.6.1 A Fiber in Action"
   ]
  },
  {
   "cell_type": "code",
   "execution_count": 8,
   "metadata": {
    "collapsed": false
   },
   "outputs": [
    {
     "name": "stdout",
     "output_type": "stream",
     "text": [
      "0\n",
      "1\n",
      "4\n",
      "9\n",
      "16\n",
      "25\n",
      "36\n",
      "49\n",
      "64\n",
      "81\n"
     ]
    },
    {
     "data": {
      "text/plain": [
       "10"
      ]
     },
     "execution_count": 8,
     "metadata": {},
     "output_type": "execute_result"
    }
   ],
   "source": [
    "sg = Fiber.new do\n",
    "  s = 0\n",
    "  loop do\n",
    "    square = s * s\n",
    "    Fiber.yield square\n",
    "    s += 1\n",
    "  end\n",
    "end\n",
    "\n",
    "10.times { puts sg.resume }"
   ]
  },
  {
   "cell_type": "markdown",
   "metadata": {},
   "source": [
    "### 11.6.2 Passing Data to a Fiber"
   ]
  },
  {
   "cell_type": "code",
   "execution_count": 7,
   "metadata": {
    "collapsed": false
   },
   "outputs": [
    {
     "name": "stdout",
     "output_type": "stream",
     "text": [
      "0\n",
      "1\n",
      "4\n",
      "9\n",
      "1600\n",
      "1681\n",
      "1764\n",
      "0\n",
      "1\n",
      "4\n"
     ]
    }
   ],
   "source": [
    "sg = Fiber.new do\n",
    "  s = 0\n",
    "  loop do\n",
    "    square = s * s\n",
    "    s += 1\n",
    "    s = Fiber.yield(square) || s\n",
    "  end\n",
    "end\n",
    "\n",
    "puts sg.resume\n",
    "puts sg.resume\n",
    "puts sg.resume\n",
    "puts sg.resume\n",
    "puts sg.resume 40\n",
    "puts sg.resume\n",
    "puts sg.resume\n",
    "puts sg.resume 0\n",
    "puts sg.resume\n",
    "puts sg.resume\n"
   ]
  },
  {
   "cell_type": "markdown",
   "metadata": {},
   "source": [
    "### 11.6.3 Why Fibers"
   ]
  },
  {
   "cell_type": "markdown",
   "metadata": {},
   "source": [
    "## 11.7 RubyInline"
   ]
  },
  {
   "cell_type": "code",
   "execution_count": null,
   "metadata": {
    "collapsed": true
   },
   "outputs": [],
   "source": [
    "gem install RubyInline"
   ]
  },
  {
   "cell_type": "markdown",
   "metadata": {},
   "source": [
    "### 11.7.1 Why Use C as an Inline Language"
   ]
  },
  {
   "cell_type": "markdown",
   "metadata": {},
   "source": [
    "### 11.7.2 Creating a Basic Method or Function"
   ]
  },
  {
   "cell_type": "code",
   "execution_count": 1,
   "metadata": {
    "collapsed": false
   },
   "outputs": [
    {
     "name": "stdout",
     "output_type": "stream",
     "text": [
      "40320\n"
     ]
    }
   ],
   "source": [
    "class Fixnum\n",
    "  def factorial\n",
    "    (1..self).inject { |a, b| a * b }\n",
    "  end\n",
    "end\n",
    "\n",
    "puts 8.factorial"
   ]
  },
  {
   "cell_type": "code",
   "execution_count": null,
   "metadata": {
    "collapsed": true
   },
   "outputs": [],
   "source": [
    "require 'benchmark'\n",
    "\n",
    "Benchmark.bm do |bm|\n",
    "  bm.report('ruby:') do\n",
    "    100000.times do\n",
    "      8.factorial\n",
    "    end\n",
    "  end\n",
    "end"
   ]
  },
  {
   "cell_type": "code",
   "execution_count": null,
   "metadata": {
    "collapsed": false
   },
   "outputs": [],
   "source": [
    "require 'inline'\n",
    "class CFactorial\n",
    "  inline do |builder|\n",
    "    builder.c \"\n",
    "    long factorial(int max) {\n",
    "      int i=max, result=1;\n",
    "      while (i >= 2) { result *= i--; }\n",
    "      return result;\n",
    "    }\"\n",
    "  end\n",
    "end\n",
    "c = CFactorial.new()\n",
    "puts c.factorial(8)"
   ]
  },
  {
   "cell_type": "code",
   "execution_count": null,
   "metadata": {
    "collapsed": true
   },
   "outputs": [],
   "source": [
    "long factorial(int max) {\n",
    "  int i=max, result=1;\n",
    "  while (i >= 2) { result *= i--; }\n",
    "  return result;\n",
    "}"
   ]
  },
  {
   "cell_type": "markdown",
   "metadata": {},
   "source": [
    "## 11.8 Benchmarking C versus Ruby"
   ]
  },
  {
   "cell_type": "code",
   "execution_count": null,
   "metadata": {
    "collapsed": true
   },
   "outputs": [],
   "source": [
    "require 'rubygems'\n",
    "require 'inline'\n",
    "require 'benchmark'\n",
    "\n",
    "class CFactorial\n",
    "  inline do |builder|\n",
    "    builder.c \"\n",
    "      long factorial(int max) {\n",
    "        int i=max, result=1;\n",
    "        while (i >= 2) { result *= i--; }\n",
    "        return result;\n",
    "      }\"\n",
    "  end\n",
    "end\n",
    "\n",
    "class Fixnum\n",
    "  def factorial\n",
    "    (1..self).inject { |a, b| a * b }\n",
    "  end\n",
    "end\n",
    "\n",
    "Benchmark.bm do |bm|\n",
    "  bm.report('ruby:') do\n",
    "    100000.times { 8.factorial }\n",
    "  end\n",
    "  bm.report('c:') do\n",
    "    c = CFactorial.new\n",
    "    100000.times { c.factorial(8) }\n",
    "  end\n",
    "end"
   ]
  },
  {
   "cell_type": "markdown",
   "metadata": {},
   "source": [
    "## 11.9 Unicode, Character Encodings, and UTF-8 Support"
   ]
  },
  {
   "cell_type": "markdown",
   "metadata": {},
   "source": [
    "*  Note For a full rundown of Unicode and how it works and relates to software development, read http://www.joelonsoftware.com/articles/Unicode.html .\n",
    "The official Unicode site, at http://unicode.org/ , also has specifications and further details."
   ]
  },
  {
   "cell_type": "markdown",
   "metadata": {},
   "source": [
    "### 11.9.1 Ruby 1.9 and Beyond's Character Encoding Support"
   ]
  },
  {
   "cell_type": "markdown",
   "metadata": {},
   "source": [
    "* __Strings__"
   ]
  },
  {
   "cell_type": "code",
   "execution_count": 3,
   "metadata": {
    "collapsed": false
   },
   "outputs": [
    {
     "data": {
      "text/plain": [
       "#<Encoding:UTF-8>"
      ]
     },
     "execution_count": 3,
     "metadata": {},
     "output_type": "execute_result"
    }
   ],
   "source": [
    "\"this is a test\".encoding"
   ]
  },
  {
   "cell_type": "code",
   "execution_count": 4,
   "metadata": {
    "collapsed": false
   },
   "outputs": [
    {
     "data": {
      "text/plain": [
       "#<Encoding:UTF-8>"
      ]
     },
     "execution_count": 4,
     "metadata": {},
     "output_type": "execute_result"
    }
   ],
   "source": [
    "\"ça va?\".encoding"
   ]
  },
  {
   "cell_type": "code",
   "execution_count": 5,
   "metadata": {
    "collapsed": false
   },
   "outputs": [
    {
     "data": {
      "text/plain": [
       "\"\\xE7a va?\""
      ]
     },
     "execution_count": 5,
     "metadata": {},
     "output_type": "execute_result"
    }
   ],
   "source": [
    "\"ça va?\".encode(\"ISO-8859-1\")"
   ]
  },
  {
   "cell_type": "code",
   "execution_count": 6,
   "metadata": {
    "collapsed": false
   },
   "outputs": [
    {
     "ename": "Encoding::UndefinedConversionError",
     "evalue": "U+00E7 from UTF-8 to US-ASCII",
     "output_type": "error",
     "traceback": [
      "\u001b[31mEncoding::UndefinedConversionError\u001b[0m: U+00E7 from UTF-8 to US-ASCII",
      "\u001b[37m<main>:in `encode'\u001b[0m",
      "\u001b[37m<main>:in `<main>'\u001b[0m",
      "\u001b[37mC:/Ruby23-x64/lib/ruby/gems/2.3.0/gems/iruby-0.3/lib/iruby/backend.rb:44:in `eval'\u001b[0m",
      "\u001b[37mC:/Ruby23-x64/lib/ruby/gems/2.3.0/gems/iruby-0.3/lib/iruby/backend.rb:44:in `eval'\u001b[0m",
      "\u001b[37mC:/Ruby23-x64/lib/ruby/gems/2.3.0/gems/iruby-0.3/lib/iruby/backend.rb:12:in `eval'\u001b[0m",
      "\u001b[37mC:/Ruby23-x64/lib/ruby/gems/2.3.0/gems/iruby-0.3/lib/iruby/kernel.rb:87:in `execute_request'\u001b[0m",
      "\u001b[37mC:/Ruby23-x64/lib/ruby/gems/2.3.0/gems/iruby-0.3/lib/iruby/kernel.rb:47:in `dispatch'\u001b[0m",
      "\u001b[37mC:/Ruby23-x64/lib/ruby/gems/2.3.0/gems/iruby-0.3/lib/iruby/kernel.rb:37:in `run'\u001b[0m",
      "\u001b[37mC:/Ruby23-x64/lib/ruby/gems/2.3.0/gems/iruby-0.3/lib/iruby/command.rb:70:in `run_kernel'\u001b[0m",
      "\u001b[37mC:/Ruby23-x64/lib/ruby/gems/2.3.0/gems/iruby-0.3/lib/iruby/command.rb:34:in `run'\u001b[0m",
      "\u001b[37mC:/Ruby23-x64/lib/ruby/gems/2.3.0/gems/iruby-0.3/bin/iruby:5:in `<top (required)>'\u001b[0m",
      "\u001b[37mC:/Ruby23-x64/bin/iruby:22:in `load'\u001b[0m",
      "\u001b[37mC:/Ruby23-x64/bin/iruby:22:in `<main>'\u001b[0m"
     ]
    }
   ],
   "source": [
    "\"ça va?\".encode(\"US-ASCII\")"
   ]
  },
  {
   "cell_type": "markdown",
   "metadata": {},
   "source": [
    "* __Source Code__"
   ]
  },
  {
   "cell_type": "code",
   "execution_count": null,
   "metadata": {
    "collapsed": true
   },
   "outputs": [],
   "source": [
    "# coding: utf-8"
   ]
  },
  {
   "cell_type": "markdown",
   "metadata": {},
   "source": [
    "## 11.10 Summary"
   ]
  },
  {
   "cell_type": "markdown",
   "metadata": {
    "collapsed": true
   },
   "source": [
    "* Windows Automation (also known as OLE Automation) : This is a system that allows Windows applications to register servers for themselves that allow other applications to control them remotely.\n",
    "You can learn more at http://en.wikipedia.org/wiki/OLE_Automation.  "
   ]
  },
  {
   "cell_type": "code",
   "execution_count": null,
   "metadata": {
    "collapsed": true
   },
   "outputs": [],
   "source": []
  }
 ],
 "metadata": {
  "kernelspec": {
   "display_name": "Ruby 2.3.3",
   "language": "ruby",
   "name": "ruby"
  },
  "language_info": {
   "file_extension": ".rb",
   "mimetype": "application/x-ruby",
   "name": "ruby",
   "version": "2.3.3"
  }
 },
 "nbformat": 4,
 "nbformat_minor": 1
}
