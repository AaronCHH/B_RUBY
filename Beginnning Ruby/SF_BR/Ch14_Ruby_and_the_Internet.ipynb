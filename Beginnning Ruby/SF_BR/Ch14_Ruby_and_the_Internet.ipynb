{
 "cells": [
  {
   "cell_type": "markdown",
   "metadata": {},
   "source": [
    "# Chapter 14: Ruby and the Internet"
   ]
  },
  {
   "cell_type": "markdown",
   "metadata": {},
   "source": [
    "<div id=\"toc\"></div>"
   ]
  },
  {
   "cell_type": "markdown",
   "metadata": {},
   "source": [
    "## 14.1 HTTP and the Web"
   ]
  },
  {
   "cell_type": "markdown",
   "metadata": {},
   "source": [
    "### 14.1.1 Downloading Web Pages"
   ]
  },
  {
   "cell_type": "markdown",
   "metadata": {},
   "source": [
    "* __The net/http Library__"
   ]
  },
  {
   "cell_type": "code",
   "execution_count": 1,
   "metadata": {
    "collapsed": false
   },
   "outputs": [
    {
     "name": "stdout",
     "output_type": "stream",
     "text": [
      "Hello Beginning Ruby reader!\n",
      "\n"
     ]
    }
   ],
   "source": [
    "require 'net/http'\n",
    "\n",
    "Net::HTTP.start('www.rubyinside.com') do |http|\n",
    "  req = Net::HTTP::Get.new('/test.txt')\n",
    "  puts http.request(req).body\n",
    "end"
   ]
  },
  {
   "cell_type": "markdown",
   "metadata": {},
   "source": [
    "This example loads the net/http library, connects to the web serverwww.rubyinside.com (the semi-official blog associated with this book; take a look!), and performs an HTTPGET request for/test.txt .  \n",
    "This file’s contents are then returned and displayed.  \n",
    "The equivalent URL for this request is http://www.rubyinside.com/test.txt, and if you load that URL in your web browser, you’ll get the same response as Ruby.   \n"
   ]
  },
  {
   "cell_type": "markdown",
   "metadata": {},
   "source": [
    "* Note http://www.rubyinside.com/test.txt is a live document that you can use in all the HTTP request tests safely, and has been created specifically for readers of this book."
   ]
  },
  {
   "cell_type": "code",
   "execution_count": null,
   "metadata": {
    "collapsed": true
   },
   "outputs": [],
   "source": [
    "require 'net/http'\n",
    "\n",
    "url = URI.parse('http://www.rubyinside.com/test.txt')\n",
    "\n",
    "Net::HTTP.start(url.host, url.port) do |http|\n",
    "  req = Net::HTTP::Get.new(url.path)\n",
    "  puts http.request(req).body\n",
    "end"
   ]
  },
  {
   "cell_type": "code",
   "execution_count": null,
   "metadata": {
    "collapsed": true
   },
   "outputs": [],
   "source": [
    "require 'net/http'\n",
    "\n",
    "url = URI.parse('http://www.rubyinside.com/test.txt')\n",
    "response = Net::HTTP.get_response(url)\n",
    "puts response.body"
   ]
  },
  {
   "cell_type": "markdown",
   "metadata": {},
   "source": [
    "* __Checking for Errors and Redirects__"
   ]
  },
  {
   "cell_type": "code",
   "execution_count": 2,
   "metadata": {
    "collapsed": false,
    "scrolled": true
   },
   "outputs": [
    {
     "name": "stdout",
     "output_type": "stream",
     "text": [
      "Hello Beginning Ruby reader!\n",
      "\n",
      "\n",
      "Hello Beginning Ruby reader!\n",
      "\n"
     ]
    }
   ],
   "source": [
    "require 'net/http'\n",
    "\n",
    "def get_web_document(url)\n",
    "  uri = URI.parse(url)\n",
    "  response = Net::HTTP.get_response(uri)\n",
    "\n",
    "  case response\n",
    "    when Net::HTTPSuccess\n",
    "      return response.body\n",
    "    when Net::HTTPRedirection\n",
    "      return get_web_document(response['Location'])\n",
    "    else\n",
    "      return nil\n",
    "  end\n",
    "end\n",
    "\n",
    "puts get_web_document('http://www.rubyinside.com/test.txt')\n",
    "puts get_web_document('http://www.rubyinside.com/non-existent')\n",
    "puts get_web_document('http://www.rubyinside.com/redirect-test')\n"
   ]
  },
  {
   "cell_type": "markdown",
   "metadata": {},
   "source": [
    "* Note http://www.rubyinside.com/redirect-test has been set up as a redirect to http://www.rubyinside.com/test.txt.  \n",
    "This helps to demonstrate that the redirect is handled correctly."
   ]
  },
  {
   "cell_type": "markdown",
   "metadata": {},
   "source": [
    "* Note A list of HTTP errors and their associated Net::HTTP response classes is available at http://www.ruby-doc.org/stdlib/libdoc/net/http/rdoc/classes/Net/HTTP.html."
   ]
  },
  {
   "cell_type": "markdown",
   "metadata": {},
   "source": [
    "* __Basic Authentication__"
   ]
  },
  {
   "cell_type": "code",
   "execution_count": null,
   "metadata": {
    "collapsed": false,
    "scrolled": false
   },
   "outputs": [],
   "source": [
    "require 'net/http'\n",
    "\n",
    "url = URI.parse('http://browserspy.dk/password-ok.php')\n",
    "\n",
    "Net::HTTP.start(url.host, url.port) do |http|\n",
    "  req = Net::HTTP::Get.new(url.path)\n",
    "  req.basic_auth('test', 'test')\n",
    "  puts http.request(req).body\n",
    "end"
   ]
  },
  {
   "cell_type": "markdown",
   "metadata": {},
   "source": [
    "* __Posting Form Data__"
   ]
  },
  {
   "cell_type": "code",
   "execution_count": 4,
   "metadata": {
    "collapsed": false
   },
   "outputs": [
    {
     "name": "stdout",
     "output_type": "stream",
     "text": [
      "You say David is 24 years old.\n"
     ]
    }
   ],
   "source": [
    "require 'net/http'\n",
    "\n",
    "url = URI.parse('http://www.rubyinside.com/test.cgi')\n",
    "\n",
    "response = Net::HTTP.post_form(url,{'name' => 'David', 'age' => '24'})\n",
    "puts response.body"
   ]
  },
  {
   "cell_type": "code",
   "execution_count": 5,
   "metadata": {
    "collapsed": false
   },
   "outputs": [
    {
     "name": "stdout",
     "output_type": "stream",
     "text": [
      "You say David is 24 years old.\n"
     ]
    }
   ],
   "source": [
    "require 'net/http'\n",
    "\n",
    "url = URI.parse('http://www.rubyinside.com/test.cgi')\n",
    "\n",
    "Net::HTTP.start(url.host, url.port) do |http|\n",
    "  req = Net::HTTP::Post.new(url.path)\n",
    "  req.set_form_data({ 'name' => 'David', 'age' => '24' })\n",
    "  puts http.request(req).body\n",
    "end"
   ]
  },
  {
   "cell_type": "markdown",
   "metadata": {},
   "source": [
    "* __Using HTTP Proxies__"
   ]
  },
  {
   "cell_type": "code",
   "execution_count": null,
   "metadata": {
    "collapsed": true
   },
   "outputs": [],
   "source": [
    "web_proxy = Net::HTTP::Proxy('your.proxy.hostname.or.ip', 8080)"
   ]
  },
  {
   "cell_type": "code",
   "execution_count": null,
   "metadata": {
    "collapsed": true
   },
   "outputs": [],
   "source": [
    "require 'net/http'\n",
    "\n",
    "web_proxy = Net::HTTP::Proxy('your.proxy.hostname.or.ip', 8080)\n",
    "\n",
    "url = URI.parse('http://www.rubyinside.com/test.txt')\n",
    "\n",
    "web_proxy.start(url.host, url.port) do |http|\n",
    "  req = Net::HTTP::Get.new(url.path)\n",
    "  puts http.request(req).body\n",
    "end"
   ]
  },
  {
   "cell_type": "code",
   "execution_count": null,
   "metadata": {
    "collapsed": true
   },
   "outputs": [],
   "source": [
    "require 'net/http'\n",
    "\n",
    "web_proxy = Net::HTTP::Proxy('your.proxy.hostname.or.ip', 8080)\n",
    "url = URI.parse('http://www.rubyinside.com/test.txt')\n",
    "\n",
    "response = web_proxy.get_response(url)\n",
    "puts response.body"
   ]
  },
  {
   "cell_type": "code",
   "execution_count": null,
   "metadata": {
    "collapsed": true
   },
   "outputs": [],
   "source": [
    "require 'net/http'\n",
    "\n",
    "http_class = ARGV.first ? Net::HTTP::Proxy(ARGV[0], ARGV[1]) : Net::HTTP\n",
    "url = URI.parse('http://www.rubyinside.com/test.txt')\n",
    "\n",
    "response = http_class.get_response(url)\n",
    "puts response.body\n"
   ]
  },
  {
   "cell_type": "markdown",
   "metadata": {},
   "source": [
    "* __Secure HTTP with HTTPS__"
   ]
  },
  {
   "cell_type": "code",
   "execution_count": null,
   "metadata": {
    "collapsed": true
   },
   "outputs": [],
   "source": [
    "require 'net/http'\n",
    "require 'net/https'\n",
    "\n",
    "url = URI.parse('https://example.com/')\n",
    "\n",
    "http = Net::HTTP.new(url.host, url.port)\n",
    "http.use_ssl = true if url.scheme == 'https'\n",
    "\n",
    "request = Net::HTTP::Get.new(url.path)\n",
    "puts http.request(request).body"
   ]
  },
  {
   "cell_type": "code",
   "execution_count": null,
   "metadata": {
    "collapsed": true
   },
   "outputs": [],
   "source": [
    "require 'net/http'\n",
    "require 'net/https'\n",
    "\n",
    "url = URI.parse('https://example.com/')\n",
    "\n",
    "http = Net::HTTP.new(url.host, url.port)\n",
    "http.use_ssl = true if url.scheme == 'https'\n",
    "\n",
    "request = Net::HTTP::Post.new(url.path)\n",
    "request.set_form_data({ 'credit_card_number' => '1234123412341234' })\n",
    "puts http.request(request).body"
   ]
  },
  {
   "cell_type": "markdown",
   "metadata": {},
   "source": [
    "* __The Open-Uri Library__"
   ]
  },
  {
   "cell_type": "code",
   "execution_count": null,
   "metadata": {
    "collapsed": true
   },
   "outputs": [],
   "source": [
    "require 'open-uri'\n",
    "\n",
    "f = open('http://www.rubyinside.com/test.txt')\n",
    "\n",
    "puts \"The document is #{f.size} bytes in length\"\n",
    "\n",
    "f.each_line do |line|\n",
    "  puts line\n",
    "end"
   ]
  },
  {
   "cell_type": "code",
   "execution_count": null,
   "metadata": {
    "collapsed": true
   },
   "outputs": [],
   "source": [
    "require 'open-uri'\n",
    "\n",
    "open('http://www.rubyinside.com/test.txt') do |f|\n",
    "  puts f.readlines.join\n",
    "end"
   ]
  },
  {
   "cell_type": "code",
   "execution_count": null,
   "metadata": {
    "collapsed": true
   },
   "outputs": [],
   "source": [
    "require 'open-uri'\n",
    "\n",
    "url = URI.parse('http://www.rubyinside.com/test.txt')\n",
    "url.open { |f| puts f.read }"
   ]
  },
  {
   "cell_type": "code",
   "execution_count": null,
   "metadata": {
    "collapsed": true
   },
   "outputs": [],
   "source": [
    "require 'open-uri'\n",
    "puts URI.parse('http://www.rubyinside.com/test.txt').open.read"
   ]
  },
  {
   "cell_type": "code",
   "execution_count": null,
   "metadata": {
    "collapsed": true
   },
   "outputs": [],
   "source": [
    "require 'open-uri'\n",
    "\n",
    "f = open('http://www.rubyinside.com/test.txt')\n",
    "\n",
    "puts f.content_type\n",
    "puts f.charset\n",
    "puts f.last_modified"
   ]
  },
  {
   "cell_type": "code",
   "execution_count": null,
   "metadata": {
    "collapsed": true
   },
   "outputs": [],
   "source": [
    "require 'open-uri'\n",
    "\n",
    "f = open('http://www.rubyinside.com/test.txt',\n",
    "         {'User-Agent' => 'Mozilla/4.0 (compatible; MSIE 6.0; Windows NT 5.0)'})\n",
    "\n",
    "puts f.read"
   ]
  },
  {
   "cell_type": "markdown",
   "metadata": {},
   "source": [
    "### 14.1.2 Processing Web Content"
   ]
  },
  {
   "cell_type": "markdown",
   "metadata": {},
   "source": [
    "* __Parsing HTML with Nokogiri__"
   ]
  },
  {
   "cell_type": "code",
   "execution_count": null,
   "metadata": {
    "collapsed": true
   },
   "outputs": [],
   "source": [
    "require 'nokogiri'\n",
    "\n",
    "html = <<END_OF_HTML\n",
    "<html>\n",
    "<head>\n",
    "  <title>This is the page title</title>\n",
    "</head>\n",
    "\n",
    "<body>\n",
    "  <h1>Big heading!</h1>\n",
    "  <p>A paragraph of text.</p>\n",
    "  <ul><li>Item 1 in a list</li><li>Item 2</li><li class=\"highlighted\">Item\n",
    "3</li></ul>\n",
    "</body>\n",
    "</html>\n",
    "END_OF_HTML\n",
    "\n",
    "doc = Nokogiri::HTML(html)\n",
    "puts doc.css(\"h1\").first.inner_html"
   ]
  },
  {
   "cell_type": "code",
   "execution_count": null,
   "metadata": {
    "collapsed": true
   },
   "outputs": [],
   "source": [
    "\n",
    "require 'nokogiri'\n",
    "require 'open-uri'\n",
    "\n",
    "doc = Nokogiri::HTML(open('http://www.rubyinside.com/test.html'))\n",
    "puts doc.css(\"h1\").first.inner_html\n"
   ]
  },
  {
   "cell_type": "markdown",
   "metadata": {},
   "source": [
    "* Note http://www.rubyinside.com/test.html contains the same HTML code as used in the prior example."
   ]
  },
  {
   "cell_type": "code",
   "execution_count": null,
   "metadata": {
    "collapsed": true
   },
   "outputs": [],
   "source": [
    "\n",
    "list = doc.css(\"ul\").first\n",
    "list.css(\"li\").each do |item|\n",
    "  puts item.inner_html\n",
    "end\n"
   ]
  },
  {
   "cell_type": "code",
   "execution_count": null,
   "metadata": {
    "collapsed": true
   },
   "outputs": [],
   "source": [
    "list = doc.at(\"ul\")"
   ]
  },
  {
   "cell_type": "code",
   "execution_count": null,
   "metadata": {
    "collapsed": true
   },
   "outputs": [],
   "source": [
    "list = doc.at(\"ul\")\n",
    "highlighted_item = list.at(\".highlighted\")\n",
    "puts highlighted_item.inner_html"
   ]
  },
  {
   "cell_type": "markdown",
   "metadata": {},
   "source": [
    "* __Parsing XML with REXML__"
   ]
  },
  {
   "cell_type": "code",
   "execution_count": null,
   "metadata": {
    "collapsed": true
   },
   "outputs": [],
   "source": [
    "# <people>\n",
    "#   <person>\n",
    "#     <name>Peter Cooper</name>\n",
    "#     <gender>Male</gender>\n",
    "#   </person>\n",
    "#   <person>\n",
    "#     <name>Fred Bloggs</name>\n",
    "#     <gender>Male</gender>\n",
    "#   </person>\n",
    "# </people>"
   ]
  },
  {
   "cell_type": "code",
   "execution_count": null,
   "metadata": {
    "collapsed": true
   },
   "outputs": [],
   "source": [
    "require 'rexml/document'\n",
    "\n",
    "xml = <<END_XML\n",
    "<people>\n",
    "  <person>\n",
    "    <name>Peter Cooper</name>\n",
    "    <gender>Male</gender>\n",
    "  </person>\n",
    "  <person>\n",
    "    <name>Fred Bloggs</name>\n",
    "    <gender>Male</gender>\n",
    "  </person>\n",
    "</people>\n",
    "END_XML\n",
    "\n",
    "tree = REXML::Document.new(xml)\n",
    "\n",
    "tree.elements.each(\"people/person\") do |person|\n",
    "  puts person.get_elements(\"name\").first\n",
    "end"
   ]
  },
  {
   "cell_type": "markdown",
   "metadata": {},
   "source": [
    "* Note You can learn more about XPath and its syntax at http://en.wikipedia.org/wiki/XPath.  \n",
    "REXML also has support for XQuery, which you can learn more about at http://en.wikipedia.org/wiki/XQuery ."
   ]
  },
  {
   "cell_type": "markdown",
   "metadata": {},
   "source": [
    "## 14.2 E-Mail"
   ]
  },
  {
   "cell_type": "markdown",
   "metadata": {},
   "source": [
    "### 14.2.1 Receiving Mail with POP3"
   ]
  },
  {
   "cell_type": "code",
   "execution_count": null,
   "metadata": {
    "collapsed": true
   },
   "outputs": [],
   "source": [
    "require 'net/pop'\n",
    "\n",
    "mail_server = Net::POP3.new('mail.mailservernamehere.com')\n",
    "\n",
    "begin\n",
    "  mail_server.start('username','password')\n",
    "  if mail_server.mails.empty?\n",
    "    puts \"No mails\"\n",
    "  else\n",
    "    puts \"#{mail_server.mails.length} mails waiting\"\n",
    "  end\n",
    "rescue\n",
    "  puts \"Mail error\"\n",
    "end"
   ]
  },
  {
   "cell_type": "code",
   "execution_count": null,
   "metadata": {
    "collapsed": true
   },
   "outputs": [],
   "source": [
    "mail_server.mails.each do |m|\n",
    "  mail = m.pop\n",
    "  puts mail\n",
    "end"
   ]
  },
  {
   "cell_type": "code",
   "execution_count": null,
   "metadata": {
    "collapsed": true
   },
   "outputs": [],
   "source": [
    "mail_server.mails.each do |m|\n",
    "  m.delete if m.pop =~ /\\bthis is a spam e-mail\\b/i\n",
    "end"
   ]
  },
  {
   "cell_type": "code",
   "execution_count": null,
   "metadata": {
    "collapsed": true
   },
   "outputs": [],
   "source": [
    "mail_server.mails.each do |m|\n",
    "  m.delete if m.header =~ /Subject:.+?medicines\\b/i\n",
    "end"
   ]
  },
  {
   "cell_type": "markdown",
   "metadata": {},
   "source": [
    "### 14.2.2 Sending Mail with SMTP"
   ]
  },
  {
   "cell_type": "code",
   "execution_count": null,
   "metadata": {
    "collapsed": true
   },
   "outputs": [],
   "source": [
    "require 'net/smtp'\n",
    "\n",
    "message = <<MESSAGE_END\n",
    "From: Private Person <me@privacy.net>\n",
    "To: Author of Beginning Ruby <test@rubyinside.com>\n",
    "Subject: SMTP e-mail test\n",
    "\n",
    "This is a test e-mail message.\n",
    "MESSAGE_END\n",
    "\n",
    "Net::SMTP.start('localhost') do |smtp|\n",
    "  smtp.send_message message, 'me@privacy.net', 'test@rubyinside.com'\n",
    "end"
   ]
  },
  {
   "cell_type": "code",
   "execution_count": null,
   "metadata": {
    "collapsed": true
   },
   "outputs": [],
   "source": [
    "Net::SMTP.start('mail.your-domain.com')"
   ]
  },
  {
   "cell_type": "code",
   "execution_count": null,
   "metadata": {
    "collapsed": true
   },
   "outputs": [],
   "source": [
    "Net::SMTP.start('mail.your-domain.com', 25, 'localhost', 'username', ➥\n",
    "'password', :plain)"
   ]
  },
  {
   "cell_type": "markdown",
   "metadata": {},
   "source": [
    "### 14.2.3 Sending Mail with ActionMailer"
   ]
  },
  {
   "cell_type": "code",
   "execution_count": null,
   "metadata": {
    "collapsed": true
   },
   "outputs": [],
   "source": [
    "require 'action_mailer'\n",
    "\n",
    "class Emailer < ActionMailer::Base\n",
    "  def test_email(email_address, email_body)\n",
    "    mail(to: email_address, from: 'me@privacy.net', subject: 'test', body: email_body)\n",
    "  end\n",
    "end\n",
    "\n",
    "Emailer.test_email('me@privacy.net', 'This is a test e-mail!').deliver_now\n"
   ]
  },
  {
   "cell_type": "code",
   "execution_count": null,
   "metadata": {
    "collapsed": true
   },
   "outputs": [],
   "source": [
    "ActionMailer::Base.smtp_settings = {\n",
    "  :address => \"mail.your-domain.com\",\n",
    "  :port => 25,\n",
    "  :authentication => :login,\n",
    "  :user_name => \"username\",\n",
    "  :password => \"password\",\n",
    "}\n"
   ]
  },
  {
   "cell_type": "markdown",
   "metadata": {},
   "source": [
    "* Tip You can also check out Pony, a library that makes it easy to send e-mails from Ruby, at http://github.com/benprew/pony ."
   ]
  },
  {
   "cell_type": "markdown",
   "metadata": {},
   "source": [
    "## 14.3 File Transfers with FTP"
   ]
  },
  {
   "cell_type": "code",
   "execution_count": null,
   "metadata": {
    "collapsed": true
   },
   "outputs": [],
   "source": [
    "require 'open-uri'\n",
    "\n",
    "output = File.new('1.8.2-patch1.gz', 'wb')\n",
    "open('ftp://ftp.ruby-lang.org/pub/ruby/1.8/1.8.2-patch1.gz') do |f|\n",
    "  output.print f.read\n",
    "end\n",
    "output.close\n"
   ]
  },
  {
   "cell_type": "markdown",
   "metadata": {},
   "source": [
    "### 14.3.1 Connection and Basic FTP Actions"
   ]
  },
  {
   "cell_type": "code",
   "execution_count": null,
   "metadata": {
    "collapsed": true
   },
   "outputs": [],
   "source": [
    "\n",
    "require 'net/ftp'\n",
    "require 'uri'\n",
    "\n",
    "uri = URI.parse('ftp://ftp.ruby-lang.org/')\n",
    "\n",
    "Net::FTP.open(uri.host) do |ftp|\n",
    "  ftp.login 'anonymous', 'me@privacy.net'\n",
    "  ftp.passive = true\n",
    "  ftp.list(uri.path) { |path| puts path }\n",
    "end\n"
   ]
  },
  {
   "cell_type": "code",
   "execution_count": null,
   "metadata": {
    "collapsed": true
   },
   "outputs": [],
   "source": [
    "require 'net/ftp'\n",
    "\n",
    "ftp = Net::FTP.new('ftp.ruby-lang.org')\n",
    "ftp.passive = true\n",
    "ftp.login\n",
    "ftp.list('*') { |file| puts file }\n",
    "ftp.close"
   ]
  },
  {
   "cell_type": "code",
   "execution_count": null,
   "metadata": {
    "collapsed": true
   },
   "outputs": [],
   "source": [
    "ftp.login(username, password)"
   ]
  },
  {
   "cell_type": "code",
   "execution_count": null,
   "metadata": {
    "collapsed": true
   },
   "outputs": [],
   "source": [
    "ftp.chdir('pub')"
   ]
  },
  {
   "cell_type": "code",
   "execution_count": null,
   "metadata": {
    "collapsed": true
   },
   "outputs": [],
   "source": [
    "ftp.chdir('/pub/ruby')"
   ]
  },
  {
   "cell_type": "code",
   "execution_count": null,
   "metadata": {
    "collapsed": true
   },
   "outputs": [],
   "source": [
    "ftp.mkdir('test')"
   ]
  },
  {
   "cell_type": "code",
   "execution_count": null,
   "metadata": {
    "collapsed": true
   },
   "outputs": [],
   "source": [
    "ftp.rename(filename, new_name)\n",
    "ftp.delete(filename)"
   ]
  },
  {
   "cell_type": "markdown",
   "metadata": {},
   "source": [
    "### 14.3.2 Downloading Files"
   ]
  },
  {
   "cell_type": "code",
   "execution_count": null,
   "metadata": {
    "collapsed": true
   },
   "outputs": [],
   "source": [
    "require 'net/ftp'\n",
    "\n",
    "ftp = Net::FTP.new('ftp.ruby-lang.org')\n",
    "ftp.passive = true\n",
    "ftp.login\n",
    "ftp.chdir('/pub/ruby/1.8')\n",
    "ftp.getbinaryfile('1.8.2-patch1.gz')\n",
    "ftp.close"
   ]
  },
  {
   "cell_type": "code",
   "execution_count": null,
   "metadata": {
    "collapsed": true
   },
   "outputs": [],
   "source": [
    "ftp.getbinaryfile('ruby-1.8.7.tar.gz', 'local-filename', 102400) do |blk|\n",
    "  puts \"A 100KB block of the file has been downloaded\"\n",
    "end"
   ]
  },
  {
   "cell_type": "code",
   "execution_count": null,
   "metadata": {
    "collapsed": true
   },
   "outputs": [],
   "source": [
    "ftp.getbinaryfile('ruby-1.8.7.tar.gz', 'local-filename', 102400) do |blk|\n",
    "  .. do something with blk here ..\n",
    "end"
   ]
  },
  {
   "cell_type": "markdown",
   "metadata": {},
   "source": [
    "### 14.3.3 Uploading Files"
   ]
  },
  {
   "cell_type": "code",
   "execution_count": null,
   "metadata": {
    "collapsed": true
   },
   "outputs": [],
   "source": [
    "require 'net/ftp'\n",
    "\n",
    "ftp = Net::FTP.new('ftp.domain.com')\n",
    "ftp.passive = true\n",
    "ftp.login\n",
    "ftp.chdir('/your/folder/name/here')\n",
    "ftp.putbinaryfile('local_file')\n",
    "ftp.close"
   ]
  },
  {
   "cell_type": "code",
   "execution_count": null,
   "metadata": {
    "collapsed": true
   },
   "outputs": [],
   "source": [
    "require 'net/ftp'\n",
    "\n",
    "ftp = Net::FTP.new('ftp.domain.com')\n",
    "ftp.passive = true\n",
    "ftp.login\n",
    "ftp.chdir('/your/folder/name/here')\n",
    "\n",
    "count = 0\n",
    "\n",
    "ftp.putbinaryfile('local_file', 'local_file', 100000) do |block|\n",
    "  count += 100000\n",
    "  puts \"#{count} bytes uploaded\"\n",
    "end\n",
    "\n",
    "ftp.close"
   ]
  },
  {
   "cell_type": "code",
   "execution_count": null,
   "metadata": {
    "collapsed": true
   },
   "outputs": [],
   "source": [
    "require 'net/ftp'\n",
    "require 'tempfile'\n",
    "\n",
    "tempfile = Tempfile.new('test')\n",
    "\n",
    "my_data = \"This is some text data I want to upload via FTP.\"\n",
    "tempfile.puts my_data\n",
    "\n",
    "ftp = Net::FTP.new('ftp.domain.com')\n",
    "ftp.passive = true\n",
    "ftp.login\n",
    "ftp.chdir('/your/folder/name/here')\n",
    "\n",
    "ftp.puttextfile(tempfile.path, 'my_data')\n",
    "\n",
    "ftp.close\n",
    "tempfile.close\n"
   ]
  },
  {
   "cell_type": "markdown",
   "metadata": {},
   "source": [
    "## 14.4 Summary"
   ]
  },
  {
   "cell_type": "markdown",
   "metadata": {},
   "source": [
    "In this chapter, we looked at Ruby’s support for using various Internet systems and protocols, how Ruby can work with the Web, and how to process and manipulate data retrieved from the Internet.  \n",
    "Let’s reflect on the main concepts covered in this chapter:   \n",
    "  \n",
    "* __HTTP (HyperText Transfer Protocol) :__  \n",
    "A protocol that defines the way web browsers (clients) and web servers talk to each other across a network such as the Internet.  \n",
    "* __HTTPS :__  \n",
    "A secure version of HTTP that ensures data being transferred in either direction is only readable at each end.  \n",
    "Anyone intercepting an HTTPS stream cannot decipher it.  \n",
    "It’s commonly used for e-commerce and for transmitting financial data on the Web.  \n",
    "* __HTML (HyperText Markup Language) :__  \n",
    "A text formatting and layout language used to represent web pages.  \n",
    "* __Nokogiri :__  \n",
    "An HTML and XML parser developed to make it easy to process and parse HTML and XML directly with Ruby.  \n",
    "It is noted for its speed, with portions that demand extra performance written in C.  \n",
    "* __POP3 (Post Office Protocol 3) :__  \n",
    "A mail server protocol commonly used when retrieving e-mail.  \n",
    "You can learn more about the protocol specifically at http://www.ietf.org/rfc/rfc1939.txt .  \n",
    "* __SMTP (Simple Mail Transfer Protocol) :__  \n",
    "A mail server protocol commonly used to transfer mail to a mail server or between mail servers.  \n",
    "From a typical user’s perspective, SMTP is used for sending mail, rather than receiving it.  \n",
    "You can learn more about the protocol specifically at http://www.faqs.org/rfcs/rfc821.html.  \n",
    "* __FTP (File Transfer Protocol) :__  \n",
    "An Internet protocol for providing access to files located on a server and allowing users to download from it and upload to it.  \n",
    "This chapter covered a variety of Internet-related functions, but in Chapter 15 we’re going to look more deeply at networking, servers, and network services.  \n",
    "Most of what is covered in Chapter 15 is also applicable to the Internet, but is at a much lower level than FTP or using the Web.  \n"
   ]
  },
  {
   "cell_type": "code",
   "execution_count": null,
   "metadata": {
    "collapsed": true
   },
   "outputs": [],
   "source": []
  }
 ],
 "metadata": {
  "kernelspec": {
   "display_name": "Ruby 2.3.3",
   "language": "ruby",
   "name": "ruby"
  },
  "language_info": {
   "file_extension": ".rb",
   "mimetype": "application/x-ruby",
   "name": "ruby",
   "version": "2.3.3"
  }
 },
 "nbformat": 4,
 "nbformat_minor": 1
}
