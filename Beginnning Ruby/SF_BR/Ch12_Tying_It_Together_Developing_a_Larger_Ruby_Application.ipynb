{
 "cells": [
  {
   "cell_type": "markdown",
   "metadata": {},
   "source": [
    "# Chapter 12: Tying It Together: Developing a Larger Ruby Application"
   ]
  },
  {
   "cell_type": "markdown",
   "metadata": {},
   "source": [
    "<div id=\"toc\"></div>"
   ]
  },
  {
   "cell_type": "markdown",
   "metadata": {},
   "source": [
    "## 12.1 Let's Build a Bot"
   ]
  },
  {
   "cell_type": "markdown",
   "metadata": {},
   "source": [
    "### 12.1.1 What Is a Bot"
   ]
  },
  {
   "cell_type": "markdown",
   "metadata": {},
   "source": [
    "* Note If you want to learn about or play with some Internet-hosted versions of ELIZA, visit http://en.wikipedia.org/wiki/ELIZA."
   ]
  },
  {
   "cell_type": "markdown",
   "metadata": {},
   "source": [
    "### 12.1.2 Why a Bot"
   ]
  },
  {
   "cell_type": "markdown",
   "metadata": {},
   "source": [
    "### 12.1.3 How"
   ]
  },
  {
   "cell_type": "markdown",
   "metadata": {},
   "source": [
    "## 12.2 Creating a Simple Text Processing Library"
   ]
  },
  {
   "cell_type": "markdown",
   "metadata": {},
   "source": [
    "### 12.2.1 Building the WordPlay Library"
   ]
  },
  {
   "cell_type": "code",
   "execution_count": null,
   "metadata": {
    "collapsed": true
   },
   "outputs": [],
   "source": [
    "class WordPlay\n",
    "end"
   ]
  },
  {
   "cell_type": "markdown",
   "metadata": {},
   "source": [
    "* __Splitting Text into Sentences__"
   ]
  },
  {
   "cell_type": "code",
   "execution_count": null,
   "metadata": {
    "collapsed": true
   },
   "outputs": [],
   "source": [
    "class String\n",
    "  def sentences\n",
    "    gsub(/\\n|\\r/, ' ').split(/\\.\\s*/)\n",
    "  end\n",
    "end"
   ]
  },
  {
   "cell_type": "code",
   "execution_count": null,
   "metadata": {
    "collapsed": true
   },
   "outputs": [],
   "source": [
    "p %q{Hello. This is a test of\n",
    "basic sentence splitting. It\n",
    "even works over multiple lines.}.sentences"
   ]
  },
  {
   "cell_type": "markdown",
   "metadata": {},
   "source": [
    "* __Splitting Sentences into Words__"
   ]
  },
  {
   "cell_type": "code",
   "execution_count": null,
   "metadata": {
    "collapsed": true
   },
   "outputs": [],
   "source": [
    "class String\n",
    "  def words\n",
    "    scan(/\\w[\\w\\'\\-]*/)\n",
    "  end\n",
    "end\n",
    "\n",
    "p \"This is a test of words' capabilities\".words"
   ]
  },
  {
   "cell_type": "code",
   "execution_count": null,
   "metadata": {
    "collapsed": true
   },
   "outputs": [],
   "source": [
    "p %q{Hello. This is a test of\n",
    "basic sentence splitting. It\n",
    "even works over multiple lines}.sentences[1].words[3]"
   ]
  },
  {
   "cell_type": "markdown",
   "metadata": {},
   "source": [
    "* __Word Matching__"
   ]
  },
  {
   "cell_type": "code",
   "execution_count": null,
   "metadata": {
    "collapsed": false
   },
   "outputs": [],
   "source": [
    "hot_words = %w{test ruby great}\n",
    "my_string = \"This is a test. Dull sentence here. Ruby is great. So is cake.\"\n",
    "t = my_string.sentences.find_all do |s|\n",
    "    s.downcase.words.any? { |word| hot_words.include?(word) }\n",
    "end\n",
    "p t.to_a"
   ]
  },
  {
   "cell_type": "code",
   "execution_count": 2,
   "metadata": {
    "collapsed": false
   },
   "outputs": [
    {
     "data": {
      "text/plain": [
       ":best_sentence"
      ]
     },
     "execution_count": 2,
     "metadata": {},
     "output_type": "execute_result"
    }
   ],
   "source": [
    "def self.best_sentence(sentences, desired_words)\n",
    "  ranked_sentences = sentences.sort_by do |s|\n",
    "    s.words.length  (s.downcase.words  desired_words).length\n",
    "  end\n",
    "\n",
    "  ranked_sentences.last\n",
    "end\n"
   ]
  },
  {
   "cell_type": "markdown",
   "metadata": {},
   "source": [
    "* __Switching Subject and Object Pronouns__"
   ]
  },
  {
   "cell_type": "code",
   "execution_count": null,
   "metadata": {
    "collapsed": true
   },
   "outputs": [],
   "source": [
    "def self.switch_pronouns(text)\n",
    "  text.gsub(/\\b(I am|You are|I|You|Your|My)\\b/i) do |pronoun|\n",
    "    case pronoun.downcase\n",
    "      when \"i\"\n",
    "        \"you\"\n",
    "      when \"you\"\n",
    "        \"I\"\n",
    "      when \"i am\"\n",
    "        \"you are\"\n",
    "      when \"you are\"\n",
    "        \"i am\"\n",
    "      when \"your\"\n",
    "        \"my\"\n",
    "      when \"my\"\n",
    "        \"your\"\n",
    "    end\n",
    "  end\n",
    "end\n"
   ]
  },
  {
   "cell_type": "code",
   "execution_count": null,
   "metadata": {
    "collapsed": true
   },
   "outputs": [],
   "source": [
    "WordPlay.switch_pronouns(\"Your cat is fighting with my cat\")"
   ]
  },
  {
   "cell_type": "code",
   "execution_count": null,
   "metadata": {
    "collapsed": true
   },
   "outputs": [],
   "source": [
    "WordPlay.switch_pronouns(You are my robot)"
   ]
  },
  {
   "cell_type": "code",
   "execution_count": null,
   "metadata": {
    "collapsed": true
   },
   "outputs": [],
   "source": [
    "WordPlay.switch_pronouns(\"I gave you life\")"
   ]
  },
  {
   "cell_type": "code",
   "execution_count": null,
   "metadata": {
    "collapsed": true
   },
   "outputs": [],
   "source": [
    "def self.switch_pronouns(text)\n",
    "  text.gsub(/\\b(I am|You are|I|You|Me|Your|My)\\b/i) do |pronoun|\n",
    "    case pronoun.downcase\n",
    "      when \"i\"\n",
    "        \"you\"\n",
    "      when \"you\"\n",
    "        \"me\"\n",
    "      when \"me\"\n",
    "        \"you\"\n",
    "      when \"i am\"\n",
    "        \"you are\"\n",
    "      when \"you are\"\n",
    "        \"i am\"\n",
    "      when \"your\"\n",
    "        \"my\"\n",
    "      when \"my\"\n",
    "        \"your\"\n",
    "    end\n",
    "  end.sub(/^me\\b/i, 'i')\n",
    "end"
   ]
  },
  {
   "cell_type": "code",
   "execution_count": null,
   "metadata": {
    "collapsed": true
   },
   "outputs": [],
   "source": [
    "WordPlay.switch_pronouns('Your cat is fighting with my cat')"
   ]
  },
  {
   "cell_type": "code",
   "execution_count": null,
   "metadata": {
    "collapsed": true
   },
   "outputs": [],
   "source": [
    "WordPlay.switch_pronouns('My cat is fighting with you')"
   ]
  },
  {
   "cell_type": "code",
   "execution_count": null,
   "metadata": {
    "collapsed": true
   },
   "outputs": [],
   "source": [
    "WordPlay.switch_pronouns('You are my robot')"
   ]
  },
  {
   "cell_type": "code",
   "execution_count": null,
   "metadata": {
    "collapsed": true
   },
   "outputs": [],
   "source": [
    "WordPlay.switch_pronouns('I gave you hope')"
   ]
  },
  {
   "cell_type": "code",
   "execution_count": null,
   "metadata": {
    "collapsed": true
   },
   "outputs": [],
   "source": [
    "WordPlay.switch_pronouns('You gave me hope')"
   ]
  },
  {
   "cell_type": "code",
   "execution_count": null,
   "metadata": {
    "collapsed": true
   },
   "outputs": [],
   "source": [
    "while input = gets\n",
    "  puts '>> ' + WordPlay.switch_pronouns(input).chomp + '?'\n",
    "end"
   ]
  },
  {
   "cell_type": "markdown",
   "metadata": {},
   "source": [
    "### 12.2.2 Testing the Library"
   ]
  },
  {
   "cell_type": "code",
   "execution_count": null,
   "metadata": {
    "collapsed": true
   },
   "outputs": [],
   "source": [
    "require 'minitest/autorun'\n",
    "require_relative 'wordplay'\n",
    "\n",
    "class TestWordPlay < Minitest::Test\n",
    "end\n"
   ]
  },
  {
   "cell_type": "markdown",
   "metadata": {},
   "source": [
    "* __Testing Sentence Separation__"
   ]
  },
  {
   "cell_type": "code",
   "execution_count": null,
   "metadata": {
    "collapsed": true
   },
   "outputs": [],
   "source": [
    "def test_sentences\n",
    "  assert_equal([\"a\", \"b\", \"c d\", \"e f g\"], \"a. b. c d. e f g.\".sentences)\n",
    "\n",
    "  test_text = %q{Hello. This is a test\n",
    "of sentence separation. This is the end\n",
    "of the test.}\n",
    "  assert_equal(\"This is the end of the test\", test_text.sentences[2])\n",
    "end\n"
   ]
  },
  {
   "cell_type": "markdown",
   "metadata": {},
   "source": [
    "* __Testing Word Separation__"
   ]
  },
  {
   "cell_type": "code",
   "execution_count": null,
   "metadata": {
    "collapsed": true
   },
   "outputs": [],
   "source": [
    "def test_words\n",
    "  assert_equal(%w{this is a test}, \"this is a test\".words)\n",
    "  assert_equal(%w{these are mostly words}, \"these are, mostly, words\".words)\n",
    "end\n"
   ]
  },
  {
   "cell_type": "markdown",
   "metadata": {},
   "source": [
    "* __Testing Best Sentence Choice__"
   ]
  },
  {
   "cell_type": "code",
   "execution_count": null,
   "metadata": {
    "collapsed": true
   },
   "outputs": [],
   "source": [
    "def test_sentence_choice\n",
    "  assert_equal('This is a great test',\n",
    "               WordPlay.best_sentence(['This is a test',\n",
    "                                                         'This is another test',\n",
    "                                                         'This is a great test'],\n",
    "                                                       %w{test great this}))\n",
    "  assert_equal('This is a great test',\n",
    "                         WordPlay.best_sentence(['This is a great test'],\n",
    "                                                                  %w{still the best}))\n",
    "end\n"
   ]
  },
  {
   "cell_type": "markdown",
   "metadata": {},
   "source": [
    "* __Testing Pronoun Switches__"
   ]
  },
  {
   "cell_type": "code",
   "execution_count": null,
   "metadata": {
    "collapsed": true
   },
   "outputs": [],
   "source": [
    "def test_basic_pronouns\n",
    "  assert_equal(\"i am a robot\", WordPlay.switch_pronouns(\"you are a robot\"))\n",
    "  assert_equal(\"you are a person\", WordPlay.switch_pronouns(\"i am a person\"))\n",
    "  assert_equal(\"i love you\", WordPlay.switch_pronouns(\"you love me\"))\n",
    "end"
   ]
  },
  {
   "cell_type": "code",
   "execution_count": null,
   "metadata": {
    "collapsed": true
   },
   "outputs": [],
   "source": [
    "def test_mixed_pronouns\n",
    "  assert_equal(\"you gave me life\", WordPlay.switch_pronouns(\"i gave you life\"))\n",
    "  assert_equal(\"i am not what you are\", WordPlay.switch_pronouns(\"you are not➥\n",
    "what i am\"))\n",
    "  assert_equal(\"i annoy your dog\", WordPlay.switch_pronouns(\"you annoy my dog\"))\n",
    "end"
   ]
  },
  {
   "cell_type": "code",
   "execution_count": null,
   "metadata": {
    "collapsed": true
   },
   "outputs": [],
   "source": [
    "def test_complex_pronouns\n",
    "  assert_equal(\"yes, i rule\", WordPlay.switch_pronouns(\"yes, you rule\"))\n",
    "  assert_equal(\"why do i cry\", WordPlay.switch_pronouns(\"why do you cry\"))\n",
    "end"
   ]
  },
  {
   "cell_type": "markdown",
   "metadata": {},
   "source": [
    "### 12.2.3 WordPlay's Source Code"
   ]
  },
  {
   "cell_type": "markdown",
   "metadata": {},
   "source": [
    "* __wordplay.rb__"
   ]
  },
  {
   "cell_type": "code",
   "execution_count": null,
   "metadata": {
    "collapsed": true
   },
   "outputs": [],
   "source": [
    "class String\n",
    "  def sentences\n",
    "    self.gsub(/\\n|\\r/, ' ').split(/\\.\\s*/)\n",
    "  end\n",
    "\n",
    "  def words\n",
    "    self.scan(/\\w[\\w\\'\\-]*/)\n",
    "  end\n",
    "end\n",
    "\n",
    "class WordPlay\n",
    "  def self.switch_pronouns(text)\n",
    "    text.gsub(/\\b(I am|You are|I|You|Me|Your|My)\\b/i) do |pronoun|\n",
    "      case pronoun.downcase\n",
    "        when \"i\"\n",
    "          \"you\"\n",
    "        when \"you\"\n",
    "          \"me\"\n",
    "        when \"me\"\n",
    "          \"you\"\n",
    "        when \"i am\"\n",
    "          \"you are\"\n",
    "        when \"you are\"\n",
    "          \"i am\"\n",
    "        when \"your\"\n",
    "          \"my\"\n",
    "        when \"my\"\n",
    "          \"your\"\n",
    "      end\n",
    "    end.sub(/^me\\b/i, 'i')\n",
    "  end\n",
    "  def self.best_sentence(sentences, desired_words)\n",
    "    ranked_sentences = sentences.sort_by do |s|\n",
    "      s.words.length - (s.downcase.words - desired_words).length\n",
    "    end\n",
    "\n",
    "    ranked_sentences.last\n",
    "  end\n",
    "end"
   ]
  },
  {
   "cell_type": "markdown",
   "metadata": {},
   "source": [
    "* __test_wordplay.rb__"
   ]
  },
  {
   "cell_type": "code",
   "execution_count": null,
   "metadata": {
    "collapsed": true
   },
   "outputs": [],
   "source": [
    "\n",
    "require 'minitest/autorun'\n",
    "require_relative 'wordplay'\n",
    "\n",
    "# Unit testing class for the WordPlay library\n",
    "class TestWordPlay < Minitest::Test\n",
    "\n",
    "  # Test that multiple sentence blocks are split up into individual\n",
    "  # words correctly\n",
    "  def test_sentences\n",
    "    assert_equal([\"a\", \"b\", \"c d\", \"e f g\"], \"a. b. c d. e f g.\".sentences)\n",
    "\n",
    "    test_text = %q{Hello. This is a test\n",
    "of sentence separation. This is the end\n",
    "of the test.}\n",
    "    assert_equal(\"This is the end of the test\", test_text.sentences[2])\n",
    "  end\n",
    "\n",
    "  # Test that sentences of words are split up into distinct words correctly\n",
    "  def test_words\n",
    "    assert_equal(%w{this is a test}, \"this is a test\".words)\n",
    "    assert_equal(%w{these are mostly words}, \"these are, mostly, words\".words)\n",
    "  end\n",
    "\n",
    "  # Test that the correct sentence is chosen, given the input\n",
    "  def test_sentence_choice\n",
    "    assert_equal('This is a great test',\n",
    "                 WordPlay.best_sentence(['This is a test',\n",
    "                                         'This is another test',\n",
    "                                         'This is a great test'],\n",
    "                                        %w{test great this}))\n",
    "    assert_equal('This is a great test',\n",
    "                 WordPlay.best_sentence(['This is a great test'],\n",
    "                                        %w{still the best}))\n",
    "  end\n",
    "\n",
    "  # Test that basic pronouns are switched by switch_pronouns\n",
    "  def test_basic_pronouns\n",
    "    assert_equal(\"i am a robot\", WordPlay.switch_pronouns(\"you are a robot\"))\n",
    "    assert_equal(\"you are a person\", WordPlay.switch_pronouns(\"i am a person\"))\n",
    "    assert_equal(\"i love you\", WordPlay.switch_pronouns(\"you love me\"))\n",
    "  end\n",
    "\n",
    "  # Test more complex sentence switches using switch_pronouns\n",
    "  def test_mixed_pronouns\n",
    "    assert_equal(\"you gave me life\",\n",
    "                 WordPlay.switch_pronouns(\"i gave you life\"))\n",
    "\n",
    "    assert_equal(\"i am not what you are\",\n",
    "                 WordPlay.switch_pronouns(\"you are not what i am\"))\n",
    "  end\n",
    "\n",
    "end\n"
   ]
  },
  {
   "cell_type": "markdown",
   "metadata": {},
   "source": [
    "## 12.3 Building the Bot's Core"
   ]
  },
  {
   "cell_type": "code",
   "execution_count": null,
   "metadata": {
    "collapsed": true
   },
   "outputs": [],
   "source": [
    "require_relative 'bot'\n",
    "\n",
    "bot = Bot.new(:name => \"Botty\", :data_file => \"botty.bot\")\n",
    "\n",
    "puts bot.greeting\n",
    "while input = gets and input.chomp != 'goodbye'\n",
    "  puts \">> \" + bot.response_to(input)\n",
    "end\n",
    "puts bot.farewell\n"
   ]
  },
  {
   "cell_type": "markdown",
   "metadata": {},
   "source": [
    "### 12.3.1 The Program's Lifecycle and Parts"
   ]
  },
  {
   "cell_type": "markdown",
   "metadata": {},
   "source": [
    "### 12.3.2 Bot Data"
   ]
  },
  {
   "cell_type": "markdown",
   "metadata": {},
   "source": [
    "* __The Data Structure__"
   ]
  },
  {
   "cell_type": "code",
   "execution_count": null,
   "metadata": {
    "collapsed": true
   },
   "outputs": [],
   "source": [
    "\n",
    "bot_data = {\n",
    "  :presubs => [\n",
    "    [\"dont\", \"don't\"],\n",
    "    [\"youre\", \"you're\"],\n",
    "    [\"love\", \"like\"]\n",
    "  ],\n",
    "\n",
    "  :responses => {\n",
    "    :default   => [\n",
    "                    \"I don't understand.\",\n",
    "                    \"What?\",\n",
    "                    \"Huh?\"\n",
    "                  ],\n",
    "    :greeting  => [\"Hi. I'm [name]. Want to chat?\"],\n",
    "    :farewell  => [\"Good bye!\"],\n",
    "    'hello'    => [\n",
    "                    \"How's it going?\",\n",
    "                    \"How do you do?\"\n",
    "                  ],\n",
    "    'i like *' => [\n",
    "                    \"Why do you like *?\",\n",
    "                    \"Wow! I like * too!\"\n",
    "                  ]\n",
    "  }\n",
    "}\n"
   ]
  },
  {
   "cell_type": "markdown",
   "metadata": {},
   "source": [
    "* __Storing the Data Externally__"
   ]
  },
  {
   "cell_type": "code",
   "execution_count": null,
   "metadata": {
    "collapsed": true
   },
   "outputs": [],
   "source": [
    "require 'yaml'\n",
    "\n",
    "bot_data = {\n",
    "  :presubs => [\n",
    "    [\"dont\", \"don't\"],\n",
    "    [\"youre\", \"you're\"],\n",
    "    [\"love\", \"like\"]\n",
    "  ],\n",
    "  :responses => {\n",
    "    :default       => [\n",
    "                        \"I don't understand.\",\n",
    "                        \"What?\",\n",
    "                        \"Huh?\"\n",
    "                      ],\n",
    "    :greeting      => [\"Hi. I'm [name]. Want to chat?\"],\n",
    "    :farewell      => [\"Good bye!\"],\n",
    "    'hello'        => [\n",
    "                        \"How's it going?\",\n",
    "                        \"How do you do?\"\n",
    "                      ],\n",
    "    'i like *'     => [\n",
    "                        \"Why do you like *?\",\n",
    "                        \"Wow! I like * too!\"\n",
    "                      ]\n",
    "  }\n",
    "}\n",
    "\n",
    "# Show the user the YAML data for the bot structure\n",
    "puts bot_data.to_yaml\n",
    "\n",
    "# Write the YAML data to file\n",
    "f = File.open(ARGV.first || 'bot_data', \"w\")\n",
    "f.puts bot_data.to_yaml\n",
    "f.close"
   ]
  },
  {
   "cell_type": "markdown",
   "metadata": {},
   "source": [
    "### 12.3.3 Constructing the Bot Class and Data Loader"
   ]
  },
  {
   "cell_type": "code",
   "execution_count": null,
   "metadata": {
    "collapsed": true
   },
   "outputs": [],
   "source": [
    "\n",
    "require 'yaml'\n",
    "require_relative 'wordplay'\n",
    "\n",
    "class Bot\n",
    "  attr_reader :name\n",
    "\n",
    "  def initialize(options)\n",
    "    @name = options[:name] || \"Unnamed Bot\"\n",
    "    begin\n",
    "      @data = YAML.load(File.read(options[:data_file]))\n",
    "    rescue\n",
    "      raise \"Can't load bot data\"\n",
    "    end\n",
    "  end\n",
    "end"
   ]
  },
  {
   "cell_type": "code",
   "execution_count": null,
   "metadata": {
    "collapsed": true
   },
   "outputs": [],
   "source": [
    "def greeting\n",
    "  @data[:responses][:greeting][rand(@data[:responses][:greeting].length)]\n",
    "end\n",
    "\n",
    "def farewell\n",
    "  @data[:responses][:farewell][rand(@data[:responses][:farewell].length)]\n",
    "end"
   ]
  },
  {
   "cell_type": "code",
   "execution_count": null,
   "metadata": {
    "collapsed": true
   },
   "outputs": [],
   "source": [
    "private\n",
    "\n",
    "def random_response(key)\n",
    "  random_index = rand(@data[:responses][key].length)\n",
    "  @data[:responses][key][random_index].gsub(/\\[name\\]/, @name)\n",
    "end"
   ]
  },
  {
   "cell_type": "code",
   "execution_count": null,
   "metadata": {
    "collapsed": true
   },
   "outputs": [],
   "source": [
    "def greeting\n",
    "  random_response :greeting\n",
    "end\n",
    "\n",
    "def farewell\n",
    "  random_response :farewell\n",
    "end"
   ]
  },
  {
   "cell_type": "markdown",
   "metadata": {},
   "source": [
    "### 12.3.4 The response_to Method"
   ]
  },
  {
   "cell_type": "markdown",
   "metadata": {},
   "source": [
    "* __Accepting Input and Performing Substitutions__"
   ]
  },
  {
   "cell_type": "code",
   "execution_count": null,
   "metadata": {
    "collapsed": true
   },
   "outputs": [],
   "source": [
    "\n",
    "def response_to(input)\n",
    "end\n",
    "\n",
    "# ----\n",
    "\n",
    "def response_to(input)\n",
    "  prepared_input = preprocess(input).downcase\n",
    "end\n",
    "\n",
    "# ----\n",
    "\n",
    "private\n",
    "\n",
    "def preprocess(input)\n",
    "  perform_substitutions input\n",
    "end\n",
    "\n",
    "# ----\n",
    "\n",
    "def perform_substitutions(input)\n",
    "  @data[:presubs].each { |s| input.gsub!(s[0], s[1]) }\n",
    "  input\n",
    "end"
   ]
  },
  {
   "cell_type": "markdown",
   "metadata": {},
   "source": [
    "* __Choosing the Best Sentence__"
   ]
  },
  {
   "cell_type": "code",
   "execution_count": null,
   "metadata": {
    "collapsed": true
   },
   "outputs": [],
   "source": [
    "def response_to(input)\n",
    "  prepared_input = preprocess(input.downcase)\n",
    "  sentence = best_sentence(prepared_input)\n",
    "end\n",
    "\n",
    "# ----\n",
    "\n",
    "def best_sentence(input)\n",
    "  hot_words = @data[:responses].keys.select do |k|\n",
    "    k.class == String && k =~ /^\\w+$/\n",
    "  end\n",
    "\n",
    "  WordPlay.best_sentence(input.sentences, hot_words)\n",
    "end\n",
    "\n",
    "# ----\n",
    "\n",
    "def best_sentence(input)\n",
    "  input.sentences.first\n",
    "end\n",
    "\n",
    "# ----\n",
    "\n",
    "def best_sentence(input)\n",
    "  input.sentences.sort_by { |s| s.length }.last\n",
    "end\n"
   ]
  },
  {
   "cell_type": "markdown",
   "metadata": {},
   "source": [
    "* __Looking for Matching Phrases__"
   ]
  },
  {
   "cell_type": "code",
   "execution_count": null,
   "metadata": {
    "collapsed": true
   },
   "outputs": [],
   "source": [
    "\n",
    "def response_to(input)\n",
    "  prepared_input = preprocess(input.downcase)\n",
    "  sentence = best_sentence(prepared_input)\n",
    "  responses = possible_responses(sentence)\n",
    "end\n",
    "\n",
    "# ----\n",
    "\n",
    "def possible_responses(sentence)\n",
    "  responses = []\n",
    "\n",
    "  # Find all patterns to try to match against\n",
    "  @data[:responses].keys.each do |pattern|\n",
    "    next unless pattern.is_a?(String)\n",
    "\n",
    "    # For each pattern, see if the supplied sentence contains\n",
    "    # a match. Remove substitution symbols (*) before checking.\n",
    "    # Push all responses to the responses array.\n",
    "    if sentence.match('\\b' + pattern.gsub(/\\*/, '') + '\\b')\n",
    "      responses << @data[:responses][pattern]\n",
    "    end\n",
    "  end\n",
    "\n",
    "  # If there were no matches, add the default ones\n",
    "  responses << @data[:responses][:default] if responses.empty?\n",
    "\n",
    "  # Flatten the blocks of responses to a flat array\n",
    "  responses.flatten\n",
    "end"
   ]
  },
  {
   "cell_type": "markdown",
   "metadata": {},
   "source": [
    "* __Putting Together the Final Phrase__"
   ]
  },
  {
   "cell_type": "code",
   "execution_count": null,
   "metadata": {
    "collapsed": true
   },
   "outputs": [],
   "source": [
    "def response_to(input)\n",
    "  prepared_input = preprocess(input.downcase)\n",
    "  sentence = best_sentence(prepared_input)\n",
    "  responses = possible_responses(sentence)\n",
    "  responses[rand(responses.length)]\n",
    "end\n",
    "\n",
    "# ----\n",
    "\n",
    "'i like *' => [\n",
    "                \"Why do you like *?\",\n",
    "                \"Wow! I like * too!\"\n",
    "                ]\n"
   ]
  },
  {
   "cell_type": "code",
   "execution_count": null,
   "metadata": {
    "collapsed": true
   },
   "outputs": [],
   "source": [
    "def possible_responses(sentence)\n",
    "  responses = []\n",
    "\n",
    "# Find all patterns to try to match against\n",
    "  @data[:responses].keys.each do |pattern|\n",
    "    next unless pattern.is_a?(String)\n",
    "\n",
    "    # For each pattern, see if the supplied sentence contains\n",
    "    # a match. Remove substitution symbols (*) before checking.\n",
    "    # Push all responses to the responses array.\n",
    "    if sentence.match('\\b' + pattern.gsub(/\\*/, '') + '\\b')\n",
    "      # If the pattern contains substitution placeholders,\n",
    "      # perform the substitutions\n",
    "      if pattern.include?('*')\n",
    "        responses << @data[:responses][pattern].collect do |phrase|\n",
    "          # First, erase everything before the placeholder\n",
    "          # leaving everything after it\n",
    "          matching_section = sentence.sub(/^.*#{pattern}\\s+/, '')\n",
    "\n",
    "          # Then substitute the text after the placeholder, with\n",
    "          # the pronouns switched\n",
    "          phrase.sub('*', WordPlay.switch_pronouns(matching_section))\n",
    "        end\n",
    "      else\n",
    "        # No placeholders? Just add the phrases to the array\n",
    "        responses << @data[:responses][pattern]\n",
    "      end\n",
    "    end\n",
    "  end\n",
    "\n",
    "  # If there were no matches, add the default ones\n",
    "  responses << @data[:responses][:default] if responses.empty?\n",
    "\n",
    "  # Flatten the blocks of responses to a flat array\n",
    "  responses.flatten\n",
    "end"
   ]
  },
  {
   "cell_type": "markdown",
   "metadata": {},
   "source": [
    "### 12.3.5 Playing with the Bot"
   ]
  },
  {
   "cell_type": "markdown",
   "metadata": {},
   "source": [
    "* __Fred: Your Bot's Personality__"
   ]
  },
  {
   "cell_type": "code",
   "execution_count": null,
   "metadata": {
    "collapsed": true
   },
   "outputs": [],
   "source": [
    "\n",
    "require 'yaml'\n",
    "\n",
    "bot_data = {\n",
    "  :presubs => [\n",
    "    [\"dont\", \"do not\"],\n",
    "    [\"don't\", \"do not\"],\n",
    "    [\"youre\", \"you're\"],\n",
    "    [\"love\", \"like\"],\n",
    "    [\"apologize\", \"are sorry\"],\n",
    "    [\"dislike\", \"hate\"],\n",
    "    [\"despise\", \"hate\"],\n",
    "    [\"yeah\", \"yes\"],\n",
    "    [\"mom\", \"family\"]\n",
    "  ],\n",
    "  :responses => {\n",
    "    :default     => [\n",
    "                    \"I don't understand.\",\n",
    "                    \"What?\",\n",
    "                    \"Huh?\",\n",
    "                    \"Tell me about something else.\",\n",
    "                    \"I'm tired of this. Change the subject.\"\n",
    "                    ],\n",
    "    :greeting    => [\n",
    "                    \"Hi. I'm [name]. Want to chat?\",\n",
    "                    \"What's on your mind today?\",\n",
    "                    \"Hi. What would you like to talk about?\"\n",
    "                    ],\n",
    "    :farewell    => [\"Good bye!\", \"Au revoir!\"],\n",
    "    'hello'      => [\n",
    "                    \"How's it going?\",\n",
    "                    \"How do you do?\",\n",
    "                    \"Enough of the pleasantries!\"\n",
    "                    ],\n",
    "    'sorry'      => [\"There's no need to apologize.\"],\n",
    "    'different'  => [\n",
    "                    \"How is it different?\",\n",
    "                    \"What has changed?\"\n",
    "                    ],\n",
    "    'everyone *' => [\"You think everyone *?\"],\n",
    "    'do not know'=> [\"Are you always so indecisive?\"],\n",
    "    'yes' => [\n",
    "                    \"At least you're positive about something!\",\n",
    "                    \"Great.\"\n",
    "                    ],\n",
    "    'family'     => [\"Tell me about your family\"],\n",
    "    'you are *'  => [\n",
    "                    \"What makes you think I am *?\",\n",
    "                    \"Are you so sure I am *?\"\n",
    "                    ],\n",
    "    'i am *'     => [\n",
    "                    \"Is it normal for you to be *?\",\n",
    "                    \"Do you like being *?\"\n",
    "                    ],\n",
    "    'i do not *' => [\"Why don't you *?\"],\n",
    "    'what'       => [\"Why do you ask?\", \"Why?\", \"I don't know. Do you?\"],\n",
    "    'no'         => [\n",
    "                    \"Really?\",\n",
    "                    \"Fair enough.\"\n",
    "                    ],\n",
    "    'why does *' => [\n",
    "                    \"I don't know why *\",\n",
    "                    \"Do you already know the answer?\"\n",
    "                    ],\n",
    "    'why can\\'t i *' => [\"Do you want to *?\"],\n",
    "    'why can\\'t you *' => [\"Do you want me to *?\"],\n",
    "    'hates *'   => [\n",
    "                   \"Why do you think they hate *?\"\n",
    "                   ],\n",
    "    'hate *'    => [\n",
    "                   \"Why don't you like *?\",\n",
    "                   \"Why the dislike of *?\"\n",
    "                   ],\n",
    "    'i like *'  => [\n",
    "                   \"Why do you like *?\",\n",
    "                   \"Wow! I like * too!\"\n",
    "                   ]\n",
    "  }\n",
    "}\n",
    "# Show the user the YAML data for the bot structure\n",
    "puts bot_data.to_yaml\n",
    "\n",
    "# Write the YAML data to file\n",
    "f = File.open(ARGV.first || 'bot_data', \"w\")\n",
    "f.puts bot_data.to_yaml\n",
    "f.close\n"
   ]
  },
  {
   "cell_type": "markdown",
   "metadata": {},
   "source": [
    "* __The First Real Conversation__"
   ]
  },
  {
   "cell_type": "code",
   "execution_count": null,
   "metadata": {
    "collapsed": true
   },
   "outputs": [],
   "source": [
    "\n",
    "require_relative 'bot'\n",
    "\n",
    "bot = Bot.new(:name => 'Fred', :data_file => 'fred.bot')\n",
    "\n",
    "puts bot.greeting\n",
    "\n",
    "while input = gets and input.chomp != 'end'\n",
    "  puts '>> ' + bot.response_to(input)\n",
    "end\n",
    "\n",
    "puts bot.farewell"
   ]
  },
  {
   "cell_type": "markdown",
   "metadata": {},
   "source": [
    "## 12.4 Main Bot Code Listing"
   ]
  },
  {
   "cell_type": "markdown",
   "metadata": {},
   "source": [
    "### 12.4.1 bot.rb"
   ]
  },
  {
   "cell_type": "code",
   "execution_count": null,
   "metadata": {
    "collapsed": true
   },
   "outputs": [],
   "source": [
    "\n",
    "require 'yaml'\n",
    "require_relative 'wordplay'\n",
    "\n",
    "# A basic implementation of a chatterbot\n",
    "class Bot\n",
    "  attr_reader :name\n",
    "\n",
    "  # Initializes the bot object, loads in the external YAML data\n",
    "  # file and sets the bot's name. Raises an exception if\n",
    "  # the data loading process fails.\n",
    "  def initialize(options)\n",
    "    @name = options[:name] || \"Unnamed Bot\"\n",
    "    begin\n",
    "      @data = YAML.load(File.open(options[:data_file]).read)\n",
    "    rescue\n",
    "      raise \"Can't load bot data\"\n",
    "    end\n",
    "  end\n",
    "\n",
    "  # Returns a random greeting as specified in the bot's data file\n",
    "  def greeting\n",
    "    random_response(:greeting)\n",
    "  end\n",
    "\n",
    "  # Returns a random farewell message as specified in the bot's\n",
    "  # data file\n",
    "  def farewell\n",
    "    random_response(:farewell)\n",
    "  end\n",
    "\n",
    "  # Responds to input text as given by a user\n",
    "  def response_to(input)\n",
    "    prepared_input = preprocess(input.downcase)\n",
    "    sentence = best_sentence(prepared_input)\n",
    "    reversed_sentence = WordPlay.switch_pronouns(sentence)\n",
    "    responses = possible_responses(sentence)\n",
    "    responses[rand(responses.length)]\n",
    "  end\n",
    "\n",
    "  private\n",
    "\n",
    "  # Chooses a random response phrase from the :responses hash\n",
    "  # and substitutes metadata into the phrase\n",
    "  def random_response(key)\n",
    "    random_index = rand(@data[:responses][key].length)\n",
    "    @data[:responses][key][random_index].gsub(/\\[name\\]/, @name)\n",
    "  end\n",
    "\n",
    "  # Performs preprocessing tasks upon all input to the bot\n",
    "  def preprocess(input)\n",
    "    perform_substitutions(input)\n",
    "  end\n",
    "\n",
    "  # Substitutes words and phrases on supplied input as dictated by\n",
    "  # the bot's :presubs data\n",
    "  def perform_substitutions(input)\n",
    "    @data[:presubs].each { |s| input.gsub!(s[0], s[1]) }\n",
    "    input\n",
    "end\n",
    "\n",
    "  # Using the single word keys from :responses, we search for the\n",
    "  # sentence that uses the most of them, as it's likely to be the\n",
    "  # 'best' sentence to parse\n",
    "  def best_sentence(input)\n",
    "    hot_words = @data[:responses].keys.select do |k|\n",
    "      k.class == String && k =~ /^\\w+$/\n",
    "    end\n",
    "\n",
    "    WordPlay.best_sentence(input.sentences, hot_words)\n",
    "  end\n",
    "\n",
    "  # Using a supplied sentence, go through the bot's :responses\n",
    "  # data set and collect together all phrases that could be\n",
    "  # used as responses\n",
    "  def possible_responses(sentence)\n",
    "    responses = []\n",
    "\n",
    "  # Find all patterns to try to match against\n",
    "  @data[:responses].keys.each do |pattern|\n",
    "    next unless pattern.is_a?(String)\n",
    "\n",
    "    # For each pattern, see if the supplied sentence contains\n",
    "    # a match. Remove substitution symbols (*) before checking.\n",
    "    # Push all responses to the responses array.\n",
    "      if sentence.match('\\b' + pattern.gsub(/\\*/, '') + '\\b')\n",
    "        # If the pattern contains substitution placeholders,\n",
    "        # perform the substitutions\n",
    "        if pattern.include?('*')\n",
    "          responses << @data[:responses][pattern].collect do |phrase|\n",
    "            # First, erase everything before the placeholder\n",
    "            # leaving everything after it\n",
    "            matching_section = sentence.sub(/^.*#{pattern}\\s+/, '')\n",
    "\n",
    "            # Then substitute the text after the placeholder, with\n",
    "            # the pronouns switched\n",
    "            phrase.sub('*', WordPlay.switch_pronouns(matching_section))\n",
    "          end\n",
    "        else\n",
    "          # No placeholders? Just add the phrases to the array\n",
    "          responses << @data[:responses][pattern]\n",
    "        end\n",
    "      end\n",
    "    end\n",
    "\n",
    "    # If there were no matches, add the default ones\n",
    "    responses << @data[:responses][:default] if responses.empty?\n",
    "\n",
    "    # Flatten the blocks of responses to a flat array\n",
    "    responses.flatten\n",
    "  end\n",
    "\n",
    "end"
   ]
  },
  {
   "cell_type": "markdown",
   "metadata": {},
   "source": [
    "### 12.4.2 basic_client.rb"
   ]
  },
  {
   "cell_type": "code",
   "execution_count": null,
   "metadata": {
    "collapsed": true
   },
   "outputs": [],
   "source": [
    "require_relative 'bot'\n",
    "\n",
    "bot = Bot.new(:name => ARGV[0], :data_file => ARGV[1])\n",
    "\n",
    "puts bot.greeting\n",
    "\n",
    "while input = $stdin.gets and input.chomp != 'end'\n",
    "  puts '>> ' + bot.response_to(input)\n",
    "end\n",
    "\n",
    "puts bot.farewell"
   ]
  },
  {
   "cell_type": "markdown",
   "metadata": {},
   "source": [
    "## 12.5 Extending the Bot"
   ]
  },
  {
   "cell_type": "markdown",
   "metadata": {},
   "source": [
    "### 12.5.1 Using Text Files as a Source of Conversation"
   ]
  },
  {
   "cell_type": "code",
   "execution_count": null,
   "metadata": {
    "collapsed": true
   },
   "outputs": [],
   "source": [
    "\n",
    "require_relative 'bot'\n",
    "\n",
    "bot = Bot.new(:name => ARGV[0], :data_file => ARGV[1])\n",
    "user_lines = File.readlines(ARGV[2], 'r')\n",
    "\n",
    "puts \"#{bot.name} says: \" + bot.greeting\n",
    "\n",
    "user_lines.each do |line|\n",
    "  puts \"You say: \" + line\n",
    "  puts \"#{bot.name} says:\" + bot.response_to(line)\n",
    "end"
   ]
  },
  {
   "cell_type": "markdown",
   "metadata": {},
   "source": [
    "### 12.5.2 Connecting the Bot to the Web"
   ]
  },
  {
   "cell_type": "code",
   "execution_count": null,
   "metadata": {
    "collapsed": true
   },
   "outputs": [],
   "source": [
    "require 'webrick'\n",
    "require_relative 'bot'\n",
    "\n",
    "# Class that responds to HTTP/Web requests and interacts with the bot\n",
    "class BotServlet < WEBrick::HTTPServlet::AbstractServlet\n",
    "\n",
    "  # A basic HTML template consisting of a basic page with a form\n",
    "  # and text entry box for the user to converse with our bot. It uses\n",
    "  # some placeholder text (%RESPONSE%) so the bot's responses can be\n",
    "  # substituted in easily later.\n",
    "  @@html = %q{\n",
    "  <html><body>\n",
    "    <form method=\"get\">\n",
    "      <h1>Talk To A Bot</h1>\n",
    "      %RESPONSE%\n",
    "      <p>\n",
    "        <b>You say:</b> <input type=\"text\" name=\"line\" size=\"40\" />\n",
    "        <input type=\"submit\" />\n",
    "      </p>\n",
    "    </form>\n",
    "  </body></html>\n",
    "  }\n",
    "\n",
    "  def do_GET(request, response)\n",
    "    # Mark the request as successful and set MIME type to support HTML\n",
    "    response.status = 200\n",
    "    response.content_type = \"text/html\"\n",
    "\n",
    "    # If the user supplies some text, respond to it\n",
    "    if request.query['line'] && request.query['line'].length > 1\n",
    "      bot_text = $bot.response_to(request.query['line'].chomp)\n",
    "    else\n",
    "      bot_text = $bot.greeting\n",
    "    end\n",
    "\n",
    "    # Format the text and substitute into the HTML template\n",
    "    bot_text = %Q{<p><b>I say:</b> #{bot_text}</p>}\n",
    "    response.body = @@html.sub(/\\%RESPONSE\\%/, bot_text)\n",
    "  end\n",
    "end\n",
    "\n",
    "# Create an HTTP server on port 1234 of the local machine\n",
    "# accessible via http://localhost:1234/ or http://127.0.0.1:1234/\n",
    "server = WEBrick::HTTPServer.new( :Port => 1234 )\n",
    "$bot = Bot.new(:name => \"Fred\", :data_file => \"fred.bot\")\n",
    "server.mount \"/\", BotServlet\n",
    "trap(\"INT\"){ server.shutdown }\n",
    "server.start"
   ]
  },
  {
   "cell_type": "code",
   "execution_count": null,
   "metadata": {
    "collapsed": true
   },
   "outputs": [],
   "source": [
    "#!/usr/bin/env ruby\n",
    "\n",
    "require_relative 'bot'\n",
    "require 'cgi'\n",
    "\n",
    "# A basic HTML template creating a basic page with a forum and text\n",
    "# entry box for the user to converse with our bot. It uses some\n",
    "# placeholder text (%RESPONSE%) so the bot's responses can be\n",
    "# substituted in easily later\n",
    "html = %q{\n",
    "  <html><body>\n",
    "    <form method=\"get\">\n",
    "      <h1>Talk To A Bot</h1>\n",
    "      %RESPONSE%\n",
    "      <p>\n",
    "        <b>You say:</b> <input type=\"text\" name=\"line\" size=\"40\" />\n",
    "        <input type=\"submit\" />\n",
    "      </p>\n",
    "    </form>\n",
    "  </body></html>\n",
    "}\n",
    "\n",
    "# Set up the CGI environment and make the parameters easy to access\n",
    "cgi = CGI.new\n",
    "params = cgi.params\n",
    "line = params['line'] && params['line'].first\n",
    "\n",
    "bot = Bot.new(:name => \"Fred\", :data_file => \"fred.bot\")\n",
    "\n",
    "# If the user supplies some text, respond to it\n",
    "if line && line.length > 1\n",
    "  bot_text = bot.response_to(line.chomp)\n",
    "else\n",
    "  bot_text = bot.greeting\n",
    "end\n",
    "\n",
    "# Format the text and substitute into the HTML template\n",
    "# as well as sending the MIME header for HTML support\n",
    "bot_text = %Q{<p><b>I say:</b> #{bot_text}</p>}\n",
    "puts \"Content-type: text/html\\n\\n\"\n",
    "puts html.sub(/\\%RESPONSE\\%/, bot_text)"
   ]
  },
  {
   "cell_type": "markdown",
   "metadata": {},
   "source": [
    "### 12.5.3 Bot-to-Bot Conversations"
   ]
  },
  {
   "cell_type": "code",
   "execution_count": null,
   "metadata": {
    "collapsed": true
   },
   "outputs": [],
   "source": [
    "\n",
    "require_relative 'bot'\n",
    "\n",
    "fred = Bot.new(:name => 'Fred', :data_file => 'fred.bot')\n",
    "chris = Bot.new(:name => 'Chris', :data_file => 'fred.bot')\n",
    "\n",
    "r = fred.greeting\n",
    "10.times do\n",
    "  puts \"#{fred.name} said: \" + r\n",
    "  r = chris.response_to(r)\n",
    "  puts \"#{chris.name} said: \" + r\n",
    "  r = fred.response_to(r)\n",
    "end\n"
   ]
  },
  {
   "cell_type": "markdown",
   "metadata": {},
   "source": [
    "## 12.6 Summary"
   ]
  },
  {
   "cell_type": "code",
   "execution_count": null,
   "metadata": {
    "collapsed": true
   },
   "outputs": [],
   "source": []
  }
 ],
 "metadata": {
  "kernelspec": {
   "display_name": "Ruby 2.3.3",
   "language": "ruby",
   "name": "ruby"
  },
  "language_info": {
   "file_extension": ".rb",
   "mimetype": "application/x-ruby",
   "name": "ruby",
   "version": "2.3.3"
  }
 },
 "nbformat": 4,
 "nbformat_minor": 1
}
