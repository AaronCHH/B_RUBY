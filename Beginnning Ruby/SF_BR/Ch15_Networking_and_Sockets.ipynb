{
 "cells": [
  {
   "cell_type": "markdown",
   "metadata": {},
   "source": [
    "# Chapter 15: Networking and Sockets"
   ]
  },
  {
   "cell_type": "markdown",
   "metadata": {},
   "source": [
    "<div id=\"toc\"></div>"
   ]
  },
  {
   "cell_type": "markdown",
   "metadata": {},
   "source": [
    "## 15.1 Networking Concepts"
   ]
  },
  {
   "cell_type": "markdown",
   "metadata": {},
   "source": [
    "### 15.1.1 TCP and UDP"
   ]
  },
  {
   "cell_type": "markdown",
   "metadata": {},
   "source": [
    "### 15.1.2 IP Addresses and DNS"
   ]
  },
  {
   "cell_type": "markdown",
   "metadata": {},
   "source": [
    "## 15.2 Basic Network Operations"
   ]
  },
  {
   "cell_type": "markdown",
   "metadata": {},
   "source": [
    "### 15.2.1 Checking Machine and Service Availability"
   ]
  },
  {
   "cell_type": "code",
   "execution_count": null,
   "metadata": {
    "collapsed": true
   },
   "outputs": [],
   "source": [
    "require 'net/ping'\n",
    "if Net::Ping::External.new('www.google.com').ping\n",
    "    puts \"Pong!\"\n",
    "else\n",
    "    puts \"No response\"\n",
    "end"
   ]
  },
  {
   "cell_type": "code",
   "execution_count": null,
   "metadata": {
    "collapsed": true
   },
   "outputs": [],
   "source": [
    "require 'net/ping'\n",
    "if Net::Ping::TCP.new('www.google.com', 80).ping\n",
    "    puts \"Pong!\"\n",
    "else\n",
    "    puts \"No response\"\n",
    "end"
   ]
  },
  {
   "cell_type": "markdown",
   "metadata": {},
   "source": [
    "### 15.2.2 Performing DNS Queries"
   ]
  },
  {
   "cell_type": "code",
   "execution_count": null,
   "metadata": {
    "collapsed": true
   },
   "outputs": [],
   "source": [
    "require 'resolv'\n",
    "puts Resolv.getaddress(\"www.google.com\")"
   ]
  },
  {
   "cell_type": "code",
   "execution_count": null,
   "metadata": {
    "collapsed": true
   },
   "outputs": [],
   "source": [
    "require 'resolv'\n",
    "ip = \"192.0.34.166\"\n",
    "begin\n",
    "  puts Resolv.getname(ip)\n",
    "rescue\n",
    "  puts \"No hostname associated with #{ip}\"\n",
    "end"
   ]
  },
  {
   "cell_type": "code",
   "execution_count": null,
   "metadata": {
    "collapsed": true
   },
   "outputs": [],
   "source": [
    "require 'resolv'\n",
    "Resolv::DNS.open do |dns|\n",
    "  mail_servers = dns.getresources(\"google.com\", Resolv::DNS::Resource::IN::MX)\n",
    "  mail_servers.each do |server|\n",
    "    puts \"#{server.exchange.to_s} - #{server.preference}\"\n",
    "  end\n",
    "end"
   ]
  },
  {
   "cell_type": "code",
   "execution_count": null,
   "metadata": {
    "collapsed": true
   },
   "outputs": [],
   "source": [
    "require 'resolv'\n",
    "require 'net/smtp'\n",
    "from = \"your-email@example.com\"\n",
    "to = \"another-email@example.com\"\n",
    "message = <<MESSAGE_END\n",
    "From: #{from}\n",
    "To: #{to}\n",
    "Subject: Direct e-mail test"
   ]
  },
  {
   "cell_type": "code",
   "execution_count": null,
   "metadata": {
    "collapsed": true
   },
   "outputs": [],
   "source": [
    "to_domain = to.match(/\\@(.+)/)[1]\n",
    "Resolv::DNS.open do |dns|\n",
    "  mail_servers = dns.getresources(to_domain, Resolv::DNS::Resource::IN::MX)\n",
    "  mail_server = mail_servers[rand(mail_servers.size)].exchange.to_s\n",
    "  \n",
    "  Net::SMTP.start(mail_server) do |smtp|\n",
    "    smtp.send_message message, from, to\n",
    "  end\n",
    "end"
   ]
  },
  {
   "cell_type": "markdown",
   "metadata": {},
   "source": [
    "* Note You can learn more about DNS at http://en.wikipedia.org/wiki/Domain_Name_System."
   ]
  },
  {
   "cell_type": "markdown",
   "metadata": {},
   "source": [
    "### 15.2.3 Connecting to a TCP Server Directly"
   ]
  },
  {
   "cell_type": "code",
   "execution_count": null,
   "metadata": {
    "collapsed": true
   },
   "outputs": [],
   "source": [
    "require 'net/telnet'\n",
    "server = Net::Telnet::new('Host' => 'www.rubyinside.com',\n",
    "  'Port' => 80,\n",
    "  'Telnetmode' => false)\n",
    "server.cmd(\"GET /test.txt HTTP/1.1\\nHost: www.rubyinside.com\\n\") do |response|\n",
    "  puts response\n",
    "end"
   ]
  },
  {
   "cell_type": "markdown",
   "metadata": {},
   "source": [
    "Net::Telnet connects towww.rubyinside.com on port 80 (the standard HTTP port) and issues these commands:   \n",
    "```\n",
    "GET /test.txt HTTP/1.1  \n",
    "Host: www.rubyinside.com  \n",
    "```  \n",
    "These commands are part of the HTTP protocol and tell the remote web server to return you thetest.txt file fromwww.rubyinside.com .  \n",
    "The response is then printed to the screen where the first eight or so lines are HTTP headers, another part of the HTTP protocol.  \n",
    "This is equivalent to visiting http://www.rubyinside.com/test.txt in a web browser.  \n",
    "  \n",
    "All these technicalities are shielded from you when you use the open-uri and Net::HTTP libraries, as you did in Chapter 14 , as those libraries create the correct HTTP commands and process the HTTP responses for you.  \n",
    "However, if you need to create a library to deal with a new or currently unsupported protocol in Ruby, you’ll probably need to use Net::Telnet or a similar library to get access to the raw TCP data.  \n"
   ]
  },
  {
   "cell_type": "markdown",
   "metadata": {},
   "source": [
    "## 15.3 Servers and Clients"
   ]
  },
  {
   "cell_type": "markdown",
   "metadata": {},
   "source": [
    "### 15.3.1 UDP Client and Server"
   ]
  },
  {
   "cell_type": "code",
   "execution_count": null,
   "metadata": {
    "collapsed": true
   },
   "outputs": [],
   "source": [
    "require 'socket'\n",
    "s = UDPSocket.new\n",
    "s.bind(nil, 1234)\n",
    "5.times do\n",
    "  text, sender = s.recvfrom(16)\n",
    "  puts text\n",
    "end"
   ]
  },
  {
   "cell_type": "code",
   "execution_count": null,
   "metadata": {
    "collapsed": true
   },
   "outputs": [],
   "source": [
    "require 'socket'\n",
    "s = UDPSocket.new\n",
    "s.send(\"hello\", 0, 'localhost', 1234)"
   ]
  },
  {
   "cell_type": "code",
   "execution_count": null,
   "metadata": {
    "collapsed": true
   },
   "outputs": [],
   "source": [
    "require 'socket'\n",
    "host = 'localhost'\n",
    "port = 1234\n",
    "s = UDPSocket.new\n",
    "s.bind(nil, port)\n",
    "s.send(\"1\", 0, host, port)\n",
    "5.times do\n",
    "  text, sender = s.recvfrom(16)\n",
    "  remote_host = sender[3]\n",
    "  puts \"#{remote_host} sent #{text}\"\n",
    "  response = (text.to_i * 2).to_s\n",
    "  puts \"We will respond with #{response}\"\n",
    "  s.send(response, 0, host, port)\n",
    "end"
   ]
  },
  {
   "cell_type": "markdown",
   "metadata": {},
   "source": [
    "### 15.3.2 Building a Simple TCP Server"
   ]
  },
  {
   "cell_type": "code",
   "execution_count": null,
   "metadata": {
    "collapsed": true
   },
   "outputs": [],
   "source": [
    "require 'socket'\n",
    "server = TCPServer.new(1234)\n",
    "while connection = server.accept\n",
    "  while line = connection.gets\n",
    "    break if line =~ /quit/\n",
    "    puts line\n",
    "    connection.puts \"Received!\"\n",
    "  end\n",
    "  connection.puts \"Closing the connection. Bye!\"\n",
    "  connection.close\n",
    "end"
   ]
  },
  {
   "cell_type": "code",
   "execution_count": null,
   "metadata": {
    "collapsed": true
   },
   "outputs": [],
   "source": [
    "require 'net/telnet'\n",
    "server = Net::Telnet::new('Host' => '127.0.0.1',\n",
    "'Port' => 1234,\n",
    "'Telnetmode' => false)\n",
    "lines_to_send = ['Hello!', 'This is a test', 'quit']\n",
    "lines_to_send.each do |line|\n",
    "  server.puts(line)\n",
    "  \n",
    "  server.waitfor(/./) do |data|\n",
    "    puts data\n",
    "  end\n",
    "end"
   ]
  },
  {
   "cell_type": "markdown",
   "metadata": {},
   "source": [
    "### 15.3.3 Multi-Client TCP Servers"
   ]
  },
  {
   "cell_type": "code",
   "execution_count": null,
   "metadata": {
    "collapsed": true
   },
   "outputs": [],
   "source": [
    "require 'socket'\n",
    "server = TCPServer.new(1234)\n",
    "loop do\n",
    "  Thread.start(server.accept) do |connection|\n",
    "    while line = connection.gets\n",
    "      break if line =~ /quit/\n",
    "      puts line\n",
    "      connection.puts \"Received!\"\n",
    "    end\n",
    "    connection.puts \"Closing the connection. Bye!\"\n",
    "    connection.close\n",
    "  end\n",
    "end"
   ]
  },
  {
   "cell_type": "markdown",
   "metadata": {},
   "source": [
    "### 15.3.4 GServer"
   ]
  },
  {
   "cell_type": "code",
   "execution_count": null,
   "metadata": {
    "collapsed": true
   },
   "outputs": [],
   "source": [
    "require 'gserver'\n",
    "class HelloServer < GServer\n",
    "  def serve(io)\n",
    "    io.puts(\"Hello!\")\n",
    "  end\n",
    "end\n",
    "\n",
    "server = HelloServer.new(1234)\n",
    "server.start\n",
    "server.join"
   ]
  },
  {
   "cell_type": "code",
   "execution_count": null,
   "metadata": {
    "collapsed": true
   },
   "outputs": [],
   "source": [
    "require 'gserver'\n",
    "class HelloServer < GServer\n",
    "  def serve(io)\n",
    "    io.puts(\"Say something to me:\")\n",
    "    line = io.gets\n",
    "    io.puts(\"You said '#{line.chomp}'\")\n",
    "  end\n",
    "end\n",
    "\n",
    "server = HelloServer.new(1234, '127.0.0.1', 4)\n",
    "server.start\n",
    "server.join"
   ]
  },
  {
   "cell_type": "code",
   "execution_count": null,
   "metadata": {
    "collapsed": true
   },
   "outputs": [],
   "source": [
    "require 'gserver'\n",
    "class HelloServer < GServer\n",
    "  def serve(io)\n",
    "    io.puts(\"Say something to me:\")\n",
    "    line = io.gets\n",
    "    io.puts(\"You said '#{line.chomp}'\")\n",
    "  end\n",
    "end\n",
    "\n",
    "server = HelloServer.new(1234, '127.0.0.1', 4)\n",
    "server.start\n",
    "\n",
    "server2 = HelloServer.new(1235, '127.0.0.1', 4)\n",
    "server2.start\n",
    "sleep 10"
   ]
  },
  {
   "cell_type": "code",
   "execution_count": null,
   "metadata": {
    "collapsed": true
   },
   "outputs": [],
   "source": [
    "require 'gserver'\n",
    "\n",
    "class HelloServer < GServer\n",
    "  def serve(io)\n",
    "    io.puts(\"To stop this server, type 'shutdown'\")\n",
    "    self.stop if io.gets =~ /shutdown/\n",
    "  end\n",
    "end\n",
    "\n",
    "server = HelloServer.new(1234)\n",
    "server.start\n",
    "\n",
    "loop do\n",
    "  break if server.stopped?\n",
    "end\n",
    "\n",
    "puts \"Server has been terminated\""
   ]
  },
  {
   "cell_type": "code",
   "execution_count": null,
   "metadata": {
    "collapsed": true
   },
   "outputs": [],
   "source": [
    "if GServer.in_service?(1234)\n",
    "  puts \"Can't create new server. Already running!\"\n",
    "else\n",
    "  server = HelloServer.new(1234)\n",
    "end"
   ]
  },
  {
   "cell_type": "markdown",
   "metadata": {},
   "source": [
    "### 15.3.5 A GServer-Based Chat Server"
   ]
  },
  {
   "cell_type": "code",
   "execution_count": null,
   "metadata": {
    "collapsed": true
   },
   "outputs": [],
   "source": [
    "require 'gserver'\n",
    "class ChatServer < GServer\n",
    "  def initialize(*args)\n",
    "    super(*args)\n",
    "    # Keep an overall record of the client IDs allocated\n",
    "    # and the lines of chat\n",
    "    @client_id = 0\n",
    "    @chat = []\n",
    "  end\n",
    "end"
   ]
  },
  {
   "cell_type": "code",
   "execution_count": null,
   "metadata": {
    "collapsed": true
   },
   "outputs": [],
   "source": [
    "server = ChatServer.new(1234)\n",
    "server.start\n",
    "\n",
    "loop do\n",
    "  break if server.stopped?\n",
    "end"
   ]
  },
  {
   "cell_type": "markdown",
   "metadata": {},
   "source": [
    "### 15.3.6 Web/HTTP Servers"
   ]
  },
  {
   "cell_type": "code",
   "execution_count": null,
   "metadata": {
    "collapsed": true
   },
   "outputs": [],
   "source": [
    "require 'gserver'\n",
    "class ChatServer < GServer\n",
    "  def initialize(*args)\n",
    "    super(*args)\n",
    "    # Keep an overall record of the client IDs allocated\n",
    "    # and the lines of chat\n",
    "    @client_id = 0\n",
    "    @chat = []\n",
    "  end\n",
    "  \n",
    "  def serve(io)\n",
    "    # Increment the client ID so each client gets a unique ID\n",
    "    @client_id += 1\n",
    "    my_client_id = @client_id\n",
    "    my_position = @chat.size\n",
    "\n",
    "    io.puts(\"Welcome to the chat, client #{@client_id}!\")\n",
    "\n",
    "    # Leave a message on the chat queue to signify this client\n",
    "    # has joined the chat\n",
    "    @chat << [my_client_id, \"<joins the chat>\"]\n",
    "\n",
    "    loop do\n",
    "      # Every 2 seconds check to see if we are receiving any data\n",
    "      if IO.select([io], nil, nil, 2)\n",
    "        # If so, retrieve the data and process it...\n",
    "        line = io.gets\n",
    "        \n",
    "        # If the user says 'quit', disconnect them\n",
    "      if line =~ /quit/\n",
    "        @chat << [my_client_id, \"<leaves the chat>\"]\n",
    "        break\n",
    "      end\n",
    "\n",
    "      # Shut down the server if we hear 'shutdown'\n",
    "      self.stop if line =~ /shutdown/\n",
    "\n",
    "      # Add the client's text to the chat array along with the\n",
    "      # client's ID\n",
    "      @chat << [my_client_id, line]\n",
    "    else\n",
    "      # No data, so print any new lines from the chat stream\n",
    "      @chat[my_position..(@chat.size - 1)].each_with_index do |line, index|\n",
    "        io.puts(\"#{line[0]} says: #{line[1]}\")\n",
    "      end\n",
    "      # Move the position to one past the end of the array\n",
    "      my_position = @chat.size\n",
    "    end\n",
    "  end\n",
    "\n",
    "end\n",
    "end\n",
    "\n",
    "server = ChatServer.new(1234)\n",
    "server.start\n",
    "\n",
    "loop do\n",
    "  break if server.stopped?\n",
    "end  "
   ]
  },
  {
   "cell_type": "markdown",
   "metadata": {},
   "source": [
    "## 15.4 Summary"
   ]
  }
 ],
 "metadata": {
  "kernelspec": {
   "display_name": "Ruby 2.3.3",
   "language": "ruby",
   "name": "ruby"
  },
  "language_info": {
   "file_extension": ".rb",
   "mimetype": "application/x-ruby",
   "name": "ruby",
   "version": "2.3.3"
  }
 },
 "nbformat": 4,
 "nbformat_minor": 1
}
