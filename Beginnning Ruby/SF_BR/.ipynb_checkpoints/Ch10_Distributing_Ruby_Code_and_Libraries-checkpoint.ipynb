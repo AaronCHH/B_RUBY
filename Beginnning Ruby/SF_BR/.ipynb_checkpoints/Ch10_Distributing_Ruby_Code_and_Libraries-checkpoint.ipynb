{
 "cells": [
  {
   "cell_type": "markdown",
   "metadata": {},
   "source": [
    "# Chapter 10: Distributing Ruby Code and Libraries"
   ]
  },
  {
   "cell_type": "markdown",
   "metadata": {},
   "source": [
    "<div id=\"toc\"></div>"
   ]
  },
  {
   "cell_type": "markdown",
   "metadata": {},
   "source": [
    "## 10.1 Distributing Basic Ruby Programs"
   ]
  },
  {
   "cell_type": "code",
   "execution_count": null,
   "metadata": {
    "collapsed": true
   },
   "outputs": [],
   "source": [
    "puts \"Your program works!\""
   ]
  },
  {
   "cell_type": "code",
   "execution_count": null,
   "metadata": {
    "collapsed": true
   },
   "outputs": [],
   "source": [
    "# ruby test.rb"
   ]
  },
  {
   "cell_type": "markdown",
   "metadata": {},
   "source": [
    "### 10.1.1 The Shebang Line"
   ]
  },
  {
   "cell_type": "code",
   "execution_count": null,
   "metadata": {
    "collapsed": true
   },
   "outputs": [],
   "source": [
    "#!/usr/bin/env ruby\n",
    "puts \"Your program works!\""
   ]
  },
  {
   "cell_type": "markdown",
   "metadata": {},
   "source": [
    "### 10.1.2 Associated File Types in Windows"
   ]
  },
  {
   "cell_type": "markdown",
   "metadata": {},
   "source": [
    "## 10.2 Detecting Ruby's Runtime Environment"
   ]
  },
  {
   "cell_type": "markdown",
   "metadata": {},
   "source": [
    "### 10.2.1 Easy OS Detection with RUBY_PLATFORM"
   ]
  },
  {
   "cell_type": "code",
   "execution_count": null,
   "metadata": {
    "collapsed": true
   },
   "outputs": [],
   "source": [
    "if RUBY_PLATFORM =~ /win32/\n",
    "  puts \"We're in Windows!\"\n",
    "elsif RUBY_PLATFORM =~ /linux/\n",
    "  puts \"We're in Linux!\"\n",
    "elsif RUBY_PLATFORM =~ /darwin/\n",
    "  puts \"We're in Mac OS X!\"\n",
    "elsif RUBY_PLATFORM =~ /freebsd/\n",
    "  puts \"We're in FreeBSD!\"\n",
    "else\n",
    "  puts \"We're running under an unknown operating system.\"\n",
    "end"
   ]
  },
  {
   "cell_type": "markdown",
   "metadata": {},
   "source": [
    "### 10.2.2 Environment Variables"
   ]
  },
  {
   "cell_type": "code",
   "execution_count": null,
   "metadata": {
    "collapsed": true
   },
   "outputs": [],
   "source": [
    "# irb(main):001:0> ENV.each {|e| puts e.join(': ') }"
   ]
  },
  {
   "cell_type": "code",
   "execution_count": null,
   "metadata": {
    "collapsed": true
   },
   "outputs": [],
   "source": [
    "tmp_dir = '/tmp'\n",
    "if ENV['OS'] =~ /Windows_NT/\n",
    "  puts \"This program is running under Windows NT/2000/XP!\"\n",
    "  tmp_dir = ENV['TMP']\n",
    "elsif ENV['PATH'] =~ /\\/usr/\n",
    "  puts \"This program has access to a UNIX-style file system!\"\n",
    "else\n",
    "  puts \"I cannot figure out what environment I'm running in!\"\n",
    "  exit\n",
    "end\n",
    "\n",
    "# [.. do something here ..]"
   ]
  },
  {
   "cell_type": "markdown",
   "metadata": {},
   "source": [
    "### 10.2.3 Accessing Command-Line Arguments"
   ]
  },
  {
   "cell_type": "code",
   "execution_count": null,
   "metadata": {
    "collapsed": true
   },
   "outputs": [],
   "source": [
    "p ARGV"
   ]
  },
  {
   "cell_type": "code",
   "execution_count": null,
   "metadata": {
    "collapsed": true
   },
   "outputs": [],
   "source": [
    "# ruby argvtest.rb these are command line parameters"
   ]
  },
  {
   "cell_type": "code",
   "execution_count": null,
   "metadata": {
    "collapsed": true
   },
   "outputs": [],
   "source": [
    "#!/usr/bin/env ruby\n",
    "p ARGV"
   ]
  },
  {
   "cell_type": "code",
   "execution_count": null,
   "metadata": {
    "collapsed": true
   },
   "outputs": [],
   "source": [
    "# ./argvtest.rb these are command line parameters"
   ]
  },
  {
   "cell_type": "code",
   "execution_count": null,
   "metadata": {
    "collapsed": true
   },
   "outputs": [],
   "source": [
    "# cp /directory1/from_filename /directory2/destination_filename"
   ]
  },
  {
   "cell_type": "code",
   "execution_count": null,
   "metadata": {
    "collapsed": true
   },
   "outputs": [],
   "source": [
    "#!/usr/bin/env ruby\n",
    "from_filename = ARGV[0]\n",
    "destination_filename = ARGV[1]"
   ]
  },
  {
   "cell_type": "markdown",
   "metadata": {},
   "source": [
    "## 10.3 Distributing Ruby Libraries as Gems"
   ]
  },
  {
   "cell_type": "markdown",
   "metadata": {},
   "source": [
    "### 10.3.1 Creating a Gem"
   ]
  },
  {
   "cell_type": "code",
   "execution_count": null,
   "metadata": {
    "collapsed": true
   },
   "outputs": [],
   "source": [
    "class String\n",
    "  def vowels\n",
    "    scan(/[aeiou]/i)\n",
    "  end\n",
    "end"
   ]
  },
  {
   "cell_type": "code",
   "execution_count": null,
   "metadata": {
    "collapsed": true
   },
   "outputs": [],
   "source": [
    "\"This is a test\".vowels"
   ]
  },
  {
   "cell_type": "code",
   "execution_count": null,
   "metadata": {
    "collapsed": true
   },
   "outputs": [],
   "source": [
    "require_relative 'string_extend'"
   ]
  },
  {
   "cell_type": "markdown",
   "metadata": {},
   "source": [
    "* __Structuring Your Files__"
   ]
  },
  {
   "cell_type": "markdown",
   "metadata": {},
   "source": [
    "* __Creating a Specification File__"
   ]
  },
  {
   "cell_type": "code",
   "execution_count": null,
   "metadata": {
    "collapsed": true
   },
   "outputs": [],
   "source": [
    "Gem::Specification.new do |s|\n",
    "  s.name = 'string_extend'\n",
    "  s.version = '0.0.1'\n",
    "  s.summary = \"StringExtend adds useful features to the String class\"\n",
    "  s.platform = Gem::Platform::RUBY\n",
    "  s.files = Dir.glob(\"**/**/**\")\n",
    "  s.test_files = Dir.glob(\"test/*_test.rb\")\n",
    "  s.author = \"Your Name\"\n",
    "  s.email = \"your-email-address@email.com\"\n",
    "  s.has_rdoc = false\n",
    "s.required_ruby_version = '>= 1.8.2'\n",
    "end"
   ]
  },
  {
   "cell_type": "code",
   "execution_count": null,
   "metadata": {
    "collapsed": true
   },
   "outputs": [],
   "source": [
    "s.name = 'string_extend'"
   ]
  },
  {
   "cell_type": "code",
   "execution_count": null,
   "metadata": {
    "collapsed": true
   },
   "outputs": [],
   "source": [
    "s.version = '0.0.1'"
   ]
  },
  {
   "cell_type": "code",
   "execution_count": null,
   "metadata": {
    "collapsed": true
   },
   "outputs": [],
   "source": [
    "s.summary = \"StringExtend adds useful features to the String class\""
   ]
  },
  {
   "cell_type": "code",
   "execution_count": null,
   "metadata": {
    "collapsed": true
   },
   "outputs": [],
   "source": [
    "s.files = Dir.glob(\"**/**/**\")"
   ]
  },
  {
   "cell_type": "code",
   "execution_count": null,
   "metadata": {
    "collapsed": true
   },
   "outputs": [],
   "source": [
    "s.test_files = Dir.glob(\"test/*_test.rb\")"
   ]
  },
  {
   "cell_type": "code",
   "execution_count": null,
   "metadata": {
    "collapsed": true
   },
   "outputs": [],
   "source": [
    "s.required_ruby_version = '>= 1.8.2'"
   ]
  },
  {
   "cell_type": "markdown",
   "metadata": {},
   "source": [
    "* http://guides.rubygems.org/specification-reference/ ."
   ]
  },
  {
   "cell_type": "markdown",
   "metadata": {},
   "source": [
    "* __Building the Gem__"
   ]
  },
  {
   "cell_type": "code",
   "execution_count": null,
   "metadata": {
    "collapsed": true
   },
   "outputs": [],
   "source": [
    "# gem build <spec file>"
   ]
  },
  {
   "cell_type": "code",
   "execution_count": null,
   "metadata": {
    "collapsed": true
   },
   "outputs": [],
   "source": [
    "# gem build string_extend.gemspec"
   ]
  },
  {
   "cell_type": "markdown",
   "metadata": {},
   "source": [
    "* __Easier Gem Creation__"
   ]
  },
  {
   "cell_type": "code",
   "execution_count": null,
   "metadata": {
    "collapsed": true
   },
   "outputs": [],
   "source": [
    "# bundle gem string_extend"
   ]
  },
  {
   "cell_type": "code",
   "execution_count": null,
   "metadata": {
    "collapsed": true
   },
   "outputs": [],
   "source": [
    "# coding: utf-8\n",
    "lib = File.expand_path('../lib', __FILE__)\n",
    "$LOAD_PATH.unshift(lib) unless $LOAD_PATH.include?(lib)\n",
    "require 'string_extend/version'\n",
    "\n",
    "Gem::Specification.new do |spec|\n",
    "  spec.name          = \"string_extend\"\n",
    "  spec.version       = StringExtend::VERSION\n",
    "  spec.authors       = [\"Peter Cooper\"]\n",
    "  spec.email         = [\"git@peterc.org\"]\n",
    "  spec.summary       = %q{TODO: Write a short summary. Required.}\n",
    "  spec.description   = %q{TODO: Write a longer description. Optional.}\n",
    "  spec.homepage      = \"\"\n",
    "  spec.license       = \"MIT\"\n",
    "\n",
    "  spec.files         = `git ls-files -z`.split(\"\\x0\")\n",
    "  spec.executables   = spec.files.grep(%r{^bin/}) { |f| File.basename(f) }\n",
    "  spec.test_files    = spec.files.grep(%r{^(test|spec|features)/})\n",
    "  spec.require_paths = [\"lib\"]\n",
    "\n",
    "  spec.add_development_dependency \"bundler\", \"~> 1.7\"\n",
    "  spec.add_development_dependency \"rake\", \"~> 10.0\"\n",
    "end"
   ]
  },
  {
   "cell_type": "markdown",
   "metadata": {},
   "source": [
    "### 10.3.2 Distributing a Gem"
   ]
  },
  {
   "cell_type": "code",
   "execution_count": null,
   "metadata": {
    "collapsed": true
   },
   "outputs": [],
   "source": [
    "# gem install gem_name"
   ]
  },
  {
   "cell_type": "markdown",
   "metadata": {},
   "source": [
    "### 10.3.3 RubyGems.org"
   ]
  },
  {
   "cell_type": "markdown",
   "metadata": {},
   "source": [
    "* RubyGems.org (http://rubygems.org/)"
   ]
  },
  {
   "cell_type": "code",
   "execution_count": null,
   "metadata": {
    "collapsed": true
   },
   "outputs": [],
   "source": [
    "gem push your_gems_filename-0.0.1.gem"
   ]
  },
  {
   "cell_type": "code",
   "execution_count": null,
   "metadata": {
    "collapsed": true
   },
   "outputs": [],
   "source": [
    "rake release"
   ]
  },
  {
   "cell_type": "markdown",
   "metadata": {},
   "source": [
    "## 10.4 Deploying Ruby Applications as Remote Services"
   ]
  },
  {
   "cell_type": "markdown",
   "metadata": {},
   "source": [
    "<div id=\"toc\"></div>"
   ]
  },
  {
   "cell_type": "markdown",
   "metadata": {},
   "source": [
    "### 10.4.1 CGI Scripts"
   ]
  },
  {
   "cell_type": "markdown",
   "metadata": {},
   "source": [
    "* __A Basic CGI Script__"
   ]
  },
  {
   "cell_type": "code",
   "execution_count": null,
   "metadata": {
    "collapsed": true
   },
   "outputs": [],
   "source": [
    "#!/usr/bin/ruby\n",
    "\n",
    "puts \"Content-type: text/html\\n\\n\"\n",
    "puts \"<html><body>This is a test</body></html>\""
   ]
  },
  {
   "cell_type": "code",
   "execution_count": null,
   "metadata": {
    "collapsed": true
   },
   "outputs": [],
   "source": [
    "#!/usr/bin/ruby\n",
    "\n",
    "require 'cgi'\n",
    "\n",
    "cgi = CGI.new\n",
    "\n",
    "puts cgi.header\n",
    "puts \"<html><body>This is a test</body></html>\""
   ]
  },
  {
   "cell_type": "markdown",
   "metadata": {},
   "source": [
    "* __Accepting CGI Variables__"
   ]
  },
  {
   "cell_type": "code",
   "execution_count": null,
   "metadata": {
    "collapsed": true
   },
   "outputs": [],
   "source": [
    "#!/usr/bin/ruby\n",
    "\n",
    "require 'cgi'\n",
    "cgi = CGI.new\n",
    "\n",
    "text = cgi['text']\n",
    "\n",
    "puts cgi.header\n",
    "puts \"<html><body>#{text.reverse}</body></html>\""
   ]
  },
  {
   "cell_type": "code",
   "execution_count": null,
   "metadata": {
    "collapsed": true
   },
   "outputs": [],
   "source": [
    "#!/usr/bin/ruby\n",
    "\n",
    "require 'cgi'\n",
    "cgi = CGI.new\n",
    "\n",
    "from = cgi['from'].to_i\n",
    "to = cgi['to'].to_i\n",
    "\n",
    "number = rand(to-from+1) + from\n",
    "\n",
    "puts cgi.header\n",
    "puts \"<html><body>#{number}</body></html>\""
   ]
  },
  {
   "cell_type": "code",
   "execution_count": null,
   "metadata": {
    "collapsed": true
   },
   "outputs": [],
   "source": [
    "# <form method=\"POST\" action=\"http://www.example.com/test.cgi\">\n",
    "# For a number between <input type=\"text\" name=\"from\" value=\"\" /> and\n",
    "# <input type=\"text\" name=\"to\" value=\"\" /> <input type=\"submit\"\n",
    "# value=\"Click here!\" /></form>"
   ]
  },
  {
   "cell_type": "markdown",
   "metadata": {},
   "source": [
    "### 10.4.2 Generic HTTP Servers"
   ]
  },
  {
   "cell_type": "markdown",
   "metadata": {},
   "source": [
    "* __WEBrick__"
   ]
  },
  {
   "cell_type": "code",
   "execution_count": null,
   "metadata": {
    "collapsed": true
   },
   "outputs": [],
   "source": [
    "require 'webrick'\n",
    "\n",
    "server = WEBrick::GenericServer.new( :Port => 1234 )\n",
    "\n",
    "trap(\"INT\"){ server.shutdown }\n",
    "\n",
    "server.start do |socket|\n",
    "   socket.puts Time.now\n",
    "end\n"
   ]
  },
  {
   "cell_type": "code",
   "execution_count": null,
   "metadata": {
    "collapsed": true
   },
   "outputs": [],
   "source": [
    "require 'webrick'\n",
    "\n",
    "class MyServlet < WEBrick::HTTPServlet::AbstractServlet\n",
    "  def do_GET(request, response)\n",
    "     response.status = 200\n",
    "     response.content_type = \"text/plain\"\n",
    "     response.body = \"Hello, world!\"\n",
    "  end\n",
    "end\n",
    "\n",
    "server = WEBrick::HTTPServer.new( :Port => 1234 )\n",
    "server.mount \"/\", MyServlet\n",
    "trap(\"INT\"){ server.shutdown }\n",
    "server.start"
   ]
  },
  {
   "cell_type": "code",
   "execution_count": null,
   "metadata": {
    "collapsed": true
   },
   "outputs": [],
   "source": [
    "response.body = \"You are trying to load #{request.path}\""
   ]
  },
  {
   "cell_type": "code",
   "execution_count": null,
   "metadata": {
    "collapsed": true
   },
   "outputs": [],
   "source": [
    "require 'webrick'\n",
    "\n",
    "class MyNormalClass\n",
    "  def MyNormalClass.add(a, b)\n",
    "    a.to_i + b.to_i\n",
    "  end\n",
    "  def MyNormalClass.subtract(a,b)\n",
    "    a.to_i - b.to_i\n",
    "  end\n",
    "end\n",
    "\n",
    "class MyServlet < WEBrick::HTTPServlet::AbstractServlet\n",
    "  def do_GET(request, response)\n",
    "    if request.query['a'] && request.query['b']\n",
    "      a = request.query['a']\n",
    "      b = request.query['b']\n",
    "      response.status = 200\n",
    "      response.content_type = 'text/plain'\n",
    "      result = nil\n",
    "\n",
    "      case request.path\n",
    "        when '/add'\n",
    "          result = MyNormalClass.add(a,b)\n",
    "        when '/subtract'\n",
    "          result = MyNormalClass.subtract(a,b)\n",
    "        else\n",
    "          result = \"No such method\"\n",
    "      end\n",
    "\n",
    "      response.body = result.to_s + \"\\n\"\n",
    "    else\n",
    "      response.status = 400\n",
    "      response.body = \"You did not provide the correct parameters\"\n",
    "    end\n",
    "  end\n",
    "end\n",
    "\n",
    "server = WEBrick::HTTPServer.new(:Port => 1234)\n",
    "server.mount '/', MyServlet\n",
    "trap('INT'){ server.shutdown }\n",
    "server.start"
   ]
  },
  {
   "cell_type": "markdown",
   "metadata": {},
   "source": [
    "## 10.5 Summary"
   ]
  },
  {
   "cell_type": "markdown",
   "metadata": {
    "collapsed": true
   },
   "source": [
    "In this chapter, we looked at how to deploy Ruby programs and libraries, as well as how to make their functions available to web browsers and other applications over a network.  \n",
    "We also interrogated the environment so we can pursue different techniques on a per-operating system basis if we choose.  \n",
    "Let’s reflect on the main concepts covered in this chapter:  \n",
    "* Shebang line : A special line at the start of a source code file that determines which interpreter is used to process the file. Used primarily on UNIX-based operating systems, shebang lines can also work on Windows when used with the Apache web server.  \n",
    "* RUBY_PLATFORM : A special variable preset by Ruby that contains the name of the current platform (environment).  \n",
    "* Environment variables : Special variables set by the operating system or other processes that contain information relevant to the current execution environment and information about the operating system.  \n",
    "* RubyGems.org : A centralized repository and web site dedicated to hosting and distributing Ruby projects and libraries.  \n",
    "* GitHub : A popular hub and community site for users of the Git source code management system—now popular in the Ruby world.  \n",
    "You can find it at https://github.com/.  \n",
    "* CGI : Common Gateway Interface. A standard that enables web servers to execute scripts and provide an interface between web users and scripts located on that server.  \n",
    "* WEBrick : A simple and easy HTTP server library for Ruby that comes with Ruby as standard.  "
   ]
  },
  {
   "cell_type": "code",
   "execution_count": null,
   "metadata": {
    "collapsed": true
   },
   "outputs": [],
   "source": []
  }
 ],
 "metadata": {
  "kernelspec": {
   "display_name": "Ruby 2.3.3",
   "language": "ruby",
   "name": "ruby"
  },
  "language_info": {
   "file_extension": ".rb",
   "mimetype": "application/x-ruby",
   "name": "ruby",
   "version": "2.3.3"
  }
 },
 "nbformat": 4,
 "nbformat_minor": 1
}
