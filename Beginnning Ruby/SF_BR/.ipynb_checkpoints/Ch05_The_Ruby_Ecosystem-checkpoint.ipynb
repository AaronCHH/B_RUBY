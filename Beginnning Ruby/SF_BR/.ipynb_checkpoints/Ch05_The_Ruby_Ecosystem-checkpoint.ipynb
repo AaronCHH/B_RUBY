{
 "cells": [
  {
   "cell_type": "markdown",
   "metadata": {},
   "source": [
    "# Chapter 5: The Ruby Ecosystem"
   ]
  },
  {
   "cell_type": "markdown",
   "metadata": {},
   "source": [
    "<div id=\"toc\"></div>"
   ]
  },
  {
   "cell_type": "markdown",
   "metadata": {},
   "source": [
    "## 5.1 Ruby's History"
   ]
  },
  {
   "cell_type": "markdown",
   "metadata": {},
   "source": [
    "### 5.1.1 The Land of the Rising Sun"
   ]
  },
  {
   "cell_type": "markdown",
   "metadata": {},
   "source": [
    "### 5.1.2 Ruby's Influences"
   ]
  },
  {
   "cell_type": "markdown",
   "metadata": {},
   "source": [
    "### 5.1.3 Go West"
   ]
  },
  {
   "cell_type": "markdown",
   "metadata": {},
   "source": [
    "Matz first began to officially promote the Ruby language in English in late 1998 with the creation of the ruby-talk mailing list, still one of the best places to discuss the Ruby language, as well as a useful resource with more than 300,000 messages archived at the list’s web site (http://blade.nagaokaut.ac.jp/ruby/ruby-talk/index.shtml ).\n",
    "\n",
    "* Note You can subscribe toruby-talk yourself by sending an e-mail containing “subscribe” followed by your first and last name toruby-talk-ctl@ruby-lang.org .\n",
    "\n",
    "An official English language web site soon followed in late 1999 with the creation ofruby-lang.org (http://www.ruby-lang.org/ ), which is still Ruby’s official English language web site (see Figures 5-1 and5-2 for a comparison of the official site between then and now).\n"
   ]
  },
  {
   "cell_type": "markdown",
   "metadata": {},
   "source": [
    "### 5.1.4 Alternative Ruby Implementations"
   ]
  },
  {
   "cell_type": "markdown",
   "metadata": {},
   "source": [
    "* JRuby (http://jruby.org/ ): A Ruby implementation that runs on the Java Virtual Machine (JVM).\n",
    "Even in 2009, it was on par with Ruby 1.9 in terms of performance, and since then has proven to be faster than MRI in many situations.\n",
    "As a Java-based implementation, JRuby gives Ruby developers access to the whole Java ecosystem, including Java libraries, distribution tools, and application servers.\n",
    "Conversely, developers on the JVM platform get access to Ruby’s benefits.\n",
    "\n",
    "\n",
    "* IronRuby (http://ironruby.net/ ): An implementation of Ruby for Microsoft’s .NET platform.\n",
    "The head developer was John Lam, who worked for Microsoft.\n",
    "As of 2012, the project appeared to no longer be regularly updated.\n",
    "\n",
    "\n",
    "* Rubinius (http://rubini.us/):  A major attempt at implementing Rubyin Ruby.\n",
    "It can run a lot of Ruby 1.8 code and is used in many production situations where high levels of concurrency or JIT are required.\n",
    "It is under active development as of mid-2016.\n"
   ]
  },
  {
   "cell_type": "markdown",
   "metadata": {},
   "source": [
    "## 5.2 Ruby on Rails"
   ]
  },
  {
   "cell_type": "markdown",
   "metadata": {},
   "source": [
    "### 5.2.1 Why Rails Came into Existence"
   ]
  },
  {
   "cell_type": "markdown",
   "metadata": {},
   "source": [
    "### 5.2.2 How the Web (2.0) Was Won"
   ]
  },
  {
   "cell_type": "markdown",
   "metadata": {},
   "source": [
    "## 5.3 The Open Source Culture"
   ]
  },
  {
   "cell_type": "markdown",
   "metadata": {},
   "source": [
    "### 5.3.1 What Is Open Source"
   ]
  },
  {
   "cell_type": "markdown",
   "metadata": {},
   "source": [
    "## 5.4 Where and How to Get Help"
   ]
  },
  {
   "cell_type": "markdown",
   "metadata": {},
   "source": [
    "### 5.4.1 Mailing Lists"
   ]
  },
  {
   "cell_type": "markdown",
   "metadata": {},
   "source": [
    "### 5.4.2 Internet Relay Chat (IRC)"
   ]
  },
  {
   "cell_type": "markdown",
   "metadata": {},
   "source": [
    "To use IRC, historically it has been necessary to download and install an IRC “client” onto your computer, which allows you to get onto the real-time IRC channels.  \n",
    "Although the installation of this software is beyond the scope of this book, I recommend the following clients for Windows, Linux, and OS X:  \n",
    "* Windows : mIRC (http://www.mirc.com/ ).  \n",
    "* Mac OS X : LimeChat ( http://limechat.net/mac/ ).  \n",
    "LimeChat was written using Ruby and it’s a great demonstration of a Ruby-powered GUI app.  \n",
    "* Linux/UNIX : XChat (http://www.xchat.org/ ) or Irssi (http://irssi.org/ ).  \n",
    "\n",
    "One benefit of the Freenode IRC server that the#ruby-lang and#rubyonrails channels are located on is that you can access the chatroom via a web browser if you prefer.  \n",
    "You can do this at https://webchat.freenode.net/.  \n",
    "\n",
    "Be sure to respect that other users in the channel are not solely there to answer your questions; otherwise you might be deemed a “help vampire” and be ignored!  \n",
    "However, with care, you can easily talk to some of the biggest names in the Ruby world on these channels.  \n",
    "\n",
    "* Note To learn more about IRC, seehttp://en.wikipedia.org/wiki/Internet_Relay_Chat .\n"
   ]
  },
  {
   "cell_type": "markdown",
   "metadata": {},
   "source": [
    "### 5.4.3 Documentation"
   ]
  },
  {
   "cell_type": "markdown",
   "metadata": {},
   "source": [
    "There’s a significant amount of documentation available on the Web (as well as within Ruby itself) for Ruby developers.  \n",
    "The site at http://www.ruby-doc.org/ provides a web-based rendering of the documentation that comes with Ruby 1.8 through to 2.3, and allows you to look up references for all of the internal classes and the standard library.  \n",
    "\n",
    "The API documentation for the current stable release of Ruby is available at http://www.ruby-doc.org/core/.  \n",
    "Produced automatically from the Ruby source code with Ruby’s built-in documentation tool, rdoc , the structure of the documentation isn’t immediately obvious.  \n",
    "Usually you can choose between viewing documentation for certain files that make up Ruby, documentation for each different base class, or documentation for certain methods.  \n",
    "You don’t get a logical order to follow, and there are no deep tutorials.  \n",
    "This sort of documentation is for reference purposes only.  \n",
    "\n",
    "Most Ruby libraries and applications use a similar scheme for their documentation, and the links to this are made available on their official sites.  \n",
    "For example, Ruby on Rails’ API documentation is available at http://api.rubyonrails.org/.  \n"
   ]
  },
  {
   "cell_type": "markdown",
   "metadata": {},
   "source": [
    "### 5.4.4 Forums"
   ]
  },
  {
   "cell_type": "markdown",
   "metadata": {},
   "source": [
    "* Ruby-Forum.com (http://www.ruby-forum.com/ ): Ruby-Forum.com provides a forum style view onto some of the popular Ruby mailing lists.  \n",
    "This means it isn’t a true forum in the strictest sense, but people used to forums will appreciate the structure.  \n",
    "\n",
    "* SitePoint Ruby Forums (http://community.sitepoint.com/c/ruby ): SitePoint is a popular web development site that provides forums on many development-related topics.  \n",
    "Their Ruby forum is well populated and friendly.  \n",
    "\n",
    "* Rails Forum (http://railsforum.com/ ): Rails Forum is a popular forum focused on Ruby on Rails that began in 2006.  \n",
    "It’s particularly friendly to beginners.  \n"
   ]
  },
  {
   "cell_type": "markdown",
   "metadata": {},
   "source": [
    "## 5.5 Joining the Community"
   ]
  },
  {
   "cell_type": "markdown",
   "metadata": {},
   "source": [
    "### 5.5.1 Give Help to Others"
   ]
  },
  {
   "cell_type": "markdown",
   "metadata": {},
   "source": [
    "### 5.5.2 Contribute Code"
   ]
  },
  {
   "cell_type": "markdown",
   "metadata": {},
   "source": [
    "### 5.5.3 News Sites and Sources"
   ]
  },
  {
   "cell_type": "markdown",
   "metadata": {},
   "source": [
    "* RubyFlow (http://www.rubyflow.com/ ): This is a Ruby community link blog where all of the items are supplied by other Ruby developers.  \n",
    "You’ll find a lot of interesting Ruby-related announcements and links to tutorials scattered across the Web.  \n",
    "Of course, if you write anything helpful of your own, you can post it to RubyFlow and get the attention of the Ruby community.  \n",
    "\n",
    "* Ruby Weekly (http://rubyweekly.com/ ): A weekly e-mail newsletter dedicated to sharing the latest from the entire Ruby world.  \n",
    "\n",
    "* Ruby5 (https://ruby5.codeschool.com/ ): A podcast originally started by Gregg Pollack but now hosted by a rotating cast.  \n",
    "Ruby5 covers the gamut of Ruby-related news in five minutes or so on a weekly basis.  \n",
    "\n",
    "* Ruby on Reddit (http://reddit.com/r/ruby ): The Ruby section of the popular social bookmarking and discussion site aggregates most of the best Ruby blogs into a single page.  \n"
   ]
  },
  {
   "cell_type": "markdown",
   "metadata": {},
   "source": [
    "## 5.6 Summary"
   ]
  },
  {
   "cell_type": "markdown",
   "metadata": {},
   "source": [
    "In this chapter, we’ve taken a break from coding to focus on the culture, community, and ecosystem surrounding the Ruby language.  \n",
    "Understanding the larger world around the Ruby language is extremely useful, as it’s from this community that most developers will get assistance, advice, code, and even paying work.  \n",
    "Being able to get help and give help in return benefits the community, helps the cause of Ruby to progress, and ultimately helps with your own programming skills.  \n",
    "The Ruby community is important and friendly to new Ruby developers, making it ideal to get involved as soon as possible when you begin to learn Ruby.  \n",
    "Make sure you use the resources the community provides to the fullest as you learn Ruby and begin to develop applications.  \n",
    "A single book cannot turn anyone into a Ruby expert, but a collection of valuable resources and participation in the community can.  \n",
    "Refer to Appendix B for a larger collection of URLs and links to other Ruby resources that are available online.  "
   ]
  },
  {
   "cell_type": "code",
   "execution_count": null,
   "metadata": {
    "collapsed": true
   },
   "outputs": [],
   "source": []
  }
 ],
 "metadata": {
  "kernelspec": {
   "display_name": "Python 3",
   "language": "python",
   "name": "python3"
  },
  "language_info": {
   "codemirror_mode": {
    "name": "ipython",
    "version": 3
   },
   "file_extension": ".py",
   "mimetype": "text/x-python",
   "name": "python",
   "nbconvert_exporter": "python",
   "pygments_lexer": "ipython3",
   "version": "3.6.0"
  }
 },
 "nbformat": 4,
 "nbformat_minor": 1
}
