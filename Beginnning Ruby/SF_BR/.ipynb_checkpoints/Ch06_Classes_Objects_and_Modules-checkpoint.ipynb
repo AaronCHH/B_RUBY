{
 "cells": [
  {
   "cell_type": "markdown",
   "metadata": {},
   "source": [
    "# Chapter 6: Classes, Objects, and Modules"
   ]
  },
  {
   "cell_type": "markdown",
   "metadata": {},
   "source": [
    "<div id=\"toc\"></div>"
   ]
  },
  {
   "cell_type": "markdown",
   "metadata": {},
   "source": [
    "## 6.1 Why Use Object Orientation? "
   ]
  },
  {
   "cell_type": "code",
   "execution_count": 1,
   "metadata": {
    "collapsed": false
   },
   "outputs": [
    {
     "data": {
      "text/plain": [
       ":area_of_triangle"
      ]
     },
     "execution_count": 1,
     "metadata": {},
     "output_type": "execute_result"
    }
   ],
   "source": [
    "def perimeter_of_square(side_length)\n",
    "  side_length * 4\n",
    "end\n",
    "\n",
    "def area_of_square(side_length)\n",
    "  side_length * side_length\n",
    "end\n",
    "\n",
    "def perimeter_of_triangle(side1, side2, side3)\n",
    "  side1 + side2 + side3\n",
    "end\n",
    "\n",
    "def area_of_triangle(base_width, height)\n",
    "  base_width * height / 2\n",
    "end"
   ]
  },
  {
   "cell_type": "code",
   "execution_count": 2,
   "metadata": {
    "collapsed": false
   },
   "outputs": [
    {
     "data": {
      "text/plain": [
       ":perimeter"
      ]
     },
     "execution_count": 2,
     "metadata": {},
     "output_type": "execute_result"
    }
   ],
   "source": [
    "class Shape\n",
    "end\n",
    "\n",
    "class Square < Shape\n",
    "  def initialize(side_length)\n",
    "    @side_length = side_length\n",
    "  end\n",
    "  \n",
    "  def area\n",
    "    @side_length * @side_length\n",
    "  end\n",
    "  \n",
    "  def perimeter\n",
    "    @side_length * 4\n",
    "  end\n",
    "end\n",
    "\n",
    "class Triangle < Shape\n",
    "  def initialize(base_width, height, side1, side2, side3)\n",
    "    @base_width = base_width\n",
    "    @height = height\n",
    "    @side1 = side1\n",
    "    @side2 = side2\n",
    "    @side3 = side3\n",
    "  end\n",
    "  \n",
    "  def area\n",
    "    @base_width * @height / 2\n",
    "  end\n",
    "  \n",
    "  def perimeter\n",
    "    @side1 + @side2 + @side3\n",
    "  end\n",
    "end"
   ]
  },
  {
   "cell_type": "code",
   "execution_count": 5,
   "metadata": {
    "collapsed": false
   },
   "outputs": [
    {
     "name": "stdout",
     "output_type": "stream",
     "text": [
      "18\n",
      "20\n"
     ]
    }
   ],
   "source": [
    "puts area_of_triangle(6,6)\n",
    "puts perimeter_of_square(5)"
   ]
  },
  {
   "cell_type": "code",
   "execution_count": 6,
   "metadata": {
    "collapsed": false
   },
   "outputs": [
    {
     "name": "stdout",
     "output_type": "stream",
     "text": [
      "25\n",
      "20\n",
      "18\n",
      "23.43\n"
     ]
    }
   ],
   "source": [
    "my_square = Square.new(5)\n",
    "my_triangle = Triangle.new(6, 6, 7.81, 7.81, 7.81)\n",
    "puts my_square.area\n",
    "puts my_square.perimeter\n",
    "puts my_triangle.area\n",
    "puts my_triangle.perimeter"
   ]
  },
  {
   "cell_type": "markdown",
   "metadata": {},
   "source": [
    "## 6.2 Object-Orientation Basics"
   ]
  },
  {
   "cell_type": "markdown",
   "metadata": {},
   "source": [
    "### 6.2.1 Local, Global, Object, and Class Variables"
   ]
  },
  {
   "cell_type": "code",
   "execution_count": 7,
   "metadata": {
    "collapsed": false
   },
   "outputs": [
    {
     "data": {
      "text/plain": [
       ":area"
      ]
     },
     "execution_count": 7,
     "metadata": {},
     "output_type": "execute_result"
    }
   ],
   "source": [
    "class Square\n",
    "  def initialize(side_length)\n",
    "    @side_length = side_length\n",
    "  end\n",
    "  \n",
    "  def area\n",
    "    @side_length * @side_length\n",
    "  end\n",
    "end"
   ]
  },
  {
   "cell_type": "code",
   "execution_count": 8,
   "metadata": {
    "collapsed": false
   },
   "outputs": [
    {
     "name": "stdout",
     "output_type": "stream",
     "text": [
      "100\n",
      "25\n"
     ]
    }
   ],
   "source": [
    "a = Square.new(10)\n",
    "b = Square.new(5)\n",
    "puts a.area\n",
    "puts b.area"
   ]
  },
  {
   "cell_type": "markdown",
   "metadata": {},
   "source": [
    "* __Local Variables__"
   ]
  },
  {
   "cell_type": "code",
   "execution_count": 9,
   "metadata": {
    "collapsed": false
   },
   "outputs": [
    {
     "name": "stdout",
     "output_type": "stream",
     "text": [
      "10\n"
     ]
    }
   ],
   "source": [
    "x = 10\n",
    "puts x"
   ]
  },
  {
   "cell_type": "code",
   "execution_count": 10,
   "metadata": {
    "collapsed": false,
    "scrolled": true
   },
   "outputs": [
    {
     "ename": "NameError",
     "evalue": "undefined local variable or method `x' for main:Object",
     "output_type": "error",
     "traceback": [
      "\u001b[31mNameError\u001b[0m: undefined local variable or method `x' for main:Object",
      "\u001b[37m<main>:1:in `basic_method'\u001b[0m",
      "\u001b[37m<main>:5:in `<main>'\u001b[0m",
      "\u001b[37mC:/Ruby23-x64/lib/ruby/gems/2.3.0/gems/iruby-0.3/lib/iruby/backend.rb:44:in `eval'\u001b[0m",
      "\u001b[37mC:/Ruby23-x64/lib/ruby/gems/2.3.0/gems/iruby-0.3/lib/iruby/backend.rb:44:in `eval'\u001b[0m",
      "\u001b[37mC:/Ruby23-x64/lib/ruby/gems/2.3.0/gems/iruby-0.3/lib/iruby/backend.rb:12:in `eval'\u001b[0m",
      "\u001b[37mC:/Ruby23-x64/lib/ruby/gems/2.3.0/gems/iruby-0.3/lib/iruby/kernel.rb:87:in `execute_request'\u001b[0m",
      "\u001b[37mC:/Ruby23-x64/lib/ruby/gems/2.3.0/gems/iruby-0.3/lib/iruby/kernel.rb:47:in `dispatch'\u001b[0m",
      "\u001b[37mC:/Ruby23-x64/lib/ruby/gems/2.3.0/gems/iruby-0.3/lib/iruby/kernel.rb:37:in `run'\u001b[0m",
      "\u001b[37mC:/Ruby23-x64/lib/ruby/gems/2.3.0/gems/iruby-0.3/lib/iruby/command.rb:70:in `run_kernel'\u001b[0m",
      "\u001b[37mC:/Ruby23-x64/lib/ruby/gems/2.3.0/gems/iruby-0.3/lib/iruby/command.rb:34:in `run'\u001b[0m",
      "\u001b[37mC:/Ruby23-x64/lib/ruby/gems/2.3.0/gems/iruby-0.3/bin/iruby:5:in `<top (required)>'\u001b[0m",
      "\u001b[37mC:/Ruby23-x64/bin/iruby:22:in `load'\u001b[0m",
      "\u001b[37mC:/Ruby23-x64/bin/iruby:22:in `<main>'\u001b[0m"
     ]
    }
   ],
   "source": [
    "def basic_method\n",
    "  puts x\n",
    "end\n",
    "\n",
    "x = 10\n",
    "basic_method"
   ]
  },
  {
   "cell_type": "code",
   "execution_count": 11,
   "metadata": {
    "collapsed": false
   },
   "outputs": [
    {
     "name": "stdout",
     "output_type": "stream",
     "text": [
      "50\n",
      "10\n"
     ]
    }
   ],
   "source": [
    "def basic_method\n",
    "  x = 50\n",
    "  puts x\n",
    "end\n",
    "\n",
    "x = 10\n",
    "basic_method\n",
    "puts x"
   ]
  },
  {
   "cell_type": "markdown",
   "metadata": {},
   "source": [
    "* __Global Variables__"
   ]
  },
  {
   "cell_type": "code",
   "execution_count": 12,
   "metadata": {
    "collapsed": false
   },
   "outputs": [
    {
     "name": "stdout",
     "output_type": "stream",
     "text": [
      "10\n"
     ]
    }
   ],
   "source": [
    "def basic_method\n",
    "  puts $x\n",
    "end\n",
    "\n",
    "$x = 10\n",
    "basic_method"
   ]
  },
  {
   "cell_type": "markdown",
   "metadata": {},
   "source": [
    "* __Instance or Object Variables__"
   ]
  },
  {
   "cell_type": "code",
   "execution_count": 14,
   "metadata": {
    "collapsed": false
   },
   "outputs": [
    {
     "data": {
      "text/plain": [
       ":area"
      ]
     },
     "execution_count": 14,
     "metadata": {},
     "output_type": "execute_result"
    }
   ],
   "source": [
    "class Square\n",
    "  def initialize(side_length)\n",
    "    @side_length = side_length\n",
    "  end\n",
    "  def area\n",
    "    @side_length * @side_length\n",
    "  end\n",
    "end"
   ]
  },
  {
   "cell_type": "code",
   "execution_count": 15,
   "metadata": {
    "collapsed": false
   },
   "outputs": [
    {
     "name": "stdout",
     "output_type": "stream",
     "text": [
      "100\n",
      "25\n"
     ]
    }
   ],
   "source": [
    "a = Square.new(10)\n",
    "b = Square.new(5)\n",
    "puts a.area\n",
    "puts b.area"
   ]
  },
  {
   "cell_type": "markdown",
   "metadata": {},
   "source": [
    "* __Class Variables__"
   ]
  },
  {
   "cell_type": "code",
   "execution_count": 16,
   "metadata": {
    "collapsed": false
   },
   "outputs": [
    {
     "name": "stdout",
     "output_type": "stream",
     "text": [
      "2\n"
     ]
    }
   ],
   "source": [
    "class Square\n",
    "  def initialize\n",
    "    if defined?(@@number_of_squares)\n",
    "      @@number_of_squares += 1\n",
    "    else\n",
    "      @@number_of_squares = 1\n",
    "    end\n",
    "  end  \n",
    "  def self.count\n",
    "    @@number_of_squares\n",
    "  end\n",
    "end\n",
    "\n",
    "a = Square.new\n",
    "b = Square.new\n",
    "puts Square.count"
   ]
  },
  {
   "cell_type": "markdown",
   "metadata": {},
   "source": [
    "### 6.2.2 Class Methods versus Instance Methods"
   ]
  },
  {
   "cell_type": "code",
   "execution_count": 17,
   "metadata": {
    "collapsed": false
   },
   "outputs": [
    {
     "data": {
      "text/plain": [
       ":area"
      ]
     },
     "execution_count": 17,
     "metadata": {},
     "output_type": "execute_result"
    }
   ],
   "source": [
    "class Square\n",
    "  def initialize(side_length)\n",
    "    @side_length = side_length\n",
    "  end\n",
    "  def area\n",
    "    @side_length * @side_length\n",
    "  end\n",
    "end"
   ]
  },
  {
   "cell_type": "code",
   "execution_count": 1,
   "metadata": {
    "collapsed": false
   },
   "outputs": [
    {
     "name": "stdout",
     "output_type": "stream",
     "text": [
      "Hello from the Square class!\n",
      "Hello from an instance of class Square!\n"
     ]
    }
   ],
   "source": [
    "class Square\n",
    "  def self.test_method\n",
    "    puts \"Hello from the Square class!\"\n",
    "  end\n",
    "  def test_method\n",
    "    puts \"Hello from an instance of class Square!\"\n",
    "  end\n",
    "end\n",
    "  \n",
    "Square.test_method\n",
    "Square.new.test_method"
   ]
  },
  {
   "cell_type": "code",
   "execution_count": 23,
   "metadata": {
    "collapsed": false
   },
   "outputs": [
    {
     "data": {
      "text/plain": [
       ":test_method"
      ]
     },
     "execution_count": 23,
     "metadata": {},
     "output_type": "execute_result"
    }
   ],
   "source": [
    "class Square\n",
    "  def self.test_method\n",
    "    puts \"Hello from the Square class!\"\n",
    "  end\n",
    "end"
   ]
  },
  {
   "cell_type": "markdown",
   "metadata": {},
   "source": [
    "### 6.2.3 Inheritance"
   ]
  },
  {
   "cell_type": "code",
   "execution_count": 2,
   "metadata": {
    "collapsed": false
   },
   "outputs": [
    {
     "name": "stdout",
     "output_type": "stream",
     "text": [
      "Hello from method1 in the parent class\n"
     ]
    }
   ],
   "source": [
    "class ParentClass\n",
    "  def method1\n",
    "    puts \"Hello from method1 in the parent class\"\n",
    "  end\n",
    "  def method2\n",
    "    puts \"Hello from method2 in the parent class\"\n",
    "  end\n",
    "end\n",
    "\n",
    "class ChildClass < ParentClass\n",
    "  def method2\n",
    "    puts \"Hello from method2 in the child class\"\n",
    "  end\n",
    "end\n",
    "\n",
    "my_object = ChildClass.new\n",
    "my_object.method1"
   ]
  },
  {
   "cell_type": "code",
   "execution_count": 3,
   "metadata": {
    "collapsed": false
   },
   "outputs": [
    {
     "name": "stdout",
     "output_type": "stream",
     "text": [
      "Hello from method2 in the child class\n"
     ]
    }
   ],
   "source": [
    "my_object.method2"
   ]
  },
  {
   "cell_type": "code",
   "execution_count": 4,
   "metadata": {
    "collapsed": false
   },
   "outputs": [
    {
     "data": {
      "text/plain": [
       ":name"
      ]
     },
     "execution_count": 4,
     "metadata": {},
     "output_type": "execute_result"
    }
   ],
   "source": [
    "class Person\n",
    "  def initialize(name)\n",
    "    @name = name\n",
    "  end\n",
    "  def name\n",
    "    return @name\n",
    "  end\n",
    "end"
   ]
  },
  {
   "cell_type": "code",
   "execution_count": 8,
   "metadata": {
    "collapsed": false
   },
   "outputs": [
    {
     "data": {
      "text/plain": [
       "\"Peter\""
      ]
     },
     "execution_count": 8,
     "metadata": {},
     "output_type": "execute_result"
    }
   ],
   "source": [
    "Person.new(\"Peter\").name"
   ]
  },
  {
   "cell_type": "code",
   "execution_count": 5,
   "metadata": {
    "collapsed": false
   },
   "outputs": [
    {
     "data": {
      "text/plain": [
       ":name"
      ]
     },
     "execution_count": 5,
     "metadata": {},
     "output_type": "execute_result"
    }
   ],
   "source": [
    "class Doctor < Person\n",
    "  def name\n",
    "    \"Dr. \" + super\n",
    "  end\n",
    "end"
   ]
  },
  {
   "cell_type": "code",
   "execution_count": 9,
   "metadata": {
    "collapsed": false
   },
   "outputs": [
    {
     "data": {
      "text/plain": [
       "\"Dr. Peter\""
      ]
     },
     "execution_count": 9,
     "metadata": {},
     "output_type": "execute_result"
    }
   ],
   "source": [
    "Doctor.new(\"Peter\").name"
   ]
  },
  {
   "cell_type": "code",
   "execution_count": null,
   "metadata": {
    "collapsed": true
   },
   "outputs": [],
   "source": []
  },
  {
   "cell_type": "markdown",
   "metadata": {},
   "source": [
    "### 6.2.4 Overriding Existing Methods"
   ]
  },
  {
   "cell_type": "code",
   "execution_count": 10,
   "metadata": {
    "collapsed": false
   },
   "outputs": [
    {
     "name": "stdout",
     "output_type": "stream",
     "text": [
      "String\n"
     ]
    }
   ],
   "source": [
    "x = \"This is a test\"\n",
    "puts x.class"
   ]
  },
  {
   "cell_type": "code",
   "execution_count": 11,
   "metadata": {
    "collapsed": false,
    "scrolled": true
   },
   "outputs": [
    {
     "name": "stdout",
     "output_type": "stream",
     "text": [
      "14\n",
      "THIS IS A TEST\n"
     ]
    }
   ],
   "source": [
    "puts x.length\n",
    "puts x.upcase"
   ]
  },
  {
   "cell_type": "code",
   "execution_count": 1,
   "metadata": {
    "collapsed": false
   },
   "outputs": [
    {
     "data": {
      "text/plain": [
       "2"
      ]
     },
     "execution_count": 1,
     "metadata": {},
     "output_type": "execute_result"
    }
   ],
   "source": [
    "1 + 1"
   ]
  },
  {
   "cell_type": "code",
   "execution_count": null,
   "metadata": {
    "collapsed": true
   },
   "outputs": [],
   "source": [
    "class String\n",
    "  def length\n",
    "    20\n",
    "  end\n",
    "end"
   ]
  },
  {
   "cell_type": "code",
   "execution_count": 3,
   "metadata": {
    "collapsed": false
   },
   "outputs": [
    {
     "name": "stdout",
     "output_type": "stream",
     "text": [
      "14\n",
      "1\n",
      "26\n"
     ]
    }
   ],
   "source": [
    "puts \"This is a test\".length\n",
    "puts \"a\".length\n",
    "puts \"A really long line of text\".length"
   ]
  },
  {
   "cell_type": "code",
   "execution_count": 1,
   "metadata": {
    "collapsed": false
   },
   "outputs": [
    {
     "name": "stdout",
     "output_type": "stream",
     "text": [
      "Woof!\n"
     ]
    }
   ],
   "source": [
    "class Dog\n",
    "  def talk\n",
    "    puts \"Woof!\"\n",
    "  end\n",
    "end\n",
    "my_dog = Dog.new\n",
    "my_dog.talk"
   ]
  },
  {
   "cell_type": "code",
   "execution_count": 2,
   "metadata": {
    "collapsed": false
   },
   "outputs": [
    {
     "name": "stdout",
     "output_type": "stream",
     "text": [
      "Howl!\n"
     ]
    }
   ],
   "source": [
    "class Dog\n",
    "  def talk\n",
    "    puts \"Howl!\"\n",
    "  end\n",
    "end\n",
    "my_dog.talk"
   ]
  },
  {
   "cell_type": "markdown",
   "metadata": {},
   "source": [
    "### 6.2.5 Reflection and Discovering an Object's Methods"
   ]
  },
  {
   "cell_type": "code",
   "execution_count": 4,
   "metadata": {
    "collapsed": false
   },
   "outputs": [
    {
     "name": "stdout",
     "output_type": "stream",
     "text": [
      "unicode_normalize include? to_c unicode_normalize! unicode_normalized? % * + count partition unpack encode encode! next casecmp insert bytesize match succ! next! upto index rindex replace clear chr +@ -@ setbyte getbyte <=> << scrub scrub! byteslice == === dump =~ downcase [] []= upcase downcase! capitalize swapcase upcase! oct empty? eql? hex chars split capitalize! swapcase! concat codepoints reverse lines bytes prepend scan ord reverse! center sub freeze inspect intern end_with? gsub chop crypt gsub! start_with? rstrip sub! ljust length size strip! succ rstrip! chomp strip rjust lstrip! tr! chomp! squeeze lstrip tr_s! to_str to_sym chop! each_byte each_char each_codepoint to_s to_i tr_s delete encoding force_encoding sum delete! squeeze! tr to_f valid_encoding? slice slice! rpartition each_line b ascii_only? hash to_r to_json to_json_raw to_json_raw_object < > <= >= between? instance_of? public_send instance_variable_get instance_variable_set instance_variable_defined? remove_instance_variable private_methods kind_of? instance_variables tap is_a? extend to_enum enum_for !~ respond_to? display object_id send method public_method singleton_method define_singleton_method nil? class singleton_class clone dup itself taint tainted? untaint untrust trust untrusted? methods protected_methods frozen? public_methods singleton_methods ! != __send__ equal? instance_eval instance_exec __id__\n"
     ]
    }
   ],
   "source": [
    "a = \"This is a test\"\n",
    "puts a.methods.join(' ')"
   ]
  },
  {
   "cell_type": "code",
   "execution_count": 5,
   "metadata": {
    "collapsed": false
   },
   "outputs": [
    {
     "name": "stdout",
     "output_type": "stream",
     "text": [
      "[:@name, :@age]\n"
     ]
    }
   ],
   "source": [
    "class Person\n",
    "  attr_accessor :name, :age\n",
    "end\n",
    "\n",
    "p = Person.new\n",
    "p.name = \"Fred\"\n",
    "p.age = 20\n",
    "puts p.instance_variables"
   ]
  },
  {
   "cell_type": "markdown",
   "metadata": {},
   "source": [
    "### 6.2.6 Encapsulation"
   ]
  },
  {
   "cell_type": "code",
   "execution_count": 6,
   "metadata": {
    "collapsed": false
   },
   "outputs": [
    {
     "data": {
      "text/plain": [
       ":set_last_name"
      ]
     },
     "execution_count": 6,
     "metadata": {},
     "output_type": "execute_result"
    }
   ],
   "source": [
    "class Person\n",
    "  def initialize(name)\n",
    "    set_name(name)\n",
    "  end\n",
    "  def name\n",
    "    @first_name + ' ' + @last_name\n",
    "  end\n",
    "  def set_name(name)\n",
    "    first_name, last_name = name.split(/\\s+/)\n",
    "    set_first_name(first_name)\n",
    "    set_last_name(last_name)\n",
    "  end\n",
    "  def set_first_name(name)\n",
    "    @first_name = name\n",
    "  end\n",
    "  def set_last_name(name)\n",
    "    @last_name = name\n",
    "  end\n",
    "end"
   ]
  },
  {
   "cell_type": "code",
   "execution_count": 7,
   "metadata": {
    "collapsed": false
   },
   "outputs": [
    {
     "name": "stdout",
     "output_type": "stream",
     "text": [
      "Fred Bloggs\n"
     ]
    }
   ],
   "source": [
    "p = Person.new(\"Fred Bloggs\")\n",
    "puts p.name"
   ]
  },
  {
   "cell_type": "code",
   "execution_count": 8,
   "metadata": {
    "collapsed": false
   },
   "outputs": [
    {
     "name": "stdout",
     "output_type": "stream",
     "text": [
      "Fred Smith\n"
     ]
    }
   ],
   "source": [
    "p = Person.new(\"Fred Bloggs\")\n",
    "p.set_last_name(\"Smith\")\n",
    "puts p.name"
   ]
  },
  {
   "cell_type": "code",
   "execution_count": 29,
   "metadata": {
    "collapsed": false
   },
   "outputs": [
    {
     "data": {
      "text/plain": [
       ":set_last_name"
      ]
     },
     "execution_count": 29,
     "metadata": {},
     "output_type": "execute_result"
    }
   ],
   "source": [
    "class Person\n",
    "  def initialize(name)\n",
    "    set_name(name)\n",
    "  end\n",
    "  def name\n",
    "    @first_name + ' ' + @last_name\n",
    "  end\n",
    "  \n",
    "# private\n",
    "  \n",
    "  def set_name(name)\n",
    "    first_name, last_name = name.split(/\\s+/)\n",
    "    set_first_name(first_name)\n",
    "    set_last_name(last_name)\n",
    "  end\n",
    "  def set_first_name(name)\n",
    "    @first_name = name\n",
    "  end\n",
    "  def set_last_name(name)\n",
    "    @last_name = name\n",
    "  end\n",
    "end"
   ]
  },
  {
   "cell_type": "code",
   "execution_count": null,
   "metadata": {
    "collapsed": false,
    "scrolled": false
   },
   "outputs": [],
   "source": [
    "p = Person.new(\"Fred Bloggs\")\n",
    "p.set_last_name(\"Smith\")"
   ]
  },
  {
   "cell_type": "code",
   "execution_count": 5,
   "metadata": {
    "collapsed": false,
    "scrolled": true
   },
   "outputs": [
    {
     "name": "stdout",
     "output_type": "stream",
     "text": [
      "9\n",
      "25\n"
     ]
    }
   ],
   "source": [
    "class Person\n",
    "  def initialize(age)\n",
    "    @age = age\n",
    "  end\n",
    "  def age\n",
    "    @age\n",
    "  end\n",
    "  def age_difference_with(other_person)\n",
    "    (self.age - other_person.age).abs\n",
    "  end\n",
    "  protected :age\n",
    "end\n",
    "\n",
    "fred = Person.new(34)\n",
    "chris = Person.new(25)\n",
    "puts chris.age_difference_with(fred)\n",
    "puts chris.age"
   ]
  },
  {
   "cell_type": "markdown",
   "metadata": {},
   "source": [
    "### 6.2.7 Polymorphism"
   ]
  },
  {
   "cell_type": "code",
   "execution_count": 6,
   "metadata": {
    "collapsed": false
   },
   "outputs": [
    {
     "name": "stdout",
     "output_type": "stream",
     "text": [
      "Meaow!\n",
      "Woof!\n",
      "Meaow!\n"
     ]
    },
    {
     "data": {
      "text/plain": [
       "[#<Cat:0x00000003039708 @name=\"Flossie\">, #<Dog:0x00000003039668 @name=\"Clive\">, #<Cat:0x00000003039618 @name=\"Max\">]"
      ]
     },
     "execution_count": 6,
     "metadata": {},
     "output_type": "execute_result"
    }
   ],
   "source": [
    "class Animal\n",
    "  attr_accessor :name\n",
    "  def initialize(name)\n",
    "    @name = name\n",
    "  end\n",
    "end\n",
    "\n",
    "class Cat < Animal\n",
    "  def talk\n",
    "    \"Meaow!\"\n",
    "  end\n",
    "end\n",
    "\n",
    "class Dog < Animal\n",
    "  def talk\n",
    "    \"Woof!\"\n",
    "  end\n",
    "end\n",
    "\n",
    "animals = [Cat.new(\"Flossie\"), Dog.new(\"Clive\"), Cat.new(\"Max\")]\n",
    "animals.each do |animal|\n",
    "  puts animal.talk\n",
    "end"
   ]
  },
  {
   "cell_type": "code",
   "execution_count": 7,
   "metadata": {
    "collapsed": false
   },
   "outputs": [
    {
     "name": "stdout",
     "output_type": "stream",
     "text": [
      "1000\n",
      "[1, 2, 3]\n",
      "{:name=>\"Fred\", :age=>10}\n"
     ]
    }
   ],
   "source": [
    "puts 1000.to_s\n",
    "puts [1,2,3].to_s\n",
    "puts ({ :name => 'Fred', :age => 10 }).to_s"
   ]
  },
  {
   "cell_type": "markdown",
   "metadata": {},
   "source": [
    "### 6.2.8 Nested Classes"
   ]
  },
  {
   "cell_type": "code",
   "execution_count": null,
   "metadata": {
    "collapsed": true
   },
   "outputs": [],
   "source": [
    "class Drawing\n",
    "  class Line\n",
    "  end\n",
    "  \n",
    "  class Circle\n",
    "  end  \n",
    "end"
   ]
  },
  {
   "cell_type": "code",
   "execution_count": null,
   "metadata": {
    "collapsed": false
   },
   "outputs": [],
   "source": [
    "class Drawing\n",
    "  def self.give_me_a_circle\n",
    "    Circle.new\n",
    "  end\n",
    "  \n",
    "  class Line\n",
    "  end\n",
    "  \n",
    "  class Circle\n",
    "    def what_am_i\n",
    "      \"This is a circle\"\n",
    "    end\n",
    "  end\n",
    "end\n",
    "\n",
    "a = Drawing.give_me_a_circle\n",
    "puts a.what_am_i\n",
    "a = Drawing::Circle.new\n",
    "puts a.what_am_i\n",
    "a = Circle.new\n",
    "puts a.what_am_i"
   ]
  },
  {
   "cell_type": "markdown",
   "metadata": {},
   "source": [
    "### 6.2.9 The Scope of Constants"
   ]
  },
  {
   "cell_type": "code",
   "execution_count": 9,
   "metadata": {
    "collapsed": false
   },
   "outputs": [
    {
     "name": "stdout",
     "output_type": "stream",
     "text": [
      "62.83184\n"
     ]
    }
   ],
   "source": [
    "def circumference_of_circle(radius)\n",
    "  2 * Pi * radius\n",
    "end\n",
    "\n",
    "Pi = 3.141592\n",
    "puts circumference_of_circle(10)"
   ]
  },
  {
   "cell_type": "code",
   "execution_count": 10,
   "metadata": {
    "collapsed": false
   },
   "outputs": [
    {
     "name": "stderr",
     "output_type": "stream",
     "text": [
      "<main>:2: warning: already initialized constant Pi\n",
      "<main>:4: warning: previous definition of Pi was here\n"
     ]
    },
    {
     "name": "stdout",
     "output_type": "stream",
     "text": [
      "90.0\n"
     ]
    }
   ],
   "source": [
    "Pi = 3.141592\n",
    "\n",
    "class OtherPlanet\n",
    "  Pi = 4.5\n",
    "  def self.circumference_of_circle(radius)\n",
    "    radius * 2 * Pi\n",
    "  end\n",
    "end\n",
    "\n",
    "puts OtherPlanet.circumference_of_circle(10)"
   ]
  },
  {
   "cell_type": "markdown",
   "metadata": {},
   "source": [
    "## 6.3 Modules, Namespaces, and Mix-Ins"
   ]
  },
  {
   "cell_type": "markdown",
   "metadata": {},
   "source": [
    "### 6.3.1 Namespaces"
   ]
  },
  {
   "cell_type": "code",
   "execution_count": 11,
   "metadata": {
    "collapsed": false
   },
   "outputs": [
    {
     "name": "stdout",
     "output_type": "stream",
     "text": [
      "492148\n"
     ]
    }
   ],
   "source": [
    "def random\n",
    "  rand(1000000)\n",
    "end\n",
    "puts random"
   ]
  },
  {
   "cell_type": "code",
   "execution_count": 12,
   "metadata": {
    "collapsed": false
   },
   "outputs": [
    {
     "data": {
      "text/plain": [
       ":random"
      ]
     },
     "execution_count": 12,
     "metadata": {},
     "output_type": "execute_result"
    }
   ],
   "source": [
    "def random\n",
    "  (rand(26) + 65).chr\n",
    "end"
   ]
  },
  {
   "cell_type": "code",
   "execution_count": 13,
   "metadata": {
    "collapsed": false
   },
   "outputs": [
    {
     "name": "stdout",
     "output_type": "stream",
     "text": [
      "423999\n",
      "Q\n"
     ]
    }
   ],
   "source": [
    "module NumberStuff\n",
    "  def self.random\n",
    "    rand(1000000)\n",
    "  end\n",
    "end\n",
    "\n",
    "module LetterStuff\n",
    "  def self.random\n",
    "    (rand(26) + 65).chr\n",
    "  end\n",
    "end\n",
    "\n",
    "puts NumberStuff.random\n",
    "puts LetterStuff.random"
   ]
  },
  {
   "cell_type": "code",
   "execution_count": 14,
   "metadata": {
    "collapsed": true
   },
   "outputs": [],
   "source": [
    "module ToolBox\n",
    "  class Ruler\n",
    "    attr_accessor :length\n",
    "  end\n",
    "end"
   ]
  },
  {
   "cell_type": "code",
   "execution_count": 15,
   "metadata": {
    "collapsed": false
   },
   "outputs": [
    {
     "data": {
      "text/plain": [
       "\"Genghis Khan from Moskau\""
      ]
     },
     "execution_count": 15,
     "metadata": {},
     "output_type": "execute_result"
    }
   ],
   "source": [
    "module Country\n",
    "  class Ruler\n",
    "    attr_accessor :name\n",
    "  end\n",
    "  \n",
    "end\n",
    "\n",
    "a = ToolBox::Ruler.new\n",
    "a.length = 50\n",
    "b = Country::Ruler.new\n",
    "b.name = \"Genghis Khan from Moskau\""
   ]
  },
  {
   "cell_type": "markdown",
   "metadata": {},
   "source": [
    "### 6.3.2 Mix-Ins"
   ]
  },
  {
   "cell_type": "code",
   "execution_count": 1,
   "metadata": {
    "collapsed": false
   },
   "outputs": [
    {
     "name": "stdout",
     "output_type": "stream",
     "text": [
      "Person\n"
     ]
    }
   ],
   "source": [
    "module UsefulFeatures\n",
    "  def class_name\n",
    "    self.class.to_s\n",
    "  end\n",
    "end\n",
    "\n",
    "class Person\n",
    "  include UsefulFeatures\n",
    "end\n",
    "\n",
    "x = Person.new\n",
    "puts x.class_name"
   ]
  },
  {
   "cell_type": "code",
   "execution_count": 2,
   "metadata": {
    "collapsed": false
   },
   "outputs": [
    {
     "data": {
      "text/plain": [
       ":do_stuff"
      ]
     },
     "execution_count": 2,
     "metadata": {},
     "output_type": "execute_result"
    }
   ],
   "source": [
    "module AnotherModule\n",
    "  def do_stuff\n",
    "    puts \"This is a test\"\n",
    "  end\n",
    "end"
   ]
  },
  {
   "cell_type": "code",
   "execution_count": 3,
   "metadata": {
    "collapsed": false
   },
   "outputs": [
    {
     "name": "stdout",
     "output_type": "stream",
     "text": [
      "This is a test\n"
     ]
    }
   ],
   "source": [
    "include AnotherModule\n",
    "do_stuff"
   ]
  },
  {
   "cell_type": "markdown",
   "metadata": {},
   "source": [
    "* __Enumerable__"
   ]
  },
  {
   "cell_type": "code",
   "execution_count": 4,
   "metadata": {
    "collapsed": false
   },
   "outputs": [
    {
     "name": "stdout",
     "output_type": "stream",
     "text": [
      "1\n",
      "2\n",
      "3\n",
      "4\n",
      "5\n"
     ]
    },
    {
     "data": {
      "text/plain": [
       "[1, 2, 3, 4, 5]"
      ]
     },
     "execution_count": 4,
     "metadata": {},
     "output_type": "execute_result"
    }
   ],
   "source": [
    "[1,2,3,4,5].each { |number| puts number }"
   ]
  },
  {
   "cell_type": "code",
   "execution_count": 5,
   "metadata": {
    "collapsed": false
   },
   "outputs": [
    {
     "name": "stdout",
     "output_type": "stream",
     "text": [
      "longest\n"
     ]
    }
   ],
   "source": [
    "my_array = %w{this is a test of the longest word check}\n",
    "longest_word = ''\n",
    "\n",
    "my_array.each do |word|\n",
    "  longest_word = word if longest_word.length < word.length\n",
    "end\n",
    "\n",
    "puts longest_word"
   ]
  },
  {
   "cell_type": "code",
   "execution_count": 6,
   "metadata": {
    "collapsed": false
   },
   "outputs": [
    {
     "name": "stdout",
     "output_type": "stream",
     "text": [
      "588\n"
     ]
    }
   ],
   "source": [
    "my_array = %w{10 56 92 3 49 588 18}\n",
    "highest_number = 0\n",
    "\n",
    "my_array.each do |number|\n",
    "  number = number.to_i\n",
    "  highest_number = number if number > highest_number\n",
    "end\n",
    "\n",
    "puts highest_number"
   ]
  },
  {
   "cell_type": "code",
   "execution_count": 7,
   "metadata": {
    "collapsed": false
   },
   "outputs": [
    {
     "data": {
      "text/plain": [
       "[\"1x\", \"2x\", \"3x\", \"4x\"]"
      ]
     },
     "execution_count": 7,
     "metadata": {},
     "output_type": "execute_result"
    }
   ],
   "source": [
    "[1,2,3,4].collect { |i| i.to_s + \"x\" }"
   ]
  },
  {
   "cell_type": "code",
   "execution_count": 8,
   "metadata": {
    "collapsed": false
   },
   "outputs": [
    {
     "data": {
      "text/plain": [
       "2"
      ]
     },
     "execution_count": 8,
     "metadata": {},
     "output_type": "execute_result"
    }
   ],
   "source": [
    "[1,2,3,4].detect { |i| i.between?(2,3) }"
   ]
  },
  {
   "cell_type": "code",
   "execution_count": 9,
   "metadata": {
    "collapsed": false
   },
   "outputs": [
    {
     "data": {
      "text/plain": [
       "[2, 3]"
      ]
     },
     "execution_count": 9,
     "metadata": {},
     "output_type": "execute_result"
    }
   ],
   "source": [
    "[1,2,3,4].select { |i| i.between?(2,3) }"
   ]
  },
  {
   "cell_type": "code",
   "execution_count": 10,
   "metadata": {
    "collapsed": false
   },
   "outputs": [
    {
     "data": {
      "text/plain": [
       "[1, 2, 3, 4]"
      ]
     },
     "execution_count": 10,
     "metadata": {},
     "output_type": "execute_result"
    }
   ],
   "source": [
    "[4,1,3,2].sort"
   ]
  },
  {
   "cell_type": "code",
   "execution_count": 11,
   "metadata": {
    "collapsed": false
   },
   "outputs": [
    {
     "data": {
      "text/plain": [
       "4"
      ]
     },
     "execution_count": 11,
     "metadata": {},
     "output_type": "execute_result"
    }
   ],
   "source": [
    "[1,2,3,4].max"
   ]
  },
  {
   "cell_type": "code",
   "execution_count": 12,
   "metadata": {
    "collapsed": false,
    "scrolled": true
   },
   "outputs": [
    {
     "data": {
      "text/plain": [
       "1"
      ]
     },
     "execution_count": 12,
     "metadata": {},
     "output_type": "execute_result"
    }
   ],
   "source": [
    "[1,2,3,4].min"
   ]
  },
  {
   "cell_type": "code",
   "execution_count": 13,
   "metadata": {
    "collapsed": false
   },
   "outputs": [
    {
     "data": {
      "text/plain": [
       ":each"
      ]
     },
     "execution_count": 13,
     "metadata": {},
     "output_type": "execute_result"
    }
   ],
   "source": [
    "class AllVowels\n",
    "  VOWELS = %w{a e i o u}\n",
    "  def each\n",
    "    VOWELS.each { |v| yield v }\n",
    "  end\n",
    "end"
   ]
  },
  {
   "cell_type": "code",
   "execution_count": 14,
   "metadata": {
    "collapsed": false
   },
   "outputs": [
    {
     "name": "stdout",
     "output_type": "stream",
     "text": [
      "a\n",
      "e\n",
      "i\n",
      "o\n",
      "u\n"
     ]
    },
    {
     "data": {
      "text/plain": [
       "[\"a\", \"e\", \"i\", \"o\", \"u\"]"
      ]
     },
     "execution_count": 14,
     "metadata": {},
     "output_type": "execute_result"
    }
   ],
   "source": [
    "x = AllVowels.new\n",
    "x.each { |v| puts v }"
   ]
  },
  {
   "cell_type": "code",
   "execution_count": 15,
   "metadata": {
    "collapsed": false
   },
   "outputs": [
    {
     "name": "stderr",
     "output_type": "stream",
     "text": [
      "<main>:2: warning: already initialized constant AllVowels::VOWELS\n",
      "<main>:1: warning: previous definition of VOWELS was here\n"
     ]
    },
    {
     "data": {
      "text/plain": [
       ":each"
      ]
     },
     "execution_count": 15,
     "metadata": {},
     "output_type": "execute_result"
    }
   ],
   "source": [
    "class AllVowels\n",
    "  include Enumerable\n",
    "  VOWELS = %w{a e i o u}\n",
    "  def each\n",
    "    VOWELS.each { |v| yield v }\n",
    "  end\n",
    "end"
   ]
  },
  {
   "cell_type": "code",
   "execution_count": 16,
   "metadata": {
    "collapsed": false
   },
   "outputs": [
    {
     "data": {
      "text/plain": [
       "#<AllVowels:0x00000002f8da70>"
      ]
     },
     "execution_count": 16,
     "metadata": {},
     "output_type": "execute_result"
    }
   ],
   "source": [
    "x = AllVowels.new"
   ]
  },
  {
   "cell_type": "code",
   "execution_count": 17,
   "metadata": {
    "collapsed": false
   },
   "outputs": [
    {
     "data": {
      "text/plain": [
       "[\"ax\", \"ex\", \"ix\", \"ox\", \"ux\"]"
      ]
     },
     "execution_count": 17,
     "metadata": {},
     "output_type": "execute_result"
    }
   ],
   "source": [
    "x.collect { |i| i + \"x\" }"
   ]
  },
  {
   "cell_type": "code",
   "execution_count": 18,
   "metadata": {
    "collapsed": false
   },
   "outputs": [
    {
     "data": {
      "text/plain": [
       "\"o\""
      ]
     },
     "execution_count": 18,
     "metadata": {},
     "output_type": "execute_result"
    }
   ],
   "source": [
    "x.detect { |i| i > \"j\" }"
   ]
  },
  {
   "cell_type": "code",
   "execution_count": 19,
   "metadata": {
    "collapsed": false
   },
   "outputs": [
    {
     "data": {
      "text/plain": [
       "[\"o\", \"u\"]"
      ]
     },
     "execution_count": 19,
     "metadata": {},
     "output_type": "execute_result"
    }
   ],
   "source": [
    "x.select { |i| i > \"j\" }"
   ]
  },
  {
   "cell_type": "code",
   "execution_count": 20,
   "metadata": {
    "collapsed": false
   },
   "outputs": [
    {
     "data": {
      "text/plain": [
       "[\"a\", \"e\", \"i\", \"o\", \"u\"]"
      ]
     },
     "execution_count": 20,
     "metadata": {},
     "output_type": "execute_result"
    }
   ],
   "source": [
    "x.sort"
   ]
  },
  {
   "cell_type": "code",
   "execution_count": 21,
   "metadata": {
    "collapsed": false
   },
   "outputs": [
    {
     "data": {
      "text/plain": [
       "\"u\""
      ]
     },
     "execution_count": 21,
     "metadata": {},
     "output_type": "execute_result"
    }
   ],
   "source": [
    "x.max"
   ]
  },
  {
   "cell_type": "code",
   "execution_count": 22,
   "metadata": {
    "collapsed": false
   },
   "outputs": [
    {
     "data": {
      "text/plain": [
       "\"a\""
      ]
     },
     "execution_count": 22,
     "metadata": {},
     "output_type": "execute_result"
    }
   ],
   "source": [
    "x.min"
   ]
  },
  {
   "cell_type": "markdown",
   "metadata": {},
   "source": [
    "* __Comparable__"
   ]
  },
  {
   "cell_type": "code",
   "execution_count": 23,
   "metadata": {
    "collapsed": false
   },
   "outputs": [
    {
     "data": {
      "text/plain": [
       "-1"
      ]
     },
     "execution_count": 23,
     "metadata": {},
     "output_type": "execute_result"
    }
   ],
   "source": [
    "1 <=> 2"
   ]
  },
  {
   "cell_type": "code",
   "execution_count": 24,
   "metadata": {
    "collapsed": false
   },
   "outputs": [
    {
     "data": {
      "text/plain": [
       "0"
      ]
     },
     "execution_count": 24,
     "metadata": {},
     "output_type": "execute_result"
    }
   ],
   "source": [
    "1 <=> 1"
   ]
  },
  {
   "cell_type": "code",
   "execution_count": 25,
   "metadata": {
    "collapsed": false
   },
   "outputs": [
    {
     "data": {
      "text/plain": [
       "1"
      ]
     },
     "execution_count": 25,
     "metadata": {},
     "output_type": "execute_result"
    }
   ],
   "source": [
    "2 <=> 1"
   ]
  },
  {
   "cell_type": "code",
   "execution_count": 26,
   "metadata": {
    "collapsed": false
   },
   "outputs": [
    {
     "data": {
      "text/plain": [
       "#<Song:0x00000002d791a8 @song_name=\"Minute Waltz\", @length=60>"
      ]
     },
     "execution_count": 26,
     "metadata": {},
     "output_type": "execute_result"
    }
   ],
   "source": [
    "class Song\n",
    "  include Comparable\n",
    "  attr_accessor :length\n",
    "  \n",
    "  def <=>(other)\n",
    "    @length <=> other.length\n",
    "  end\n",
    "  def initialize(song_name, length)\n",
    "    @song_name = song_name\n",
    "    @length = length\n",
    "  end\n",
    "end\n",
    "\n",
    "a = Song.new('Rock around the clock', 143)\n",
    "b = Song.new('Bohemian Rhapsody', 544)\n",
    "c = Song.new('Minute Waltz', 60)"
   ]
  },
  {
   "cell_type": "code",
   "execution_count": 27,
   "metadata": {
    "collapsed": false
   },
   "outputs": [
    {
     "data": {
      "text/plain": [
       "true"
      ]
     },
     "execution_count": 27,
     "metadata": {},
     "output_type": "execute_result"
    }
   ],
   "source": [
    "a < b"
   ]
  },
  {
   "cell_type": "code",
   "execution_count": 28,
   "metadata": {
    "collapsed": false
   },
   "outputs": [
    {
     "data": {
      "text/plain": [
       "true"
      ]
     },
     "execution_count": 28,
     "metadata": {},
     "output_type": "execute_result"
    }
   ],
   "source": [
    "b >= c"
   ]
  },
  {
   "cell_type": "code",
   "execution_count": 29,
   "metadata": {
    "collapsed": false
   },
   "outputs": [
    {
     "data": {
      "text/plain": [
       "false"
      ]
     },
     "execution_count": 29,
     "metadata": {},
     "output_type": "execute_result"
    }
   ],
   "source": [
    "c > a"
   ]
  },
  {
   "cell_type": "code",
   "execution_count": 30,
   "metadata": {
    "collapsed": false
   },
   "outputs": [
    {
     "data": {
      "text/plain": [
       "true"
      ]
     },
     "execution_count": 30,
     "metadata": {},
     "output_type": "execute_result"
    }
   ],
   "source": [
    "a.between?(c,b)"
   ]
  },
  {
   "cell_type": "markdown",
   "metadata": {},
   "source": [
    "* __Using Mix-Ins with Namespaces and Classes__"
   ]
  },
  {
   "cell_type": "code",
   "execution_count": 31,
   "metadata": {
    "collapsed": false
   },
   "outputs": [
    {
     "data": {
      "text/plain": [
       "\"Genghis Khan of Moskau\""
      ]
     },
     "execution_count": 31,
     "metadata": {},
     "output_type": "execute_result"
    }
   ],
   "source": [
    "module ToolBox\n",
    "  class Ruler\n",
    "    attr_accessor :length\n",
    "  end\n",
    "end\n",
    "\n",
    "module Country\n",
    "  class Ruler\n",
    "    attr_accessor :name\n",
    "  end\n",
    "end\n",
    "\n",
    "a = ToolBox::Ruler.new\n",
    "a.length = 50\n",
    "b = Country::Ruler.new\n",
    "b.name = \"Genghis Khan of Moskau\""
   ]
  },
  {
   "cell_type": "code",
   "execution_count": 32,
   "metadata": {
    "collapsed": false
   },
   "outputs": [
    {
     "data": {
      "text/plain": [
       "\"King Henry VIII\""
      ]
     },
     "execution_count": 32,
     "metadata": {},
     "output_type": "execute_result"
    }
   ],
   "source": [
    "include Country\n",
    "c = Ruler.new\n",
    "c.name = \"King Henry VIII\""
   ]
  },
  {
   "cell_type": "markdown",
   "metadata": {},
   "source": [
    "## 6.4 Building a Dungeon Text Adventure with Objects"
   ]
  },
  {
   "cell_type": "markdown",
   "metadata": {},
   "source": [
    "### 6.4.1 Dungeon Concepts"
   ]
  },
  {
   "cell_type": "markdown",
   "metadata": {},
   "source": [
    "### 6.4.2 Creating the Initial Classes"
   ]
  },
  {
   "cell_type": "code",
   "execution_count": 33,
   "metadata": {
    "collapsed": false
   },
   "outputs": [
    {
     "data": {
      "text/plain": [
       ":initialize"
      ]
     },
     "execution_count": 33,
     "metadata": {},
     "output_type": "execute_result"
    }
   ],
   "source": [
    "class Dungeon\n",
    "  attr_accessor :player\n",
    "  def initialize(player)\n",
    "    @player = player\n",
    "    @rooms = {}\n",
    "  end\n",
    "end\n",
    "\n",
    "class Player\n",
    "  attr_accessor :name, :location\n",
    "  def initialize(player_name)\n",
    "    @name = player_name\n",
    "  end\n",
    "end\n",
    "\n",
    "class Room\n",
    "  attr_accessor :reference, :name, :description, :connections\n",
    "  def initialize(reference, name, description, connections)\n",
    "    @reference = reference\n",
    "    @name = name\n",
    "    @description = description\n",
    "    @connections = connections\n",
    "  end\n",
    "end"
   ]
  },
  {
   "cell_type": "code",
   "execution_count": 34,
   "metadata": {
    "collapsed": false
   },
   "outputs": [
    {
     "name": "stdout",
     "output_type": "stream",
     "text": [
      "Fred Bloggs\n"
     ]
    }
   ],
   "source": [
    "me = Player.new(\"Fred Bloggs\")\n",
    "my_dungeon = Dungeon.new(me)\n",
    "puts my_dungeon.player.name"
   ]
  },
  {
   "cell_type": "markdown",
   "metadata": {},
   "source": [
    "### 6.4.3 Structs: Quick and Easy Data Classes"
   ]
  },
  {
   "cell_type": "code",
   "execution_count": 35,
   "metadata": {
    "collapsed": false
   },
   "outputs": [
    {
     "name": "stderr",
     "output_type": "stream",
     "text": [
      "<main>:1: warning: already initialized constant Person\n",
      "<main>:6: warning: previous definition of Person was here\n"
     ]
    },
    {
     "name": "stdout",
     "output_type": "stream",
     "text": [
      "75\n"
     ]
    }
   ],
   "source": [
    "Person = Struct.new(:name, :gender, :age)\n",
    "fred = Person.new(\"Fred\", \"male\", 50)\n",
    "chris = Person.new(\"Chris\", \"male\", 25)\n",
    "puts fred.age + chris.age"
   ]
  },
  {
   "cell_type": "code",
   "execution_count": 36,
   "metadata": {
    "collapsed": false
   },
   "outputs": [
    {
     "data": {
      "text/plain": [
       ":initialize"
      ]
     },
     "execution_count": 36,
     "metadata": {},
     "output_type": "execute_result"
    }
   ],
   "source": [
    "class Person\n",
    "  attr_accessor :name, :gender, :age\n",
    "  def initialize(name, gender, age)\n",
    "    @name = name\n",
    "    @gender = gender\n",
    "    @age = age\n",
    "  end\n",
    "end"
   ]
  },
  {
   "cell_type": "code",
   "execution_count": 37,
   "metadata": {
    "collapsed": false
   },
   "outputs": [
    {
     "name": "stderr",
     "output_type": "stream",
     "text": [
      "<main>:8: warning: already initialized constant Player\n",
      "<main>:8: warning: previous definition of Player was here\n",
      "<main>:9: warning: already initialized constant Room\n",
      "<main>:15: warning: previous definition of Room was here\n"
     ]
    },
    {
     "data": {
      "text/plain": [
       "Room"
      ]
     },
     "execution_count": 37,
     "metadata": {},
     "output_type": "execute_result"
    }
   ],
   "source": [
    "class Dungeon\n",
    "  attr_accessor :player\n",
    "  def initialize(player)\n",
    "    @player = player\n",
    "    @rooms = {}\n",
    "  end\n",
    "end\n",
    "\n",
    "Player = Struct.new(:name, :location)\n",
    "Room = Struct.new(:reference, :name, :description, :connections)"
   ]
  },
  {
   "cell_type": "code",
   "execution_count": null,
   "metadata": {
    "collapsed": false
   },
   "outputs": [],
   "source": [
    "class Person\n",
    "  attr_accessor :name, :age\n",
    "end\n",
    "\n",
    "x = Person.new\n",
    "x.name = \"Fred\"\n",
    "x.age = 10\n",
    "puts x.name, x.age"
   ]
  },
  {
   "cell_type": "code",
   "execution_count": 39,
   "metadata": {
    "collapsed": false
   },
   "outputs": [
    {
     "data": {
      "text/plain": [
       ":age="
      ]
     },
     "execution_count": 39,
     "metadata": {},
     "output_type": "execute_result"
    }
   ],
   "source": [
    "class Person\n",
    "  def name\n",
    "    @name\n",
    "  end\n",
    "  def name=(name)\n",
    "    @name = name\n",
    "  end\n",
    "  def age\n",
    "    @age\n",
    "  end\n",
    "  def age=(age)\n",
    "    @age = age\n",
    "  end\n",
    "end"
   ]
  },
  {
   "cell_type": "markdown",
   "metadata": {},
   "source": [
    "### 6.4.4 Creating Rooms"
   ]
  },
  {
   "cell_type": "code",
   "execution_count": 40,
   "metadata": {
    "collapsed": false
   },
   "outputs": [
    {
     "data": {
      "text/plain": [
       ":add_room"
      ]
     },
     "execution_count": 40,
     "metadata": {},
     "output_type": "execute_result"
    }
   ],
   "source": [
    "class Dungeon\n",
    "  def add_room(reference, name, description, connections)\n",
    "    @rooms[reference] = Room.new(reference, name, description, connections)\n",
    "  end\n",
    "end"
   ]
  },
  {
   "cell_type": "code",
   "execution_count": 41,
   "metadata": {
    "collapsed": false
   },
   "outputs": [
    {
     "data": {
      "text/plain": [
       "#<struct Room reference=:largecave, name=\"Large Cave\", description=\"a large cavernous cave\", connections={:west=>:smallcave}>"
      ]
     },
     "execution_count": 41,
     "metadata": {},
     "output_type": "execute_result"
    }
   ],
   "source": [
    "my_dungeon.add_room(:largecave, \"Large Cave\", \"a large cavernous cave\", { :west => :smallcave })"
   ]
  },
  {
   "cell_type": "code",
   "execution_count": 42,
   "metadata": {
    "collapsed": false
   },
   "outputs": [
    {
     "data": {
      "text/plain": [
       "#<struct Room reference=:smallcave, name=\"Small Cave\", description=\"a small, claustrophobic cave\", connections={:east=>:largecave}>"
      ]
     },
     "execution_count": 42,
     "metadata": {},
     "output_type": "execute_result"
    }
   ],
   "source": [
    "my_dungeon.add_room(:smallcave, \"Small Cave\", \"a small, claustrophobic cave\", { :east => :largecave })"
   ]
  },
  {
   "cell_type": "markdown",
   "metadata": {},
   "source": [
    "### 6.4.5 Making the Dungeon Work"
   ]
  },
  {
   "cell_type": "code",
   "execution_count": null,
   "metadata": {
    "collapsed": true
   },
   "outputs": [],
   "source": [
    "class Dungeon\n",
    "  def start(location)\n",
    "    @player.location = location\n",
    "    show_current_description\n",
    "  end\n",
    "\n",
    "  def show_current_description\n",
    "    puts find_room_in_dungeon(@player.location).full_description\n",
    "  end\n",
    "\n",
    "  def find_room_in_dungeon(reference)\n",
    "    @rooms[reference]\n",
    "  end\n",
    "end\n",
    "\n",
    "class Room\n",
    "  def full_description\n",
    "    @name + \"\\n\\nYou are in \" + @description\n",
    "  end\n",
    "end"
   ]
  },
  {
   "cell_type": "code",
   "execution_count": null,
   "metadata": {
    "collapsed": true
   },
   "outputs": [],
   "source": [
    "class Dungeon\n",
    "  attr_accessor :player\n",
    "\n",
    "  def initialize(player)\n",
    "    @player = player\n",
    "    @rooms = {}\n",
    "  end\n",
    "\n",
    "  def add_room(reference, name, description, connections)\n",
    "    @rooms[reference] = Room.new(reference, name, description, connections)\n",
    "  end\n",
    "\n",
    "  def start(location)\n",
    "    @player.location = location\n",
    "    show_current_description\n",
    "  end\n",
    "\n",
    "  def show_current_description\n",
    "    puts find_room_in_dungeon(@player.location).full_description\n",
    "  end\n",
    "\n",
    "  def find_room_in_dungeon(reference)\n",
    "    @rooms[reference]\n",
    "  end\n",
    "\n",
    "  def find_room_in_direction(direction)\n",
    "    find_room_in_dungeon(@player.location).connections[direction]\n",
    "  end\n",
    "\n",
    "  def go(direction)\n",
    "    puts \"You go \" + direction.to_s\n",
    "    @player.location = find_room_in_direction(direction)\n",
    "    show_current_description\n",
    "  end\n",
    "end"
   ]
  },
  {
   "cell_type": "code",
   "execution_count": null,
   "metadata": {
    "collapsed": true
   },
   "outputs": [],
   "source": [
    "class Player\n",
    "  attr_accessor :name, :location\n",
    "\n",
    "  def initialize(name)\n",
    "    @name = name\n",
    "  end\n",
    "end\n",
    "\n",
    "class Room\n",
    "  attr_accessor :reference, :name, :description, :connections\n",
    "\n",
    "  def initialize(reference, name, description, connections)\n",
    "    @reference = reference\n",
    "    @name = name\n",
    "    @description = description\n",
    "    @connections = connections\n",
    "  end\n",
    "\n",
    "  def full_description\n",
    "    @name + \"\\n\\nYou are in \" + @description\n",
    "  end\n",
    "end"
   ]
  },
  {
   "cell_type": "code",
   "execution_count": null,
   "metadata": {
    "collapsed": true
   },
   "outputs": [],
   "source": [
    "player = Player.new(\"Fred Bloggs\")\n",
    "my_dungeon = Dungeon.new(player)\n",
    "\n",
    "# Add rooms to the dungeon\n",
    "my_dungeon.add_room(:largecave,\n",
    "                    \"Large Cave\",\n",
    "                    \"a large cavernous cave\",\n",
    "                    { :west => :smallcave })\n",
    "\n",
    "my_dungeon.add_room(:smallcave,\n",
    "                    \"Small Cave\",\n",
    "                    \"a small, claustrophobic cave\",\n",
    "                    { :east => :largecave })\n",
    "\n",
    "# Start the dungeon by placing the player in the large cave\n",
    "my_dungeon.start(:largecave)"
   ]
  },
  {
   "cell_type": "code",
   "execution_count": null,
   "metadata": {
    "collapsed": true
   },
   "outputs": [],
   "source": [
    "def find_room_in_direction(direction)\n",
    "  find_room_in_dungeon(@player.location).connections[direction]\n",
    "end\n",
    "\n",
    "def go(direction)\n",
    "  puts \"You go \" + direction.to_s\n",
    "  @player.location = find_room_in_direction(direction)\n",
    "  show_current_description\n",
    "end"
   ]
  },
  {
   "cell_type": "code",
   "execution_count": null,
   "metadata": {
    "collapsed": true
   },
   "outputs": [],
   "source": [
    "my_dungeon.add_room(:largecave,\n",
    "                    \"Large Cave\",\n",
    "                    \"a large cavernous cave\",\n",
    "                    { :west => :smallcave })"
   ]
  },
  {
   "cell_type": "code",
   "execution_count": null,
   "metadata": {
    "collapsed": true
   },
   "outputs": [],
   "source": [
    "my_dungeon.show_current_description"
   ]
  },
  {
   "cell_type": "code",
   "execution_count": null,
   "metadata": {
    "collapsed": true
   },
   "outputs": [],
   "source": [
    "my_dungeon.go(:west)"
   ]
  },
  {
   "cell_type": "code",
   "execution_count": null,
   "metadata": {
    "collapsed": true
   },
   "outputs": [],
   "source": [
    "my_dungeon.go(:east)"
   ]
  },
  {
   "cell_type": "markdown",
   "metadata": {},
   "source": [
    "## 6.5 Summary"
   ]
  },
  {
   "cell_type": "code",
   "execution_count": null,
   "metadata": {
    "collapsed": true
   },
   "outputs": [],
   "source": []
  }
 ],
 "metadata": {
  "kernelspec": {
   "display_name": "Ruby 2.3.3",
   "language": "ruby",
   "name": "ruby"
  },
  "language_info": {
   "file_extension": ".rb",
   "mimetype": "application/x-ruby",
   "name": "ruby",
   "version": "2.3.3"
  }
 },
 "nbformat": 4,
 "nbformat_minor": 1
}
