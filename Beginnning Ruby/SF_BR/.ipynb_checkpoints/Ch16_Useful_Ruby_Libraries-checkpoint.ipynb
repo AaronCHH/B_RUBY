{
 "cells": [
  {
   "cell_type": "markdown",
   "metadata": {},
   "source": [
    "# Chapter 16: Useful Ruby Libraries"
   ]
  },
  {
   "cell_type": "markdown",
   "metadata": {},
   "source": [
    "<div id=\"toc\"></div>"
   ]
  },
  {
   "cell_type": "markdown",
   "metadata": {},
   "source": [
    "## 16.1 abbrev"
   ]
  },
  {
   "cell_type": "markdown",
   "metadata": {},
   "source": [
    "### 16.1.1 Installation"
   ]
  },
  {
   "cell_type": "code",
   "execution_count": null,
   "metadata": {
    "collapsed": true
   },
   "outputs": [],
   "source": [
    "require 'abbrev'\n"
   ]
  },
  {
   "cell_type": "markdown",
   "metadata": {},
   "source": [
    "### 16.1.2 Examples"
   ]
  },
  {
   "cell_type": "code",
   "execution_count": null,
   "metadata": {
    "collapsed": true
   },
   "outputs": [],
   "source": [
    "require 'abbrev'\n",
    "require 'pp'\n",
    "\n",
    "pp Abbrev::abbrev(%w{Peter Patricia Petal Petunia})"
   ]
  },
  {
   "cell_type": "code",
   "execution_count": null,
   "metadata": {
    "collapsed": true
   },
   "outputs": [],
   "source": [
    "require 'abbrev'\n",
    "\n",
    "abbrevs = %w{Peter Paul Patricia Petal Pauline}.abbrev\n",
    "puts \"Please enter your name:\"\n",
    "name = gets.chomp\n",
    "\n",
    "if a = abbrevs.find { |a, n| a.downcase == name.downcase }\n",
    "  puts \"Did you mean #{a.join(' or ')}?\"\n",
    "  name = gets.chomp\n",
    "end"
   ]
  },
  {
   "cell_type": "markdown",
   "metadata": {},
   "source": [
    "### 16.1.3 Further Information"
   ]
  },
  {
   "cell_type": "markdown",
   "metadata": {},
   "source": [
    "* Official documentation for abbrev: http://www.ruby-doc.org/stdlib/libdoc/abbrev/rdoc/Abbrev.html"
   ]
  },
  {
   "cell_type": "markdown",
   "metadata": {},
   "source": [
    "## 16.2 base64"
   ]
  },
  {
   "cell_type": "markdown",
   "metadata": {},
   "source": [
    "* Note The Base64 standard is technically specified in RFC 2045 at https://www.ietf.org/rfc/rfc2045.txt."
   ]
  },
  {
   "cell_type": "markdown",
   "metadata": {},
   "source": [
    "### 16.2.1 Installation"
   ]
  },
  {
   "cell_type": "code",
   "execution_count": null,
   "metadata": {
    "collapsed": true
   },
   "outputs": [],
   "source": [
    "require 'base64'"
   ]
  },
  {
   "cell_type": "markdown",
   "metadata": {},
   "source": [
    "### 16.2.2 Examples"
   ]
  },
  {
   "cell_type": "markdown",
   "metadata": {},
   "source": [
    "* __Converting Binary Data to Base64__"
   ]
  },
  {
   "cell_type": "code",
   "execution_count": null,
   "metadata": {
    "collapsed": true
   },
   "outputs": [],
   "source": [
    "require 'base64'\n",
    "puts Base64.encode64('testing')\n"
   ]
  },
  {
   "cell_type": "code",
   "execution_count": null,
   "metadata": {
    "collapsed": true
   },
   "outputs": [],
   "source": [
    "require 'base64'\n",
    "puts Base64.encode64(File.read('/bin/bash'))"
   ]
  },
  {
   "cell_type": "markdown",
   "metadata": {},
   "source": [
    "* __Converting Base64 Data to Binary Data__"
   ]
  },
  {
   "cell_type": "code",
   "execution_count": null,
   "metadata": {
    "collapsed": true
   },
   "outputs": [],
   "source": [
    "\n",
    "require 'base64'\n",
    "puts Base64.decode64(Base64.encode64('testing'))\n"
   ]
  },
  {
   "cell_type": "markdown",
   "metadata": {},
   "source": [
    "* __Using Compression to Make Base64 Efficient__"
   ]
  },
  {
   "cell_type": "code",
   "execution_count": null,
   "metadata": {
    "collapsed": true
   },
   "outputs": [],
   "source": [
    "require 'base64'\n",
    "require 'zlib'\n",
    "\n",
    "module Base64\n",
    "  def Base64.new_encode64(data)\n",
    "    encode64(Zlib::Deflate.deflate(data))\n",
    "  end\n",
    "  def Base64.new_decode64(data)\n",
    "    Zlib::Inflate.inflate(decode64(data))\n",
    "  end\n",
    "end\n",
    "\n",
    "test_data = 'this is a test' * 100\n",
    "\n",
    "data = Base64.encode64(test_data)\n",
    "puts \"The uncompressed data is #{data.length} bytes long in Base64\"\n",
    "\n",
    "data = Base64.new_encode64(test_data)\n",
    "puts \"The compressed data is #{data.length} bytes long in Base64\"\n"
   ]
  },
  {
   "cell_type": "markdown",
   "metadata": {},
   "source": [
    "### 16.2.3 Further Information"
   ]
  },
  {
   "cell_type": "markdown",
   "metadata": {},
   "source": [
    "The following are some links to good information on the base64 library, and on Base64 in general:  \n",
    "* Standard library documentation for base64 :http://www.ruby-doc.org/stdlib/libdoc/base64/rdoc/index.html  \n",
    "* General information about the Base64 standard :http://en.wikipedia.org/wiki/Base64 \n",
    "* A practical look at how Base64 works :http://email.about.com/cs/standards/a/base64_encoding.htm  \n"
   ]
  },
  {
   "cell_type": "markdown",
   "metadata": {},
   "source": [
    "## 16.3 Benchmark"
   ]
  },
  {
   "cell_type": "markdown",
   "metadata": {},
   "source": [
    "### 16.3.1 Installation"
   ]
  },
  {
   "cell_type": "code",
   "execution_count": null,
   "metadata": {
    "collapsed": true
   },
   "outputs": [],
   "source": [
    "require 'benchmark'"
   ]
  },
  {
   "cell_type": "markdown",
   "metadata": {},
   "source": [
    "### 16.3.2 Examples"
   ]
  },
  {
   "cell_type": "code",
   "execution_count": null,
   "metadata": {
    "collapsed": true
   },
   "outputs": [],
   "source": [
    "require 'benchmark'\n",
    "puts Benchmark.measure { 10000000.times { rand } }"
   ]
  },
  {
   "cell_type": "code",
   "execution_count": null,
   "metadata": {
    "collapsed": true
   },
   "outputs": [],
   "source": [
    "require 'benchmark'\n",
    "\n",
    "TIMES = 10000000\n",
    "Benchmark.bm do |b|\n",
    "  b.report(\"times\") { TIMES.times { rand } }\n",
    "  b.report(\"upto\") { 1.upto(TIMES) { rand } }\n",
    "  b.report(\"loop\") {\n",
    "    i = 0\n",
    "    loop do\n",
    "      rand\n",
    "      i += 1\n",
    "      break if i == TIMES\n",
    "    end\n",
    "  }\n",
    "end"
   ]
  },
  {
   "cell_type": "markdown",
   "metadata": {},
   "source": [
    "### 16.3.3 Further Information"
   ]
  },
  {
   "cell_type": "markdown",
   "metadata": {},
   "source": [
    "* Official documentation for Benchmark: http://ruby-doc.org/stdlib-2.3.0/libdoc/benchmark/rdoc/Benchmark.html"
   ]
  },
  {
   "cell_type": "markdown",
   "metadata": {},
   "source": [
    "## 16.4 cgi"
   ]
  },
  {
   "cell_type": "markdown",
   "metadata": {},
   "source": [
    "### 16.4.1 Installation"
   ]
  },
  {
   "cell_type": "code",
   "execution_count": null,
   "metadata": {
    "collapsed": true
   },
   "outputs": [],
   "source": [
    "require 'cgi'"
   ]
  },
  {
   "cell_type": "markdown",
   "metadata": {},
   "source": [
    "### 16.4.2 Examples"
   ]
  },
  {
   "cell_type": "markdown",
   "metadata": {},
   "source": [
    "* __A Basic CGI Script__"
   ]
  },
  {
   "cell_type": "code",
   "execution_count": null,
   "metadata": {
    "collapsed": true
   },
   "outputs": [],
   "source": [
    "#!/usr/bin/ruby\n",
    "require 'cgi'\n",
    "cgi = CGI.new\n",
    "puts cgi.header\n",
    "puts \"<html><body>This is a test</body></html>\""
   ]
  },
  {
   "cell_type": "markdown",
   "metadata": {},
   "source": [
    "If this Ruby script were namedtest.cgi , uploaded to the aforementioned web host, and made executable (usingchmod ), it would be possible to access http://www.your-website.com/test.cgi and see “This is a test” in response.  \n",
    "  \n",
    "You could also run a local Web server if you wanted to test this concept.  \n",
    "First, create acgi folder, place your CGI script (say,code.cgi ) into that folder,chmod that script to be executable (e.g.,chmod 777 code.cgi ), then run a Ruby-based HTTP server (using WEBrick) withruby -run -e httpd -- -p 5000.  \n",
    " Finally, visit http://localhost:5000/ .  \n"
   ]
  },
  {
   "cell_type": "code",
   "execution_count": null,
   "metadata": {
    "collapsed": true
   },
   "outputs": [],
   "source": [
    "#!/usr/bin/ruby\n",
    "require 'cgi'\n",
    "cgi = CGI.new\n",
    "cgi.out do\n",
    "  \"<html><body>This is a test</body></html>\"\n",
    "end"
   ]
  },
  {
   "cell_type": "markdown",
   "metadata": {},
   "source": [
    "* Note Learn more aboutout and what features it supports at http://www.ruby-doc.org/stdlib/libdoc/cgi/rdoc/classes/CGI.html#M000078 ."
   ]
  },
  {
   "cell_type": "markdown",
   "metadata": {},
   "source": [
    "* __Accepting Passed Data__"
   ]
  },
  {
   "cell_type": "code",
   "execution_count": null,
   "metadata": {
    "collapsed": true
   },
   "outputs": [],
   "source": [
    "#!/usr/bin/ruby\n",
    "\n",
    "require 'cgi'\n",
    "cgi = CGI.new\n",
    "\n",
    "text = cgi['text']\n",
    "puts cgi.header\n",
    "puts \"<html><body>#{text.reverse}</body></html>\""
   ]
  },
  {
   "cell_type": "code",
   "execution_count": null,
   "metadata": {
    "collapsed": true
   },
   "outputs": [],
   "source": [
    "#!/usr/bin/ruby\n",
    "\n",
    "require 'cgi'\n",
    "cgi = CGI.new\n",
    "\n",
    "from = cgi['from'].to_i\n",
    "to = cgi['to'].to_i\n",
    "\n",
    "number = rand(to - from + 1) + from\n",
    "\n",
    "puts cgi.header\n",
    "puts \"<html><body>#{number}</body></html>\""
   ]
  },
  {
   "cell_type": "code",
   "execution_count": null,
   "metadata": {
    "collapsed": true
   },
   "outputs": [],
   "source": [
    "# <form method=\"POST\" action=\"/test.cgi\">\n",
    "# For a number between <input type=\"text\" name=\"from\" value=\"\" /> and\n",
    "# <input type=\"text\" name=\"to\" value=\"\" /> <input type=\"submit\"\n",
    "# value=\"Click here!\" /></form>"
   ]
  },
  {
   "cell_type": "markdown",
   "metadata": {},
   "source": [
    "* __Cookies__"
   ]
  },
  {
   "cell_type": "code",
   "execution_count": null,
   "metadata": {
    "collapsed": true
   },
   "outputs": [],
   "source": [
    "\n",
    "#!/usr/bin/ruby\n",
    "\n",
    "require 'cgi'\n",
    "cgi = CGI.new\n",
    "\n",
    "cookie = cgi.cookies['count']\n",
    "# If there is no cookie, create a new one\n",
    "if cookie.empty?\n",
    "  count = 1\n",
    "  cookie = CGI::Cookie.new('count', count.to_s)\n",
    "else\n",
    "  # If there is a cookie, retrieve its value (note that cookie.value results\n",
    "  # in an Array)\n",
    "  count = cookie.value.first\n",
    "\n",
    "  # Now send back an increased amount for the cookie to store\n",
    "  cookie.value = (count.to_i + 1).to_s\n",
    "end\n",
    "\n",
    "cgi.out(\"cookie\" => [cookie]) do\n",
    "  \"<html><body>You have loaded this page #{count} times</body></html>\"\n",
    "end\n"
   ]
  },
  {
   "cell_type": "markdown",
   "metadata": {},
   "source": [
    "* __Sessions__"
   ]
  },
  {
   "cell_type": "code",
   "execution_count": null,
   "metadata": {
    "collapsed": true
   },
   "outputs": [],
   "source": [
    "\n",
    "#!/usr/bin/ruby\n",
    "require 'cgi'\n",
    "require 'cgi/session'\n",
    "require 'cgi/session/pstore'\n",
    "\n",
    "cgi = CGI.new\n",
    "session = CGI::Session.new(cgi,\n",
    "                           :session_key => 'count_app',\n",
    "                           :database_manager => CGI::Session::PStore,\n",
    "                           :prefix => 'session_id'\n",
    "                           )\n",
    "\n",
    "if session['count'] && session['count'].to_i > 0\n",
    "  session['count'] = (session['count'].to_i + 1).to_s\n",
    "else\n",
    "  session['count'] = 1\n",
    "end\n",
    "\n",
    "cgi.out do\n",
    "  \"<html><body>You have loaded this page #{session['count']} times</body></html>\"\n",
    "end\n",
    "\n",
    "session.close\n"
   ]
  },
  {
   "cell_type": "markdown",
   "metadata": {},
   "source": [
    "* You can learn more about CGI::Session at http://www.ruby-doc.org/core/classes/CGI/Session.html , including how to makeCGI::Session store session data in different ways (such as in memory or in a plain\n",
    "text format)."
   ]
  },
  {
   "cell_type": "markdown",
   "metadata": {},
   "source": [
    "### 16.4.3 Further Information"
   ]
  },
  {
   "cell_type": "markdown",
   "metadata": {},
   "source": [
    "* Standard library documentation for cgi :http://www.ruby-doc.org/stdlib/libdoc/cgi/rdoc/index.html  \n",
    "* Further information about CGI :http://www.w3.org/CGI/  \n",
    "* Further information about HTTP cookies :http://en.wikipedia.org/wiki/HTTP_cookie  \n"
   ]
  },
  {
   "cell_type": "markdown",
   "metadata": {},
   "source": [
    "## 16.5 chronic"
   ]
  },
  {
   "cell_type": "markdown",
   "metadata": {},
   "source": [
    "### 16.5.1 Installation"
   ]
  },
  {
   "cell_type": "code",
   "execution_count": null,
   "metadata": {
    "collapsed": true
   },
   "outputs": [],
   "source": [
    "gem install chronic"
   ]
  },
  {
   "cell_type": "markdown",
   "metadata": {},
   "source": [
    "### 16.5.2 Examples"
   ]
  },
  {
   "cell_type": "code",
   "execution_count": 1,
   "metadata": {
    "collapsed": false
   },
   "outputs": [
    {
     "name": "stdout",
     "output_type": "stream",
     "text": [
      "2017-04-18 05:00:00 +0800\n"
     ]
    }
   ],
   "source": [
    "require 'chronic'\n",
    "puts Chronic.parse('last tuesday 5am')"
   ]
  },
  {
   "cell_type": "code",
   "execution_count": 2,
   "metadata": {
    "collapsed": false
   },
   "outputs": [
    {
     "name": "stdout",
     "output_type": "stream",
     "text": [
      "2017-04-18 17:33:00 +0800\n"
     ]
    }
   ],
   "source": [
    "puts Chronic.parse('last tuesday 5:33')"
   ]
  },
  {
   "cell_type": "code",
   "execution_count": 3,
   "metadata": {
    "collapsed": false
   },
   "outputs": [
    {
     "name": "stdout",
     "output_type": "stream",
     "text": [
      "2017-04-18 12:00:00 +0800\n"
     ]
    }
   ],
   "source": [
    "puts Chronic.parse('last tuesday lunchtime')"
   ]
  },
  {
   "cell_type": "code",
   "execution_count": 4,
   "metadata": {
    "collapsed": false
   },
   "outputs": [
    {
     "name": "stdout",
     "output_type": "stream",
     "text": [
      "2017-06-29 01:00:00 +0800\n"
     ]
    }
   ],
   "source": [
    "puts Chronic.parse('june 29th at 1am')"
   ]
  },
  {
   "cell_type": "code",
   "execution_count": 5,
   "metadata": {
    "collapsed": false
   },
   "outputs": [
    {
     "name": "stdout",
     "output_type": "stream",
     "text": [
      "2020-04-20 18:36:12 +0800\n"
     ]
    }
   ],
   "source": [
    "puts Chronic.parse('in 3 years')"
   ]
  },
  {
   "cell_type": "code",
   "execution_count": 6,
   "metadata": {
    "collapsed": false
   },
   "outputs": [
    {
     "name": "stdout",
     "output_type": "stream",
     "text": [
      "2033-09-23 12:00:00 +0800\n"
     ]
    }
   ],
   "source": [
    "puts Chronic.parse('sep 23 2033')"
   ]
  },
  {
   "cell_type": "code",
   "execution_count": 7,
   "metadata": {
    "collapsed": false
   },
   "outputs": [
    {
     "name": "stdout",
     "output_type": "stream",
     "text": [
      "2003-11-10 01:02:00 +0800\n"
     ]
    }
   ],
   "source": [
    "puts Chronic.parse('2003-11-10 01:02')"
   ]
  },
  {
   "cell_type": "markdown",
   "metadata": {},
   "source": [
    "* Note An extension to theTime class provided by the standard library can also parse times, although at a more preformatted level.  \n",
    "See http://ruby-doc.org/stdlib/libdoc/time/rdoc/Time.html for information."
   ]
  },
  {
   "cell_type": "markdown",
   "metadata": {},
   "source": [
    "### 16.5.3 Further Information"
   ]
  },
  {
   "cell_type": "markdown",
   "metadata": {},
   "source": [
    "* Documentation for chronic :http://chronic.rubyforge.org/"
   ]
  },
  {
   "cell_type": "markdown",
   "metadata": {},
   "source": [
    "## 16.6 Digest"
   ]
  },
  {
   "cell_type": "markdown",
   "metadata": {},
   "source": [
    "### 16.6.1 Installation"
   ]
  },
  {
   "cell_type": "code",
   "execution_count": null,
   "metadata": {
    "collapsed": true
   },
   "outputs": [],
   "source": [
    "require 'digest/sha1'\n",
    "or\n",
    "require 'digest/md5'"
   ]
  },
  {
   "cell_type": "markdown",
   "metadata": {},
   "source": [
    "### 16.6.2 Examples"
   ]
  },
  {
   "cell_type": "code",
   "execution_count": null,
   "metadata": {
    "collapsed": true
   },
   "outputs": [],
   "source": [
    "require 'digest/sha1'\n",
    "puts Digest::SHA1.hexdigest('password')"
   ]
  },
  {
   "cell_type": "code",
   "execution_count": null,
   "metadata": {
    "collapsed": true
   },
   "outputs": [],
   "source": [
    "require 'digest/sha1'\n",
    "puts Digest::SHA1.hexdigest('test' * 1000)"
   ]
  },
  {
   "cell_type": "code",
   "execution_count": null,
   "metadata": {
    "collapsed": true
   },
   "outputs": [],
   "source": [
    "require 'digest/md5'\n",
    "puts Digest::MD5.hexdigest('test' * 1000)"
   ]
  },
  {
   "cell_type": "code",
   "execution_count": null,
   "metadata": {
    "collapsed": true
   },
   "outputs": [],
   "source": [
    "require 'digest/sha1'\n",
    "\n",
    "puts \"Enter the password to use this program:\"\n",
    "password = gets\n",
    "if Digest::SHA1.hexdigest(password) == ➥\n",
    "                         '24b63c0840ec7e58e5ab50d0d4ca243d1729eb65'\n",
    "  puts \"You've passed!\"\n",
    "else\n",
    "  puts \"Wrong!\"\n",
    "  exit\n",
    "end"
   ]
  },
  {
   "cell_type": "code",
   "execution_count": null,
   "metadata": {
    "collapsed": true
   },
   "outputs": [],
   "source": [
    "Digest::SHA1.digest('test' * 1000)"
   ]
  },
  {
   "cell_type": "code",
   "execution_count": null,
   "metadata": {
    "collapsed": true
   },
   "outputs": [],
   "source": [
    "Digest::SHA1.digest('test' * 1000).each_byte do |byte|\n",
    "  print byte, \"-\"\n",
    "end"
   ]
  },
  {
   "cell_type": "code",
   "execution_count": null,
   "metadata": {
    "collapsed": true
   },
   "outputs": [],
   "source": [
    "require 'base64'\n",
    "require 'digest/sha1'\n",
    "\n",
    "puts Digest::SHA1.hexdigest('test')\n",
    "puts Base64.encode64(Digest::SHA1.digest('test'))"
   ]
  },
  {
   "cell_type": "markdown",
   "metadata": {},
   "source": [
    "### 16.6.3 Further Information"
   ]
  },
  {
   "cell_type": "markdown",
   "metadata": {},
   "source": [
    "* Further information about SHA-1: http://en.wikipedia.org/wiki/SHA-1\n",
    "* Further information about MD5: http://en.wikipedia.org/wiki/MD5"
   ]
  },
  {
   "cell_type": "markdown",
   "metadata": {},
   "source": [
    "## 16.7 English"
   ]
  },
  {
   "cell_type": "markdown",
   "metadata": {},
   "source": [
    "### 16.7.1 Installation"
   ]
  },
  {
   "cell_type": "code",
   "execution_count": null,
   "metadata": {
    "collapsed": true
   },
   "outputs": [],
   "source": [
    "require 'English'"
   ]
  },
  {
   "cell_type": "markdown",
   "metadata": {},
   "source": [
    "### 16.7.2 Examples"
   ]
  },
  {
   "cell_type": "markdown",
   "metadata": {},
   "source": [
    "### 16.7.3 Further Information"
   ]
  },
  {
   "cell_type": "markdown",
   "metadata": {},
   "source": [
    "* Standard library documentation for English: http://ruby-doc.org/stdlib/libdoc/English/rdoc/English.html"
   ]
  },
  {
   "cell_type": "markdown",
   "metadata": {},
   "source": [
    "## 16.8 ERB"
   ]
  },
  {
   "cell_type": "markdown",
   "metadata": {},
   "source": [
    "### 16.8.1 Installation"
   ]
  },
  {
   "cell_type": "code",
   "execution_count": null,
   "metadata": {
    "collapsed": true
   },
   "outputs": [],
   "source": [
    "require 'erb'"
   ]
  },
  {
   "cell_type": "markdown",
   "metadata": {},
   "source": [
    "### 16.8.2 Examples"
   ]
  },
  {
   "cell_type": "markdown",
   "metadata": {},
   "source": [
    "* __Basic Templates and Rendering__"
   ]
  },
  {
   "cell_type": "code",
   "execution_count": null,
   "metadata": {
    "collapsed": true
   },
   "outputs": [],
   "source": [
    "\n",
    "# <% 1.upto(5) do |i| %>\n",
    "#   <p>This is iteration <%= i %></p>\n",
    "# <% end %>\n"
   ]
  },
  {
   "cell_type": "code",
   "execution_count": null,
   "metadata": {
    "collapsed": true
   },
   "outputs": [],
   "source": [
    "require 'erb'\n",
    "template = <<EOF\n",
    "<% 1.upto(5) do |i| %>\n",
    "  <p>This is iteration <%= i %></p>\n",
    "<% end %>\n",
    "EOF\n",
    "puts ERB.new(template).result\n"
   ]
  },
  {
   "cell_type": "code",
   "execution_count": null,
   "metadata": {
    "collapsed": true
   },
   "outputs": [],
   "source": [
    "ERB.new(template).run"
   ]
  },
  {
   "cell_type": "markdown",
   "metadata": {},
   "source": [
    "* __Accessing Outside Variables__"
   ]
  },
  {
   "cell_type": "code",
   "execution_count": null,
   "metadata": {
    "collapsed": true
   },
   "outputs": [],
   "source": [
    "require 'erb'\n",
    "\n",
    "array_of_stuff = %w{this is a test}\n",
    "\n",
    "template = <<EOF\n",
    "<% array_of_stuff.each_with_index do |item, index| %>\n",
    "  <p>Item <%= index %>: <%= item %></p>\n",
    "<% end %>\n",
    "EOF\n",
    "puts ERB.new(template).result(binding)\n"
   ]
  },
  {
   "cell_type": "markdown",
   "metadata": {},
   "source": [
    "* __Safe Levels__"
   ]
  },
  {
   "cell_type": "code",
   "execution_count": null,
   "metadata": {
    "collapsed": true
   },
   "outputs": [],
   "source": [
    "require 'erb'\n",
    "\n",
    "template = <<EOF\n",
    "Let's try to do something crazy like access the filesystem..\n",
    "<%= `ls` %>\n",
    "EOF\n",
    "\n",
    "puts ERB.new(template, 3).result # Using safe level 3!\n"
   ]
  },
  {
   "cell_type": "markdown",
   "metadata": {},
   "source": [
    "### 16.8.3 Further Information"
   ]
  },
  {
   "cell_type": "markdown",
   "metadata": {},
   "source": [
    "* Standard library documentation for ERB: http://www.ruby-doc.org/stdlib/libdoc/erb/rdoc/ERB.html"
   ]
  },
  {
   "cell_type": "markdown",
   "metadata": {},
   "source": [
    "## 16.9 json"
   ]
  },
  {
   "cell_type": "markdown",
   "metadata": {},
   "source": [
    "### 16.9.1 Installation"
   ]
  },
  {
   "cell_type": "markdown",
   "metadata": {},
   "source": [
    "### 16.9.2 Examples"
   ]
  },
  {
   "cell_type": "code",
   "execution_count": null,
   "metadata": {
    "collapsed": true
   },
   "outputs": [],
   "source": [
    "# {\"name\":\"Maggie Robertson\",\"age\":37,\"interests\":[\"Golf\",\"Bridge\",\"Food\"]}\n"
   ]
  },
  {
   "cell_type": "code",
   "execution_count": 9,
   "metadata": {
    "collapsed": false
   },
   "outputs": [
    {
     "name": "stdout",
     "output_type": "stream",
     "text": [
      "Hash\n",
      "[\"name\", \"age\", \"interests\"]\n"
     ]
    }
   ],
   "source": [
    "require 'json'\n",
    "\n",
    "json_data = %{\n",
    "  {\"name\":\"Maggie Robertson\",\"age\":37,\"interests\":[\"Golf\",\"Bridge\",\"Food\"]}\n",
    "}\n",
    "\n",
    "obj = JSON.load(json_data)\n",
    "puts obj.class\n",
    "puts obj.keys"
   ]
  },
  {
   "cell_type": "code",
   "execution_count": 10,
   "metadata": {
    "collapsed": false
   },
   "outputs": [
    {
     "name": "stdout",
     "output_type": "stream",
     "text": [
      "{\"name\":\"Maggie Robertson\",\"age\":37,\"interests\":[\"Golf\",\"Bridge\",\"Food\"]}\n"
     ]
    }
   ],
   "source": [
    "require 'json'\n",
    "\n",
    "person = {\n",
    "  name: 'Maggie Robertson',\n",
    "  age: 37,\n",
    "  interests: ['Golf', 'Bridge', 'Food']\n",
    "}\n",
    "\n",
    "puts person.to_json"
   ]
  },
  {
   "cell_type": "markdown",
   "metadata": {},
   "source": [
    "### 16.9.3 Further Information"
   ]
  },
  {
   "cell_type": "markdown",
   "metadata": {},
   "source": [
    "* Introducing JSON: http://www.json.org/  \n",
    "* JSON tutorial: http://www.w3schools.com/json/  \n",
    "https://www.w3schools.com/js/js_json_intro.asp  \n",
    "* Ruby JSON documentation: http://ruby-doc.org/stdlib/libdoc/json/rdoc/JSON.html  \n"
   ]
  },
  {
   "cell_type": "markdown",
   "metadata": {},
   "source": [
    "## 16.10 logger"
   ]
  },
  {
   "cell_type": "markdown",
   "metadata": {},
   "source": [
    "### 16.10.1 Installation"
   ]
  },
  {
   "cell_type": "code",
   "execution_count": null,
   "metadata": {
    "collapsed": true
   },
   "outputs": [],
   "source": [
    "require 'logger'"
   ]
  },
  {
   "cell_type": "markdown",
   "metadata": {},
   "source": [
    "### 16.10.2 Examples"
   ]
  },
  {
   "cell_type": "markdown",
   "metadata": {},
   "source": [
    "* __Setting Up a Logger__"
   ]
  },
  {
   "cell_type": "code",
   "execution_count": null,
   "metadata": {
    "collapsed": true
   },
   "outputs": [],
   "source": [
    "require 'logger'\n",
    "logger = Logger.new(STDERR)"
   ]
  },
  {
   "cell_type": "code",
   "execution_count": null,
   "metadata": {
    "collapsed": true
   },
   "outputs": [],
   "source": [
    "logger = Logger.new('mylogfile.log')\n",
    "logger = Logger.new('/tmp/some_log_file.log')"
   ]
  },
  {
   "cell_type": "code",
   "execution_count": null,
   "metadata": {
    "collapsed": true
   },
   "outputs": [],
   "source": [
    "logger = Logger.new('mylogfile.log', 'daily')\n",
    "logger = Logger.new('mylogfile.log', 'weekly')\n",
    "logger = Logger.new('mylogfile.log', 'monthly')"
   ]
  },
  {
   "cell_type": "code",
   "execution_count": null,
   "metadata": {
    "collapsed": true
   },
   "outputs": [],
   "source": [
    "logger = Logger.new('mylogfile.log', 10, 100000)"
   ]
  },
  {
   "cell_type": "markdown",
   "metadata": {},
   "source": [
    "* __Logging Levels__"
   ]
  },
  {
   "cell_type": "code",
   "execution_count": null,
   "metadata": {
    "collapsed": true
   },
   "outputs": [],
   "source": [
    "logger.sev_threshold = Logger::FATAL"
   ]
  },
  {
   "cell_type": "code",
   "execution_count": null,
   "metadata": {
    "collapsed": true
   },
   "outputs": [],
   "source": [
    "logger.sev_threshold = Logger::DEBUG"
   ]
  },
  {
   "cell_type": "markdown",
   "metadata": {},
   "source": [
    "* __Logging Messages__"
   ]
  },
  {
   "cell_type": "code",
   "execution_count": null,
   "metadata": {
    "collapsed": true
   },
   "outputs": [],
   "source": [
    "require 'logger'\n",
    "logger = Logger.new(STDOUT)\n",
    "\n",
    "logger.debug \"test\"\n",
    "logger.info \"test\"\n",
    "logger.fatal \"test\""
   ]
  },
  {
   "cell_type": "code",
   "execution_count": null,
   "metadata": {
    "collapsed": true
   },
   "outputs": [],
   "source": [
    "logger.info(\"myprog\") { \"test\" }"
   ]
  },
  {
   "cell_type": "code",
   "execution_count": null,
   "metadata": {
    "collapsed": true
   },
   "outputs": [],
   "source": [
    "logger.add(Logger::FATAL) { \"message here\" }"
   ]
  },
  {
   "cell_type": "markdown",
   "metadata": {},
   "source": [
    "* __Closing a Logger__"
   ]
  },
  {
   "cell_type": "code",
   "execution_count": null,
   "metadata": {
    "collapsed": true
   },
   "outputs": [],
   "source": [
    "logger.close"
   ]
  },
  {
   "cell_type": "markdown",
   "metadata": {},
   "source": [
    "### 16.10.3 Further Information"
   ]
  },
  {
   "cell_type": "markdown",
   "metadata": {},
   "source": [
    "* Standard library documentation for logger: http://www.ruby-doc.org/stdlib/libdoc/logger/rdoc/Logger.html"
   ]
  },
  {
   "cell_type": "markdown",
   "metadata": {},
   "source": [
    "## 16.11 Nokogiri"
   ]
  },
  {
   "cell_type": "markdown",
   "metadata": {},
   "source": [
    "### 16.11.1 Installation"
   ]
  },
  {
   "cell_type": "code",
   "execution_count": null,
   "metadata": {
    "collapsed": true
   },
   "outputs": [],
   "source": [
    "gem install nokogiri"
   ]
  },
  {
   "cell_type": "markdown",
   "metadata": {},
   "source": [
    "### 16.11.2 Examples"
   ]
  },
  {
   "cell_type": "code",
   "execution_count": null,
   "metadata": {
    "collapsed": true
   },
   "outputs": [],
   "source": [
    "require 'rubygems'\n",
    "require 'nokogiri'\n",
    "require 'open-uri'\n",
    "\n",
    "doc = Nokogiri::HTML(open('http://www.cnn.com/'))\n",
    "\n",
    "doc.css('p').each do |para|\n",
    "  puts para.inner_text\n",
    "end"
   ]
  },
  {
   "cell_type": "markdown",
   "metadata": {},
   "source": [
    "### 16.11.3 Further Information"
   ]
  },
  {
   "cell_type": "markdown",
   "metadata": {},
   "source": [
    "* Nokogiri homepage: http://www.nokogiri.org/  \n",
    "* Spotlight on Gems: Nokogiri :http://ruby.about.com/od/gems/a/nokogiri.htm  \n",
    "* CSS Selector tutorial: http://www.456bereastreet.com/archive/200509/css_21_selectors_part_1/  \n",
    "* Nokogiri GitHub repository: http://github.com/sparklemotion/nokogiri  \n"
   ]
  },
  {
   "cell_type": "markdown",
   "metadata": {},
   "source": [
    "## 16.12 pp"
   ]
  },
  {
   "cell_type": "markdown",
   "metadata": {},
   "source": [
    "### 16.12.1 Installation"
   ]
  },
  {
   "cell_type": "code",
   "execution_count": 14,
   "metadata": {
    "collapsed": false
   },
   "outputs": [
    {
     "data": {
      "text/plain": [
       "true"
      ]
     },
     "execution_count": 14,
     "metadata": {},
     "output_type": "execute_result"
    }
   ],
   "source": [
    "require 'pp'"
   ]
  },
  {
   "cell_type": "markdown",
   "metadata": {},
   "source": [
    "### 16.12.2 Examples"
   ]
  },
  {
   "cell_type": "code",
   "execution_count": 15,
   "metadata": {
    "collapsed": false
   },
   "outputs": [
    {
     "name": "stdout",
     "output_type": "stream",
     "text": [
      "[{:name=>\"Peter\", :gender=>:male}, {:name=>\"Laura\", :gender=>:female}, {:name=>\"Peter\", :gender=>:male}, {:name=>\"Peter\", :gender=>:male}, {:name=>\"Peter\", :gender=>:male}]\n"
     ]
    }
   ],
   "source": [
    "person1 = { :name => \"Peter\", :gender => :male }\n",
    "person2 = { :name => \"Laura\", :gender => :female }\n",
    "people = [person1, person2, person1, person1, person1]\n",
    "puts people.inspect"
   ]
  },
  {
   "cell_type": "code",
   "execution_count": 17,
   "metadata": {
    "collapsed": false
   },
   "outputs": [
    {
     "name": "stdout",
     "output_type": "stream",
     "text": [
      "[{:name=>\"Peter\", :gender=>:male},\n",
      " {:name=>\"Laura\", :gender=>:female},\n",
      " {:name=>\"Peter\", :gender=>:male},\n",
      " {:name=>\"Peter\", :gender=>:male},\n",
      " {:name=>\"Peter\", :gender=>:male}]\n"
     ]
    },
    {
     "data": {
      "text/plain": [
       "[{:name=>\"Peter\", :gender=>:male}, {:name=>\"Laura\", :gender=>:female}, {:name=>\"Peter\", :gender=>:male}, {:name=>\"Peter\", :gender=>:male}, {:name=>\"Peter\", :gender=>:male}]"
      ]
     },
     "execution_count": 17,
     "metadata": {},
     "output_type": "execute_result"
    }
   ],
   "source": [
    "pp people"
   ]
  },
  {
   "cell_type": "code",
   "execution_count": null,
   "metadata": {
    "collapsed": false,
    "scrolled": false
   },
   "outputs": [],
   "source": [
    "require 'pp'\n",
    "\n",
    "class TestClass\n",
    "  def initialize(count)\n",
    "    @@a = defined?(@@a) ? @@a + 1 : 0\n",
    "    @c = @@a\n",
    "    @d = [:a => {:b => count }, :c => :d] * count end\n",
    "  end\n",
    "\n",
    "pp TestClass.new(2), STDOUT, 60\n",
    "pp TestClass.new(3), $>, 60\n",
    "pp TestClass.new(4), $>, 60"
   ]
  },
  {
   "cell_type": "code",
   "execution_count": null,
   "metadata": {
    "collapsed": false,
    "scrolled": true
   },
   "outputs": [],
   "source": [
    "pp TestClass.new(4), $>, 60"
   ]
  },
  {
   "cell_type": "markdown",
   "metadata": {},
   "source": [
    "### 16.12.3 Further Information"
   ]
  },
  {
   "cell_type": "markdown",
   "metadata": {},
   "source": [
    "* Standard library documentation for pp: http://www.ruby-doc.org/stdlib/libdoc/pp/rdoc/PP.html"
   ]
  },
  {
   "cell_type": "markdown",
   "metadata": {},
   "source": [
    "## 16.13 RedCarpet"
   ]
  },
  {
   "cell_type": "markdown",
   "metadata": {},
   "source": [
    "### 16.13.1 Installation"
   ]
  },
  {
   "cell_type": "code",
   "execution_count": null,
   "metadata": {
    "collapsed": true
   },
   "outputs": [],
   "source": [
    "gem install redcarpet"
   ]
  },
  {
   "cell_type": "markdown",
   "metadata": {},
   "source": [
    "### 16.13.2 Examples"
   ]
  },
  {
   "cell_type": "code",
   "execution_count": null,
   "metadata": {
    "collapsed": true
   },
   "outputs": [],
   "source": [
    "markdown_text = %{\n",
    "This is a title\n",
    "===============\n",
    "\n",
    "Here is some _text_ that's formatted according to [Markdown][1]\n",
    "*specifications*. And how about a quote?\n",
    "\n",
    " [1]: http://daringfireball.net/projects/markdown/\n",
    "\n",
    "> This section is a quote.. a block quote\n",
    "> more accurately..\n",
    "\n",
    "Lists are also possible:\n",
    "\n",
    "* Item 1\n",
    "* Item 2\n",
    "* Item 3 }\n",
    "\n",
    "require 'redcarpet'\n",
    "\n",
    "markdown = Redcarpet::Markdown.new(Redcarpet::Render::HTML)\n",
    "puts markdown.render(markdown_text)"
   ]
  },
  {
   "cell_type": "markdown",
   "metadata": {},
   "source": [
    "### 16.13.3 Further Information"
   ]
  },
  {
   "cell_type": "markdown",
   "metadata": {},
   "source": [
    "* Official RedCarpet homepage: https://github.com/vmg/redcarpet\n",
    "* Official Markdown format homepage: http://daringfireball.net/projects/markdown/"
   ]
  },
  {
   "cell_type": "markdown",
   "metadata": {},
   "source": [
    "## 16.14 StringScanner"
   ]
  },
  {
   "cell_type": "markdown",
   "metadata": {},
   "source": [
    "### 16.14.1 Installation"
   ]
  },
  {
   "cell_type": "code",
   "execution_count": null,
   "metadata": {
    "collapsed": true
   },
   "outputs": [],
   "source": [
    "require 'strscan'"
   ]
  },
  {
   "cell_type": "markdown",
   "metadata": {},
   "source": [
    "### 16.14.2 Examples"
   ]
  },
  {
   "cell_type": "code",
   "execution_count": null,
   "metadata": {
    "collapsed": true
   },
   "outputs": [],
   "source": [
    "require 'strscan'\n",
    "string = StringScanner.new \"This is a test\"\n",
    "puts string.scan(/\\w+/)\n",
    "puts string.scan(/\\s+/)\n",
    "puts string.scan(/\\w+/)\n",
    "puts string.scan(/\\s+/)\n",
    "puts string.rest"
   ]
  },
  {
   "cell_type": "code",
   "execution_count": null,
   "metadata": {
    "collapsed": true
   },
   "outputs": [],
   "source": [
    "puts string.scan(/\\w+/)\n",
    "puts string.scan(/\\w+/)\n",
    "puts string.scan(/\\w+/)\n",
    "puts string.scan(/\\w+/)"
   ]
  },
  {
   "cell_type": "code",
   "execution_count": null,
   "metadata": {
    "collapsed": true
   },
   "outputs": [],
   "source": [
    "puts string.scan(/\\w+\\s*/)\n",
    "puts string.scan(/\\w+\\s*/)\n",
    "puts string.scan(/\\w+\\s*/)\n",
    "puts string.scan(/\\w+\\s*/)"
   ]
  },
  {
   "cell_type": "code",
   "execution_count": null,
   "metadata": {
    "collapsed": true
   },
   "outputs": [],
   "source": [
    "string = StringScanner.new \"I want to live to be 100 years old!\"\n",
    "puts string.scan(/\\w+/)\n",
    "puts string.scan_until(/\\d+/)"
   ]
  },
  {
   "cell_type": "code",
   "execution_count": null,
   "metadata": {
    "collapsed": true
   },
   "outputs": [],
   "source": [
    "string = StringScanner.new(\"This is a test\")\n",
    "puts string.scan_until(/\\w+/)\n",
    "puts string.scan_until(/\\w+/)\n",
    "puts string.scan_until(/\\w+/)\n",
    "puts string.scan_until(/\\w+/)"
   ]
  },
  {
   "cell_type": "code",
   "execution_count": null,
   "metadata": {
    "collapsed": true
   },
   "outputs": [],
   "source": [
    "string = StringScanner.new \"I want to live to be 100 years old!\"\n",
    "puts string.scan(/\\w+/)\n",
    "string.unscan\n",
    "puts string.scan_until(/\\d+/)\n",
    "string.unscan\n",
    "puts string.scan_until(/live/)"
   ]
  },
  {
   "cell_type": "code",
   "execution_count": null,
   "metadata": {
    "collapsed": true
   },
   "outputs": [],
   "source": [
    "string = StringScanner.new \"I want to live to be 100 years old!\"\n",
    "string.scan(/\\w+/)\n",
    "string.unscan\n",
    "puts string.pos\n",
    "string.scan_until(/\\d+/)\n",
    "puts string.pos\n",
    "string.unscan string.scan_until(/live/)\n",
    "puts string.pos"
   ]
  },
  {
   "cell_type": "code",
   "execution_count": null,
   "metadata": {
    "collapsed": true
   },
   "outputs": [],
   "source": [
    "string = StringScanner.new \"I want to live to be 100 years old!\"\n",
    "string.pos = 12\n",
    "puts string.scan(/...../)"
   ]
  },
  {
   "cell_type": "markdown",
   "metadata": {},
   "source": [
    "### 16.14.3 Further Information"
   ]
  },
  {
   "cell_type": "markdown",
   "metadata": {},
   "source": [
    "* Standard library documentation for StringScanner: http://www.ruby-doc.org/stdlib/libdoc/strscan/rdoc/StringScanner.html"
   ]
  },
  {
   "cell_type": "markdown",
   "metadata": {},
   "source": [
    "## 16.15 tempfile"
   ]
  },
  {
   "cell_type": "markdown",
   "metadata": {},
   "source": [
    "### 16.15.1 Installation"
   ]
  },
  {
   "cell_type": "code",
   "execution_count": null,
   "metadata": {
    "collapsed": true
   },
   "outputs": [],
   "source": [
    "require 'tempfile'"
   ]
  },
  {
   "cell_type": "markdown",
   "metadata": {},
   "source": [
    "### 16.15.2 Examples"
   ]
  },
  {
   "cell_type": "code",
   "execution_count": null,
   "metadata": {
    "collapsed": true
   },
   "outputs": [],
   "source": [
    "require 'tempfile'\n",
    "f = Tempfile.new('myapp')\n",
    "f.puts \"Hello\"\n",
    "puts f.path f.close\n",
    "f.close\n",
    "f.open"
   ]
  },
  {
   "cell_type": "code",
   "execution_count": null,
   "metadata": {
    "collapsed": true
   },
   "outputs": [],
   "source": [
    "require 'tempfile'\n",
    "f = Tempfile.new('myapp')\n",
    "f.puts \"Hello\" f.close\n",
    "f.open\n",
    "puts f.read\n",
    "f.close!"
   ]
  },
  {
   "cell_type": "code",
   "execution_count": null,
   "metadata": {
    "collapsed": true
   },
   "outputs": [],
   "source": [
    "require 'tempfile'\n",
    "\n",
    "f = Tempfile.new('myapp')\n",
    "f.puts \"Hello\"\n",
    "f.pos = 0\n",
    "f.print \"Y\"\n",
    "f.pos = f.size - 1\n",
    "f.print \"w\"\n",
    "f.flush f.pos = 0\n",
    "puts f.read\n",
    "f.close!"
   ]
  },
  {
   "cell_type": "code",
   "execution_count": null,
   "metadata": {
    "collapsed": true
   },
   "outputs": [],
   "source": [
    "f = Tempfile.new('myapp', '/my/secret/temporary/directory')"
   ]
  },
  {
   "cell_type": "code",
   "execution_count": null,
   "metadata": {
    "collapsed": true
   },
   "outputs": [],
   "source": [
    "require 'tempfile'\n",
    "\n",
    "Tempfile.open('myapp') do |f|\n",
    "  f.puts \"Hello\" f.pos = 0 f.print \"Y\"\n",
    "  f.pos = f.size - 1\n",
    "  f.print \"w\"\n",
    "  f.flush\n",
    "  f.pos = 0\n",
    "  puts f.read\n",
    "end"
   ]
  },
  {
   "cell_type": "markdown",
   "metadata": {},
   "source": [
    "### 16.15.3 Further Information"
   ]
  },
  {
   "cell_type": "markdown",
   "metadata": {},
   "source": [
    "* Standard library documentation for tempfile: http://www.ruby-doc.org/stdlib/libdoc/tempfile/rdoc/Tempfile.html"
   ]
  },
  {
   "cell_type": "markdown",
   "metadata": {},
   "source": [
    "## 16.16 uri"
   ]
  },
  {
   "cell_type": "markdown",
   "metadata": {},
   "source": [
    "You use the urilibrary to manage Uniform Resource Identifiers (URIs) , which are typically referred to as Uniform Resource Locators (URLs).  \n",
    "A URL is an address such as http://www.rubyinside.com/, ftp://your-ftp-site.com/directory/filename, or even mailto:your-email-address@privacy.net.uri makes it easy to detect, create, parse, and manipulate these addresses.\n",
    "\n"
   ]
  },
  {
   "cell_type": "markdown",
   "metadata": {},
   "source": [
    "### 16.16.1 Installation"
   ]
  },
  {
   "cell_type": "code",
   "execution_count": null,
   "metadata": {
    "collapsed": true
   },
   "outputs": [],
   "source": [
    "require 'uri'"
   ]
  },
  {
   "cell_type": "markdown",
   "metadata": {},
   "source": [
    "### 16.16.2 Examples"
   ]
  },
  {
   "cell_type": "markdown",
   "metadata": {},
   "source": [
    "* __Extracting URLs from Text__"
   ]
  },
  {
   "cell_type": "code",
   "execution_count": null,
   "metadata": {
    "collapsed": true
   },
   "outputs": [],
   "source": [
    "require 'uri'\n",
    "puts URI.extract('Check out http://www.rubyinside.com/ or e-mail ➥\n",
    "mailto:me@privacy.net').inspect"
   ]
  },
  {
   "cell_type": "code",
   "execution_count": null,
   "metadata": {
    "collapsed": true
   },
   "outputs": [],
   "source": [
    "require 'uri'\n",
    "puts URI.extract('http://www.rubyinside.com/ and mailto:me@privacy.net', ➥\n",
    "['http']).inspect"
   ]
  },
  {
   "cell_type": "code",
   "execution_count": null,
   "metadata": {
    "collapsed": true
   },
   "outputs": [],
   "source": [
    "require 'uri'\n",
    "\n",
    "email = %q{Some cool Ruby sites are http://www.ruby-lang.org/ and ➥\n",
    "http://www.rubyinside.com/ and http://redhanded.hobix.com/}\n",
    "\n",
    "URI.extract(email, ['http', 'https']) do |url|\n",
    "  puts \"Fetching URL #{url}\"\n",
    "  # Do some work here...\n",
    "end"
   ]
  },
  {
   "cell_type": "markdown",
   "metadata": {},
   "source": [
    "* __Parsing URLs__"
   ]
  },
  {
   "cell_type": "code",
   "execution_count": null,
   "metadata": {
    "collapsed": true
   },
   "outputs": [],
   "source": [
    "URI.parse('http://www.rubyinside.com/')"
   ]
  },
  {
   "cell_type": "code",
   "execution_count": null,
   "metadata": {
    "collapsed": true
   },
   "outputs": [],
   "source": [
    "require 'uri'\n",
    "a = URI.parse('http://www.rubyinside.com/')\n",
    "puts a.scheme\n",
    "puts a.host\n",
    "puts a.port\n",
    "puts a.path\n",
    "puts a.query"
   ]
  },
  {
   "cell_type": "code",
   "execution_count": null,
   "metadata": {
    "collapsed": true
   },
   "outputs": [],
   "source": [
    "require 'uri'\n",
    "url = 'http://www.x.com:1234/test/1.html?x=y&y=z#top'\n",
    "puts URI.parse(url).port\n",
    "puts URI.parse(url).path\n",
    "puts URI.parse(url).query\n",
    "puts URI.parse(url).fragment"
   ]
  },
  {
   "cell_type": "code",
   "execution_count": null,
   "metadata": {
    "collapsed": true
   },
   "outputs": [],
   "source": [
    "u = URI('http://www.test.com/')"
   ]
  },
  {
   "cell_type": "code",
   "execution_count": null,
   "metadata": {
    "collapsed": true
   },
   "outputs": [],
   "source": [
    "URI.split('http://www.x.com:1234/test/1.html?x=y&y=z#top')"
   ]
  },
  {
   "cell_type": "markdown",
   "metadata": {},
   "source": [
    "* __Creating URLs__"
   ]
  },
  {
   "cell_type": "code",
   "execution_count": null,
   "metadata": {
    "collapsed": true
   },
   "outputs": [],
   "source": [
    "require 'uri'\n",
    "u = URI::HTTP.build( :host => 'rubyinside.com', :path => '/' )\n",
    "puts u.to_s\n",
    "puts u.request_uri"
   ]
  },
  {
   "cell_type": "code",
   "execution_count": null,
   "metadata": {
    "collapsed": true
   },
   "outputs": [],
   "source": [
    "ftp_url = URI::FTP.build( :userinfo => 'username:password',\n",
    ":host => 'ftp.example.com',\n",
    ":path => '/pub/folder',\n",
    ":typecode => 'a')\n",
    "\n",
    "puts ftp_url.to_s"
   ]
  },
  {
   "cell_type": "code",
   "execution_count": null,
   "metadata": {
    "collapsed": true
   },
   "outputs": [],
   "source": [
    "require 'uri'\n",
    "my_url = \"http://www.test.com/something/test.html\"\n",
    "url = URI.parse(my_url)\n",
    "url.host = \"www.test2.com\"\n",
    "url.port = 1234\n",
    "puts url.to_s"
   ]
  },
  {
   "cell_type": "markdown",
   "metadata": {},
   "source": [
    "### 16.16.3 Further Information"
   ]
  },
  {
   "cell_type": "markdown",
   "metadata": {},
   "source": [
    "* Standard library documentation for uri: http://www.ruby-doc.org/stdlib/libdoc/uri/rdoc/URI.html\n",
    "* Information about URLs and URIs: http://en.wikipedia.org/wiki/URL"
   ]
  },
  {
   "cell_type": "markdown",
   "metadata": {},
   "source": [
    "## 16.17 zlib"
   ]
  },
  {
   "cell_type": "markdown",
   "metadata": {},
   "source": [
    "### 16.17.1 Installation"
   ]
  },
  {
   "cell_type": "code",
   "execution_count": null,
   "metadata": {
    "collapsed": true
   },
   "outputs": [],
   "source": [
    "require 'zlib'"
   ]
  },
  {
   "cell_type": "markdown",
   "metadata": {},
   "source": [
    "### 16.17.2 Examples"
   ]
  },
  {
   "cell_type": "code",
   "execution_count": 20,
   "metadata": {
    "collapsed": false
   },
   "outputs": [
    {
     "name": "stdout",
     "output_type": "stream",
     "text": [
      "Original string is 2100 bytes long\n",
      "Compressed data is 46 bytes long\n"
     ]
    }
   ],
   "source": [
    "require 'zlib'\n",
    "\n",
    "test_text = 'this is a test string' * 100\n",
    "puts \"Original string is #{test_text.length} bytes long\"\n",
    "compressed_text = Zlib::Deflate.deflate(test_text)\n",
    "puts \"Compressed data is #{compressed_text.length} bytes long\""
   ]
  },
  {
   "cell_type": "code",
   "execution_count": null,
   "metadata": {
    "collapsed": false,
    "scrolled": true
   },
   "outputs": [],
   "source": [
    "require 'zlib'\n",
    "test_text = 'this is a test string' * 100\n",
    "puts \"Original string is #{test_text.length} bytes long\" compressed_text = Zlib::Deflate.deflate(test_text)\n",
    "puts \"Compressed data is #{compressed_text.length} bytes long\"\n",
    "uncompressed_text = Zlib::Inflate.inflate(compressed_text)\n",
    "puts \"Uncompressed data is back to #{uncompressed_text.length} bytes in length\""
   ]
  },
  {
   "cell_type": "code",
   "execution_count": 22,
   "metadata": {
    "collapsed": false
   },
   "outputs": [
    {
     "name": "stdout",
     "output_type": "stream",
     "text": [
      "This data will be compressed automatically!\n"
     ]
    }
   ],
   "source": [
    "require 'zlib'\n",
    "\n",
    "Zlib::GzipWriter.open('my_compressed_file.gz') do |gz|\n",
    "  gz.write 'This data will be compressed automatically!'\n",
    "end\n",
    "\n",
    "Zlib::GzipReader.open('my_compressed_file.gz') do |my_file|\n",
    "  puts my_file.read\n",
    "end"
   ]
  },
  {
   "cell_type": "markdown",
   "metadata": {},
   "source": [
    "### 16.17.3 Further Information"
   ]
  },
  {
   "cell_type": "markdown",
   "metadata": {},
   "source": [
    "* Standard library documentation for zlib: http://www.ruby-doc.org/stdlib/libdoc/zlib/rdoc/Zlib.html"
   ]
  },
  {
   "cell_type": "code",
   "execution_count": null,
   "metadata": {
    "collapsed": true
   },
   "outputs": [],
   "source": []
  }
 ],
 "metadata": {
  "kernelspec": {
   "display_name": "Ruby 2.3.3",
   "language": "ruby",
   "name": "ruby"
  },
  "language_info": {
   "file_extension": ".rb",
   "mimetype": "application/x-ruby",
   "name": "ruby",
   "version": "2.3.3"
  }
 },
 "nbformat": 4,
 "nbformat_minor": 1
}
