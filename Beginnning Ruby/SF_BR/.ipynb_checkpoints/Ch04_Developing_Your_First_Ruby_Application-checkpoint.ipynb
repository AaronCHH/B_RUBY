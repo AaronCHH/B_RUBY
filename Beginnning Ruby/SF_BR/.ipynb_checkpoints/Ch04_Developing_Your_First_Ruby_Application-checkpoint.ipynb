{
 "cells": [
  {
   "cell_type": "markdown",
   "metadata": {},
   "source": [
    "# Chapter 4: Developing Your First Ruby Application"
   ]
  },
  {
   "cell_type": "markdown",
   "metadata": {},
   "source": [
    "<div id=\"toc\"></div>"
   ]
  },
  {
   "cell_type": "markdown",
   "metadata": {},
   "source": [
    "## 4.1 Working with Source Code Files"
   ]
  },
  {
   "cell_type": "markdown",
   "metadata": {},
   "source": [
    "### 4.1.1 Creating a Test File"
   ]
  },
  {
   "cell_type": "markdown",
   "metadata": {},
   "source": [
    "* __Visual Studio Code__"
   ]
  },
  {
   "cell_type": "markdown",
   "metadata": {},
   "source": [
    "https://www.jetbrains.com/ruby/"
   ]
  },
  {
   "cell_type": "markdown",
   "metadata": {},
   "source": [
    "* __Alternatives to Linux__"
   ]
  },
  {
   "cell_type": "markdown",
   "metadata": {},
   "source": [
    "### 4.1.2 A Simple Source Code File"
   ]
  },
  {
   "cell_type": "code",
   "execution_count": 1,
   "metadata": {
    "collapsed": false
   },
   "outputs": [
    {
     "name": "stdout",
     "output_type": "stream",
     "text": [
      "This program is running okay if 2 + 2 = 4"
     ]
    }
   ],
   "source": [
    "x = 2\n",
    "print \"This program is running okay if 2 + 2 = #{x + x}\""
   ]
  },
  {
   "cell_type": "markdown",
   "metadata": {},
   "source": [
    "### 4.1.3 Running Your Source Code"
   ]
  },
  {
   "cell_type": "markdown",
   "metadata": {},
   "source": [
    "* __Windows__"
   ]
  },
  {
   "cell_type": "markdown",
   "metadata": {},
   "source": [
    "* __Mac OS X / macOS__"
   ]
  },
  {
   "cell_type": "markdown",
   "metadata": {},
   "source": [
    "* __Linux and Other UNIX-Based Systems__"
   ]
  },
  {
   "cell_type": "markdown",
   "metadata": {},
   "source": [
    "## 4.2 Our Application: A Text Analyzer"
   ]
  },
  {
   "cell_type": "markdown",
   "metadata": {},
   "source": [
    "### 4.2.1 Required Basic Features"
   ]
  },
  {
   "cell_type": "markdown",
   "metadata": {},
   "source": [
    "### 4.2.2 Building the Basic Application"
   ]
  },
  {
   "cell_type": "markdown",
   "metadata": {},
   "source": [
    "### 4.2.3 Obtaining Some Dummy Text"
   ]
  },
  {
   "cell_type": "markdown",
   "metadata": {},
   "source": [
    "http://www.rubyinside.com/book/"
   ]
  },
  {
   "cell_type": "markdown",
   "metadata": {
    "collapsed": true
   },
   "source": [
    "http://www.rubyinside.com/book/oliver.txt "
   ]
  },
  {
   "cell_type": "markdown",
   "metadata": {},
   "source": [
    "### 2.1.4 Loading Text Files and Counting Lines"
   ]
  },
  {
   "cell_type": "code",
   "execution_count": null,
   "metadata": {
    "collapsed": true
   },
   "outputs": [],
   "source": [
    "File.open(\"text.txt\").each { |line| puts line }"
   ]
  },
  {
   "cell_type": "code",
   "execution_count": null,
   "metadata": {
    "collapsed": true
   },
   "outputs": [],
   "source": [
    "line_count = 0\n",
    "File.open(\"text.txt\").each { |line| line_count += 1 }\n",
    "puts line_count"
   ]
  },
  {
   "cell_type": "code",
   "execution_count": null,
   "metadata": {
    "collapsed": true
   },
   "outputs": [],
   "source": [
    "text=''\n",
    "line_count = 0\n",
    "File.open(\"text.txt\").each do |line|\n",
    "  line_count += 1\n",
    "  text << line\n",
    "end\n",
    "puts \"#{line_count} lines\""
   ]
  },
  {
   "cell_type": "code",
   "execution_count": null,
   "metadata": {
    "collapsed": true
   },
   "outputs": [],
   "source": [
    "lines = File.readlines(\"text.txt\")\n",
    "line_count = lines.size\n",
    "text = lines.join\n",
    "puts \"#{line_count} lines\""
   ]
  },
  {
   "cell_type": "markdown",
   "metadata": {},
   "source": [
    "### 4.2.5 Counting Characters"
   ]
  },
  {
   "cell_type": "code",
   "execution_count": null,
   "metadata": {
    "collapsed": true
   },
   "outputs": [],
   "source": [
    "total_characters = text.length\n",
    "puts \"#{total_characters} characters\""
   ]
  },
  {
   "cell_type": "code",
   "execution_count": null,
   "metadata": {
    "collapsed": true
   },
   "outputs": [],
   "source": [
    "\"this is a test\".gsub(/t/, 'X')"
   ]
  },
  {
   "cell_type": "code",
   "execution_count": null,
   "metadata": {
    "collapsed": true
   },
   "outputs": [],
   "source": [
    "total_characters_nospaces = text.gsub(/\\s+/, '').length\n",
    "puts \"#{total_characters_nospaces} characters excluding spaces\""
   ]
  },
  {
   "cell_type": "markdown",
   "metadata": {},
   "source": [
    "### 4.2.6 Counting Words"
   ]
  },
  {
   "cell_type": "code",
   "execution_count": 2,
   "metadata": {
    "collapsed": false
   },
   "outputs": [
    {
     "name": "stdout",
     "output_type": "stream",
     "text": [
      "thisisatest\n"
     ]
    }
   ],
   "source": [
    "puts \"this is a test\".scan(/\\w/).join"
   ]
  },
  {
   "cell_type": "code",
   "execution_count": 3,
   "metadata": {
    "collapsed": false
   },
   "outputs": [
    {
     "name": "stdout",
     "output_type": "stream",
     "text": [
      "this-is-a-test\n"
     ]
    }
   ],
   "source": [
    "puts \"this is a test\".scan(/\\w+/).join('-')"
   ]
  },
  {
   "cell_type": "code",
   "execution_count": 4,
   "metadata": {
    "collapsed": false
   },
   "outputs": [
    {
     "name": "stdout",
     "output_type": "stream",
     "text": [
      "4\n"
     ]
    }
   ],
   "source": [
    "puts \"this is a test\".scan(/\\w+/).length"
   ]
  },
  {
   "cell_type": "code",
   "execution_count": 5,
   "metadata": {
    "collapsed": false
   },
   "outputs": [
    {
     "name": "stdout",
     "output_type": "stream",
     "text": [
      "4\n"
     ]
    }
   ],
   "source": [
    "puts \"this is a test\".split.length"
   ]
  },
  {
   "cell_type": "code",
   "execution_count": 6,
   "metadata": {
    "collapsed": false
   },
   "outputs": [
    {
     "name": "stdout",
     "output_type": "stream",
     "text": [
      "Scan method: 7\n",
      "Split method: 5\n"
     ]
    }
   ],
   "source": [
    "text = \"First-class decisions require clear-headed thinking.\"\n",
    "puts \"Scan method: #{text.scan(/\\w+/).length}\"\n",
    "puts \"Split method: #{text.split.length}\""
   ]
  },
  {
   "cell_type": "code",
   "execution_count": 7,
   "metadata": {
    "collapsed": false
   },
   "outputs": [
    {
     "name": "stdout",
     "output_type": "stream",
     "text": [
      "5 words\n"
     ]
    }
   ],
   "source": [
    "word_count = text.split.length\n",
    "puts \"#{word_count} words\""
   ]
  },
  {
   "cell_type": "markdown",
   "metadata": {},
   "source": [
    "### 4.2.7 Counting Sentences and Paragraphs"
   ]
  },
  {
   "cell_type": "code",
   "execution_count": 8,
   "metadata": {
    "collapsed": false
   },
   "outputs": [
    {
     "data": {
      "text/plain": [
       "1"
      ]
     },
     "execution_count": 8,
     "metadata": {},
     "output_type": "execute_result"
    }
   ],
   "source": [
    "sentence_count = text.split(/\\.|\\?|!/).length"
   ]
  },
  {
   "cell_type": "code",
   "execution_count": 9,
   "metadata": {
    "collapsed": false
   },
   "outputs": [
    {
     "name": "stdout",
     "output_type": "stream",
     "text": [
      "4\n"
     ]
    }
   ],
   "source": [
    "puts \"Test code! It works. Does it? Yes.\".split(/\\.|\\?|!/).length"
   ]
  },
  {
   "cell_type": "code",
   "execution_count": 10,
   "metadata": {
    "collapsed": false
   },
   "outputs": [
    {
     "name": "stdout",
     "output_type": "stream",
     "text": [
      "1\n"
     ]
    }
   ],
   "source": [
    "text = %q{\n",
    "This is a test of\n",
    "paragraph one.\n",
    "This is a test of\n",
    "paragraph two.\n",
    "This is a test of\n",
    "paragraph three.\n",
    "}\n",
    "puts text.split(/\\n\\n/).length"
   ]
  },
  {
   "cell_type": "code",
   "execution_count": 11,
   "metadata": {
    "collapsed": false
   },
   "outputs": [
    {
     "name": "stdout",
     "output_type": "stream",
     "text": [
      "1 paragraphs\n"
     ]
    }
   ],
   "source": [
    "paragraph_count = text.split(/\\n\\n/).length\n",
    "puts \"#{paragraph_count} paragraphs\""
   ]
  },
  {
   "cell_type": "code",
   "execution_count": 12,
   "metadata": {
    "collapsed": false
   },
   "outputs": [
    {
     "name": "stdout",
     "output_type": "stream",
     "text": [
      "4 sentences\n"
     ]
    }
   ],
   "source": [
    "sentence_count = text.split(/\\.|\\?|!/).length\n",
    "puts \"#{sentence_count} sentences\""
   ]
  },
  {
   "cell_type": "markdown",
   "metadata": {},
   "source": [
    "### 4.2.8 Calculating Averages"
   ]
  },
  {
   "cell_type": "code",
   "execution_count": 13,
   "metadata": {
    "collapsed": false
   },
   "outputs": [
    {
     "name": "stdout",
     "output_type": "stream",
     "text": [
      "4 sentences per paragraph (average)\n",
      "1 words per sentence (average)\n"
     ]
    }
   ],
   "source": [
    "puts \"#{sentence_count / paragraph_count} sentences per paragraph (average)\"\n",
    "puts \"#{word_count / sentence_count} words per sentence (average)\""
   ]
  },
  {
   "cell_type": "markdown",
   "metadata": {},
   "source": [
    "### 4.2.9 The Source Code So Far"
   ]
  },
  {
   "cell_type": "code",
   "execution_count": null,
   "metadata": {
    "collapsed": false
   },
   "outputs": [],
   "source": [
    "lines = File.readlines(\"text.txt\")\n",
    "line_count = lines.size\n",
    "text = lines.join\n",
    "word_count = text.split.length\n",
    "character_count = text.length\n",
    "character_count_nospaces = text.gsub(/\\s+/, '').length\n",
    "paragraph_count = text.split(/\\n\\n/).length\n",
    "sentence_count = text.split(/\\.|\\?|!/).length\n",
    "puts \"#{line_count} lines\"\n",
    "puts \"#{character_count} characters\"\n",
    "puts \"#{character_count_nospaces} characters excluding spaces\"\n",
    "puts \"#{word_count} words\"\n",
    "puts \"#{paragraph_count} paragraphs\"\n",
    "puts \"#{sentence_count} sentences\"\n",
    "puts \"#{sentence_count / paragraph_count} sentences per paragraph (average)\"\n",
    "puts \"#{word_count / sentence_count} words per sentence (average)\""
   ]
  },
  {
   "cell_type": "markdown",
   "metadata": {},
   "source": [
    "## 4.3 Adding Extra Features"
   ]
  },
  {
   "cell_type": "markdown",
   "metadata": {},
   "source": [
    "### 4.3.1 Percentage of “Useful” Words"
   ]
  },
  {
   "cell_type": "markdown",
   "metadata": {},
   "source": [
    "* Note For more information about stop words, including links to complete lists, visit \n",
    "http://en.wikipedia.org/wiki/Stop_words ."
   ]
  },
  {
   "cell_type": "code",
   "execution_count": 15,
   "metadata": {
    "collapsed": false
   },
   "outputs": [
    {
     "data": {
      "text/plain": [
       "[\"the\", \"a\", \"by\", \"on\", \"for\", \"of\", \"are\", \"with\", \"just\", \"but\", \"and\", \"to\", \"the\", \"my\", \"I\", \"has\", \"some\", \"in\"]"
      ]
     },
     "execution_count": 15,
     "metadata": {},
     "output_type": "execute_result"
    }
   ],
   "source": [
    "stopwords = %w{the a by on for of are with just but and to the my I has some in}"
   ]
  },
  {
   "cell_type": "code",
   "execution_count": 16,
   "metadata": {
    "collapsed": false
   },
   "outputs": [
    {
     "data": {
      "text/plain": [
       "[\"the\", \"a\", \"by\", \"on\", \"for\", \"of\", \"are\", \"with\", \"just\", \"but\", \"and\", \"to\", \"the\", \"my\", \"in\", \"I\", \"has\", \"some\"]"
      ]
     },
     "execution_count": 16,
     "metadata": {},
     "output_type": "execute_result"
    }
   ],
   "source": [
    "text = %q{Los Angeles has some of the nicest weather in the country.}\n",
    "stopwords = %w{the a by on for of are with just but and to the my in I has some}"
   ]
  },
  {
   "cell_type": "code",
   "execution_count": 17,
   "metadata": {
    "collapsed": false
   },
   "outputs": [
    {
     "data": {
      "text/plain": [
       "[\"Los\", \"Angeles\", \"nicest\", \"weather\", \"country\"]"
      ]
     },
     "execution_count": 17,
     "metadata": {},
     "output_type": "execute_result"
    }
   ],
   "source": [
    "words = text.scan(/\\w+/)\n",
    "keywords = words.select { |word| !stopwords.include?(word) }"
   ]
  },
  {
   "cell_type": "code",
   "execution_count": 18,
   "metadata": {
    "collapsed": false
   },
   "outputs": [
    {
     "name": "stdout",
     "output_type": "stream",
     "text": [
      "Los Angeles nicest weather country\n"
     ]
    }
   ],
   "source": [
    "puts keywords.join(' ')"
   ]
  },
  {
   "cell_type": "code",
   "execution_count": 19,
   "metadata": {
    "collapsed": false
   },
   "outputs": [
    {
     "data": {
      "text/plain": [
       "[\"Los\", \"Angeles\", \"nicest\", \"weather\", \"country\"]"
      ]
     },
     "execution_count": 19,
     "metadata": {},
     "output_type": "execute_result"
    }
   ],
   "source": [
    "keywords = words.select { |word| !stopwords.include?(word) }"
   ]
  },
  {
   "cell_type": "code",
   "execution_count": 20,
   "metadata": {
    "collapsed": false
   },
   "outputs": [
    {
     "data": {
      "text/plain": [
       "45"
      ]
     },
     "execution_count": 20,
     "metadata": {},
     "output_type": "execute_result"
    }
   ],
   "source": [
    "((keywords.length.to_f / words.length.to_f) * 100).to_i"
   ]
  },
  {
   "cell_type": "code",
   "execution_count": null,
   "metadata": {
    "collapsed": false
   },
   "outputs": [],
   "source": [
    "stopwords = %w{the a by on for of are with just but and to the my I has some in}\n",
    "lines = File.readlines(“text.txt”)\n",
    "line_count = lines.size\n",
    "text = lines.join"
   ]
  },
  {
   "cell_type": "code",
   "execution_count": null,
   "metadata": {
    "collapsed": true
   },
   "outputs": [],
   "source": [
    "# Count the words, characters, paragraphs and sentences\n",
    "word_count = text.split.length\n",
    "character_count = text.length\n",
    "character_count_nospaces = text.gsub(/\\s+/, '').length\n",
    "paragraph_count = text.split(/\\n\\n/).length\n",
    "sentence_count = text.split(/\\.|\\?|!/).length\n",
    "# Make a list of words in the text that aren't stop words,\n",
    "# count them, and work out the percentage of non-stop words\n",
    "# against all words\n",
    "all_words = text.scan(/\\w+/)\n",
    "good_words = all_words.reject{ |word| stopwords.include?(word) }\n",
    "good_percentage = ((good_words.length.to_f / all_words.length.to_f) * 100).to_i\n",
    "# Give the analysis back to the user\n",
    "puts \"#{line_count} lines\"\n",
    "puts \"#{character_count} characters\"\n",
    "puts \"#{character_count_nospaces} characters (excluding spaces)\"\n",
    "puts \"#{word_count} words\"\n",
    "puts \"#{sentence_count} sentences\"\n",
    "puts \"#{paragraph_count} paragraphs\"\n",
    "puts \"#{sentence_count / paragraph_count} sentences per paragraph (average)\"\n",
    "puts \"#{word_count / sentence_count} words per sentence (average)\"\n",
    "puts \"#{good_percentage}% of words are non-fluff words\""
   ]
  },
  {
   "cell_type": "markdown",
   "metadata": {},
   "source": [
    "### 4.3.2 Summarizing by Finding “Interesting” Sentences"
   ]
  },
  {
   "cell_type": "code",
   "execution_count": null,
   "metadata": {
    "collapsed": true
   },
   "outputs": [],
   "source": [
    "text = %q{\n",
    "Ruby is a great programming language. It is object oriented\n",
    "and has many groovy features. Some people don't like it, but that's\n",
    "not our problem! It's easy to learn. It's great. To learn more about Ruby,\n",
    "visit the official Ruby web site today.\n",
    "}\n",
    "sentences = text.gsub(/\\s+/, ' ').strip.split(/\\.|\\?|!/)\n",
    "sentences_sorted = sentences.sort_by { |sentence| sentence.length }\n",
    "one_third = sentences_sorted.length / 3\n",
    "ideal_sentences = sentences_sorted.slice(one_third, one_third + 1)\n",
    "ideal_sentences = ideal_sentences.select { |sentence| sentence =~ /is|are/ }\n",
    "puts ideal_sentences.join(\". \")"
   ]
  },
  {
   "cell_type": "code",
   "execution_count": 22,
   "metadata": {
    "collapsed": false
   },
   "outputs": [
    {
     "data": {
      "text/plain": [
       "[\"Los Angeles has some of the nicest weather in the country\"]"
      ]
     },
     "execution_count": 22,
     "metadata": {},
     "output_type": "execute_result"
    }
   ],
   "source": [
    "sentences = text.gsub(/\\s+/, ' ').strip.split(/\\.|\\?|!/)"
   ]
  },
  {
   "cell_type": "code",
   "execution_count": 23,
   "metadata": {
    "collapsed": false
   },
   "outputs": [
    {
     "data": {
      "text/plain": [
       "[\"Los Angeles has some of the nicest weather in the country\"]"
      ]
     },
     "execution_count": 23,
     "metadata": {},
     "output_type": "execute_result"
    }
   ],
   "source": [
    "sentences_sorted = sentences.sort_by { |sentence| sentence.length }"
   ]
  },
  {
   "cell_type": "code",
   "execution_count": 24,
   "metadata": {
    "collapsed": false
   },
   "outputs": [
    {
     "data": {
      "text/plain": [
       "[\"Los Angeles has some of the nicest weather in the country\"]"
      ]
     },
     "execution_count": 24,
     "metadata": {},
     "output_type": "execute_result"
    }
   ],
   "source": [
    "one_third = sentences_sorted.length / 3\n",
    "ideal_sentences = sentences_sorted.slice(one_third, one_third + 1)"
   ]
  },
  {
   "cell_type": "code",
   "execution_count": 25,
   "metadata": {
    "collapsed": false
   },
   "outputs": [
    {
     "data": {
      "text/plain": [
       "[]"
      ]
     },
     "execution_count": 25,
     "metadata": {},
     "output_type": "execute_result"
    }
   ],
   "source": [
    "ideal_sentences = ideal_sentences.select { |sentence| sentence =~ /is|are/ }"
   ]
  },
  {
   "cell_type": "code",
   "execution_count": 26,
   "metadata": {
    "collapsed": false
   },
   "outputs": [
    {
     "name": "stdout",
     "output_type": "stream",
     "text": [
      "\n"
     ]
    }
   ],
   "source": [
    "puts ideal_sentences.join(\". \")"
   ]
  },
  {
   "cell_type": "markdown",
   "metadata": {},
   "source": [
    "### 4.3.3 Analyzing Files Other Than text.txt"
   ]
  },
  {
   "cell_type": "code",
   "execution_count": 27,
   "metadata": {
    "collapsed": false
   },
   "outputs": [
    {
     "name": "stdout",
     "output_type": "stream",
     "text": [
      "kernel-C:\\Users\\AaronHsu\\AppData\\Roaming\\jupyter\\runtime\\kernel-e2dcf565-80c4-45fb-be91-3877ff1f9de0.json\n"
     ]
    }
   ],
   "source": [
    "puts ARGV.join('-')"
   ]
  },
  {
   "cell_type": "code",
   "execution_count": null,
   "metadata": {
    "collapsed": true
   },
   "outputs": [],
   "source": [
    "lines = File.readlines(ARGV[0])"
   ]
  },
  {
   "cell_type": "markdown",
   "metadata": {},
   "source": [
    "## 4.4 The Completed Program"
   ]
  },
  {
   "cell_type": "markdown",
   "metadata": {},
   "source": [
    "*  Note Remember that source code for this book is available in the Source Code area at http://www.apress.com , so it isn’t strictly necessary to type in code directly from the book."
   ]
  },
  {
   "cell_type": "code",
   "execution_count": null,
   "metadata": {
    "collapsed": true
   },
   "outputs": [],
   "source": [
    "# analyzer.rb -- Text Analyzer\n",
    "stopwords = %w{the a by on for of are with just but and to the my I has some in}\n",
    "lines = File.readlines(ARGV[0])\n",
    "line_count = lines.size\n",
    "text = lines.join\n",
    "# Count the words, characters, paragraphs and sentences\n",
    "word_count = text.split.length\n",
    "character_count = text.length\n",
    "character_count_nospaces = text.gsub(/\\s+/, '').length\n",
    "paragraph_count = text.split(/\\n\\n/).length\n",
    "sentence_count = text.split(/\\.|\\?|!/).length\n",
    "# Make a list of words in the text that aren't stop words,\n",
    "# count them, and work out the percentage of non-stop words\n",
    "# against all words\n",
    "all_words = text.scan(/\\w+/)\n",
    "good_words = all_words.reject{ |word| stopwords.include?(word) }\n",
    "good_percentage = ((good_words.length.to_f / all_words.length.to_f) * 100).to_i\n",
    "# Summarize the text by cherry picking some choice\n",
    "sentences = text.gsub(/\\s+/, ' ').strip.split(/\\.|\\?|!/)\n",
    "sentences_sorted = sentences.sort_by { |sentence| sentence.length }\n",
    "one_third = sentences_sorted.length / 3\n",
    "ideal_sentences = sentences_sorted.slice(one_third, one_third + 1)\n",
    "ideal_sentences = ideal_sentences.select { |sentence| sentence =~ /is|are/ }\n",
    "# Give the analysis back to the user\n",
    "puts \"#{line_count} lines\"\n",
    "puts \"#{character_count} characters\"\n",
    "puts \"#{character_count_nospaces} characters (excluding spaces)\"\n",
    "puts \"#{word_count} words\"\n",
    "puts \"#{sentence_count} sentences\"\n",
    "puts \"#{paragraph_count} paragraphs\"\n",
    "puts \"#{sentence_count / paragraph_count} sentences per paragraph (average)\"\n",
    "puts \"#{word_count / sentence_count} words per sentence (average)\"\n",
    "puts \"#{good_percentage}% of words are non-fluff words\"\n",
    "puts \"Summary:\\n\\n\" + ideal_sentences.join(\". \")\n",
    "puts \"-- End of analysis\""
   ]
  },
  {
   "cell_type": "code",
   "execution_count": null,
   "metadata": {
    "collapsed": false
   },
   "outputs": [],
   "source": [
    "puts “2+2 = #{2+2}” # Adds 2+2 to make 4\n",
    "# A comment on a line by itself"
   ]
  },
  {
   "cell_type": "markdown",
   "metadata": {},
   "source": [
    "## 4.5 Summary"
   ]
  },
  {
   "cell_type": "code",
   "execution_count": null,
   "metadata": {
    "collapsed": true
   },
   "outputs": [],
   "source": []
  }
 ],
 "metadata": {
  "kernelspec": {
   "display_name": "Ruby 2.3.3",
   "language": "ruby",
   "name": "ruby"
  },
  "language_info": {
   "file_extension": ".rb",
   "mimetype": "application/x-ruby",
   "name": "ruby",
   "version": "2.3.3"
  }
 },
 "nbformat": 4,
 "nbformat_minor": 1
}
