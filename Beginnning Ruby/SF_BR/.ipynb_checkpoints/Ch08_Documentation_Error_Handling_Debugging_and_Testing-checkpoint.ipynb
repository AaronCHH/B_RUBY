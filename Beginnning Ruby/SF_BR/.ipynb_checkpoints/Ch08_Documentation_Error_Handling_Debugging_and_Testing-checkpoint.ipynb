{
 "cells": [
  {
   "cell_type": "markdown",
   "metadata": {},
   "source": [
    "# Chapter 8: Documentation, Error Handling, Debugging, and Testing"
   ]
  },
  {
   "cell_type": "markdown",
   "metadata": {},
   "source": [
    "<div id=\"toc\"></div>"
   ]
  },
  {
   "cell_type": "markdown",
   "metadata": {},
   "source": [
    "## 8.1 Documentation"
   ]
  },
  {
   "cell_type": "markdown",
   "metadata": {},
   "source": [
    "### 8.1.1 Generating Documentation with RDoc"
   ]
  },
  {
   "cell_type": "code",
   "execution_count": null,
   "metadata": {
    "collapsed": true
   },
   "outputs": [],
   "source": [
    "# This class stores information about people.\n",
    "class Person\n",
    "  attr_accessor :name, :age, :gender\n",
    "\n",
    "  # Create the person object and store their name\n",
    "  def initialize(name)\n",
    "    @name = name\n",
    "  end\n",
    "\n",
    "  # Print this person's name to the screen\n",
    "  def print_name\n",
    "    puts \"Person called #{@name}\"\n",
    "  end\n",
    "end"
   ]
  },
  {
   "cell_type": "markdown",
   "metadata": {},
   "source": [
    "### 8.1.2 RDoc Techniques"
   ]
  },
  {
   "cell_type": "markdown",
   "metadata": {},
   "source": [
    "* http://docs.ruby-lang.org/en/2.2.0/RDoc.html ."
   ]
  },
  {
   "cell_type": "markdown",
   "metadata": {},
   "source": [
    "### 8.1.3 Producing Documentation for an Entire Project"
   ]
  },
  {
   "cell_type": "markdown",
   "metadata": {},
   "source": [
    "* __Basic Formatting__"
   ]
  },
  {
   "cell_type": "code",
   "execution_count": null,
   "metadata": {
    "collapsed": true
   },
   "outputs": [],
   "source": [
    "#= RDoc Example\n",
    "#\n",
    "#== This is a heading\n",
    "#\n",
    "#* First item in an outer list\n",
    "# * First item in an inner list\n",
    "# * Second item in an inner list\n",
    "#* Second item in an outer list\n",
    "# * Only item in this inner list\n",
    "#\n",
    "#== This is a second heading\n",
    "#\n",
    "#Visit www.rubyinside.com\n",
    "#\n",
    "#== Test of text formatting features\n",
    "#\n",
    "#Want to see *bold* or _italic_ text? You can even embed\n",
    "#+text that looks like code+ by surrounding it with plus\n",
    "#symbols. Indented code will be automatically formatted:\n",
    "#\n",
    "# class MyClass\n",
    "#   def method_name\n",
    "#     puts \"test\"\n",
    "#   end\n",
    "# end\n",
    "\n",
    "class MyClass\n",
    "end\n"
   ]
  },
  {
   "cell_type": "markdown",
   "metadata": {},
   "source": [
    "* http://docs.ruby-lang.org/en/2.2.0/RDoc/Markup.html"
   ]
  },
  {
   "cell_type": "markdown",
   "metadata": {},
   "source": [
    "### 8.1.4 Modifiers and Options"
   ]
  },
  {
   "cell_type": "markdown",
   "metadata": {},
   "source": [
    "* __:nodoc: Modifier__"
   ]
  },
  {
   "cell_type": "code",
   "execution_count": null,
   "metadata": {
    "collapsed": true
   },
   "outputs": [],
   "source": [
    "# This is a class that does nothing\n",
    "class MyClass\n",
    "  # This method is documented\n",
    "  def some_method\n",
    "  end\n",
    "  def secret_method #:nodoc:\n",
    "  end\n",
    "end"
   ]
  },
  {
   "cell_type": "code",
   "execution_count": null,
   "metadata": {
    "collapsed": true
   },
   "outputs": [],
   "source": [
    "# This is a class that does nothing\n",
    "class MyClass #:nodoc: all\n",
    "  # This method is documented (or is it?)\n",
    "  def some_method\n",
    "  end\n",
    "\n",
    "\n",
    "  def secret_method\n",
    "  end\n",
    "end"
   ]
  },
  {
   "cell_type": "markdown",
   "metadata": {},
   "source": [
    "* __Turning RDoc Processing On and Off__"
   ]
  },
  {
   "cell_type": "code",
   "execution_count": null,
   "metadata": {
    "collapsed": true
   },
   "outputs": [],
   "source": [
    "# This section is documented and read by RDoc.\n",
    "#--\n",
    "# This section is hidden from RDoc and could contain developer\n",
    "# notes, private messages between developers, etc.\n",
    "#++\n",
    "# RDoc begins processing again here after the ++."
   ]
  },
  {
   "cell_type": "markdown",
   "metadata": {},
   "source": [
    "* __Command-Line Options__"
   ]
  },
  {
   "cell_type": "markdown",
   "metadata": {},
   "source": [
    "* --all : Usually RDoc processes only public methods, but--all forces RDoc to documentall methods within the source files.  \n",
    "* --fmt <format name> : Produce documentation in a certain format (which currently includes darkfish, pot, and ri).  \n",
    "* --help : Get help with using RDoc’s command-line options and find out which output formatters are available.  \n",
    "* --inline-source : Usually source code is shown using popups, but this option forces code to be shown inline with the documentation.  \n",
    "* --main <name> : Set the class, module, or file that appears as the main index page for the documentation to <name> (for example,rdoc --main MyClass ).  "
   ]
  },
  {
   "cell_type": "markdown",
   "metadata": {},
   "source": [
    "## 8.2 Debugging and Errors"
   ]
  },
  {
   "cell_type": "markdown",
   "metadata": {},
   "source": [
    "### 8.2.1 Exceptions and Error Handling"
   ]
  },
  {
   "cell_type": "markdown",
   "metadata": {},
   "source": [
    "* __Raising Exceptions__"
   ]
  },
  {
   "cell_type": "code",
   "execution_count": 3,
   "metadata": {
    "collapsed": false,
    "scrolled": false
   },
   "outputs": [
    {
     "ename": "ZeroDivisionError",
     "evalue": "divided by 0",
     "output_type": "error",
     "traceback": [
      "\u001b[31mZeroDivisionError\u001b[0m: divided by 0",
      "\u001b[37m<main>:in `/'\u001b[0m",
      "\u001b[37m<main>:in `<main>'\u001b[0m",
      "\u001b[37mC:/Ruby23-x64/lib/ruby/gems/2.3.0/gems/iruby-0.3/lib/iruby/backend.rb:44:in `eval'\u001b[0m",
      "\u001b[37mC:/Ruby23-x64/lib/ruby/gems/2.3.0/gems/iruby-0.3/lib/iruby/backend.rb:44:in `eval'\u001b[0m",
      "\u001b[37mC:/Ruby23-x64/lib/ruby/gems/2.3.0/gems/iruby-0.3/lib/iruby/backend.rb:12:in `eval'\u001b[0m",
      "\u001b[37mC:/Ruby23-x64/lib/ruby/gems/2.3.0/gems/iruby-0.3/lib/iruby/kernel.rb:87:in `execute_request'\u001b[0m",
      "\u001b[37mC:/Ruby23-x64/lib/ruby/gems/2.3.0/gems/iruby-0.3/lib/iruby/kernel.rb:47:in `dispatch'\u001b[0m",
      "\u001b[37mC:/Ruby23-x64/lib/ruby/gems/2.3.0/gems/iruby-0.3/lib/iruby/kernel.rb:37:in `run'\u001b[0m",
      "\u001b[37mC:/Ruby23-x64/lib/ruby/gems/2.3.0/gems/iruby-0.3/lib/iruby/command.rb:70:in `run_kernel'\u001b[0m",
      "\u001b[37mC:/Ruby23-x64/lib/ruby/gems/2.3.0/gems/iruby-0.3/lib/iruby/command.rb:34:in `run'\u001b[0m",
      "\u001b[37mC:/Ruby23-x64/lib/ruby/gems/2.3.0/gems/iruby-0.3/bin/iruby:5:in `<top (required)>'\u001b[0m",
      "\u001b[37mC:/Ruby23-x64/bin/iruby:22:in `load'\u001b[0m",
      "\u001b[37mC:/Ruby23-x64/bin/iruby:22:in `<main>'\u001b[0m"
     ]
    }
   ],
   "source": [
    "puts 10/0"
   ]
  },
  {
   "cell_type": "code",
   "execution_count": null,
   "metadata": {
    "collapsed": true
   },
   "outputs": [],
   "source": [
    "class Person\n",
    "  def initialize(name)\n",
    "    raise ArgumentError, \"No name present\" if name.empty?\n",
    "  end\n",
    "end"
   ]
  },
  {
   "cell_type": "code",
   "execution_count": null,
   "metadata": {
    "collapsed": true
   },
   "outputs": [],
   "source": [
    "fred = Person.new('')"
   ]
  },
  {
   "cell_type": "code",
   "execution_count": null,
   "metadata": {
    "collapsed": true
   },
   "outputs": [],
   "source": [
    "class BadDataException < RuntimeError\n",
    "end\n",
    "\n",
    "class Person\n",
    "  def initialize(name)\n",
    "    raise BadDataException, \"No name present\" if name.empty?\n",
    "  end\n",
    "end"
   ]
  },
  {
   "cell_type": "markdown",
   "metadata": {},
   "source": [
    "* __Handling Exceptions__"
   ]
  },
  {
   "cell_type": "code",
   "execution_count": null,
   "metadata": {
    "collapsed": true
   },
   "outputs": [],
   "source": [
    "begin\n",
    "  puts 10 / 0\n",
    "rescue\n",
    "  puts \"You caused an error!\"\n",
    "end\n"
   ]
  },
  {
   "cell_type": "code",
   "execution_count": null,
   "metadata": {
    "collapsed": true
   },
   "outputs": [],
   "source": [
    "data = \"\"\n",
    "begin\n",
    "  # <..code to retrieve the contents of a Web page..>\n",
    "  data = '' #<..content of Web page..>\n",
    "rescue\n",
    "  puts \"The Web page could not be loaded! Using default data instead.\"\n",
    "  data = '' #<..load data from local file..>\n",
    "end\n",
    "puts data"
   ]
  },
  {
   "cell_type": "code",
   "execution_count": null,
   "metadata": {
    "collapsed": true
   },
   "outputs": [],
   "source": [
    "begin\n",
    "  #... code here ...\n",
    "rescue ZeroDivisionError\n",
    "  #... code to rescue the zero division exception here ...\n",
    "rescue YourOwnException\n",
    "  #... code to rescue a different type of exception here ...\n",
    "rescue\n",
    "  #... code that rescues all other types of exception here ...\n",
    "end"
   ]
  },
  {
   "cell_type": "markdown",
   "metadata": {},
   "source": [
    "* __Handling Passed Exceptions__"
   ]
  },
  {
   "cell_type": "code",
   "execution_count": null,
   "metadata": {
    "collapsed": true
   },
   "outputs": [],
   "source": [
    "begin\n",
    "  puts 10 / 0\n",
    "rescue => e\n",
    "  puts e.class\n",
    "end"
   ]
  },
  {
   "cell_type": "markdown",
   "metadata": {},
   "source": [
    "### 8.2.2 Catch and Throw"
   ]
  },
  {
   "cell_type": "code",
   "execution_count": null,
   "metadata": {
    "collapsed": true
   },
   "outputs": [],
   "source": [
    "catch(:finish) do\n",
    "  1000.times do\n",
    "    x = rand(1000)\n",
    "    throw :finish if x == 123\n",
    "  end\n",
    "\n",
    "  puts \"Generated 1000 random numbers without generating 123!\"\n",
    "end"
   ]
  },
  {
   "cell_type": "code",
   "execution_count": null,
   "metadata": {
    "collapsed": true
   },
   "outputs": [],
   "source": [
    "def generate_random_number_except_123\n",
    "  x = rand(1000)\n",
    "  throw :finish if x == 123\n",
    "end\n",
    "\n",
    "\n",
    "catch(:finish) do\n",
    "  1000.times { generate_random_number_except_123 }\n",
    "  puts \"Generated 1000 random numbers without generating 123!\"\n",
    "end"
   ]
  },
  {
   "cell_type": "markdown",
   "metadata": {},
   "source": [
    "### 8.2.3 The Ruby Debugger"
   ]
  },
  {
   "cell_type": "code",
   "execution_count": null,
   "metadata": {
    "collapsed": true
   },
   "outputs": [],
   "source": [
    "i = 1\n",
    "j = 0\n",
    "until i > 1000000\n",
    "  i *= 2\n",
    "  j += 1\n",
    "end\n",
    "puts \"i = #{i}, j = #{j}\""
   ]
  },
  {
   "cell_type": "code",
   "execution_count": null,
   "metadata": {
    "collapsed": true
   },
   "outputs": [],
   "source": [
    "ruby –r debug debugtest.rb"
   ]
  },
  {
   "cell_type": "markdown",
   "metadata": {},
   "source": [
    "## 8.3 Testing"
   ]
  },
  {
   "cell_type": "code",
   "execution_count": null,
   "metadata": {
    "collapsed": true
   },
   "outputs": [],
   "source": []
  },
  {
   "cell_type": "markdown",
   "metadata": {},
   "source": [
    "## 8.4 The Philosophy of Test-Driven Development"
   ]
  },
  {
   "cell_type": "markdown",
   "metadata": {},
   "source": [
    "* http://en.wikipedia.org/wiki/Test-driven_development"
   ]
  },
  {
   "cell_type": "code",
   "execution_count": null,
   "metadata": {
    "collapsed": true
   },
   "outputs": [],
   "source": [
    "class String\n",
    "  def titleize\n",
    "    self.capitalize\n",
    "  end\n",
    "end"
   ]
  },
  {
   "cell_type": "code",
   "execution_count": null,
   "metadata": {
    "collapsed": true
   },
   "outputs": [],
   "source": [
    "puts \"this is a test\".titleize"
   ]
  },
  {
   "cell_type": "code",
   "execution_count": null,
   "metadata": {
    "collapsed": true
   },
   "outputs": [],
   "source": [
    "raise \"Fail 1\" unless \"this is a test\".titleize == \"This Is A Test\"\n",
    "raise \"Fail 2\" unless \"another test 1234\".titleize == \"Another Test 1234\"\n",
    "raise \"Fail 3\" unless \"We're testing titleize\".titleize == \"We're Testing Titleize\""
   ]
  },
  {
   "cell_type": "code",
   "execution_count": null,
   "metadata": {
    "collapsed": true
   },
   "outputs": [],
   "source": [
    "class String\n",
    "  def titleize\n",
    "    self.gsub(/\\b\\w/) { |letter| letter.upcase }\n",
    "  end\n",
    "end"
   ]
  },
  {
   "cell_type": "code",
   "execution_count": null,
   "metadata": {
    "collapsed": true
   },
   "outputs": [],
   "source": [
    "puts \"We're testing titleize\".titleize"
   ]
  },
  {
   "cell_type": "code",
   "execution_count": null,
   "metadata": {
    "collapsed": true
   },
   "outputs": [],
   "source": [
    "class String\n",
    "  def titleize\n",
    "    self.gsub(/\\s\\w/) { |letter| letter.upcase }\n",
    "  end\n",
    "end"
   ]
  },
  {
   "cell_type": "code",
   "execution_count": null,
   "metadata": {
    "collapsed": true
   },
   "outputs": [],
   "source": [
    "class String\n",
    "  def titleize\n",
    "    self.gsub(/(\\A|\\s)\\w/){ |letter| letter.upcase }\n",
    "  end\n",
    "end"
   ]
  },
  {
   "cell_type": "markdown",
   "metadata": {},
   "source": [
    "### 8.4.1 Unit Testing"
   ]
  },
  {
   "cell_type": "code",
   "execution_count": null,
   "metadata": {
    "collapsed": true
   },
   "outputs": [],
   "source": [
    "class String\n",
    "  def titleize\n",
    "    self.gsub(/(\\A|\\s)\\w/){ |letter| letter.upcase }\n",
    "  end\n",
    "end\n",
    "\n",
    "require '/'\n",
    "\n",
    "class TestTitleize < Minitest::Test\n",
    "  def test_basic\n",
    "    assert_equal(\"This Is A Test\", \"this is a test\".titleize)\n",
    "    assert_equal(\"Another Test 1234\", \"another test 1234\".titleize)\n",
    "    assert_equal(\"We're Testing\", \"We're testing\".titleize)\n",
    "  end\n",
    "end"
   ]
  },
  {
   "cell_type": "code",
   "execution_count": null,
   "metadata": {
    "collapsed": true
   },
   "outputs": [],
   "source": [
    "assert_equal(\"Let's make a test fail!\", \"foo\".titleize)"
   ]
  },
  {
   "cell_type": "markdown",
   "metadata": {},
   "source": [
    "### 8.4.2 More Minitest Assertions"
   ]
  },
  {
   "cell_type": "code",
   "execution_count": null,
   "metadata": {
    "collapsed": true
   },
   "outputs": [],
   "source": [
    "assert_equal(\"This Is A Test\", \"this is a test\".titleize)\n"
   ]
  },
  {
   "cell_type": "markdown",
   "metadata": {},
   "source": [
    "## 8.5 Benchmarking and Profiling"
   ]
  },
  {
   "cell_type": "markdown",
   "metadata": {},
   "source": [
    "### 8.5.1 Simple Benchmarking"
   ]
  },
  {
   "cell_type": "code",
   "execution_count": null,
   "metadata": {
    "collapsed": true
   },
   "outputs": [],
   "source": [
    "require 'benchmark'\n",
    "puts Benchmark.measure { 10000.times { print \".\" } }"
   ]
  },
  {
   "cell_type": "code",
   "execution_count": null,
   "metadata": {
    "collapsed": true
   },
   "outputs": [],
   "source": [
    "require 'benchmark'\n",
    "iterations = 1000000\n",
    "\n",
    "b = Benchmark.measure do\n",
    "  for i in 1..iterations do\n",
    "    x = i\n",
    "  end\n",
    "end\n",
    "\n",
    "c = Benchmark.measure do\n",
    "  iterations.times do |i|\n",
    "    x = i\n",
    "  end\n",
    "end\n",
    "\n",
    "puts b\n",
    "puts c"
   ]
  },
  {
   "cell_type": "code",
   "execution_count": null,
   "metadata": {
    "collapsed": true
   },
   "outputs": [],
   "source": [
    "require 'benchmark'\n",
    "iterations = 1000000\n",
    "\n",
    "Benchmark.bm do |bm|\n",
    "  bm.report(\"for:\") do\n",
    "    for i in 1..iterations do\n",
    "      x = i\n",
    "    end\n",
    "  end\n",
    "  bm.report(\"times:\") do\n",
    "    iterations.times do |i|\n",
    "      x = i\n",
    "    end\n",
    "  end\n",
    "end"
   ]
  },
  {
   "cell_type": "markdown",
   "metadata": {},
   "source": [
    "### 8.5.2 Profiling"
   ]
  },
  {
   "cell_type": "code",
   "execution_count": null,
   "metadata": {
    "collapsed": true
   },
   "outputs": [],
   "source": [
    "# gem install ruby-prof"
   ]
  },
  {
   "cell_type": "code",
   "execution_count": null,
   "metadata": {
    "collapsed": true
   },
   "outputs": [],
   "source": [
    "# place this into calculator.rb\n",
    "require 'profile'\n",
    "class Calculator\n",
    "  def self.count_to_large_number\n",
    "    x = 0\n",
    "    100000.times { x += 1 }\n",
    "  end\n",
    "  def self.count_to_small_number\n",
    "    x = 0\n",
    "    1000.times { x += 1 }\n",
    "  end\n",
    "end\n",
    "\n",
    "Calculator.count_to_large_number\n",
    "Calculator.count_to_small_number"
   ]
  },
  {
   "cell_type": "markdown",
   "metadata": {},
   "source": [
    "## 8.6 Summary"
   ]
  },
  {
   "cell_type": "code",
   "execution_count": null,
   "metadata": {
    "collapsed": true
   },
   "outputs": [],
   "source": []
  }
 ],
 "metadata": {
  "kernelspec": {
   "display_name": "Ruby 2.3.3",
   "language": "ruby",
   "name": "ruby"
  },
  "language_info": {
   "file_extension": ".rb",
   "mimetype": "application/x-ruby",
   "name": "ruby",
   "version": "2.3.3"
  }
 },
 "nbformat": 4,
 "nbformat_minor": 1
}
