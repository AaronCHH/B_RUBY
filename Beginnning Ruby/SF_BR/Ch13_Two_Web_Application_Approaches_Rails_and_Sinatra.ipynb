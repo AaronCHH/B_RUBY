{
 "cells": [
  {
   "cell_type": "markdown",
   "metadata": {},
   "source": [
    "# Chapter 13: Two Web Application Approaches: Rails and Sinatra"
   ]
  },
  {
   "cell_type": "markdown",
   "metadata": {},
   "source": [
    "<div id=\"toc\"></div>"
   ]
  },
  {
   "cell_type": "markdown",
   "metadata": {},
   "source": [
    "## 13.1 Background"
   ]
  },
  {
   "cell_type": "markdown",
   "metadata": {},
   "source": [
    "### 13.1.1 The Limitations and Benefits of Our Approach"
   ]
  },
  {
   "cell_type": "markdown",
   "metadata": {},
   "source": [
    "### 13.1.2 Pros and Cons of the Frameworks Covered"
   ]
  },
  {
   "cell_type": "markdown",
   "metadata": {},
   "source": [
    "## 13.2 Rails: Ruby's Killer App"
   ]
  },
  {
   "cell_type": "markdown",
   "metadata": {},
   "source": [
    "### 13.2.1 What Is Rails and Why Use It"
   ]
  },
  {
   "cell_type": "markdown",
   "metadata": {},
   "source": [
    "*  Note You can learn more about the MVC paradigm at http://en.wikipedia.org/wiki/Model-view controller ."
   ]
  },
  {
   "cell_type": "markdown",
   "metadata": {},
   "source": [
    "### 13.2.2 Installing Rails"
   ]
  },
  {
   "cell_type": "code",
   "execution_count": null,
   "metadata": {
    "collapsed": true
   },
   "outputs": [],
   "source": [
    "gem install rails"
   ]
  },
  {
   "cell_type": "markdown",
   "metadata": {},
   "source": [
    "* __Database Considerations__"
   ]
  },
  {
   "cell_type": "code",
   "execution_count": null,
   "metadata": {
    "collapsed": true
   },
   "outputs": [],
   "source": [
    "gem install sqlite3"
   ]
  },
  {
   "cell_type": "code",
   "execution_count": null,
   "metadata": {
    "collapsed": true
   },
   "outputs": [],
   "source": [
    "apt-get install sqlite3 libsqlite3-dev"
   ]
  },
  {
   "cell_type": "code",
   "execution_count": null,
   "metadata": {
    "collapsed": true
   },
   "outputs": [],
   "source": [
    "yum install sqlite sqlite-devel"
   ]
  },
  {
   "cell_type": "markdown",
   "metadata": {},
   "source": [
    "### 13.2.3 Building a Basic Rails Application"
   ]
  },
  {
   "cell_type": "markdown",
   "metadata": {},
   "source": [
    "* __Creating a Blank Rails Application__"
   ]
  },
  {
   "cell_type": "markdown",
   "metadata": {},
   "source": [
    "* __ Rails Command-Line Tool__"
   ]
  },
  {
   "cell_type": "code",
   "execution_count": null,
   "metadata": {
    "collapsed": true
   },
   "outputs": [],
   "source": [
    "rails new mydiary"
   ]
  },
  {
   "cell_type": "code",
   "execution_count": null,
   "metadata": {
    "collapsed": true
   },
   "outputs": [],
   "source": [
    "run bundle install"
   ]
  },
  {
   "cell_type": "markdown",
   "metadata": {},
   "source": [
    "* __Files and Directories Within a Rails Application__"
   ]
  },
  {
   "cell_type": "markdown",
   "metadata": {},
   "source": [
    "* __Database Configuration__"
   ]
  },
  {
   "cell_type": "markdown",
   "metadata": {},
   "source": [
    "* __Using Scaffolding__"
   ]
  },
  {
   "cell_type": "code",
   "execution_count": null,
   "metadata": {
    "collapsed": true
   },
   "outputs": [],
   "source": [
    "rails generate scaffold Entry title:string content:text"
   ]
  },
  {
   "cell_type": "markdown",
   "metadata": {},
   "source": [
    "* __Database Migrations__"
   ]
  },
  {
   "cell_type": "code",
   "execution_count": null,
   "metadata": {
    "collapsed": true
   },
   "outputs": [],
   "source": [
    "class CreateEntries < ActiveRecord::Migration[5.0]\n",
    "  def change\n",
    "    create_table :entries do |t|\n",
    "      t.string :title\n",
    "      t.text :content\n",
    "\n",
    "      t.timestamps\n",
    "    end\n",
    "  end\n",
    "end"
   ]
  },
  {
   "cell_type": "markdown",
   "metadata": {},
   "source": [
    "* __Running the Basic, Scaffolded App__"
   ]
  },
  {
   "cell_type": "code",
   "execution_count": null,
   "metadata": {
    "collapsed": true
   },
   "outputs": [],
   "source": []
  },
  {
   "cell_type": "markdown",
   "metadata": {},
   "source": [
    "### 13.2.4 Controllers and Views"
   ]
  },
  {
   "cell_type": "markdown",
   "metadata": {},
   "source": [
    "* __Controller Actions__"
   ]
  },
  {
   "cell_type": "code",
   "execution_count": null,
   "metadata": {
    "collapsed": true
   },
   "outputs": [],
   "source": [
    "\n",
    "class EntriesController < ApplicationController\n",
    "  before_action :set_entry, only: [:show, :edit, :update, :destroy]\n",
    "\n",
    "  # GET /entries\n",
    "  # GET /entries.json\n",
    "  def index\n",
    "    @entries = Entry.all\n",
    "  end\n",
    "\n",
    "  # GET /entries/1\n",
    "  # GET /entries/1.json\n",
    "  def show\n",
    "  end\n",
    "\n",
    "  # GET /entries/new\n",
    "  def new\n",
    "    @entry = Entry.new\n",
    "  end\n",
    "\n",
    "  # GET /entries/1/edit\n",
    "  def edit\n",
    "  end\n",
    "\n",
    "  # POST /entries\n",
    "  # POST /entries.json\n",
    "  def create\n",
    "    @entry = Entry.new(entry_params)\n",
    "\n",
    "    respond_to do |format|\n",
    "      if @entry.save\n",
    "        format.html { redirect_to @entry, notice: 'Entry was successfully created.' }\n",
    "        format.json { render :show, status: :created, location: @entry }\n",
    "      else\n",
    "        format.html { render :new }\n",
    "        format.json { render json: @entry.errors, status: :unprocessable_entity }\n",
    "      end\n",
    "    end\n",
    "  end\n",
    "\n",
    "  # PATCH/PUT /entries/1\n",
    "  # PATCH/PUT /entries/1.json\n",
    "  def update\n",
    "    respond_to do |format|\n",
    "      if @entry.update(entry_params)\n",
    "        format.html { redirect_to @entry, notice: 'Entry was successfully updated.' }\n",
    "        format.json { render :show, status: :ok, location: @entry }\n",
    "      else\n",
    "        format.html { render :edit }\n",
    "        format.json { render json: @entry.errors, status: :unprocessable_entity }\n",
    "      end\n",
    "    end\n",
    "  end\n",
    "\n",
    "  # DELETE /entries/1\n",
    "  # DELETE /entries/1.json\n",
    "  def destroy\n",
    "    @entry.destroy\n",
    "    respond_to do |format|\n",
    "      format.html { redirect_to entries_url, notice: 'Entry was successfully destroyed.' }\n",
    "      format.json { head :no_content }\n",
    "    end\n",
    "  end\n",
    "\n",
    "  private\n",
    "    # Use callbacks to share common setup or constraints between actions.\n",
    "    def set_entry\n",
    "      @entry = Entry.find(params[:id])\n",
    "    end\n",
    "\n",
    "    # Never trust parameters from the scary internet, only allow the white list through.\n",
    "    def entry_params\n",
    "      params.require(:entry).permit(:title, :content)\n",
    "    end\n",
    "end\n"
   ]
  },
  {
   "cell_type": "code",
   "execution_count": null,
   "metadata": {
    "collapsed": true
   },
   "outputs": [],
   "source": [
    "# GET /entries\n",
    "# GET /entries.json\n",
    "def index\n",
    "  @entries = Entry.all\n",
    "end"
   ]
  },
  {
   "cell_type": "markdown",
   "metadata": {},
   "source": [
    "* __Views and Embedded Ruby (ERB)__"
   ]
  },
  {
   "cell_type": "code",
   "execution_count": null,
   "metadata": {
    "collapsed": true
   },
   "outputs": [],
   "source": [
    "\n",
    "# <p id=\"notice\"><%= notice %></p>\n",
    "#\n",
    "# <h1>Entries</h1>\n",
    "#\n",
    "# <table>\n",
    "#   <thead>\n",
    "#     <tr>\n",
    "#       <th>Title</th>\n",
    "#       <th>Content</th>\n",
    "#       <th colspan=\"3\"></th>\n",
    "#     </tr>\n",
    "#   </thead>\n",
    "#\n",
    "#   <tbody>\n",
    "#     <% @entries.each do |entry| %>\n",
    "#       <tr>\n",
    "#         <td><%= entry.title %></td>\n",
    "#         <td><%= entry.content %></td>\n",
    "#         <td><%= link_to 'Show', entry %></td>\n",
    "#         <td><%= link_to 'Edit', edit_entry_path(entry) %></td>\n",
    "#         <td><%= link_to 'Destroy', entry, method: :delete, data: { confirm: 'Are you sure?' } %></td>\n",
    "#       </tr>\n",
    "#     <% end %>\n",
    "#   </tbody>\n",
    "# </table>\n",
    "#\n",
    "# <br>\n",
    "#\n",
    "# <%= link_to 'New Entry', new_entry_path %>"
   ]
  },
  {
   "cell_type": "code",
   "execution_count": null,
   "metadata": {
    "collapsed": true
   },
   "outputs": [],
   "source": [
    "# <% @entries.each do |entry| %>\n",
    "#   <tr>\n",
    "#     <td><%= entry.title %></td>\n",
    "#     <td><%= entry.content %></td>\n",
    "#     <td><%= link_to 'Show', entry %></td>\n",
    "#     <td><%= link_to 'Edit', edit_entry_path(entry) %></td>\n",
    "#     <td><%= link_to 'Destroy', entry, method: :delete, data: { confirm: 'Are you sure?' } %></td>\n",
    "#   </tr>\n",
    "# <% end %>"
   ]
  },
  {
   "cell_type": "code",
   "execution_count": null,
   "metadata": {
    "collapsed": true
   },
   "outputs": [],
   "source": [
    "# <td><%= link_to 'Show', entry %></td>\n",
    "# <td><%= link_to 'Edit', edit_entry_path(entry) %></td>\n",
    "# <td><%= link_to 'Destroy', entry, method: :delete, data: { confirm: 'Are you sure?' } %></td>"
   ]
  },
  {
   "cell_type": "markdown",
   "metadata": {},
   "source": [
    "### 13.2.5 Models and Relationships"
   ]
  },
  {
   "cell_type": "code",
   "execution_count": null,
   "metadata": {
    "collapsed": true
   },
   "outputs": [],
   "source": [
    "entry = Entry.find(1)\n",
    "entry.title = 'Title of the first entry'\n",
    "entry.save"
   ]
  },
  {
   "cell_type": "code",
   "execution_count": null,
   "metadata": {
    "collapsed": true
   },
   "outputs": [],
   "source": [
    "entry = Entry.find(1)\n",
    "entry.user.name = 'Name of whoever posted the entry'\n",
    "entry.user.email = 'Their e-mail address'"
   ]
  },
  {
   "cell_type": "code",
   "execution_count": null,
   "metadata": {
    "collapsed": true
   },
   "outputs": [],
   "source": [
    "class Entry < ActiveRecord::Base\n",
    "  belongs_to :user\n",
    "end"
   ]
  },
  {
   "cell_type": "code",
   "execution_count": null,
   "metadata": {
    "collapsed": true
   },
   "outputs": [],
   "source": [
    "class User < ActiveRecord::Base\n",
    "  has_many :entries\n",
    "end"
   ]
  },
  {
   "cell_type": "code",
   "execution_count": null,
   "metadata": {
    "collapsed": true
   },
   "outputs": [],
   "source": [
    "<p>Posted by <%= entry.user.name %> at <%= entry.created_at %></p>"
   ]
  },
  {
   "cell_type": "markdown",
   "metadata": {},
   "source": [
    "The variety of relationships possible are documented in the official Ruby on Rails documentation at http://api.rubyonrails.org/classes/ActiveRecord/Associations/ClassMethods.html ."
   ]
  },
  {
   "cell_type": "markdown",
   "metadata": {},
   "source": [
    "### 13.2.6 Sessions and Filters"
   ]
  },
  {
   "cell_type": "code",
   "execution_count": null,
   "metadata": {
    "collapsed": true
   },
   "outputs": [],
   "source": [
    "class ApplicationController < ActionController::Base\n",
    "  # Prevent CSRF attacks by raising an exception.\n",
    "  # For APIs, you may want to use :null_session instead.\n",
    "  protect_from_forgery with: :exception\n",
    "end"
   ]
  },
  {
   "cell_type": "code",
   "execution_count": null,
   "metadata": {
    "collapsed": true
   },
   "outputs": [],
   "source": [
    "class ApplicationController < ActionController::Base\n",
    "  # Prevent CSRF attacks by raising an exception.\n",
    "  # For APIs, you may want to use :null_session instead.\n",
    "  protect_from_forgery with: :exception\n",
    "\n",
    "  before_filter :count_requests_in_session\n",
    "\n",
    "  def count_requests_in_session\n",
    "    session[:requests] ||= 0\n",
    "    session[:requests] += 1\n",
    "  end\n",
    "end"
   ]
  },
  {
   "cell_type": "markdown",
   "metadata": {},
   "source": [
    "* Tip Learn more about filters at http://api.rubyonrails.org/classes/ActionController/Filters/ClassMethods.html."
   ]
  },
  {
   "cell_type": "code",
   "execution_count": null,
   "metadata": {
    "collapsed": true
   },
   "outputs": [],
   "source": [
    "<%= session[:requests] %>"
   ]
  },
  {
   "cell_type": "markdown",
   "metadata": {},
   "source": [
    "### 13.2.7 Other Features"
   ]
  },
  {
   "cell_type": "markdown",
   "metadata": {},
   "source": [
    "* __Layouts__"
   ]
  },
  {
   "cell_type": "code",
   "execution_count": null,
   "metadata": {
    "collapsed": true
   },
   "outputs": [],
   "source": [
    "# <!doctype html>\n",
    "# <html lang=\"en\">\n",
    "# <head>\n",
    "#   <meta charset=\"utf-8\">\n",
    "#   <title>Page Title Here</title>\n",
    "#   <link rel=\"stylesheet\" href=\"styles.css\">\n",
    "# </head>\n",
    "# <body>"
   ]
  },
  {
   "cell_type": "code",
   "execution_count": null,
   "metadata": {
    "collapsed": true
   },
   "outputs": [],
   "source": [
    "# <!DOCTYPE html>\n",
    "# <html>\n",
    "#   <head>\n",
    "#     <title>Mydiary</title>\n",
    "#     <%= csrf_meta_tags %>\n",
    "#     <%= action_cable_meta_tag %>\n",
    "#\n",
    "#     <%= stylesheet_link_tag    'application', media: 'all', 'data-turbolinks-track' => 'reload' %>\n",
    "#     <%= javascript_include_tag 'application', 'data-turbolinks-track' => 'reload' %>\n",
    "#   </head>\n",
    "#\n",
    "#   <body>\n",
    "#     <%= yield %>\n",
    "#   </body>\n",
    "# </html>"
   ]
  },
  {
   "cell_type": "markdown",
   "metadata": {},
   "source": [
    "* Note You can learn more about layouts at http://api.rubyonrails.org/classes/ActionController/Layout/ClassMethods.html ."
   ]
  },
  {
   "cell_type": "markdown",
   "metadata": {},
   "source": [
    "### 13.2.8 Where to Go Next: References, Books, and Example Apps"
   ]
  },
  {
   "cell_type": "markdown",
   "metadata": {},
   "source": [
    "* __Reference Sites and Tutorials__"
   ]
  },
  {
   "cell_type": "markdown",
   "metadata": {},
   "source": [
    "Following are some useful reference sites and tutorials to help you get started using Rails:  \n",
    "* Official Ruby on Rails API(http://api.rubyonrails.org/):  \n",
    "The official documentation for the Ruby on Rails framework.  \n",
    "Almost every class and method provided by Rails is documented.  \n",
    "* Ruby on Rails guides(http://guides.rubyonrails.org/):  \n",
    "A useful set of guides for Ruby on Rails written by prominent community members.  \n",
    "They're very well written and kept up to date with the latest version of Rails.  \n",
    "* Getting Started with Rails(http://guides.rubyonrails.org/getting_started.html):  \n",
    "A beautifully written introduction to Rails that covers much of the same ground as this chapter.  \n",
    "The benefit of this guide, however, is that it will be kept up to date with the latest version of Rails, which may be useful to you in case there are major changes.  \n"
   ]
  },
  {
   "cell_type": "markdown",
   "metadata": {},
   "source": [
    "* __Rails Books__"
   ]
  },
  {
   "cell_type": "markdown",
   "metadata": {},
   "source": [
    "There are several books that will walk you through Rails from start to finish, from setting up and looking at scaffolded apps (as in this chapter) to building complete apps with multiple models and customized views that are deployed on the Web.  \n",
    "I recommend investigating the following:   \n",
    "  \n",
    "* __Agile Web Development with Rails 4__, by Sam Ruby, Dave Thomas, and David Heinemeier Hansson (Pragmatic Bookshelf, 2013): Many Rails developers consider Agile Web Development with Rails to be the canonical Rails tutorial book, particularly as Rails’ creator David Heinemeier Hansson has always been involved in its development.  \n",
    "Its latest edition came out in September 2013, and it covers Rails 4.0 specifically, although much of it will continue to be relevant now.  \n",
    "  \n",
    "* __The Rails Tutorial__, by Michael Hartl: In the past few years this has essentially become the Rails tutorial.  \n",
    "It's a paid for e-book and set of screencasts, but you can also read the material on the Web for free.  \n",
    "It's superb and walks you through the entire process of building a complete Rails app.  \n",
    "I strongly recommend you move onto it after reading this book.  \n",
    "It's available at http://railstutorial.org/.  \n"
   ]
  },
  {
   "cell_type": "markdown",
   "metadata": {},
   "source": [
    "## 13.3 Sinatra: Lightweight, Simple Web Applications"
   ]
  },
  {
   "cell_type": "markdown",
   "metadata": {},
   "source": [
    "To install Sinatra, you can just rungem install sinatra or visit the project’s homepage at http://sinatrarb.com/."
   ]
  },
  {
   "cell_type": "markdown",
   "metadata": {},
   "source": [
    "### 13.3.1 The Extreme Simplicity of Sinatra"
   ]
  },
  {
   "cell_type": "code",
   "execution_count": null,
   "metadata": {
    "collapsed": true
   },
   "outputs": [],
   "source": [
    "require 'sinatra'\n",
    "\n",
    "get '/' do\n",
    "  \"Hello, world!\"\n",
    "end"
   ]
  },
  {
   "cell_type": "markdown",
   "metadata": {},
   "source": [
    "### 13.3.2 General URL Routing and Parameter Matching"
   ]
  },
  {
   "cell_type": "code",
   "execution_count": null,
   "metadata": {
    "collapsed": true
   },
   "outputs": [],
   "source": [
    "require 'sinatra'\n",
    "get '/' do\n",
    "  \"Hello, world!\"\n",
    "end\n",
    "\n",
    "get '/bye' do\n",
    "  \"Leaving already?\"\n",
    "end\n",
    "\n",
    "get '/time' do\n",
    "  Time.now.to_s\n",
    "end"
   ]
  },
  {
   "cell_type": "code",
   "execution_count": null,
   "metadata": {
    "collapsed": true
   },
   "outputs": [],
   "source": [
    "get '/add/:a/:b' do\n",
    "  (params[:a].to_i + params[:b].to_i).to_s\n",
    "end"
   ]
  },
  {
   "cell_type": "code",
   "execution_count": null,
   "metadata": {
    "collapsed": true
   },
   "outputs": [],
   "source": [
    "get '/add/:a/:b' do |a, b|\n",
    "  (a.to_i + b.to_i).to_s\n",
    "end"
   ]
  },
  {
   "cell_type": "markdown",
   "metadata": {},
   "source": [
    "*  Tip Sinatra also has support for wildcard and regular expression parameters. These are beyond the scope of this introduction, but basic examples can be found in Sinatra’s README document at http://www.sinatrarb.com/intro.html."
   ]
  },
  {
   "cell_type": "code",
   "execution_count": null,
   "metadata": {
    "collapsed": true
   },
   "outputs": [],
   "source": [
    "get '/' do\n",
    "  %q{<form method=\"post\">\n",
    "      Enter your name: <input type=\"text\" name=\"name\" />\n",
    "      <input type=\"submit\" value=\"Go!\" />\n",
    "    </form>}\n",
    "end\n",
    "\n",
    "post '/' do\n",
    "  \"Hello #{params[:name]}!\"\n",
    "end\n"
   ]
  },
  {
   "cell_type": "markdown",
   "metadata": {},
   "source": [
    "### 13.3.3 Views, Templates, and Static Files"
   ]
  },
  {
   "cell_type": "markdown",
   "metadata": {},
   "source": [
    "* __Inline and In-File Templates__"
   ]
  },
  {
   "cell_type": "code",
   "execution_count": null,
   "metadata": {
    "collapsed": true
   },
   "outputs": [],
   "source": [
    "before do\n",
    "  @people = [\n",
    "             { :name => \"Beatrice\", :age => 20 },\n",
    "             { :name => \"Eugenie\", :age => 18 },\n",
    "             { :name => \"Louise\", :age => 6 }\n",
    "            ]\n",
    "end\n",
    "\n",
    "get '/' do\n",
    "  erb %{\n",
    "    <% @people.each do |person| %>\n",
    "      <p><%= person[:name] %> is <%= person[:age] %> years old</p>\n",
    "    <% end %>\n",
    "  }\n",
    "end"
   ]
  },
  {
   "cell_type": "code",
   "execution_count": null,
   "metadata": {
    "collapsed": true
   },
   "outputs": [],
   "source": [
    "get '/' do\n",
    "  erb :index\n",
    "end\n",
    "\n",
    "__END__\n",
    "\n",
    "@@ index\n",
    "  <% @people.each do |person| %>\n",
    "    <p><%= person[:name] %> is <%= person[:age] %> years old</p>\n",
    "  <% end %>"
   ]
  },
  {
   "cell_type": "markdown",
   "metadata": {},
   "source": [
    "* __Layouts__"
   ]
  },
  {
   "cell_type": "code",
   "execution_count": null,
   "metadata": {
    "collapsed": true
   },
   "outputs": [],
   "source": [
    "before do\n",
    "  @people = [\n",
    "             { :name => \"Beatrice\", :age => 20 },\n",
    "             { :name => \"Eugenie\", :age => 18 },\n",
    "             { :name => \"Louise\", :age => 6 }\n",
    "            ]\n",
    "end\n",
    "\n",
    "get '/' do\n",
    "  erb :index\n",
    "end\n",
    "\n",
    "__END__\n",
    "@@ layout\n",
    "  <html>\n",
    "    <head><title>My App</title></head>\n",
    "  <body>\n",
    "    <h1>My App</h1>\n",
    "    <%= yield %>\n",
    "  </body>\n",
    "  </html>\n",
    "\n",
    "@@ index\n",
    "  <% @people.each do |person| %>\n",
    "    <p><%= person[:name] %> is <%= person[:age] %> years old</p>\n",
    "  <% end %>"
   ]
  },
  {
   "cell_type": "code",
   "execution_count": null,
   "metadata": {
    "collapsed": true
   },
   "outputs": [],
   "source": [
    "erb :index, :layout => :anotherlayout"
   ]
  },
  {
   "cell_type": "code",
   "execution_count": null,
   "metadata": {
    "collapsed": true
   },
   "outputs": [],
   "source": [
    "erb :index, :layout => false"
   ]
  },
  {
   "cell_type": "markdown",
   "metadata": {},
   "source": [
    "* __External Templates and Layouts__"
   ]
  },
  {
   "cell_type": "code",
   "execution_count": null,
   "metadata": {
    "collapsed": true
   },
   "outputs": [],
   "source": [
    "set :views, File.dirname( FILE ) + '/templates'"
   ]
  },
  {
   "cell_type": "code",
   "execution_count": null,
   "metadata": {
    "collapsed": true
   },
   "outputs": [],
   "source": [
    "erb :index, :layout => 'mylayout'"
   ]
  },
  {
   "cell_type": "markdown",
   "metadata": {},
   "source": [
    "* __Static Files__"
   ]
  },
  {
   "cell_type": "code",
   "execution_count": null,
   "metadata": {
    "collapsed": true
   },
   "outputs": [],
   "source": [
    "set :public, File.dirname( FILE ) + '/myfiles'"
   ]
  },
  {
   "cell_type": "markdown",
   "metadata": {},
   "source": [
    "### 13.3.4 Request Flow Control"
   ]
  },
  {
   "cell_type": "markdown",
   "metadata": {},
   "source": [
    "* __Redirection__"
   ]
  },
  {
   "cell_type": "code",
   "execution_count": null,
   "metadata": {
    "collapsed": true
   },
   "outputs": [],
   "source": [
    "\n",
    "require 'sinatra'\n",
    "\n",
    "get '/' do\n",
    "  erb :index, :layout => :layout\n",
    "end\n",
    "\n",
    "post '/secretdata' do\n",
    "  erb :secretdata\n",
    "end\n",
    "\n",
    "__END__\n",
    "@@ layout\n",
    "  <html><head><title>My App</title></head>\n",
    "  <body><%= yield %></body></html>\n",
    "\n",
    "@@ index\n",
    "  <form method=\"POST\" action=\"/secretdata\">\n",
    "  Password: <input type=\"text\" name=\"password\" />\n",
    "  <input type=\"submit\" value=\"Log in\" />\n",
    "  </form>\n",
    "\n",
    "@@ secretdata\n",
    "  Here's our secret data: <code>30'N 12'W</code>\n"
   ]
  },
  {
   "cell_type": "code",
   "execution_count": null,
   "metadata": {
    "collapsed": true
   },
   "outputs": [],
   "source": [
    "post '/secretdata' do\n",
    "  redirect '/' if params[:password] != 'xyzzy'\n",
    "  erb :secretdata\n",
    "end\n"
   ]
  },
  {
   "cell_type": "code",
   "execution_count": null,
   "metadata": {
    "collapsed": true
   },
   "outputs": [],
   "source": [
    "redirect 'http://www.google.com/'"
   ]
  },
  {
   "cell_type": "markdown",
   "metadata": {},
   "source": [
    "* __Halting__"
   ]
  },
  {
   "cell_type": "markdown",
   "metadata": {},
   "source": [
    "* Tip Learn more about HTTP status codes and messages at http://en.wikipedia.org/wiki/List_of_HTTP_status_codes."
   ]
  },
  {
   "cell_type": "code",
   "execution_count": null,
   "metadata": {
    "collapsed": true
   },
   "outputs": [],
   "source": [
    "post '/secretdata' do\n",
    "  halt 403 if params[:password] != 'xyzzy'\n",
    "  erb :secretdata\n",
    "end"
   ]
  },
  {
   "cell_type": "markdown",
   "metadata": {},
   "source": [
    "* __Error Handling__"
   ]
  },
  {
   "cell_type": "code",
   "execution_count": null,
   "metadata": {
    "collapsed": true
   },
   "outputs": [],
   "source": [
    "require 'sinatra'\n",
    "not_found do\n",
    "  \"<html><body>Sorry, you're lost!</body></html>\"\n",
    "end\n"
   ]
  },
  {
   "cell_type": "code",
   "execution_count": null,
   "metadata": {
    "collapsed": true
   },
   "outputs": [],
   "source": [
    "require 'rubygems'\n",
    "require 'sinatra'\n",
    "\n",
    "set :show_exceptions, false\n",
    "\n",
    "error do\n",
    "  redirect 'http://en.wikipedia.org/wiki/Division_by_zero'\n",
    "end\n",
    "\n",
    "get '/divide/:a/:b' do |a, b|\n",
    "  \"#{a.to_i / b.to_i}\"\n",
    "end"
   ]
  },
  {
   "cell_type": "markdown",
   "metadata": {},
   "source": [
    "## 13.4 Summary"
   ]
  },
  {
   "cell_type": "code",
   "execution_count": null,
   "metadata": {
    "collapsed": true
   },
   "outputs": [],
   "source": []
  }
 ],
 "metadata": {
  "kernelspec": {
   "display_name": "Ruby 2.3.3",
   "language": "ruby",
   "name": "ruby"
  },
  "language_info": {
   "file_extension": ".rb",
   "mimetype": "application/x-ruby",
   "name": "ruby",
   "version": "2.3.3"
  }
 },
 "nbformat": 4,
 "nbformat_minor": 1
}
